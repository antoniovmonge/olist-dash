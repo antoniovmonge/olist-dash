{
 "cells": [
  {
   "cell_type": "markdown",
   "id": "3cef1e95",
   "metadata": {},
   "source": [
    "# Orders"
   ]
  },
  {
   "cell_type": "markdown",
   "id": "08a18ce3",
   "metadata": {},
   "source": [
    "#### Investigating the orders, and their associated review score."
   ]
  },
  {
   "cell_type": "markdown",
   "id": "16a557e6",
   "metadata": {},
   "source": [
    "we will create one single data table containing **all our orders with some engineered statistics for them as additional columns.**\n",
    "\n",
    "Creating the following DataFrame, which will be very handy for the modeling phase.\n",
    "\n",
    "  - `order_id` (_str) the id of the order_\n",
    "  - `wait_time` (_float) the number of days between order_date and delivered_date_\n",
    "  - `expected_wait_time` (_float) the number of days between order_date and estimated_delivery_date_\n",
    "  - `delay_vs_expected` (_float) if the actual delivery date is later than the estimated delivery date, returns the absolute number of days between the two dates, otherwise return 0_\n",
    "  - `order_status` (_str) the status of the order_\n",
    "  - `dim_is_five_star` (_int) 1 if the order received a five_star, 0 otherwise_\n",
    "  - `dim_is_one_star` (_int) 1 if the order received a one_star, 0 otherwise_\n",
    "  - `review_score`(_int) from 1 to 5_\n",
    "  - `number_of_product` (_int) number of products that the order contains_\n",
    "  - `number_of_sellers` (_int) number of sellers involved in the order_\n",
    "  - `price` (_float) total price of the order paid by customer_\n",
    "  - `freight_value` (_float) value of the freight paid by customer_\n",
    "  - `distance_customer_seller` (_float) the distance in km between customer and seller_\n"
   ]
  },
  {
   "cell_type": "markdown",
   "id": "b5790153",
   "metadata": {},
   "source": [
    "DB Schema: https://kitt.lewagon.com/db/23825"
   ]
  },
  {
   "cell_type": "code",
   "execution_count": 50,
   "id": "67c0ba7d",
   "metadata": {},
   "outputs": [
    {
     "name": "stdout",
     "output_type": "stream",
     "text": [
      "The autoreload extension is already loaded. To reload it, use:\n",
      "  %reload_ext autoreload\n"
     ]
    }
   ],
   "source": [
    "# Auto reload imported module everytime a jupyter cell is executed\n",
    "%load_ext autoreload\n",
    "%autoreload 2"
   ]
  },
  {
   "cell_type": "code",
   "execution_count": 2,
   "id": "cc369c0c",
   "metadata": {},
   "outputs": [],
   "source": [
    "# Import usual modules\n",
    "import pandas as pd\n",
    "import numpy as np\n",
    "import seaborn as sns\n",
    "import matplotlib.pyplot as plt"
   ]
  },
  {
   "cell_type": "code",
   "execution_count": 3,
   "id": "dc5cf582",
   "metadata": {},
   "outputs": [],
   "source": [
    "# Import olist data\n",
    "from olistdash.data import Olist\n",
    "olist=Olist()\n",
    "data=olist.get_data()\n",
    "matching_table = olist.get_matching_table()"
   ]
  },
  {
   "cell_type": "markdown",
   "id": "56575215",
   "metadata": {},
   "source": [
    "## Code `order.py`"
   ]
  },
  {
   "cell_type": "code",
   "execution_count": 4,
   "id": "9cf15045",
   "metadata": {},
   "outputs": [
    {
     "data": {
      "text/html": [
       "<div>\n",
       "<style scoped>\n",
       "    .dataframe tbody tr th:only-of-type {\n",
       "        vertical-align: middle;\n",
       "    }\n",
       "\n",
       "    .dataframe tbody tr th {\n",
       "        vertical-align: top;\n",
       "    }\n",
       "\n",
       "    .dataframe thead th {\n",
       "        text-align: right;\n",
       "    }\n",
       "</style>\n",
       "<table border=\"1\" class=\"dataframe\">\n",
       "  <thead>\n",
       "    <tr style=\"text-align: right;\">\n",
       "      <th></th>\n",
       "      <th>order_id</th>\n",
       "      <th>customer_id</th>\n",
       "      <th>order_status</th>\n",
       "      <th>order_purchase_timestamp</th>\n",
       "      <th>order_approved_at</th>\n",
       "      <th>order_delivered_carrier_date</th>\n",
       "      <th>order_delivered_customer_date</th>\n",
       "      <th>order_estimated_delivery_date</th>\n",
       "    </tr>\n",
       "  </thead>\n",
       "  <tbody>\n",
       "    <tr>\n",
       "      <th>0</th>\n",
       "      <td>e481f51cbdc54678b7cc49136f2d6af7</td>\n",
       "      <td>9ef432eb6251297304e76186b10a928d</td>\n",
       "      <td>delivered</td>\n",
       "      <td>2017-10-02 10:56:33</td>\n",
       "      <td>2017-10-02 11:07:15</td>\n",
       "      <td>2017-10-04 19:55:00</td>\n",
       "      <td>2017-10-10 21:25:13</td>\n",
       "      <td>2017-10-18 00:00:00</td>\n",
       "    </tr>\n",
       "  </tbody>\n",
       "</table>\n",
       "</div>"
      ],
      "text/plain": [
       "                           order_id                       customer_id  \\\n",
       "0  e481f51cbdc54678b7cc49136f2d6af7  9ef432eb6251297304e76186b10a928d   \n",
       "\n",
       "  order_status order_purchase_timestamp    order_approved_at  \\\n",
       "0    delivered      2017-10-02 10:56:33  2017-10-02 11:07:15   \n",
       "\n",
       "  order_delivered_carrier_date order_delivered_customer_date  \\\n",
       "0          2017-10-04 19:55:00           2017-10-10 21:25:13   \n",
       "\n",
       "  order_estimated_delivery_date  \n",
       "0           2017-10-18 00:00:00  "
      ]
     },
     "execution_count": 4,
     "metadata": {},
     "output_type": "execute_result"
    }
   ],
   "source": [
    "orders = data['orders'].copy() # to be sure not to modify the `data` variable\n",
    "orders.head(1)"
   ]
  },
  {
   "cell_type": "markdown",
   "id": "d1ac6dc3",
   "metadata": {},
   "source": [
    "#### Filter delivered orders"
   ]
  },
  {
   "cell_type": "code",
   "execution_count": 5,
   "id": "ed2b373c",
   "metadata": {},
   "outputs": [],
   "source": [
    "orders = orders.query(\"order_status=='delivered'\").copy()"
   ]
  },
  {
   "cell_type": "markdown",
   "id": "44260879",
   "metadata": {},
   "source": [
    "## 1. def get_wait_time():\n",
    "Return a dataframe with `[order_id, wait_time, expected_wait_time, delay_vs_expected, order_status]`"
   ]
  },
  {
   "cell_type": "markdown",
   "id": "2b3d5d1d",
   "metadata": {},
   "source": [
    "#### ⁉ ... Checking type of objects in \"time columns\""
   ]
  },
  {
   "cell_type": "code",
   "execution_count": 6,
   "id": "a3d41ace",
   "metadata": {},
   "outputs": [
    {
     "name": "stdout",
     "output_type": "stream",
     "text": [
      "<class 'str'>\n",
      "<class 'str'>\n",
      "<class 'str'>\n"
     ]
    }
   ],
   "source": [
    "print(type(orders['order_delivered_customer_date'][1]))\n",
    "print(type(orders['order_estimated_delivery_date'][1]))\n",
    "print(type(orders['order_purchase_timestamp'][1]))"
   ]
  },
  {
   "cell_type": "markdown",
   "id": "850a4a65",
   "metadata": {},
   "source": [
    "#### ❕❗ As they are 'str' it is needed to convert them to pandas.datetime"
   ]
  },
  {
   "cell_type": "markdown",
   "id": "e74b6ae7",
   "metadata": {},
   "source": [
    "#### handling datetime"
   ]
  },
  {
   "cell_type": "code",
   "execution_count": 7,
   "id": "dbb74b08",
   "metadata": {},
   "outputs": [],
   "source": [
    "# converting column ['order_delivered_customer_date'] from \"str\" to pandas.datetime\n",
    "orders.loc[:, 'order_delivered_customer_date'] = pd.to_datetime(orders['order_delivered_customer_date'])\n",
    "# converting column ['order_estimated_delivery_date'] from \"str\" to pandas.datetime\n",
    "orders.loc[:, 'order_estimated_delivery_date'] = pd.to_datetime(orders['order_estimated_delivery_date'])\n",
    "# converting column ['order_purchase_timestamp'] from \"str\" to pandas.datetime\n",
    "orders.loc[:, 'order_purchase_timestamp'] = pd.to_datetime(orders['order_purchase_timestamp'])"
   ]
  },
  {
   "cell_type": "markdown",
   "id": "d2229a33",
   "metadata": {},
   "source": [
    "#### ⁉ ... Checking again type of objects in \"time columns\""
   ]
  },
  {
   "cell_type": "code",
   "execution_count": 8,
   "id": "b7ed6714",
   "metadata": {},
   "outputs": [
    {
     "name": "stdout",
     "output_type": "stream",
     "text": [
      "<class 'pandas._libs.tslibs.timestamps.Timestamp'>\n",
      "<class 'pandas._libs.tslibs.timestamps.Timestamp'>\n",
      "<class 'pandas._libs.tslibs.timestamps.Timestamp'>\n"
     ]
    }
   ],
   "source": [
    "print(type(orders['order_delivered_customer_date'][1]))\n",
    "print(type(orders['order_estimated_delivery_date'][1]))\n",
    "print(type(orders['order_purchase_timestamp'][1]))"
   ]
  },
  {
   "cell_type": "markdown",
   "id": "d6d9d60d",
   "metadata": {},
   "source": [
    "#### 👌🆗 Now it is possible to procced"
   ]
  },
  {
   "cell_type": "markdown",
   "id": "064c82fc",
   "metadata": {},
   "source": [
    "### 1.1 Computing [\"delay_vs_expected\"]"
   ]
  },
  {
   "cell_type": "code",
   "execution_count": 9,
   "id": "44f75851",
   "metadata": {},
   "outputs": [],
   "source": [
    "# Creating new column ['delay_vs_expected']\n",
    "orders.loc[:, 'delay_vs_expected'] = (orders['order_estimated_delivery_date'] - orders['order_delivered_customer_date']) / np.timedelta64(24, 'h')"
   ]
  },
  {
   "cell_type": "code",
   "execution_count": 10,
   "id": "c73d4a38",
   "metadata": {},
   "outputs": [
    {
     "data": {
      "text/plain": [
       "5.355729166666666"
      ]
     },
     "execution_count": 10,
     "metadata": {},
     "output_type": "execute_result"
    }
   ],
   "source": [
    "# TEST\n",
    "orders['delay_vs_expected'][1]"
   ]
  },
  {
   "cell_type": "markdown",
   "id": "69d88b8d",
   "metadata": {},
   "source": [
    "##### Analize new column:"
   ]
  },
  {
   "cell_type": "code",
   "execution_count": 11,
   "id": "96de9e22",
   "metadata": {},
   "outputs": [
    {
     "data": {
      "text/plain": [
       "count    96470.000000\n",
       "mean        11.178126\n",
       "std         10.184354\n",
       "min       -188.975081\n",
       "25%          6.389815\n",
       "50%         11.948102\n",
       "75%         16.244065\n",
       "max        146.016123\n",
       "Name: delay_vs_expected, dtype: float64"
      ]
     },
     "execution_count": 11,
     "metadata": {},
     "output_type": "execute_result"
    }
   ],
   "source": [
    "orders['delay_vs_expected'].describe()"
   ]
  },
  {
   "cell_type": "markdown",
   "id": "ebe93ec7",
   "metadata": {},
   "source": [
    "#### handling negative delays for ['delay_vs_expected'] column"
   ]
  },
  {
   "cell_type": "code",
   "execution_count": 12,
   "id": "04fadd17",
   "metadata": {},
   "outputs": [],
   "source": [
    "# Creating custom function and applying it to the column\n",
    "def handle_delay(x):\n",
    "    if x < 0:\n",
    "        return abs(x)\n",
    "    else:\n",
    "        return 0\n",
    "    \n",
    "orders.loc[:,'delay_vs_expected'] = orders['delay_vs_expected'].apply(handle_delay)"
   ]
  },
  {
   "cell_type": "markdown",
   "id": "95f1cd05",
   "metadata": {},
   "source": [
    "Testing result of applying handle_delay function:"
   ]
  },
  {
   "cell_type": "code",
   "execution_count": 13,
   "id": "b0479147",
   "metadata": {},
   "outputs": [
    {
     "data": {
      "text/plain": [
       "count    96478.000000\n",
       "mean         0.774811\n",
       "std          4.752895\n",
       "min          0.000000\n",
       "25%          0.000000\n",
       "50%          0.000000\n",
       "75%          0.000000\n",
       "max        188.975081\n",
       "Name: delay_vs_expected, dtype: float64"
      ]
     },
     "execution_count": 13,
     "metadata": {},
     "output_type": "execute_result"
    }
   ],
   "source": [
    "orders['delay_vs_expected'].describe()"
   ]
  },
  {
   "cell_type": "markdown",
   "id": "07354994",
   "metadata": {},
   "source": [
    "### 1.2 Computing `['wait_time']` column\n",
    "wait_time = time between purchasing item to becoming it (in days)"
   ]
  },
  {
   "cell_type": "code",
   "execution_count": 14,
   "id": "9adfecca",
   "metadata": {},
   "outputs": [
    {
     "data": {
      "text/html": [
       "<div>\n",
       "<style scoped>\n",
       "    .dataframe tbody tr th:only-of-type {\n",
       "        vertical-align: middle;\n",
       "    }\n",
       "\n",
       "    .dataframe tbody tr th {\n",
       "        vertical-align: top;\n",
       "    }\n",
       "\n",
       "    .dataframe thead th {\n",
       "        text-align: right;\n",
       "    }\n",
       "</style>\n",
       "<table border=\"1\" class=\"dataframe\">\n",
       "  <thead>\n",
       "    <tr style=\"text-align: right;\">\n",
       "      <th></th>\n",
       "      <th>order_id</th>\n",
       "      <th>customer_id</th>\n",
       "      <th>order_status</th>\n",
       "      <th>order_purchase_timestamp</th>\n",
       "      <th>order_approved_at</th>\n",
       "      <th>order_delivered_carrier_date</th>\n",
       "      <th>order_delivered_customer_date</th>\n",
       "      <th>order_estimated_delivery_date</th>\n",
       "      <th>delay_vs_expected</th>\n",
       "    </tr>\n",
       "  </thead>\n",
       "  <tbody>\n",
       "    <tr>\n",
       "      <th>0</th>\n",
       "      <td>e481f51cbdc54678b7cc49136f2d6af7</td>\n",
       "      <td>9ef432eb6251297304e76186b10a928d</td>\n",
       "      <td>delivered</td>\n",
       "      <td>2017-10-02 10:56:33</td>\n",
       "      <td>2017-10-02 11:07:15</td>\n",
       "      <td>2017-10-04 19:55:00</td>\n",
       "      <td>2017-10-10 21:25:13</td>\n",
       "      <td>2017-10-18</td>\n",
       "      <td>0.0</td>\n",
       "    </tr>\n",
       "  </tbody>\n",
       "</table>\n",
       "</div>"
      ],
      "text/plain": [
       "                           order_id                       customer_id  \\\n",
       "0  e481f51cbdc54678b7cc49136f2d6af7  9ef432eb6251297304e76186b10a928d   \n",
       "\n",
       "  order_status order_purchase_timestamp    order_approved_at  \\\n",
       "0    delivered      2017-10-02 10:56:33  2017-10-02 11:07:15   \n",
       "\n",
       "  order_delivered_carrier_date order_delivered_customer_date  \\\n",
       "0          2017-10-04 19:55:00           2017-10-10 21:25:13   \n",
       "\n",
       "  order_estimated_delivery_date  delay_vs_expected  \n",
       "0                    2017-10-18                0.0  "
      ]
     },
     "execution_count": 14,
     "metadata": {},
     "output_type": "execute_result"
    }
   ],
   "source": [
    "orders.head(1)"
   ]
  },
  {
   "cell_type": "code",
   "execution_count": 15,
   "id": "be0949ce",
   "metadata": {},
   "outputs": [],
   "source": [
    "# compute wait_time (Create new column)\n",
    "orders.loc[:, 'wait_time'] = (orders['order_delivered_customer_date'] - orders['order_purchase_timestamp']) / np.timedelta64(24, 'h')"
   ]
  },
  {
   "cell_type": "code",
   "execution_count": 16,
   "id": "7ace44cf",
   "metadata": {},
   "outputs": [
    {
     "data": {
      "text/plain": [
       "13.782037037037037"
      ]
     },
     "execution_count": 16,
     "metadata": {},
     "output_type": "execute_result"
    }
   ],
   "source": [
    "# TEST\n",
    "orders['wait_time'][1]"
   ]
  },
  {
   "cell_type": "markdown",
   "id": "203f622d",
   "metadata": {},
   "source": [
    "### Computing `['expected_wait_time']` column\n",
    "expected_wait_time = days between purchasing an item to estimated_delivery_date (in days)"
   ]
  },
  {
   "cell_type": "code",
   "execution_count": 17,
   "id": "2176b2a1",
   "metadata": {},
   "outputs": [],
   "source": [
    "# compute expected wait time\n",
    "orders.loc[:, 'expected_wait_time'] = (orders['order_estimated_delivery_date'] - orders['order_purchase_timestamp']) / np.timedelta64(24, 'h')"
   ]
  },
  {
   "cell_type": "code",
   "execution_count": 18,
   "id": "9db4b41a",
   "metadata": {},
   "outputs": [
    {
     "data": {
      "text/plain": [
       "19.137766203703702"
      ]
     },
     "execution_count": 18,
     "metadata": {},
     "output_type": "execute_result"
    }
   ],
   "source": [
    "# TEST\n",
    "orders['expected_wait_time'][1]"
   ]
  },
  {
   "cell_type": "markdown",
   "id": "54a28d66",
   "metadata": {},
   "source": [
    "#### DATA FRAME WITH NEW COLUMNS"
   ]
  },
  {
   "cell_type": "code",
   "execution_count": 19,
   "id": "9ddd0d71",
   "metadata": {},
   "outputs": [
    {
     "data": {
      "text/html": [
       "<div>\n",
       "<style scoped>\n",
       "    .dataframe tbody tr th:only-of-type {\n",
       "        vertical-align: middle;\n",
       "    }\n",
       "\n",
       "    .dataframe tbody tr th {\n",
       "        vertical-align: top;\n",
       "    }\n",
       "\n",
       "    .dataframe thead th {\n",
       "        text-align: right;\n",
       "    }\n",
       "</style>\n",
       "<table border=\"1\" class=\"dataframe\">\n",
       "  <thead>\n",
       "    <tr style=\"text-align: right;\">\n",
       "      <th></th>\n",
       "      <th>order_id</th>\n",
       "      <th>wait_time</th>\n",
       "      <th>expected_wait_time</th>\n",
       "      <th>delay_vs_expected</th>\n",
       "      <th>order_status</th>\n",
       "    </tr>\n",
       "  </thead>\n",
       "  <tbody>\n",
       "    <tr>\n",
       "      <th>0</th>\n",
       "      <td>e481f51cbdc54678b7cc49136f2d6af7</td>\n",
       "      <td>8.436574</td>\n",
       "      <td>15.544063</td>\n",
       "      <td>0.0</td>\n",
       "      <td>delivered</td>\n",
       "    </tr>\n",
       "    <tr>\n",
       "      <th>1</th>\n",
       "      <td>53cdb2fc8bc7dce0b6741e2150273451</td>\n",
       "      <td>13.782037</td>\n",
       "      <td>19.137766</td>\n",
       "      <td>0.0</td>\n",
       "      <td>delivered</td>\n",
       "    </tr>\n",
       "  </tbody>\n",
       "</table>\n",
       "</div>"
      ],
      "text/plain": [
       "                           order_id  wait_time  expected_wait_time  \\\n",
       "0  e481f51cbdc54678b7cc49136f2d6af7   8.436574           15.544063   \n",
       "1  53cdb2fc8bc7dce0b6741e2150273451  13.782037           19.137766   \n",
       "\n",
       "   delay_vs_expected order_status  \n",
       "0                0.0    delivered  \n",
       "1                0.0    delivered  "
      ]
     },
     "execution_count": 19,
     "metadata": {},
     "output_type": "execute_result"
    }
   ],
   "source": [
    "orders[['order_id', 'wait_time', 'expected_wait_time', 'delay_vs_expected', 'order_status']].head(2)"
   ]
  },
  {
   "cell_type": "markdown",
   "id": "a537f4b8",
   "metadata": {},
   "source": [
    "## 2. def get_review_score():\n",
    "Returns a DataFrame with:\n",
    "    `'order_id'`, `'dim_is_five_star'`, `'dim_is_one_star'`, `'review_score'`"
   ]
  },
  {
   "cell_type": "code",
   "execution_count": 20,
   "id": "b0db1099",
   "metadata": {},
   "outputs": [
    {
     "data": {
      "text/html": [
       "<div>\n",
       "<style scoped>\n",
       "    .dataframe tbody tr th:only-of-type {\n",
       "        vertical-align: middle;\n",
       "    }\n",
       "\n",
       "    .dataframe tbody tr th {\n",
       "        vertical-align: top;\n",
       "    }\n",
       "\n",
       "    .dataframe thead th {\n",
       "        text-align: right;\n",
       "    }\n",
       "</style>\n",
       "<table border=\"1\" class=\"dataframe\">\n",
       "  <thead>\n",
       "    <tr style=\"text-align: right;\">\n",
       "      <th></th>\n",
       "      <th>review_id</th>\n",
       "      <th>order_id</th>\n",
       "      <th>review_score</th>\n",
       "      <th>review_comment_title</th>\n",
       "      <th>review_comment_message</th>\n",
       "      <th>review_creation_date</th>\n",
       "      <th>review_answer_timestamp</th>\n",
       "    </tr>\n",
       "  </thead>\n",
       "  <tbody>\n",
       "    <tr>\n",
       "      <th>0</th>\n",
       "      <td>7bc2406110b926393aa56f80a40eba40</td>\n",
       "      <td>73fc7af87114b39712e6da79b0a377eb</td>\n",
       "      <td>4</td>\n",
       "      <td>NaN</td>\n",
       "      <td>NaN</td>\n",
       "      <td>2018-01-18 00:00:00</td>\n",
       "      <td>2018-01-18 21:46:59</td>\n",
       "    </tr>\n",
       "    <tr>\n",
       "      <th>1</th>\n",
       "      <td>80e641a11e56f04c1ad469d5645fdfde</td>\n",
       "      <td>a548910a1c6147796b98fdf73dbeba33</td>\n",
       "      <td>5</td>\n",
       "      <td>NaN</td>\n",
       "      <td>NaN</td>\n",
       "      <td>2018-03-10 00:00:00</td>\n",
       "      <td>2018-03-11 03:05:13</td>\n",
       "    </tr>\n",
       "  </tbody>\n",
       "</table>\n",
       "</div>"
      ],
      "text/plain": [
       "                          review_id                          order_id  \\\n",
       "0  7bc2406110b926393aa56f80a40eba40  73fc7af87114b39712e6da79b0a377eb   \n",
       "1  80e641a11e56f04c1ad469d5645fdfde  a548910a1c6147796b98fdf73dbeba33   \n",
       "\n",
       "   review_score review_comment_title review_comment_message  \\\n",
       "0             4                  NaN                    NaN   \n",
       "1             5                  NaN                    NaN   \n",
       "\n",
       "  review_creation_date review_answer_timestamp  \n",
       "0  2018-01-18 00:00:00     2018-01-18 21:46:59  \n",
       "1  2018-03-10 00:00:00     2018-03-11 03:05:13  "
      ]
     },
     "execution_count": 20,
     "metadata": {},
     "output_type": "execute_result"
    }
   ],
   "source": [
    "reviews = data['order_reviews'].copy()\n",
    "reviews.head(2)"
   ]
  },
  {
   "cell_type": "code",
   "execution_count": 21,
   "id": "82e3bda1",
   "metadata": {},
   "outputs": [],
   "source": [
    "# Implementing functions for the new columns 'dim_is_five_star' and 'dim_is_one_star'\n",
    "def dim_five_star(d):\n",
    "    if d == 5:\n",
    "        return 1\n",
    "    return 0\n",
    "\n",
    "def dim_one_star(d):\n",
    "    if d == 1:\n",
    "        return 1\n",
    "    return 0"
   ]
  },
  {
   "cell_type": "code",
   "execution_count": 22,
   "id": "c4f89d43",
   "metadata": {},
   "outputs": [],
   "source": [
    "reviews[\"dim_is_five_star\"] = reviews[\"review_score\"].map(dim_five_star)\n",
    "reviews[\"dim_is_one_star\"] = reviews[\"review_score\"].map(dim_one_star)"
   ]
  },
  {
   "cell_type": "code",
   "execution_count": 23,
   "id": "d0df2f5b",
   "metadata": {},
   "outputs": [
    {
     "data": {
      "text/html": [
       "<div>\n",
       "<style scoped>\n",
       "    .dataframe tbody tr th:only-of-type {\n",
       "        vertical-align: middle;\n",
       "    }\n",
       "\n",
       "    .dataframe tbody tr th {\n",
       "        vertical-align: top;\n",
       "    }\n",
       "\n",
       "    .dataframe thead th {\n",
       "        text-align: right;\n",
       "    }\n",
       "</style>\n",
       "<table border=\"1\" class=\"dataframe\">\n",
       "  <thead>\n",
       "    <tr style=\"text-align: right;\">\n",
       "      <th></th>\n",
       "      <th>order_id</th>\n",
       "      <th>dim_is_five_star</th>\n",
       "      <th>dim_is_one_star</th>\n",
       "      <th>review_score</th>\n",
       "    </tr>\n",
       "  </thead>\n",
       "  <tbody>\n",
       "    <tr>\n",
       "      <th>0</th>\n",
       "      <td>73fc7af87114b39712e6da79b0a377eb</td>\n",
       "      <td>0</td>\n",
       "      <td>0</td>\n",
       "      <td>4</td>\n",
       "    </tr>\n",
       "    <tr>\n",
       "      <th>1</th>\n",
       "      <td>a548910a1c6147796b98fdf73dbeba33</td>\n",
       "      <td>1</td>\n",
       "      <td>0</td>\n",
       "      <td>5</td>\n",
       "    </tr>\n",
       "    <tr>\n",
       "      <th>2</th>\n",
       "      <td>f9e4b658b201a9f2ecdecbb34bed034b</td>\n",
       "      <td>1</td>\n",
       "      <td>0</td>\n",
       "      <td>5</td>\n",
       "    </tr>\n",
       "    <tr>\n",
       "      <th>3</th>\n",
       "      <td>658677c97b385a9be170737859d3511b</td>\n",
       "      <td>1</td>\n",
       "      <td>0</td>\n",
       "      <td>5</td>\n",
       "    </tr>\n",
       "    <tr>\n",
       "      <th>4</th>\n",
       "      <td>8e6bfb81e283fa7e4f11123a3fb894f1</td>\n",
       "      <td>1</td>\n",
       "      <td>0</td>\n",
       "      <td>5</td>\n",
       "    </tr>\n",
       "  </tbody>\n",
       "</table>\n",
       "</div>"
      ],
      "text/plain": [
       "                           order_id  dim_is_five_star  dim_is_one_star  \\\n",
       "0  73fc7af87114b39712e6da79b0a377eb                 0                0   \n",
       "1  a548910a1c6147796b98fdf73dbeba33                 1                0   \n",
       "2  f9e4b658b201a9f2ecdecbb34bed034b                 1                0   \n",
       "3  658677c97b385a9be170737859d3511b                 1                0   \n",
       "4  8e6bfb81e283fa7e4f11123a3fb894f1                 1                0   \n",
       "\n",
       "   review_score  \n",
       "0             4  \n",
       "1             5  \n",
       "2             5  \n",
       "3             5  \n",
       "4             5  "
      ]
     },
     "execution_count": 23,
     "metadata": {},
     "output_type": "execute_result"
    }
   ],
   "source": [
    "# TEST\n",
    "reviews[[\"order_id\", \"dim_is_five_star\", \"dim_is_one_star\", \"review_score\"]].head()"
   ]
  },
  {
   "cell_type": "markdown",
   "id": "c37a4608",
   "metadata": {},
   "source": [
    "# ⚠ Implement code in order.py"
   ]
  },
  {
   "cell_type": "code",
   "execution_count": 24,
   "id": "ff6fea24",
   "metadata": {},
   "outputs": [
    {
     "data": {
      "text/html": [
       "<div>\n",
       "<style scoped>\n",
       "    .dataframe tbody tr th:only-of-type {\n",
       "        vertical-align: middle;\n",
       "    }\n",
       "\n",
       "    .dataframe tbody tr th {\n",
       "        vertical-align: top;\n",
       "    }\n",
       "\n",
       "    .dataframe thead th {\n",
       "        text-align: right;\n",
       "    }\n",
       "</style>\n",
       "<table border=\"1\" class=\"dataframe\">\n",
       "  <thead>\n",
       "    <tr style=\"text-align: right;\">\n",
       "      <th></th>\n",
       "      <th>order_id</th>\n",
       "      <th>dim_is_five_star</th>\n",
       "      <th>dim_is_one_star</th>\n",
       "      <th>review_score</th>\n",
       "    </tr>\n",
       "  </thead>\n",
       "  <tbody>\n",
       "    <tr>\n",
       "      <th>0</th>\n",
       "      <td>73fc7af87114b39712e6da79b0a377eb</td>\n",
       "      <td>0</td>\n",
       "      <td>0</td>\n",
       "      <td>4</td>\n",
       "    </tr>\n",
       "    <tr>\n",
       "      <th>1</th>\n",
       "      <td>a548910a1c6147796b98fdf73dbeba33</td>\n",
       "      <td>1</td>\n",
       "      <td>0</td>\n",
       "      <td>5</td>\n",
       "    </tr>\n",
       "    <tr>\n",
       "      <th>2</th>\n",
       "      <td>f9e4b658b201a9f2ecdecbb34bed034b</td>\n",
       "      <td>1</td>\n",
       "      <td>0</td>\n",
       "      <td>5</td>\n",
       "    </tr>\n",
       "    <tr>\n",
       "      <th>3</th>\n",
       "      <td>658677c97b385a9be170737859d3511b</td>\n",
       "      <td>1</td>\n",
       "      <td>0</td>\n",
       "      <td>5</td>\n",
       "    </tr>\n",
       "    <tr>\n",
       "      <th>4</th>\n",
       "      <td>8e6bfb81e283fa7e4f11123a3fb894f1</td>\n",
       "      <td>1</td>\n",
       "      <td>0</td>\n",
       "      <td>5</td>\n",
       "    </tr>\n",
       "    <tr>\n",
       "      <th>...</th>\n",
       "      <td>...</td>\n",
       "      <td>...</td>\n",
       "      <td>...</td>\n",
       "      <td>...</td>\n",
       "    </tr>\n",
       "    <tr>\n",
       "      <th>99995</th>\n",
       "      <td>22ec9f0669f784db00fa86d035cf8602</td>\n",
       "      <td>1</td>\n",
       "      <td>0</td>\n",
       "      <td>5</td>\n",
       "    </tr>\n",
       "    <tr>\n",
       "      <th>99996</th>\n",
       "      <td>55d4004744368f5571d1f590031933e4</td>\n",
       "      <td>1</td>\n",
       "      <td>0</td>\n",
       "      <td>5</td>\n",
       "    </tr>\n",
       "    <tr>\n",
       "      <th>99997</th>\n",
       "      <td>7725825d039fc1f0ceb7635e3f7d9206</td>\n",
       "      <td>0</td>\n",
       "      <td>0</td>\n",
       "      <td>4</td>\n",
       "    </tr>\n",
       "    <tr>\n",
       "      <th>99998</th>\n",
       "      <td>f8bd3f2000c28c5342fedeb5e50f2e75</td>\n",
       "      <td>0</td>\n",
       "      <td>1</td>\n",
       "      <td>1</td>\n",
       "    </tr>\n",
       "    <tr>\n",
       "      <th>99999</th>\n",
       "      <td>90531360ecb1eec2a1fbb265a0db0508</td>\n",
       "      <td>0</td>\n",
       "      <td>1</td>\n",
       "      <td>1</td>\n",
       "    </tr>\n",
       "  </tbody>\n",
       "</table>\n",
       "<p>100000 rows × 4 columns</p>\n",
       "</div>"
      ],
      "text/plain": [
       "                               order_id  dim_is_five_star  dim_is_one_star  \\\n",
       "0      73fc7af87114b39712e6da79b0a377eb                 0                0   \n",
       "1      a548910a1c6147796b98fdf73dbeba33                 1                0   \n",
       "2      f9e4b658b201a9f2ecdecbb34bed034b                 1                0   \n",
       "3      658677c97b385a9be170737859d3511b                 1                0   \n",
       "4      8e6bfb81e283fa7e4f11123a3fb894f1                 1                0   \n",
       "...                                 ...               ...              ...   \n",
       "99995  22ec9f0669f784db00fa86d035cf8602                 1                0   \n",
       "99996  55d4004744368f5571d1f590031933e4                 1                0   \n",
       "99997  7725825d039fc1f0ceb7635e3f7d9206                 0                0   \n",
       "99998  f8bd3f2000c28c5342fedeb5e50f2e75                 0                1   \n",
       "99999  90531360ecb1eec2a1fbb265a0db0508                 0                1   \n",
       "\n",
       "       review_score  \n",
       "0                 4  \n",
       "1                 5  \n",
       "2                 5  \n",
       "3                 5  \n",
       "4                 5  \n",
       "...             ...  \n",
       "99995             5  \n",
       "99996             5  \n",
       "99997             4  \n",
       "99998             1  \n",
       "99999             1  \n",
       "\n",
       "[100000 rows x 4 columns]"
      ]
     },
     "execution_count": 24,
     "metadata": {},
     "output_type": "execute_result"
    }
   ],
   "source": [
    "# Testing code once implemented to olistdash/order.py\n",
    "from olistdash.order import Order\n",
    "Order().get_review_score()"
   ]
  },
  {
   "cell_type": "markdown",
   "id": "0e14b323",
   "metadata": {},
   "source": [
    "### 3. def get_number_products():\n",
    "Returns a DataFrame with: `'order_id'`, `'number_of_products'` (total number of products per order)"
   ]
  },
  {
   "cell_type": "markdown",
   "id": "ad1f3ed1",
   "metadata": {},
   "source": [
    "Table: data['order_items']"
   ]
  },
  {
   "cell_type": "code",
   "execution_count": 25,
   "id": "8467b9c2",
   "metadata": {},
   "outputs": [
    {
     "data": {
      "text/html": [
       "<div>\n",
       "<style scoped>\n",
       "    .dataframe tbody tr th:only-of-type {\n",
       "        vertical-align: middle;\n",
       "    }\n",
       "\n",
       "    .dataframe tbody tr th {\n",
       "        vertical-align: top;\n",
       "    }\n",
       "\n",
       "    .dataframe thead th {\n",
       "        text-align: right;\n",
       "    }\n",
       "</style>\n",
       "<table border=\"1\" class=\"dataframe\">\n",
       "  <thead>\n",
       "    <tr style=\"text-align: right;\">\n",
       "      <th></th>\n",
       "      <th>order_id</th>\n",
       "      <th>number_of_products</th>\n",
       "    </tr>\n",
       "  </thead>\n",
       "  <tbody>\n",
       "    <tr>\n",
       "      <th>0</th>\n",
       "      <td>00010242fe8c5a6d1ba2dd792cb16214</td>\n",
       "      <td>1</td>\n",
       "    </tr>\n",
       "    <tr>\n",
       "      <th>1</th>\n",
       "      <td>00018f77f2f0320c557190d7a144bdd3</td>\n",
       "      <td>1</td>\n",
       "    </tr>\n",
       "    <tr>\n",
       "      <th>2</th>\n",
       "      <td>000229ec398224ef6ca0657da4fc703e</td>\n",
       "      <td>1</td>\n",
       "    </tr>\n",
       "    <tr>\n",
       "      <th>3</th>\n",
       "      <td>00024acbcdf0a6daa1e931b038114c75</td>\n",
       "      <td>1</td>\n",
       "    </tr>\n",
       "    <tr>\n",
       "      <th>4</th>\n",
       "      <td>00042b26cf59d7ce69dfabb4e55b4fd9</td>\n",
       "      <td>1</td>\n",
       "    </tr>\n",
       "  </tbody>\n",
       "</table>\n",
       "</div>"
      ],
      "text/plain": [
       "                           order_id  number_of_products\n",
       "0  00010242fe8c5a6d1ba2dd792cb16214                   1\n",
       "1  00018f77f2f0320c557190d7a144bdd3                   1\n",
       "2  000229ec398224ef6ca0657da4fc703e                   1\n",
       "3  00024acbcdf0a6daa1e931b038114c75                   1\n",
       "4  00042b26cf59d7ce69dfabb4e55b4fd9                   1"
      ]
     },
     "execution_count": 25,
     "metadata": {},
     "output_type": "execute_result"
    }
   ],
   "source": [
    "products = data['order_items']\\\n",
    "    .groupby('order_id',as_index=False)\\\n",
    "    .agg({'order_item_id': 'count'})\n",
    "\n",
    "products.columns = ['order_id', 'number_of_products']\n",
    "\n",
    "products.head()"
   ]
  },
  {
   "cell_type": "markdown",
   "id": "b9f156a3",
   "metadata": {},
   "source": [
    "#### Implement in order.py"
   ]
  },
  {
   "cell_type": "code",
   "execution_count": 26,
   "id": "691cfd4b",
   "metadata": {},
   "outputs": [
    {
     "data": {
      "text/html": [
       "<div>\n",
       "<style scoped>\n",
       "    .dataframe tbody tr th:only-of-type {\n",
       "        vertical-align: middle;\n",
       "    }\n",
       "\n",
       "    .dataframe tbody tr th {\n",
       "        vertical-align: top;\n",
       "    }\n",
       "\n",
       "    .dataframe thead th {\n",
       "        text-align: right;\n",
       "    }\n",
       "</style>\n",
       "<table border=\"1\" class=\"dataframe\">\n",
       "  <thead>\n",
       "    <tr style=\"text-align: right;\">\n",
       "      <th></th>\n",
       "      <th>order_id</th>\n",
       "      <th>number_of_products</th>\n",
       "    </tr>\n",
       "  </thead>\n",
       "  <tbody>\n",
       "    <tr>\n",
       "      <th>0</th>\n",
       "      <td>00010242fe8c5a6d1ba2dd792cb16214</td>\n",
       "      <td>1</td>\n",
       "    </tr>\n",
       "    <tr>\n",
       "      <th>1</th>\n",
       "      <td>00018f77f2f0320c557190d7a144bdd3</td>\n",
       "      <td>1</td>\n",
       "    </tr>\n",
       "    <tr>\n",
       "      <th>2</th>\n",
       "      <td>000229ec398224ef6ca0657da4fc703e</td>\n",
       "      <td>1</td>\n",
       "    </tr>\n",
       "    <tr>\n",
       "      <th>3</th>\n",
       "      <td>00024acbcdf0a6daa1e931b038114c75</td>\n",
       "      <td>1</td>\n",
       "    </tr>\n",
       "    <tr>\n",
       "      <th>4</th>\n",
       "      <td>00042b26cf59d7ce69dfabb4e55b4fd9</td>\n",
       "      <td>1</td>\n",
       "    </tr>\n",
       "    <tr>\n",
       "      <th>...</th>\n",
       "      <td>...</td>\n",
       "      <td>...</td>\n",
       "    </tr>\n",
       "    <tr>\n",
       "      <th>98661</th>\n",
       "      <td>fffc94f6ce00a00581880bf54a75a037</td>\n",
       "      <td>1</td>\n",
       "    </tr>\n",
       "    <tr>\n",
       "      <th>98662</th>\n",
       "      <td>fffcd46ef2263f404302a634eb57f7eb</td>\n",
       "      <td>1</td>\n",
       "    </tr>\n",
       "    <tr>\n",
       "      <th>98663</th>\n",
       "      <td>fffce4705a9662cd70adb13d4a31832d</td>\n",
       "      <td>1</td>\n",
       "    </tr>\n",
       "    <tr>\n",
       "      <th>98664</th>\n",
       "      <td>fffe18544ffabc95dfada21779c9644f</td>\n",
       "      <td>1</td>\n",
       "    </tr>\n",
       "    <tr>\n",
       "      <th>98665</th>\n",
       "      <td>fffe41c64501cc87c801fd61db3f6244</td>\n",
       "      <td>1</td>\n",
       "    </tr>\n",
       "  </tbody>\n",
       "</table>\n",
       "<p>98666 rows × 2 columns</p>\n",
       "</div>"
      ],
      "text/plain": [
       "                               order_id  number_of_products\n",
       "0      00010242fe8c5a6d1ba2dd792cb16214                   1\n",
       "1      00018f77f2f0320c557190d7a144bdd3                   1\n",
       "2      000229ec398224ef6ca0657da4fc703e                   1\n",
       "3      00024acbcdf0a6daa1e931b038114c75                   1\n",
       "4      00042b26cf59d7ce69dfabb4e55b4fd9                   1\n",
       "...                                 ...                 ...\n",
       "98661  fffc94f6ce00a00581880bf54a75a037                   1\n",
       "98662  fffcd46ef2263f404302a634eb57f7eb                   1\n",
       "98663  fffce4705a9662cd70adb13d4a31832d                   1\n",
       "98664  fffe18544ffabc95dfada21779c9644f                   1\n",
       "98665  fffe41c64501cc87c801fd61db3f6244                   1\n",
       "\n",
       "[98666 rows x 2 columns]"
      ]
     },
     "execution_count": 26,
     "metadata": {},
     "output_type": "execute_result"
    }
   ],
   "source": [
    "# Testing\n",
    "Order().get_number_products()"
   ]
  },
  {
   "cell_type": "markdown",
   "id": "ee4cb876",
   "metadata": {},
   "source": [
    "### 4. def get_number_sellers():\n",
    "Returns a DataFrame with:\n",
    "        `order_id`, `number_of_sellers` (total number of unique sellers per order)"
   ]
  },
  {
   "cell_type": "code",
   "execution_count": 27,
   "id": "14a79bfa",
   "metadata": {},
   "outputs": [],
   "source": [
    "sellers = data['order_items']\\\n",
    "    .groupby('order_id')['seller_id']\\\n",
    "    .nunique()\\\n",
    "    .reset_index()\n",
    "\n",
    "sellers.columns = ['order_id', 'number_of_sellers']"
   ]
  },
  {
   "cell_type": "code",
   "execution_count": 28,
   "id": "dfe17aaa",
   "metadata": {},
   "outputs": [
    {
     "data": {
      "text/html": [
       "<div>\n",
       "<style scoped>\n",
       "    .dataframe tbody tr th:only-of-type {\n",
       "        vertical-align: middle;\n",
       "    }\n",
       "\n",
       "    .dataframe tbody tr th {\n",
       "        vertical-align: top;\n",
       "    }\n",
       "\n",
       "    .dataframe thead th {\n",
       "        text-align: right;\n",
       "    }\n",
       "</style>\n",
       "<table border=\"1\" class=\"dataframe\">\n",
       "  <thead>\n",
       "    <tr style=\"text-align: right;\">\n",
       "      <th></th>\n",
       "      <th>order_id</th>\n",
       "      <th>number_of_sellers</th>\n",
       "    </tr>\n",
       "  </thead>\n",
       "  <tbody>\n",
       "    <tr>\n",
       "      <th>0</th>\n",
       "      <td>00010242fe8c5a6d1ba2dd792cb16214</td>\n",
       "      <td>1</td>\n",
       "    </tr>\n",
       "    <tr>\n",
       "      <th>1</th>\n",
       "      <td>00018f77f2f0320c557190d7a144bdd3</td>\n",
       "      <td>1</td>\n",
       "    </tr>\n",
       "    <tr>\n",
       "      <th>2</th>\n",
       "      <td>000229ec398224ef6ca0657da4fc703e</td>\n",
       "      <td>1</td>\n",
       "    </tr>\n",
       "    <tr>\n",
       "      <th>3</th>\n",
       "      <td>00024acbcdf0a6daa1e931b038114c75</td>\n",
       "      <td>1</td>\n",
       "    </tr>\n",
       "    <tr>\n",
       "      <th>4</th>\n",
       "      <td>00042b26cf59d7ce69dfabb4e55b4fd9</td>\n",
       "      <td>1</td>\n",
       "    </tr>\n",
       "    <tr>\n",
       "      <th>...</th>\n",
       "      <td>...</td>\n",
       "      <td>...</td>\n",
       "    </tr>\n",
       "    <tr>\n",
       "      <th>98661</th>\n",
       "      <td>fffc94f6ce00a00581880bf54a75a037</td>\n",
       "      <td>1</td>\n",
       "    </tr>\n",
       "    <tr>\n",
       "      <th>98662</th>\n",
       "      <td>fffcd46ef2263f404302a634eb57f7eb</td>\n",
       "      <td>1</td>\n",
       "    </tr>\n",
       "    <tr>\n",
       "      <th>98663</th>\n",
       "      <td>fffce4705a9662cd70adb13d4a31832d</td>\n",
       "      <td>1</td>\n",
       "    </tr>\n",
       "    <tr>\n",
       "      <th>98664</th>\n",
       "      <td>fffe18544ffabc95dfada21779c9644f</td>\n",
       "      <td>1</td>\n",
       "    </tr>\n",
       "    <tr>\n",
       "      <th>98665</th>\n",
       "      <td>fffe41c64501cc87c801fd61db3f6244</td>\n",
       "      <td>1</td>\n",
       "    </tr>\n",
       "  </tbody>\n",
       "</table>\n",
       "<p>98666 rows × 2 columns</p>\n",
       "</div>"
      ],
      "text/plain": [
       "                               order_id  number_of_sellers\n",
       "0      00010242fe8c5a6d1ba2dd792cb16214                  1\n",
       "1      00018f77f2f0320c557190d7a144bdd3                  1\n",
       "2      000229ec398224ef6ca0657da4fc703e                  1\n",
       "3      00024acbcdf0a6daa1e931b038114c75                  1\n",
       "4      00042b26cf59d7ce69dfabb4e55b4fd9                  1\n",
       "...                                 ...                ...\n",
       "98661  fffc94f6ce00a00581880bf54a75a037                  1\n",
       "98662  fffcd46ef2263f404302a634eb57f7eb                  1\n",
       "98663  fffce4705a9662cd70adb13d4a31832d                  1\n",
       "98664  fffe18544ffabc95dfada21779c9644f                  1\n",
       "98665  fffe41c64501cc87c801fd61db3f6244                  1\n",
       "\n",
       "[98666 rows x 2 columns]"
      ]
     },
     "execution_count": 28,
     "metadata": {},
     "output_type": "execute_result"
    }
   ],
   "source": [
    "sellers"
   ]
  },
  {
   "cell_type": "markdown",
   "id": "5d34bfa4",
   "metadata": {},
   "source": [
    "#### Implement in order.py"
   ]
  },
  {
   "cell_type": "code",
   "execution_count": 29,
   "id": "739a1a48",
   "metadata": {},
   "outputs": [
    {
     "data": {
      "text/html": [
       "<div>\n",
       "<style scoped>\n",
       "    .dataframe tbody tr th:only-of-type {\n",
       "        vertical-align: middle;\n",
       "    }\n",
       "\n",
       "    .dataframe tbody tr th {\n",
       "        vertical-align: top;\n",
       "    }\n",
       "\n",
       "    .dataframe thead th {\n",
       "        text-align: right;\n",
       "    }\n",
       "</style>\n",
       "<table border=\"1\" class=\"dataframe\">\n",
       "  <thead>\n",
       "    <tr style=\"text-align: right;\">\n",
       "      <th></th>\n",
       "      <th>order_id</th>\n",
       "      <th>number_of_sellers</th>\n",
       "    </tr>\n",
       "  </thead>\n",
       "  <tbody>\n",
       "    <tr>\n",
       "      <th>0</th>\n",
       "      <td>00010242fe8c5a6d1ba2dd792cb16214</td>\n",
       "      <td>1</td>\n",
       "    </tr>\n",
       "    <tr>\n",
       "      <th>1</th>\n",
       "      <td>00018f77f2f0320c557190d7a144bdd3</td>\n",
       "      <td>1</td>\n",
       "    </tr>\n",
       "    <tr>\n",
       "      <th>2</th>\n",
       "      <td>000229ec398224ef6ca0657da4fc703e</td>\n",
       "      <td>1</td>\n",
       "    </tr>\n",
       "    <tr>\n",
       "      <th>3</th>\n",
       "      <td>00024acbcdf0a6daa1e931b038114c75</td>\n",
       "      <td>1</td>\n",
       "    </tr>\n",
       "    <tr>\n",
       "      <th>4</th>\n",
       "      <td>00042b26cf59d7ce69dfabb4e55b4fd9</td>\n",
       "      <td>1</td>\n",
       "    </tr>\n",
       "    <tr>\n",
       "      <th>...</th>\n",
       "      <td>...</td>\n",
       "      <td>...</td>\n",
       "    </tr>\n",
       "    <tr>\n",
       "      <th>98661</th>\n",
       "      <td>fffc94f6ce00a00581880bf54a75a037</td>\n",
       "      <td>1</td>\n",
       "    </tr>\n",
       "    <tr>\n",
       "      <th>98662</th>\n",
       "      <td>fffcd46ef2263f404302a634eb57f7eb</td>\n",
       "      <td>1</td>\n",
       "    </tr>\n",
       "    <tr>\n",
       "      <th>98663</th>\n",
       "      <td>fffce4705a9662cd70adb13d4a31832d</td>\n",
       "      <td>1</td>\n",
       "    </tr>\n",
       "    <tr>\n",
       "      <th>98664</th>\n",
       "      <td>fffe18544ffabc95dfada21779c9644f</td>\n",
       "      <td>1</td>\n",
       "    </tr>\n",
       "    <tr>\n",
       "      <th>98665</th>\n",
       "      <td>fffe41c64501cc87c801fd61db3f6244</td>\n",
       "      <td>1</td>\n",
       "    </tr>\n",
       "  </tbody>\n",
       "</table>\n",
       "<p>98666 rows × 2 columns</p>\n",
       "</div>"
      ],
      "text/plain": [
       "                               order_id  number_of_sellers\n",
       "0      00010242fe8c5a6d1ba2dd792cb16214                  1\n",
       "1      00018f77f2f0320c557190d7a144bdd3                  1\n",
       "2      000229ec398224ef6ca0657da4fc703e                  1\n",
       "3      00024acbcdf0a6daa1e931b038114c75                  1\n",
       "4      00042b26cf59d7ce69dfabb4e55b4fd9                  1\n",
       "...                                 ...                ...\n",
       "98661  fffc94f6ce00a00581880bf54a75a037                  1\n",
       "98662  fffcd46ef2263f404302a634eb57f7eb                  1\n",
       "98663  fffce4705a9662cd70adb13d4a31832d                  1\n",
       "98664  fffe18544ffabc95dfada21779c9644f                  1\n",
       "98665  fffe41c64501cc87c801fd61db3f6244                  1\n",
       "\n",
       "[98666 rows x 2 columns]"
      ]
     },
     "execution_count": 29,
     "metadata": {},
     "output_type": "execute_result"
    }
   ],
   "source": [
    "# Check\n",
    "Order().get_number_sellers()"
   ]
  },
  {
   "cell_type": "markdown",
   "id": "577b0fea",
   "metadata": {},
   "source": [
    "### get_price_and_freight\n",
    "     Returns a DataFrame with:\n",
    "        order_id, price, freight_value"
   ]
  },
  {
   "cell_type": "code",
   "execution_count": 30,
   "id": "89a6857c",
   "metadata": {},
   "outputs": [
    {
     "data": {
      "text/plain": [
       "Index(['order_id', 'order_item_id', 'product_id', 'seller_id',\n",
       "       'shipping_limit_date', 'price', 'freight_value'],\n",
       "      dtype='object')"
      ]
     },
     "execution_count": 30,
     "metadata": {},
     "output_type": "execute_result"
    }
   ],
   "source": [
    "data['order_items'].columns"
   ]
  },
  {
   "cell_type": "code",
   "execution_count": 31,
   "id": "f07b0868",
   "metadata": {},
   "outputs": [
    {
     "data": {
      "text/html": [
       "<div>\n",
       "<style scoped>\n",
       "    .dataframe tbody tr th:only-of-type {\n",
       "        vertical-align: middle;\n",
       "    }\n",
       "\n",
       "    .dataframe tbody tr th {\n",
       "        vertical-align: top;\n",
       "    }\n",
       "\n",
       "    .dataframe thead th {\n",
       "        text-align: right;\n",
       "    }\n",
       "</style>\n",
       "<table border=\"1\" class=\"dataframe\">\n",
       "  <thead>\n",
       "    <tr style=\"text-align: right;\">\n",
       "      <th></th>\n",
       "      <th>order_id</th>\n",
       "      <th>price</th>\n",
       "      <th>freight_value</th>\n",
       "    </tr>\n",
       "  </thead>\n",
       "  <tbody>\n",
       "    <tr>\n",
       "      <th>0</th>\n",
       "      <td>00010242fe8c5a6d1ba2dd792cb16214</td>\n",
       "      <td>58.90</td>\n",
       "      <td>13.29</td>\n",
       "    </tr>\n",
       "    <tr>\n",
       "      <th>1</th>\n",
       "      <td>00018f77f2f0320c557190d7a144bdd3</td>\n",
       "      <td>239.90</td>\n",
       "      <td>19.93</td>\n",
       "    </tr>\n",
       "    <tr>\n",
       "      <th>2</th>\n",
       "      <td>000229ec398224ef6ca0657da4fc703e</td>\n",
       "      <td>199.00</td>\n",
       "      <td>17.87</td>\n",
       "    </tr>\n",
       "    <tr>\n",
       "      <th>3</th>\n",
       "      <td>00024acbcdf0a6daa1e931b038114c75</td>\n",
       "      <td>12.99</td>\n",
       "      <td>12.79</td>\n",
       "    </tr>\n",
       "    <tr>\n",
       "      <th>4</th>\n",
       "      <td>00042b26cf59d7ce69dfabb4e55b4fd9</td>\n",
       "      <td>199.90</td>\n",
       "      <td>18.14</td>\n",
       "    </tr>\n",
       "    <tr>\n",
       "      <th>...</th>\n",
       "      <td>...</td>\n",
       "      <td>...</td>\n",
       "      <td>...</td>\n",
       "    </tr>\n",
       "    <tr>\n",
       "      <th>98661</th>\n",
       "      <td>fffc94f6ce00a00581880bf54a75a037</td>\n",
       "      <td>299.99</td>\n",
       "      <td>43.41</td>\n",
       "    </tr>\n",
       "    <tr>\n",
       "      <th>98662</th>\n",
       "      <td>fffcd46ef2263f404302a634eb57f7eb</td>\n",
       "      <td>350.00</td>\n",
       "      <td>36.53</td>\n",
       "    </tr>\n",
       "    <tr>\n",
       "      <th>98663</th>\n",
       "      <td>fffce4705a9662cd70adb13d4a31832d</td>\n",
       "      <td>99.90</td>\n",
       "      <td>16.95</td>\n",
       "    </tr>\n",
       "    <tr>\n",
       "      <th>98664</th>\n",
       "      <td>fffe18544ffabc95dfada21779c9644f</td>\n",
       "      <td>55.99</td>\n",
       "      <td>8.72</td>\n",
       "    </tr>\n",
       "    <tr>\n",
       "      <th>98665</th>\n",
       "      <td>fffe41c64501cc87c801fd61db3f6244</td>\n",
       "      <td>43.00</td>\n",
       "      <td>12.79</td>\n",
       "    </tr>\n",
       "  </tbody>\n",
       "</table>\n",
       "<p>98666 rows × 3 columns</p>\n",
       "</div>"
      ],
      "text/plain": [
       "                               order_id   price  freight_value\n",
       "0      00010242fe8c5a6d1ba2dd792cb16214   58.90          13.29\n",
       "1      00018f77f2f0320c557190d7a144bdd3  239.90          19.93\n",
       "2      000229ec398224ef6ca0657da4fc703e  199.00          17.87\n",
       "3      00024acbcdf0a6daa1e931b038114c75   12.99          12.79\n",
       "4      00042b26cf59d7ce69dfabb4e55b4fd9  199.90          18.14\n",
       "...                                 ...     ...            ...\n",
       "98661  fffc94f6ce00a00581880bf54a75a037  299.99          43.41\n",
       "98662  fffcd46ef2263f404302a634eb57f7eb  350.00          36.53\n",
       "98663  fffce4705a9662cd70adb13d4a31832d   99.90          16.95\n",
       "98664  fffe18544ffabc95dfada21779c9644f   55.99           8.72\n",
       "98665  fffe41c64501cc87c801fd61db3f6244   43.00          12.79\n",
       "\n",
       "[98666 rows x 3 columns]"
      ]
     },
     "execution_count": 31,
     "metadata": {},
     "output_type": "execute_result"
    }
   ],
   "source": [
    "price_freight = data['order_items']\\\n",
    "    .groupby('order_id', as_index=False)\\\n",
    "    .agg({'price': 'sum', 'freight_value': 'sum'})\n",
    "price_freight"
   ]
  },
  {
   "cell_type": "markdown",
   "id": "fb51d1dc",
   "metadata": {},
   "source": [
    "#### Implement in order.py"
   ]
  },
  {
   "cell_type": "code",
   "execution_count": 32,
   "id": "676152e5",
   "metadata": {},
   "outputs": [
    {
     "data": {
      "text/html": [
       "<div>\n",
       "<style scoped>\n",
       "    .dataframe tbody tr th:only-of-type {\n",
       "        vertical-align: middle;\n",
       "    }\n",
       "\n",
       "    .dataframe tbody tr th {\n",
       "        vertical-align: top;\n",
       "    }\n",
       "\n",
       "    .dataframe thead th {\n",
       "        text-align: right;\n",
       "    }\n",
       "</style>\n",
       "<table border=\"1\" class=\"dataframe\">\n",
       "  <thead>\n",
       "    <tr style=\"text-align: right;\">\n",
       "      <th></th>\n",
       "      <th>order_id</th>\n",
       "      <th>price</th>\n",
       "      <th>freight_value</th>\n",
       "    </tr>\n",
       "  </thead>\n",
       "  <tbody>\n",
       "    <tr>\n",
       "      <th>0</th>\n",
       "      <td>00010242fe8c5a6d1ba2dd792cb16214</td>\n",
       "      <td>58.90</td>\n",
       "      <td>13.29</td>\n",
       "    </tr>\n",
       "    <tr>\n",
       "      <th>1</th>\n",
       "      <td>00018f77f2f0320c557190d7a144bdd3</td>\n",
       "      <td>239.90</td>\n",
       "      <td>19.93</td>\n",
       "    </tr>\n",
       "    <tr>\n",
       "      <th>2</th>\n",
       "      <td>000229ec398224ef6ca0657da4fc703e</td>\n",
       "      <td>199.00</td>\n",
       "      <td>17.87</td>\n",
       "    </tr>\n",
       "    <tr>\n",
       "      <th>3</th>\n",
       "      <td>00024acbcdf0a6daa1e931b038114c75</td>\n",
       "      <td>12.99</td>\n",
       "      <td>12.79</td>\n",
       "    </tr>\n",
       "    <tr>\n",
       "      <th>4</th>\n",
       "      <td>00042b26cf59d7ce69dfabb4e55b4fd9</td>\n",
       "      <td>199.90</td>\n",
       "      <td>18.14</td>\n",
       "    </tr>\n",
       "    <tr>\n",
       "      <th>...</th>\n",
       "      <td>...</td>\n",
       "      <td>...</td>\n",
       "      <td>...</td>\n",
       "    </tr>\n",
       "    <tr>\n",
       "      <th>98661</th>\n",
       "      <td>fffc94f6ce00a00581880bf54a75a037</td>\n",
       "      <td>299.99</td>\n",
       "      <td>43.41</td>\n",
       "    </tr>\n",
       "    <tr>\n",
       "      <th>98662</th>\n",
       "      <td>fffcd46ef2263f404302a634eb57f7eb</td>\n",
       "      <td>350.00</td>\n",
       "      <td>36.53</td>\n",
       "    </tr>\n",
       "    <tr>\n",
       "      <th>98663</th>\n",
       "      <td>fffce4705a9662cd70adb13d4a31832d</td>\n",
       "      <td>99.90</td>\n",
       "      <td>16.95</td>\n",
       "    </tr>\n",
       "    <tr>\n",
       "      <th>98664</th>\n",
       "      <td>fffe18544ffabc95dfada21779c9644f</td>\n",
       "      <td>55.99</td>\n",
       "      <td>8.72</td>\n",
       "    </tr>\n",
       "    <tr>\n",
       "      <th>98665</th>\n",
       "      <td>fffe41c64501cc87c801fd61db3f6244</td>\n",
       "      <td>43.00</td>\n",
       "      <td>12.79</td>\n",
       "    </tr>\n",
       "  </tbody>\n",
       "</table>\n",
       "<p>98666 rows × 3 columns</p>\n",
       "</div>"
      ],
      "text/plain": [
       "                               order_id   price  freight_value\n",
       "0      00010242fe8c5a6d1ba2dd792cb16214   58.90          13.29\n",
       "1      00018f77f2f0320c557190d7a144bdd3  239.90          19.93\n",
       "2      000229ec398224ef6ca0657da4fc703e  199.00          17.87\n",
       "3      00024acbcdf0a6daa1e931b038114c75   12.99          12.79\n",
       "4      00042b26cf59d7ce69dfabb4e55b4fd9  199.90          18.14\n",
       "...                                 ...     ...            ...\n",
       "98661  fffc94f6ce00a00581880bf54a75a037  299.99          43.41\n",
       "98662  fffcd46ef2263f404302a634eb57f7eb  350.00          36.53\n",
       "98663  fffce4705a9662cd70adb13d4a31832d   99.90          16.95\n",
       "98664  fffe18544ffabc95dfada21779c9644f   55.99           8.72\n",
       "98665  fffe41c64501cc87c801fd61db3f6244   43.00          12.79\n",
       "\n",
       "[98666 rows x 3 columns]"
      ]
     },
     "execution_count": 32,
     "metadata": {},
     "output_type": "execute_result"
    }
   ],
   "source": [
    "# Chec Code implemented in order.py\n",
    "Order().get_price_and_freight()"
   ]
  },
  {
   "cell_type": "markdown",
   "id": "7bf0f253",
   "metadata": {},
   "source": [
    "### get_distance_seller_customer\n",
    "[order_id, distance_seller_customer] (the distance in km between customer and seller)\n",
    "##### Created the utils.py with def haversine_distance( lon1, lat1, lon2, lat2 ):"
   ]
  },
  {
   "cell_type": "code",
   "execution_count": 33,
   "id": "27c84736",
   "metadata": {},
   "outputs": [],
   "source": [
    "# Select sellers and customers \n",
    "matching_table = Olist().get_matching_table()"
   ]
  },
  {
   "cell_type": "code",
   "execution_count": 34,
   "id": "00783c51",
   "metadata": {},
   "outputs": [
    {
     "data": {
      "text/html": [
       "<div>\n",
       "<style scoped>\n",
       "    .dataframe tbody tr th:only-of-type {\n",
       "        vertical-align: middle;\n",
       "    }\n",
       "\n",
       "    .dataframe tbody tr th {\n",
       "        vertical-align: top;\n",
       "    }\n",
       "\n",
       "    .dataframe thead th {\n",
       "        text-align: right;\n",
       "    }\n",
       "</style>\n",
       "<table border=\"1\" class=\"dataframe\">\n",
       "  <thead>\n",
       "    <tr style=\"text-align: right;\">\n",
       "      <th></th>\n",
       "      <th>geolocation_zip_code_prefix</th>\n",
       "      <th>geolocation_lat</th>\n",
       "      <th>geolocation_lng</th>\n",
       "      <th>geolocation_city</th>\n",
       "      <th>geolocation_state</th>\n",
       "    </tr>\n",
       "  </thead>\n",
       "  <tbody>\n",
       "    <tr>\n",
       "      <th>0</th>\n",
       "      <td>1037</td>\n",
       "      <td>-23.545621</td>\n",
       "      <td>-46.639292</td>\n",
       "      <td>sao paulo</td>\n",
       "      <td>SP</td>\n",
       "    </tr>\n",
       "    <tr>\n",
       "      <th>1</th>\n",
       "      <td>1046</td>\n",
       "      <td>-23.546081</td>\n",
       "      <td>-46.644820</td>\n",
       "      <td>sao paulo</td>\n",
       "      <td>SP</td>\n",
       "    </tr>\n",
       "    <tr>\n",
       "      <th>2</th>\n",
       "      <td>1046</td>\n",
       "      <td>-23.546129</td>\n",
       "      <td>-46.642951</td>\n",
       "      <td>sao paulo</td>\n",
       "      <td>SP</td>\n",
       "    </tr>\n",
       "    <tr>\n",
       "      <th>3</th>\n",
       "      <td>1041</td>\n",
       "      <td>-23.544392</td>\n",
       "      <td>-46.639499</td>\n",
       "      <td>sao paulo</td>\n",
       "      <td>SP</td>\n",
       "    </tr>\n",
       "    <tr>\n",
       "      <th>4</th>\n",
       "      <td>1035</td>\n",
       "      <td>-23.541578</td>\n",
       "      <td>-46.641607</td>\n",
       "      <td>sao paulo</td>\n",
       "      <td>SP</td>\n",
       "    </tr>\n",
       "  </tbody>\n",
       "</table>\n",
       "</div>"
      ],
      "text/plain": [
       "   geolocation_zip_code_prefix  geolocation_lat  geolocation_lng  \\\n",
       "0                         1037       -23.545621       -46.639292   \n",
       "1                         1046       -23.546081       -46.644820   \n",
       "2                         1046       -23.546129       -46.642951   \n",
       "3                         1041       -23.544392       -46.639499   \n",
       "4                         1035       -23.541578       -46.641607   \n",
       "\n",
       "  geolocation_city geolocation_state  \n",
       "0        sao paulo                SP  \n",
       "1        sao paulo                SP  \n",
       "2        sao paulo                SP  \n",
       "3        sao paulo                SP  \n",
       "4        sao paulo                SP  "
      ]
     },
     "execution_count": 34,
     "metadata": {},
     "output_type": "execute_result"
    }
   ],
   "source": [
    "data['geolocation'].head()"
   ]
  },
  {
   "cell_type": "code",
   "execution_count": 35,
   "id": "9212f6a3",
   "metadata": {},
   "outputs": [
    {
     "data": {
      "text/html": [
       "<div>\n",
       "<style scoped>\n",
       "    .dataframe tbody tr th:only-of-type {\n",
       "        vertical-align: middle;\n",
       "    }\n",
       "\n",
       "    .dataframe tbody tr th {\n",
       "        vertical-align: top;\n",
       "    }\n",
       "\n",
       "    .dataframe thead th {\n",
       "        text-align: right;\n",
       "    }\n",
       "</style>\n",
       "<table border=\"1\" class=\"dataframe\">\n",
       "  <thead>\n",
       "    <tr style=\"text-align: right;\">\n",
       "      <th></th>\n",
       "      <th>geolocation_zip_code_prefix</th>\n",
       "      <th>geolocation_lat</th>\n",
       "      <th>geolocation_lng</th>\n",
       "      <th>geolocation_city</th>\n",
       "      <th>geolocation_state</th>\n",
       "    </tr>\n",
       "  </thead>\n",
       "  <tbody>\n",
       "    <tr>\n",
       "      <th>0</th>\n",
       "      <td>1001</td>\n",
       "      <td>-23.549292</td>\n",
       "      <td>-46.633559</td>\n",
       "      <td>sao paulo</td>\n",
       "      <td>SP</td>\n",
       "    </tr>\n",
       "    <tr>\n",
       "      <th>1</th>\n",
       "      <td>1002</td>\n",
       "      <td>-23.548318</td>\n",
       "      <td>-46.635421</td>\n",
       "      <td>sao paulo</td>\n",
       "      <td>SP</td>\n",
       "    </tr>\n",
       "    <tr>\n",
       "      <th>2</th>\n",
       "      <td>1003</td>\n",
       "      <td>-23.549032</td>\n",
       "      <td>-46.635313</td>\n",
       "      <td>sao paulo</td>\n",
       "      <td>SP</td>\n",
       "    </tr>\n",
       "    <tr>\n",
       "      <th>3</th>\n",
       "      <td>1004</td>\n",
       "      <td>-23.550116</td>\n",
       "      <td>-46.635122</td>\n",
       "      <td>sao paulo</td>\n",
       "      <td>SP</td>\n",
       "    </tr>\n",
       "    <tr>\n",
       "      <th>4</th>\n",
       "      <td>1005</td>\n",
       "      <td>-23.549819</td>\n",
       "      <td>-46.635606</td>\n",
       "      <td>sao paulo</td>\n",
       "      <td>SP</td>\n",
       "    </tr>\n",
       "    <tr>\n",
       "      <th>...</th>\n",
       "      <td>...</td>\n",
       "      <td>...</td>\n",
       "      <td>...</td>\n",
       "      <td>...</td>\n",
       "      <td>...</td>\n",
       "    </tr>\n",
       "    <tr>\n",
       "      <th>19010</th>\n",
       "      <td>99960</td>\n",
       "      <td>-27.953797</td>\n",
       "      <td>-52.029641</td>\n",
       "      <td>charrua</td>\n",
       "      <td>RS</td>\n",
       "    </tr>\n",
       "    <tr>\n",
       "      <th>19011</th>\n",
       "      <td>99965</td>\n",
       "      <td>-28.173892</td>\n",
       "      <td>-52.038447</td>\n",
       "      <td>agua santa</td>\n",
       "      <td>RS</td>\n",
       "    </tr>\n",
       "    <tr>\n",
       "      <th>19012</th>\n",
       "      <td>99970</td>\n",
       "      <td>-28.345143</td>\n",
       "      <td>-51.876926</td>\n",
       "      <td>ciriaco</td>\n",
       "      <td>RS</td>\n",
       "    </tr>\n",
       "    <tr>\n",
       "      <th>19013</th>\n",
       "      <td>99980</td>\n",
       "      <td>-28.389218</td>\n",
       "      <td>-51.846012</td>\n",
       "      <td>david canabarro</td>\n",
       "      <td>RS</td>\n",
       "    </tr>\n",
       "    <tr>\n",
       "      <th>19014</th>\n",
       "      <td>99990</td>\n",
       "      <td>-28.329718</td>\n",
       "      <td>-51.769615</td>\n",
       "      <td>muliterno</td>\n",
       "      <td>RS</td>\n",
       "    </tr>\n",
       "  </tbody>\n",
       "</table>\n",
       "<p>19015 rows × 5 columns</p>\n",
       "</div>"
      ],
      "text/plain": [
       "       geolocation_zip_code_prefix  geolocation_lat  geolocation_lng  \\\n",
       "0                             1001       -23.549292       -46.633559   \n",
       "1                             1002       -23.548318       -46.635421   \n",
       "2                             1003       -23.549032       -46.635313   \n",
       "3                             1004       -23.550116       -46.635122   \n",
       "4                             1005       -23.549819       -46.635606   \n",
       "...                            ...              ...              ...   \n",
       "19010                        99960       -27.953797       -52.029641   \n",
       "19011                        99965       -28.173892       -52.038447   \n",
       "19012                        99970       -28.345143       -51.876926   \n",
       "19013                        99980       -28.389218       -51.846012   \n",
       "19014                        99990       -28.329718       -51.769615   \n",
       "\n",
       "      geolocation_city geolocation_state  \n",
       "0            sao paulo                SP  \n",
       "1            sao paulo                SP  \n",
       "2            sao paulo                SP  \n",
       "3            sao paulo                SP  \n",
       "4            sao paulo                SP  \n",
       "...                ...               ...  \n",
       "19010          charrua                RS  \n",
       "19011       agua santa                RS  \n",
       "19012          ciriaco                RS  \n",
       "19013  david canabarro                RS  \n",
       "19014        muliterno                RS  \n",
       "\n",
       "[19015 rows x 5 columns]"
      ]
     },
     "execution_count": 35,
     "metadata": {},
     "output_type": "execute_result"
    }
   ],
   "source": [
    "# Select geo dataset\n",
    "# **** Since one zipcode can map to multiple [lat, lng], the first one is taken\n",
    "geo = data['geolocation'].groupby('geolocation_zip_code_prefix', as_index=False).first()\n",
    "geo"
   ]
  },
  {
   "cell_type": "code",
   "execution_count": 36,
   "id": "7be9bdff",
   "metadata": {},
   "outputs": [],
   "source": [
    "# Select sellers and customers\n",
    "sellers = data['sellers']\n",
    "customers = data['customers']"
   ]
  },
  {
   "cell_type": "code",
   "execution_count": 37,
   "id": "5e736aff",
   "metadata": {},
   "outputs": [
    {
     "data": {
      "text/html": [
       "<div>\n",
       "<style scoped>\n",
       "    .dataframe tbody tr th:only-of-type {\n",
       "        vertical-align: middle;\n",
       "    }\n",
       "\n",
       "    .dataframe tbody tr th {\n",
       "        vertical-align: top;\n",
       "    }\n",
       "\n",
       "    .dataframe thead th {\n",
       "        text-align: right;\n",
       "    }\n",
       "</style>\n",
       "<table border=\"1\" class=\"dataframe\">\n",
       "  <thead>\n",
       "    <tr style=\"text-align: right;\">\n",
       "      <th></th>\n",
       "      <th>seller_id</th>\n",
       "      <th>seller_zip_code_prefix</th>\n",
       "      <th>seller_city</th>\n",
       "      <th>seller_state</th>\n",
       "      <th>geolocation_lat</th>\n",
       "      <th>geolocation_lng</th>\n",
       "    </tr>\n",
       "  </thead>\n",
       "  <tbody>\n",
       "    <tr>\n",
       "      <th>0</th>\n",
       "      <td>3442f8959a84dea7ee197c632cb2df15</td>\n",
       "      <td>13023</td>\n",
       "      <td>campinas</td>\n",
       "      <td>SP</td>\n",
       "      <td>-22.898536</td>\n",
       "      <td>-47.063125</td>\n",
       "    </tr>\n",
       "    <tr>\n",
       "      <th>1</th>\n",
       "      <td>d1b65fc7debc3361ea86b5f14c68d2e2</td>\n",
       "      <td>13844</td>\n",
       "      <td>mogi guacu</td>\n",
       "      <td>SP</td>\n",
       "      <td>-22.382941</td>\n",
       "      <td>-46.946641</td>\n",
       "    </tr>\n",
       "  </tbody>\n",
       "</table>\n",
       "</div>"
      ],
      "text/plain": [
       "                          seller_id  seller_zip_code_prefix seller_city  \\\n",
       "0  3442f8959a84dea7ee197c632cb2df15                   13023    campinas   \n",
       "1  d1b65fc7debc3361ea86b5f14c68d2e2                   13844  mogi guacu   \n",
       "\n",
       "  seller_state  geolocation_lat  geolocation_lng  \n",
       "0           SP       -22.898536       -47.063125  \n",
       "1           SP       -22.382941       -46.946641  "
      ]
     },
     "execution_count": 37,
     "metadata": {},
     "output_type": "execute_result"
    }
   ],
   "source": [
    "# merge geo_location for sellers\n",
    "sellers_mask_columns = ['seller_id', 'seller_zip_code_prefix', 'seller_city', \n",
    "                        'seller_state', 'geolocation_lat', 'geolocation_lng']\n",
    "sellers_geo = sellers.merge(geo,\n",
    "                            how='left',\n",
    "                            left_on='seller_zip_code_prefix',\n",
    "                            right_on='geolocation_zip_code_prefix')[sellers_mask_columns]\n",
    "sellers_geo.head(2)"
   ]
  },
  {
   "cell_type": "code",
   "execution_count": 38,
   "id": "fa7a5cba",
   "metadata": {},
   "outputs": [
    {
     "data": {
      "text/html": [
       "<div>\n",
       "<style scoped>\n",
       "    .dataframe tbody tr th:only-of-type {\n",
       "        vertical-align: middle;\n",
       "    }\n",
       "\n",
       "    .dataframe tbody tr th {\n",
       "        vertical-align: top;\n",
       "    }\n",
       "\n",
       "    .dataframe thead th {\n",
       "        text-align: right;\n",
       "    }\n",
       "</style>\n",
       "<table border=\"1\" class=\"dataframe\">\n",
       "  <thead>\n",
       "    <tr style=\"text-align: right;\">\n",
       "      <th></th>\n",
       "      <th>customer_id</th>\n",
       "      <th>customer_zip_code_prefix</th>\n",
       "      <th>customer_city</th>\n",
       "      <th>customer_state</th>\n",
       "      <th>geolocation_lat</th>\n",
       "      <th>geolocation_lng</th>\n",
       "    </tr>\n",
       "  </thead>\n",
       "  <tbody>\n",
       "    <tr>\n",
       "      <th>0</th>\n",
       "      <td>06b8999e2fba1a1fbc88172c00ba8bc7</td>\n",
       "      <td>14409</td>\n",
       "      <td>franca</td>\n",
       "      <td>SP</td>\n",
       "      <td>-20.509897</td>\n",
       "      <td>-47.397866</td>\n",
       "    </tr>\n",
       "    <tr>\n",
       "      <th>1</th>\n",
       "      <td>18955e83d337fd6b2def6b18a428ac77</td>\n",
       "      <td>9790</td>\n",
       "      <td>sao bernardo do campo</td>\n",
       "      <td>SP</td>\n",
       "      <td>-23.726853</td>\n",
       "      <td>-46.545746</td>\n",
       "    </tr>\n",
       "  </tbody>\n",
       "</table>\n",
       "</div>"
      ],
      "text/plain": [
       "                        customer_id  customer_zip_code_prefix  \\\n",
       "0  06b8999e2fba1a1fbc88172c00ba8bc7                     14409   \n",
       "1  18955e83d337fd6b2def6b18a428ac77                      9790   \n",
       "\n",
       "           customer_city customer_state  geolocation_lat  geolocation_lng  \n",
       "0                 franca             SP       -20.509897       -47.397866  \n",
       "1  sao bernardo do campo             SP       -23.726853       -46.545746  "
      ]
     },
     "execution_count": 38,
     "metadata": {},
     "output_type": "execute_result"
    }
   ],
   "source": [
    "#merge geo_location for customers\n",
    "customers_mask_columns = ['customer_id', 'customer_zip_code_prefix', 'customer_city', \n",
    "                          'customer_state', 'geolocation_lat', 'geolocation_lng']\n",
    "customers_geo = customers.merge(geo,\n",
    "                            how='left',\n",
    "                            left_on='customer_zip_code_prefix',\n",
    "                            right_on='geolocation_zip_code_prefix')[customers_mask_columns]\n",
    "customers_geo.head(2)"
   ]
  },
  {
   "cell_type": "code",
   "execution_count": 39,
   "id": "2eef44bc",
   "metadata": {},
   "outputs": [
    {
     "data": {
      "text/html": [
       "<div>\n",
       "<style scoped>\n",
       "    .dataframe tbody tr th:only-of-type {\n",
       "        vertical-align: middle;\n",
       "    }\n",
       "\n",
       "    .dataframe tbody tr th {\n",
       "        vertical-align: top;\n",
       "    }\n",
       "\n",
       "    .dataframe thead th {\n",
       "        text-align: right;\n",
       "    }\n",
       "</style>\n",
       "<table border=\"1\" class=\"dataframe\">\n",
       "  <thead>\n",
       "    <tr style=\"text-align: right;\">\n",
       "      <th></th>\n",
       "      <th>customer_id</th>\n",
       "      <th>order_id</th>\n",
       "      <th>review_id</th>\n",
       "      <th>product_id</th>\n",
       "      <th>seller_id</th>\n",
       "    </tr>\n",
       "  </thead>\n",
       "  <tbody>\n",
       "    <tr>\n",
       "      <th>0</th>\n",
       "      <td>9ef432eb6251297304e76186b10a928d</td>\n",
       "      <td>e481f51cbdc54678b7cc49136f2d6af7</td>\n",
       "      <td>a54f0611adc9ed256b57ede6b6eb5114</td>\n",
       "      <td>87285b34884572647811a353c7ac498a</td>\n",
       "      <td>3504c0cb71d7fa48d967e0e4c94d59d9</td>\n",
       "    </tr>\n",
       "    <tr>\n",
       "      <th>1</th>\n",
       "      <td>b0830fb4747a6c6d20dea0b8c802d7ef</td>\n",
       "      <td>53cdb2fc8bc7dce0b6741e2150273451</td>\n",
       "      <td>8d5266042046a06655c8db133d120ba5</td>\n",
       "      <td>595fac2a385ac33a80bd5114aec74eb8</td>\n",
       "      <td>289cdb325fb7e7f891c38608bf9e0962</td>\n",
       "    </tr>\n",
       "  </tbody>\n",
       "</table>\n",
       "</div>"
      ],
      "text/plain": [
       "                        customer_id                          order_id  \\\n",
       "0  9ef432eb6251297304e76186b10a928d  e481f51cbdc54678b7cc49136f2d6af7   \n",
       "1  b0830fb4747a6c6d20dea0b8c802d7ef  53cdb2fc8bc7dce0b6741e2150273451   \n",
       "\n",
       "                          review_id                        product_id  \\\n",
       "0  a54f0611adc9ed256b57ede6b6eb5114  87285b34884572647811a353c7ac498a   \n",
       "1  8d5266042046a06655c8db133d120ba5  595fac2a385ac33a80bd5114aec74eb8   \n",
       "\n",
       "                          seller_id  \n",
       "0  3504c0cb71d7fa48d967e0e4c94d59d9  \n",
       "1  289cdb325fb7e7f891c38608bf9e0962  "
      ]
     },
     "execution_count": 39,
     "metadata": {},
     "output_type": "execute_result"
    }
   ],
   "source": [
    "# using matching table to merge customers and sellers\n",
    "matching_geo = matching_table\\\n",
    "    .merge(sellers_geo, on='seller_id')\\\n",
    "    .merge(customers_geo, on='customer_id', suffixes=('_seller','_customer'))\n",
    "matching_table.head(2)"
   ]
  },
  {
   "cell_type": "code",
   "execution_count": 40,
   "id": "071f4bf0",
   "metadata": {},
   "outputs": [],
   "source": [
    "matching_geo = matching_geo.dropna()"
   ]
  },
  {
   "cell_type": "code",
   "execution_count": 41,
   "id": "8286d1b1",
   "metadata": {},
   "outputs": [
    {
     "name": "stdout",
     "output_type": "stream",
     "text": [
      "\n",
      "    Compute distance between two pairs of (lat, lng)\n",
      "    See - (https://en.wikipedia.org/wiki/Haversine_formula)\n",
      "    \n"
     ]
    }
   ],
   "source": [
    "# Add the distance between seller and customers using the utils function\n",
    "from olistdash.utils import haversine_distance\n",
    "print(haversine_distance.__doc__)"
   ]
  },
  {
   "cell_type": "code",
   "execution_count": 42,
   "id": "4374af5d",
   "metadata": {},
   "outputs": [],
   "source": [
    "matching_geo[\"distance_seller_customer\"] = matching_geo.apply(\n",
    "    lambda row: haversine_distance(\n",
    "        row[\"geolocation_lng_seller\"],\n",
    "        row[\"geolocation_lat_seller\"],\n",
    "        row[\"geolocation_lng_customer\"],\n",
    "        row[\"geolocation_lat_customer\"],\n",
    "    ),\n",
    "    axis=1,\n",
    ")"
   ]
  },
  {
   "cell_type": "code",
   "execution_count": 43,
   "id": "e31634b5",
   "metadata": {},
   "outputs": [
    {
     "name": "stdout",
     "output_type": "stream",
     "text": [
      "<class 'pandas.core.frame.DataFrame'>\n",
      "Int64Index: 112759 entries, 0 to 113321\n",
      "Data columns (total 16 columns):\n",
      " #   Column                    Non-Null Count   Dtype  \n",
      "---  ------                    --------------   -----  \n",
      " 0   customer_id               112759 non-null  object \n",
      " 1   order_id                  112759 non-null  object \n",
      " 2   review_id                 112759 non-null  object \n",
      " 3   product_id                112759 non-null  object \n",
      " 4   seller_id                 112759 non-null  object \n",
      " 5   seller_zip_code_prefix    112759 non-null  int64  \n",
      " 6   seller_city               112759 non-null  object \n",
      " 7   seller_state              112759 non-null  object \n",
      " 8   geolocation_lat_seller    112759 non-null  float64\n",
      " 9   geolocation_lng_seller    112759 non-null  float64\n",
      " 10  customer_zip_code_prefix  112759 non-null  int64  \n",
      " 11  customer_city             112759 non-null  object \n",
      " 12  customer_state            112759 non-null  object \n",
      " 13  geolocation_lat_customer  112759 non-null  float64\n",
      " 14  geolocation_lng_customer  112759 non-null  float64\n",
      " 15  distance_seller_customer  112759 non-null  float64\n",
      "dtypes: float64(5), int64(2), object(9)\n",
      "memory usage: 14.6+ MB\n"
     ]
    }
   ],
   "source": [
    "matching_geo.info()"
   ]
  },
  {
   "cell_type": "code",
   "execution_count": 44,
   "id": "d7947237",
   "metadata": {},
   "outputs": [
    {
     "data": {
      "text/html": [
       "<div>\n",
       "<style scoped>\n",
       "    .dataframe tbody tr th:only-of-type {\n",
       "        vertical-align: middle;\n",
       "    }\n",
       "\n",
       "    .dataframe tbody tr th {\n",
       "        vertical-align: top;\n",
       "    }\n",
       "\n",
       "    .dataframe thead th {\n",
       "        text-align: right;\n",
       "    }\n",
       "</style>\n",
       "<table border=\"1\" class=\"dataframe\">\n",
       "  <thead>\n",
       "    <tr style=\"text-align: right;\">\n",
       "      <th></th>\n",
       "      <th>seller_city</th>\n",
       "      <th>customer_city</th>\n",
       "      <th>distance_seller_customer</th>\n",
       "    </tr>\n",
       "  </thead>\n",
       "  <tbody>\n",
       "    <tr>\n",
       "      <th>70424</th>\n",
       "      <td>sao paulo</td>\n",
       "      <td>lagoa salgada</td>\n",
       "      <td>2269.479515</td>\n",
       "    </tr>\n",
       "    <tr>\n",
       "      <th>64806</th>\n",
       "      <td>borda da mata</td>\n",
       "      <td>uberlandia</td>\n",
       "      <td>432.781363</td>\n",
       "    </tr>\n",
       "    <tr>\n",
       "      <th>481</th>\n",
       "      <td>guariba</td>\n",
       "      <td>brasilia</td>\n",
       "      <td>615.237194</td>\n",
       "    </tr>\n",
       "  </tbody>\n",
       "</table>\n",
       "</div>"
      ],
      "text/plain": [
       "         seller_city  customer_city  distance_seller_customer\n",
       "70424      sao paulo  lagoa salgada               2269.479515\n",
       "64806  borda da mata     uberlandia                432.781363\n",
       "481          guariba       brasilia                615.237194"
      ]
     },
     "execution_count": 44,
     "metadata": {},
     "output_type": "execute_result"
    }
   ],
   "source": [
    "# checking on three orders\n",
    "matching_geo.sample(3)[['seller_city', \n",
    "                        'customer_city', \n",
    "                        'distance_seller_customer']]"
   ]
  },
  {
   "cell_type": "code",
   "execution_count": 45,
   "id": "f8dfa0f0",
   "metadata": {},
   "outputs": [
    {
     "data": {
      "text/plain": [
       "<AxesSubplot:xlabel='distance_seller_customer', ylabel='Count'>"
      ]
     },
     "execution_count": 45,
     "metadata": {},
     "output_type": "execute_result"
    },
    {
     "data": {
      "image/png": "[encoded data removed]",
      "text/plain": [
       "<Figure size 432x288 with 1 Axes>"
      ]
     },
     "metadata": {
      "needs_background": "light"
     },
     "output_type": "display_data"
    }
   ],
   "source": [
    "sns.histplot(matching_geo['distance_seller_customer'])"
   ]
  },
  {
   "cell_type": "code",
   "execution_count": 46,
   "id": "66db2f08",
   "metadata": {},
   "outputs": [
    {
     "data": {
      "text/plain": [
       "count    112759.000000\n",
       "mean        597.030407\n",
       "std         591.324341\n",
       "min           0.000000\n",
       "25%         183.920323\n",
       "50%         431.879669\n",
       "75%         791.814412\n",
       "max        8736.947618\n",
       "Name: distance_seller_customer, dtype: float64"
      ]
     },
     "execution_count": 46,
     "metadata": {},
     "output_type": "execute_result"
    }
   ],
   "source": [
    "# Checking median distance\n",
    "matching_geo['distance_seller_customer'].describe()"
   ]
  },
  {
   "cell_type": "code",
   "execution_count": 47,
   "id": "2aa91fe5",
   "metadata": {},
   "outputs": [
    {
     "data": {
      "text/html": [
       "<div>\n",
       "<style scoped>\n",
       "    .dataframe tbody tr th:only-of-type {\n",
       "        vertical-align: middle;\n",
       "    }\n",
       "\n",
       "    .dataframe tbody tr th {\n",
       "        vertical-align: top;\n",
       "    }\n",
       "\n",
       "    .dataframe thead th {\n",
       "        text-align: right;\n",
       "    }\n",
       "</style>\n",
       "<table border=\"1\" class=\"dataframe\">\n",
       "  <thead>\n",
       "    <tr style=\"text-align: right;\">\n",
       "      <th></th>\n",
       "      <th>order_id</th>\n",
       "      <th>distance_seller_customer</th>\n",
       "    </tr>\n",
       "  </thead>\n",
       "  <tbody>\n",
       "    <tr>\n",
       "      <th>0</th>\n",
       "      <td>00010242fe8c5a6d1ba2dd792cb16214</td>\n",
       "      <td>301.005664</td>\n",
       "    </tr>\n",
       "    <tr>\n",
       "      <th>1</th>\n",
       "      <td>00018f77f2f0320c557190d7a144bdd3</td>\n",
       "      <td>589.274140</td>\n",
       "    </tr>\n",
       "    <tr>\n",
       "      <th>2</th>\n",
       "      <td>000229ec398224ef6ca0657da4fc703e</td>\n",
       "      <td>312.495046</td>\n",
       "    </tr>\n",
       "    <tr>\n",
       "      <th>3</th>\n",
       "      <td>00024acbcdf0a6daa1e931b038114c75</td>\n",
       "      <td>301.951753</td>\n",
       "    </tr>\n",
       "    <tr>\n",
       "      <th>4</th>\n",
       "      <td>00042b26cf59d7ce69dfabb4e55b4fd9</td>\n",
       "      <td>646.221788</td>\n",
       "    </tr>\n",
       "    <tr>\n",
       "      <th>...</th>\n",
       "      <td>...</td>\n",
       "      <td>...</td>\n",
       "    </tr>\n",
       "    <tr>\n",
       "      <th>98172</th>\n",
       "      <td>fffc94f6ce00a00581880bf54a75a037</td>\n",
       "      <td>2755.314485</td>\n",
       "    </tr>\n",
       "    <tr>\n",
       "      <th>98173</th>\n",
       "      <td>fffcd46ef2263f404302a634eb57f7eb</td>\n",
       "      <td>354.848852</td>\n",
       "    </tr>\n",
       "    <tr>\n",
       "      <th>98174</th>\n",
       "      <td>fffce4705a9662cd70adb13d4a31832d</td>\n",
       "      <td>338.827218</td>\n",
       "    </tr>\n",
       "    <tr>\n",
       "      <th>98175</th>\n",
       "      <td>fffe18544ffabc95dfada21779c9644f</td>\n",
       "      <td>72.870476</td>\n",
       "    </tr>\n",
       "    <tr>\n",
       "      <th>98176</th>\n",
       "      <td>fffe41c64501cc87c801fd61db3f6244</td>\n",
       "      <td>133.230980</td>\n",
       "    </tr>\n",
       "  </tbody>\n",
       "</table>\n",
       "<p>98177 rows × 2 columns</p>\n",
       "</div>"
      ],
      "text/plain": [
       "                               order_id  distance_seller_customer\n",
       "0      00010242fe8c5a6d1ba2dd792cb16214                301.005664\n",
       "1      00018f77f2f0320c557190d7a144bdd3                589.274140\n",
       "2      000229ec398224ef6ca0657da4fc703e                312.495046\n",
       "3      00024acbcdf0a6daa1e931b038114c75                301.951753\n",
       "4      00042b26cf59d7ce69dfabb4e55b4fd9                646.221788\n",
       "...                                 ...                       ...\n",
       "98172  fffc94f6ce00a00581880bf54a75a037               2755.314485\n",
       "98173  fffcd46ef2263f404302a634eb57f7eb                354.848852\n",
       "98174  fffce4705a9662cd70adb13d4a31832d                338.827218\n",
       "98175  fffe18544ffabc95dfada21779c9644f                 72.870476\n",
       "98176  fffe41c64501cc87c801fd61db3f6244                133.230980\n",
       "\n",
       "[98177 rows x 2 columns]"
      ]
     },
     "execution_count": 47,
     "metadata": {},
     "output_type": "execute_result"
    }
   ],
   "source": [
    "# Since an order can have multiple sellers, return the average distance per order\n",
    "mean_order_distance = matching_geo.groupby(\"order_id\", as_index=False).agg(\n",
    "    {\"distance_seller_customer\": \"mean\"}\n",
    ")\n",
    "mean_order_distance"
   ]
  },
  {
   "cell_type": "code",
   "execution_count": 48,
   "id": "f305834a",
   "metadata": {},
   "outputs": [
    {
     "data": {
      "text/html": [
       "<div>\n",
       "<style scoped>\n",
       "    .dataframe tbody tr th:only-of-type {\n",
       "        vertical-align: middle;\n",
       "    }\n",
       "\n",
       "    .dataframe tbody tr th {\n",
       "        vertical-align: top;\n",
       "    }\n",
       "\n",
       "    .dataframe thead th {\n",
       "        text-align: right;\n",
       "    }\n",
       "</style>\n",
       "<table border=\"1\" class=\"dataframe\">\n",
       "  <thead>\n",
       "    <tr style=\"text-align: right;\">\n",
       "      <th></th>\n",
       "      <th>distance_seller_customer</th>\n",
       "    </tr>\n",
       "  </thead>\n",
       "  <tbody>\n",
       "    <tr>\n",
       "      <th>count</th>\n",
       "      <td>98177.000000</td>\n",
       "    </tr>\n",
       "    <tr>\n",
       "      <th>mean</th>\n",
       "      <td>601.961534</td>\n",
       "    </tr>\n",
       "    <tr>\n",
       "      <th>std</th>\n",
       "      <td>596.877838</td>\n",
       "    </tr>\n",
       "    <tr>\n",
       "      <th>min</th>\n",
       "      <td>0.000000</td>\n",
       "    </tr>\n",
       "    <tr>\n",
       "      <th>25%</th>\n",
       "      <td>186.380313</td>\n",
       "    </tr>\n",
       "    <tr>\n",
       "      <th>50%</th>\n",
       "      <td>433.698770</td>\n",
       "    </tr>\n",
       "    <tr>\n",
       "      <th>75%</th>\n",
       "      <td>798.435455</td>\n",
       "    </tr>\n",
       "    <tr>\n",
       "      <th>max</th>\n",
       "      <td>8736.947618</td>\n",
       "    </tr>\n",
       "  </tbody>\n",
       "</table>\n",
       "</div>"
      ],
      "text/plain": [
       "       distance_seller_customer\n",
       "count              98177.000000\n",
       "mean                 601.961534\n",
       "std                  596.877838\n",
       "min                    0.000000\n",
       "25%                  186.380313\n",
       "50%                  433.698770\n",
       "75%                  798.435455\n",
       "max                 8736.947618"
      ]
     },
     "execution_count": 48,
     "metadata": {},
     "output_type": "execute_result"
    }
   ],
   "source": [
    "mean_order_distance.describe()"
   ]
  },
  {
   "cell_type": "markdown",
   "id": "5b39e191",
   "metadata": {},
   "source": [
    "#### Implement logic in `order.py`"
   ]
  },
  {
   "cell_type": "code",
   "execution_count": 49,
   "id": "52c8a75d",
   "metadata": {},
   "outputs": [
    {
     "data": {
      "text/html": [
       "<div>\n",
       "<style scoped>\n",
       "    .dataframe tbody tr th:only-of-type {\n",
       "        vertical-align: middle;\n",
       "    }\n",
       "\n",
       "    .dataframe tbody tr th {\n",
       "        vertical-align: top;\n",
       "    }\n",
       "\n",
       "    .dataframe thead th {\n",
       "        text-align: right;\n",
       "    }\n",
       "</style>\n",
       "<table border=\"1\" class=\"dataframe\">\n",
       "  <thead>\n",
       "    <tr style=\"text-align: right;\">\n",
       "      <th></th>\n",
       "      <th>order_id</th>\n",
       "      <th>distance_seller_customer</th>\n",
       "    </tr>\n",
       "  </thead>\n",
       "  <tbody>\n",
       "    <tr>\n",
       "      <th>0</th>\n",
       "      <td>00010242fe8c5a6d1ba2dd792cb16214</td>\n",
       "      <td>301.005664</td>\n",
       "    </tr>\n",
       "    <tr>\n",
       "      <th>1</th>\n",
       "      <td>00018f77f2f0320c557190d7a144bdd3</td>\n",
       "      <td>589.274140</td>\n",
       "    </tr>\n",
       "    <tr>\n",
       "      <th>2</th>\n",
       "      <td>000229ec398224ef6ca0657da4fc703e</td>\n",
       "      <td>312.495046</td>\n",
       "    </tr>\n",
       "    <tr>\n",
       "      <th>3</th>\n",
       "      <td>00024acbcdf0a6daa1e931b038114c75</td>\n",
       "      <td>301.951753</td>\n",
       "    </tr>\n",
       "    <tr>\n",
       "      <th>4</th>\n",
       "      <td>00042b26cf59d7ce69dfabb4e55b4fd9</td>\n",
       "      <td>646.221788</td>\n",
       "    </tr>\n",
       "    <tr>\n",
       "      <th>...</th>\n",
       "      <td>...</td>\n",
       "      <td>...</td>\n",
       "    </tr>\n",
       "    <tr>\n",
       "      <th>98172</th>\n",
       "      <td>fffc94f6ce00a00581880bf54a75a037</td>\n",
       "      <td>2755.314485</td>\n",
       "    </tr>\n",
       "    <tr>\n",
       "      <th>98173</th>\n",
       "      <td>fffcd46ef2263f404302a634eb57f7eb</td>\n",
       "      <td>354.848852</td>\n",
       "    </tr>\n",
       "    <tr>\n",
       "      <th>98174</th>\n",
       "      <td>fffce4705a9662cd70adb13d4a31832d</td>\n",
       "      <td>338.827218</td>\n",
       "    </tr>\n",
       "    <tr>\n",
       "      <th>98175</th>\n",
       "      <td>fffe18544ffabc95dfada21779c9644f</td>\n",
       "      <td>72.870476</td>\n",
       "    </tr>\n",
       "    <tr>\n",
       "      <th>98176</th>\n",
       "      <td>fffe41c64501cc87c801fd61db3f6244</td>\n",
       "      <td>133.230980</td>\n",
       "    </tr>\n",
       "  </tbody>\n",
       "</table>\n",
       "<p>98177 rows × 2 columns</p>\n",
       "</div>"
      ],
      "text/plain": [
       "                               order_id  distance_seller_customer\n",
       "0      00010242fe8c5a6d1ba2dd792cb16214                301.005664\n",
       "1      00018f77f2f0320c557190d7a144bdd3                589.274140\n",
       "2      000229ec398224ef6ca0657da4fc703e                312.495046\n",
       "3      00024acbcdf0a6daa1e931b038114c75                301.951753\n",
       "4      00042b26cf59d7ce69dfabb4e55b4fd9                646.221788\n",
       "...                                 ...                       ...\n",
       "98172  fffc94f6ce00a00581880bf54a75a037               2755.314485\n",
       "98173  fffcd46ef2263f404302a634eb57f7eb                354.848852\n",
       "98174  fffce4705a9662cd70adb13d4a31832d                338.827218\n",
       "98175  fffe18544ffabc95dfada21779c9644f                 72.870476\n",
       "98176  fffe41c64501cc87c801fd61db3f6244                133.230980\n",
       "\n",
       "[98177 rows x 2 columns]"
      ]
     },
     "execution_count": 49,
     "metadata": {},
     "output_type": "execute_result"
    }
   ],
   "source": [
    "# Checking\n",
    "Order().get_distance_seller_customer()"
   ]
  },
  {
   "cell_type": "markdown",
   "id": "a50859bf",
   "metadata": {},
   "source": [
    "## get_training_data()"
   ]
  },
  {
   "cell_type": "markdown",
   "id": "edc9637d",
   "metadata": {},
   "source": [
    "### Implement get_training_data() in `orders.py`"
   ]
  },
  {
   "cell_type": "code",
   "execution_count": 52,
   "id": "575ac060",
   "metadata": {},
   "outputs": [
    {
     "data": {
      "text/html": [
       "<div>\n",
       "<style scoped>\n",
       "    .dataframe tbody tr th:only-of-type {\n",
       "        vertical-align: middle;\n",
       "    }\n",
       "\n",
       "    .dataframe tbody tr th {\n",
       "        vertical-align: top;\n",
       "    }\n",
       "\n",
       "    .dataframe thead th {\n",
       "        text-align: right;\n",
       "    }\n",
       "</style>\n",
       "<table border=\"1\" class=\"dataframe\">\n",
       "  <thead>\n",
       "    <tr style=\"text-align: right;\">\n",
       "      <th></th>\n",
       "      <th>order_id</th>\n",
       "      <th>wait_time</th>\n",
       "      <th>expected_wait_time</th>\n",
       "      <th>delay_vs_expected</th>\n",
       "      <th>order_status</th>\n",
       "      <th>dim_is_five_star</th>\n",
       "      <th>dim_is_one_star</th>\n",
       "      <th>review_score</th>\n",
       "      <th>number_of_products</th>\n",
       "      <th>number_of_sellers</th>\n",
       "      <th>price</th>\n",
       "      <th>freight_value</th>\n",
       "    </tr>\n",
       "  </thead>\n",
       "  <tbody>\n",
       "    <tr>\n",
       "      <th>0</th>\n",
       "      <td>e481f51cbdc54678b7cc49136f2d6af7</td>\n",
       "      <td>8.436574</td>\n",
       "      <td>15.544063</td>\n",
       "      <td>0.0</td>\n",
       "      <td>delivered</td>\n",
       "      <td>0</td>\n",
       "      <td>0</td>\n",
       "      <td>4</td>\n",
       "      <td>1</td>\n",
       "      <td>1</td>\n",
       "      <td>29.99</td>\n",
       "      <td>8.72</td>\n",
       "    </tr>\n",
       "    <tr>\n",
       "      <th>1</th>\n",
       "      <td>53cdb2fc8bc7dce0b6741e2150273451</td>\n",
       "      <td>13.782037</td>\n",
       "      <td>19.137766</td>\n",
       "      <td>0.0</td>\n",
       "      <td>delivered</td>\n",
       "      <td>0</td>\n",
       "      <td>0</td>\n",
       "      <td>4</td>\n",
       "      <td>1</td>\n",
       "      <td>1</td>\n",
       "      <td>118.70</td>\n",
       "      <td>22.76</td>\n",
       "    </tr>\n",
       "    <tr>\n",
       "      <th>2</th>\n",
       "      <td>47770eb9100c2d0c44946d9cf07ec65d</td>\n",
       "      <td>9.394213</td>\n",
       "      <td>26.639711</td>\n",
       "      <td>0.0</td>\n",
       "      <td>delivered</td>\n",
       "      <td>1</td>\n",
       "      <td>0</td>\n",
       "      <td>5</td>\n",
       "      <td>1</td>\n",
       "      <td>1</td>\n",
       "      <td>159.90</td>\n",
       "      <td>19.22</td>\n",
       "    </tr>\n",
       "    <tr>\n",
       "      <th>3</th>\n",
       "      <td>949d5b44dbf5de918fe9c16f97b45f8a</td>\n",
       "      <td>13.208750</td>\n",
       "      <td>26.188819</td>\n",
       "      <td>0.0</td>\n",
       "      <td>delivered</td>\n",
       "      <td>1</td>\n",
       "      <td>0</td>\n",
       "      <td>5</td>\n",
       "      <td>1</td>\n",
       "      <td>1</td>\n",
       "      <td>45.00</td>\n",
       "      <td>27.20</td>\n",
       "    </tr>\n",
       "    <tr>\n",
       "      <th>4</th>\n",
       "      <td>ad21c59c0840e6cb83a9ceb5573f8159</td>\n",
       "      <td>2.873877</td>\n",
       "      <td>12.112049</td>\n",
       "      <td>0.0</td>\n",
       "      <td>delivered</td>\n",
       "      <td>1</td>\n",
       "      <td>0</td>\n",
       "      <td>5</td>\n",
       "      <td>1</td>\n",
       "      <td>1</td>\n",
       "      <td>19.90</td>\n",
       "      <td>8.72</td>\n",
       "    </tr>\n",
       "    <tr>\n",
       "      <th>...</th>\n",
       "      <td>...</td>\n",
       "      <td>...</td>\n",
       "      <td>...</td>\n",
       "      <td>...</td>\n",
       "      <td>...</td>\n",
       "      <td>...</td>\n",
       "      <td>...</td>\n",
       "      <td>...</td>\n",
       "      <td>...</td>\n",
       "      <td>...</td>\n",
       "      <td>...</td>\n",
       "      <td>...</td>\n",
       "    </tr>\n",
       "    <tr>\n",
       "      <th>97010</th>\n",
       "      <td>9c5dedf39a927c1b2549525ed64a053c</td>\n",
       "      <td>8.218009</td>\n",
       "      <td>18.587442</td>\n",
       "      <td>0.0</td>\n",
       "      <td>delivered</td>\n",
       "      <td>1</td>\n",
       "      <td>0</td>\n",
       "      <td>5</td>\n",
       "      <td>1</td>\n",
       "      <td>1</td>\n",
       "      <td>72.00</td>\n",
       "      <td>13.08</td>\n",
       "    </tr>\n",
       "    <tr>\n",
       "      <th>97011</th>\n",
       "      <td>63943bddc261676b46f01ca7ac2f7bd8</td>\n",
       "      <td>22.193727</td>\n",
       "      <td>23.459051</td>\n",
       "      <td>0.0</td>\n",
       "      <td>delivered</td>\n",
       "      <td>0</td>\n",
       "      <td>0</td>\n",
       "      <td>4</td>\n",
       "      <td>1</td>\n",
       "      <td>1</td>\n",
       "      <td>174.90</td>\n",
       "      <td>20.10</td>\n",
       "    </tr>\n",
       "    <tr>\n",
       "      <th>97012</th>\n",
       "      <td>83c1379a015df1e13d02aae0204711ab</td>\n",
       "      <td>24.859421</td>\n",
       "      <td>30.384225</td>\n",
       "      <td>0.0</td>\n",
       "      <td>delivered</td>\n",
       "      <td>1</td>\n",
       "      <td>0</td>\n",
       "      <td>5</td>\n",
       "      <td>1</td>\n",
       "      <td>1</td>\n",
       "      <td>205.99</td>\n",
       "      <td>65.02</td>\n",
       "    </tr>\n",
       "    <tr>\n",
       "      <th>97013</th>\n",
       "      <td>11c177c8e97725db2631073c19f07b62</td>\n",
       "      <td>17.086424</td>\n",
       "      <td>37.105243</td>\n",
       "      <td>0.0</td>\n",
       "      <td>delivered</td>\n",
       "      <td>0</td>\n",
       "      <td>0</td>\n",
       "      <td>2</td>\n",
       "      <td>2</td>\n",
       "      <td>1</td>\n",
       "      <td>359.98</td>\n",
       "      <td>81.18</td>\n",
       "    </tr>\n",
       "    <tr>\n",
       "      <th>97014</th>\n",
       "      <td>66dea50a8b16d9b4dee7af250b4be1a5</td>\n",
       "      <td>7.674306</td>\n",
       "      <td>25.126736</td>\n",
       "      <td>0.0</td>\n",
       "      <td>delivered</td>\n",
       "      <td>1</td>\n",
       "      <td>0</td>\n",
       "      <td>5</td>\n",
       "      <td>1</td>\n",
       "      <td>1</td>\n",
       "      <td>68.50</td>\n",
       "      <td>18.36</td>\n",
       "    </tr>\n",
       "  </tbody>\n",
       "</table>\n",
       "<p>97007 rows × 12 columns</p>\n",
       "</div>"
      ],
      "text/plain": [
       "                               order_id  wait_time  expected_wait_time  \\\n",
       "0      e481f51cbdc54678b7cc49136f2d6af7   8.436574           15.544063   \n",
       "1      53cdb2fc8bc7dce0b6741e2150273451  13.782037           19.137766   \n",
       "2      47770eb9100c2d0c44946d9cf07ec65d   9.394213           26.639711   \n",
       "3      949d5b44dbf5de918fe9c16f97b45f8a  13.208750           26.188819   \n",
       "4      ad21c59c0840e6cb83a9ceb5573f8159   2.873877           12.112049   \n",
       "...                                 ...        ...                 ...   \n",
       "97010  9c5dedf39a927c1b2549525ed64a053c   8.218009           18.587442   \n",
       "97011  63943bddc261676b46f01ca7ac2f7bd8  22.193727           23.459051   \n",
       "97012  83c1379a015df1e13d02aae0204711ab  24.859421           30.384225   \n",
       "97013  11c177c8e97725db2631073c19f07b62  17.086424           37.105243   \n",
       "97014  66dea50a8b16d9b4dee7af250b4be1a5   7.674306           25.126736   \n",
       "\n",
       "       delay_vs_expected order_status  dim_is_five_star  dim_is_one_star  \\\n",
       "0                    0.0    delivered                 0                0   \n",
       "1                    0.0    delivered                 0                0   \n",
       "2                    0.0    delivered                 1                0   \n",
       "3                    0.0    delivered                 1                0   \n",
       "4                    0.0    delivered                 1                0   \n",
       "...                  ...          ...               ...              ...   \n",
       "97010                0.0    delivered                 1                0   \n",
       "97011                0.0    delivered                 0                0   \n",
       "97012                0.0    delivered                 1                0   \n",
       "97013                0.0    delivered                 0                0   \n",
       "97014                0.0    delivered                 1                0   \n",
       "\n",
       "       review_score  number_of_products  number_of_sellers   price  \\\n",
       "0                 4                   1                  1   29.99   \n",
       "1                 4                   1                  1  118.70   \n",
       "2                 5                   1                  1  159.90   \n",
       "3                 5                   1                  1   45.00   \n",
       "4                 5                   1                  1   19.90   \n",
       "...             ...                 ...                ...     ...   \n",
       "97010             5                   1                  1   72.00   \n",
       "97011             4                   1                  1  174.90   \n",
       "97012             5                   1                  1  205.99   \n",
       "97013             2                   2                  1  359.98   \n",
       "97014             5                   1                  1   68.50   \n",
       "\n",
       "       freight_value  \n",
       "0               8.72  \n",
       "1              22.76  \n",
       "2              19.22  \n",
       "3              27.20  \n",
       "4               8.72  \n",
       "...              ...  \n",
       "97010          13.08  \n",
       "97011          20.10  \n",
       "97012          65.02  \n",
       "97013          81.18  \n",
       "97014          18.36  \n",
       "\n",
       "[97007 rows x 12 columns]"
      ]
     },
     "execution_count": 52,
     "metadata": {},
     "output_type": "execute_result"
    }
   ],
   "source": [
    "# Test function\n",
    "from olistdash.order import Order\n",
    "Order().get_training_data()"
   ]
  },
  {
   "cell_type": "markdown",
   "id": "07458e5c",
   "metadata": {},
   "source": [
    "# END OF THIS NOTEBOOK"
   ]
  }
 ],
 "metadata": {
  "interpreter": {
   "hash": "b8a82e7080485e78fcfa83fef03810cd92165d97a6ff1e2c5804f0b7673e7209"
  },
  "kernelspec": {
   "display_name": "Python 3",
   "language": "python",
   "name": "python3"
  },
  "language_info": {
   "codemirror_mode": {
    "name": "ipython",
    "version": 3
   },
   "file_extension": ".py",
   "mimetype": "text/x-python",
   "name": "python",
   "nbconvert_exporter": "python",
   "pygments_lexer": "ipython3",
   "version": "3.8.6"
  }
 },
 "nbformat": 4,
 "nbformat_minor": 5
}
