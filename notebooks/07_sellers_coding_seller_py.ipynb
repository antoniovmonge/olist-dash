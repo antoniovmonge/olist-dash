{
 "cells": [
  {
   "cell_type": "code",
   "execution_count": 2,
   "metadata": {},
   "outputs": [],
   "source": [
    "%load_ext autoreload\n",
    "%autoreload 2\n",
    "\n",
    "import pandas as pd\n",
    "import numpy as np \n",
    "import matplotlib.pyplot as plt\n",
    "import seaborn as sns\n",
    "import statsmodels.formula.api as smf"
   ]
  },
  {
   "cell_type": "markdown",
   "metadata": {},
   "source": [
    "# Sellers: Coding olistdash/seller.py"
   ]
  },
  {
   "cell_type": "markdown",
   "metadata": {},
   "source": [
    "The goal is to find Sellers that repeatedly underperform vs others, and understand why.  \n",
    "This will help us shape our recommendations on how to improve Olist's profit margin."
   ]
  },
  {
   "cell_type": "markdown",
   "metadata": {},
   "source": [
    "## 1 - Coding `olistdash/seller.py` "
   ]
  },
  {
   "cell_type": "markdown",
   "metadata": {},
   "source": [
    "- Creating the method `get_training_data` in `olistdash/seller.py` that will return the following DataFrame:\n",
    "\n",
    "  - `seller_id` (_str_) _the id of the seller **UNIQUE**\n",
    "  - `seller_city` (_str_) _the city where seller is located_\n",
    "  - `seller_state` (_str_) _the state where seller is located_\n",
    "  - `delay_to_carrier` (_float_) _Average delay_to_carrier per seller. Return 0 if the order is delivered before the shipping_limit_date, otherwise the absolute value of the delay\n",
    "  - `wait_time` (_float_) _Average wait_time (duration of deliveries) per seller_\n",
    "  - `date_first_sale` (_datetime_) _Date of first sales on Olist_\n",
    "  - `date_last_sale` (_datetime_) _Date of last sales on Olist_\n",
    "  - `share_of_five_stars` (_float_) _The share of five star orders for orders in which the seller was involved_\n",
    "  - `share_of_one_stars` (_float_) _The share of one star orders for orders in which the seller was involved_\n",
    "  - `review_score` (_float_) _The average review score for orders in which the seller was involved_\n",
    "  - `n_orders` (_int_) _The number of unique orders the seller was involved with._\n",
    "  - `quantity` (_int_) _The total number of items sold by this seller_\n",
    "  - `quantity_per_order`(_float_) _The mean number of items per order for this seller_\n",
    "  - `sales` (_float_) _The total sales associated with this seller (excluding freight value)_ in BRL"
   ]
  },
  {
   "cell_type": "markdown",
   "metadata": {},
   "source": [
    "### `get_seller_features`\n",
    "Returns a DataFrame with: 'seller_id', 'seller_city', 'seller_state'"
   ]
  },
  {
   "cell_type": "code",
   "execution_count": 1,
   "metadata": {},
   "outputs": [],
   "source": [
    "def get_seller_features(self):\n",
    "    \"\"\"\n",
    "        Returns a DataFrame with:\n",
    "        'seller_id','seller_city', 'seller_state'\n",
    "        \"\"\"\n",
    "    # Making a copy before using inplace=True to avoid modifying\n",
    "    # self.data\n",
    "    sellers = self.data['sellers'].copy()\n",
    "    sellers.drop('seller_zip_code_prefix', axis=1, inplace=True)\n",
    "    # There are multiple rows per seller\n",
    "    sellers.drop_duplicates(inplace=True)\n",
    "    return sellers\n"
   ]
  },
  {
   "cell_type": "markdown",
   "metadata": {},
   "source": [
    "### `get_seller_delay_wait_time`\n",
    "Returns a DataFrame with: 'seller_id', 'delay_to_carrier', 'wait_time'"
   ]
  },
  {
   "cell_type": "code",
   "execution_count": 3,
   "metadata": {},
   "outputs": [],
   "source": [
    "def get_seller_delay_wait_time(self):\n",
    "        \"\"\"\n",
    "        Returns a DataFrame with:\n",
    "        'seller_id', 'delay_to_carrier', 'seller_state'\n",
    "        \"\"\"\n",
    "        # Get data\n",
    "        order_items = self.data['order_items'].copy()\n",
    "        orders = self.data['orders'].query(\"order_status=='delivered'\").copy()\n",
    "\n",
    "        ship = order_items.merge(orders, on='order_id')\n",
    "\n",
    "        # Handling datetime\n",
    "        ship.loc[:, 'shipping_limit_date'] = pd.to_datetime(\n",
    "            ship['shipping_limit_date'])\n",
    "        ship.loc[:, 'order_delivered_carrier_date'] = pd.to_datetime(\n",
    "            ship['order_delivered_carrier_date'])\n",
    "        ship.loc[:, 'order_delivered_customer_date'] = pd.to_datetime(\n",
    "            ship['order_delivered_customer_date'])\n",
    "        ship.loc[:, 'order_purchase_timestamp'] = pd.to_datetime(\n",
    "            ship['order_purchase_timestamp'])\n",
    "\n",
    "        # Computing delay and wait_time\n",
    "        def handle_early_dropoff(x):\n",
    "            if x < 0:\n",
    "                return abs(x)\n",
    "            return 0\n",
    "\n",
    "        def delay_to_logistic_partner(df):\n",
    "            df['delay'] = (\n",
    "                df.shipping_limit_date -\n",
    "                df.order_delivered_carrier_date) / np.timedelta64(24, 'h')\n",
    "            df.loc[:,'delay'] = df.delay.apply(handle_early_dropoff)\n",
    "            return np.mean(df.delay)\n",
    "\n",
    "        def order_wait_time(df):\n",
    "            days = np.mean(\n",
    "                (df.order_delivered_customer_date - df.order_purchase_timestamp)\n",
    "                / np.timedelta64(24, 'h')\n",
    "            )\n",
    "            return days\n",
    "\n",
    "        delay = ship\\\n",
    "            .groupby('seller_id')\\\n",
    "                .apply(delay_to_logistic_partner)\\\n",
    "                    .reset_index()\n",
    "\n",
    "        delay.columns = ['seller_id', 'delay_to_carrier']\n",
    "\n",
    "        wait = ship\\\n",
    "            .groupby('seller_id')\\\n",
    "                .apply(order_wait_time)\\\n",
    "                    .reset_index()\n",
    "        wait.columns = ['seller_id', 'wait_time']\n",
    "\n",
    "        order_wait_time_df = delay.merge(wait, on='seller_id')\n",
    "\n",
    "        return order_wait_time_df"
   ]
  },
  {
   "cell_type": "markdown",
   "metadata": {},
   "source": [
    "### `get_active_dates`\n",
    "Returns a DataFrame with 'seller_id', 'date_first_sale', 'date_last_sale'"
   ]
  },
  {
   "cell_type": "code",
   "execution_count": 4,
   "metadata": {},
   "outputs": [],
   "source": [
    "def get_active_dates(self):\n",
    "    \"\"\"\n",
    "        This function returns a DataFrame with: 'seller_id', 'date_first_sale',\n",
    "        'date_last_sale'\n",
    "        \"\"\"\n",
    "    orders = self.data['orders'][['order_id', 'order_approved_at']].copy()\n",
    "\n",
    "    # creating two new columns with a view to aggregate\n",
    "    orders.loc[:,\n",
    "               'date_first_sale'] = pd.to_datetime(orders['order_approved_at'])\n",
    "    orders['date_last_sale'] = orders['date_first_sale']\n",
    "\n",
    "    return orders.merge(\n",
    "        self.matching_table[['seller_id', 'order_id']], on=\"order_id\")\\\n",
    "        .groupby('seller_id')\\\n",
    "        .agg({\n",
    "            \"date_first_sale\": min,\n",
    "            \"date_last_sale\": max\n",
    "        })\n"
   ]
  },
  {
   "cell_type": "markdown",
   "metadata": {},
   "source": [
    "### `get_review_score`\n",
    "['seller_id', 'share_of_five_stars', 'share_of_one_stars', 'review_score']"
   ]
  },
  {
   "cell_type": "code",
   "execution_count": 5,
   "metadata": {},
   "outputs": [],
   "source": [
    "def get_review_score(self):\n",
    "    \"\"\"\n",
    "        This function returns a DataFrame with:\n",
    "        'seller_id', 'share_of_five_stars', 'share_of_one_stars', 'review_score'\n",
    "        \"\"\"\n",
    "    matching_table = self.matching_table\n",
    "    orders_reviews = self.order.get_review_score()\n",
    "\n",
    "    # Since the same seller can appear multiple times in the same order,\n",
    "    # a (seller <> order) matching table has been created.\n",
    "\n",
    "    matching_table = matching_table[['order_id', 'seller_id']]\\\n",
    "        .drop_duplicates()\n",
    "    reviews_df = matching_table.merge(orders_reviews, on='order_id')\n",
    "    reviews_df = reviews_df.groupby('seller_id', as_index=False).agg({\n",
    "        'dim_is_one_star':\n",
    "        'mean',\n",
    "        'dim_is_five_star':\n",
    "        'mean',\n",
    "        'review_score':\n",
    "        'mean'\n",
    "    })\n",
    "    # Rename columns\n",
    "    reviews_df.columns = [\n",
    "        'seller_id', 'share_of_one_stars', 'share_of_five_stars',\n",
    "        'review_score'\n",
    "    ]\n",
    "\n",
    "    return reviews_df\n"
   ]
  },
  {
   "cell_type": "markdown",
   "metadata": {},
   "source": [
    "### `get_quantity`\n",
    "['seller_id', 'n_orders', 'quantity', 'quantity_per_order']"
   ]
  },
  {
   "cell_type": "code",
   "execution_count": 6,
   "metadata": {},
   "outputs": [],
   "source": [
    "def get_quantity(self):\n",
    "    \"\"\"\n",
    "        Returns a DataFrame with:\n",
    "        'seller_id', 'n_orders', 'quantity', 'quantity_per_order'\n",
    "        \"\"\"\n",
    "    order_items = self.data['order_items']\n",
    "\n",
    "    n_orders = order_items.groupby('seller_id')['order_id']\\\n",
    "        .nunique().reset_index()\n",
    "    n_orders.columns = ['seller_id', 'n_orders']\n",
    "\n",
    "    quantity = order_items.groupby('seller_id', as_index=False)\\\n",
    "        .agg({'order_id': 'count'})\n",
    "    quantity.columns = ['seller_id', 'quantity']\n",
    "\n",
    "    result = n_orders.merge(quantity, on='seller_id')\n",
    "    result['quantity_per_order'] = result['quantity'] / result['n_orders']\n",
    "    return result\n"
   ]
  },
  {
   "cell_type": "markdown",
   "metadata": {},
   "source": [
    "### `get_sales`\n",
    "['seller_id', 'sales']"
   ]
  },
  {
   "cell_type": "code",
   "execution_count": 7,
   "metadata": {},
   "outputs": [],
   "source": [
    "def get_sales(self):\n",
    "    \"\"\"\n",
    "        Returns a DataFrame with:\n",
    "        'seller_id', 'sales'\n",
    "        \"\"\"\n",
    "    return self.data['order_items'][['seller_id', 'price']]\\\n",
    "        .groupby('seller_id')\\\n",
    "        .sum()\\\n",
    "        .rename(columns={'price': 'sales'})"
   ]
  },
  {
   "cell_type": "markdown",
   "metadata": {},
   "source": [
    "### Merging DataFrames created in the functions above.\n",
    "### `get_training_data`"
   ]
  },
  {
   "cell_type": "code",
   "execution_count": 8,
   "metadata": {},
   "outputs": [],
   "source": [
    "def get_training_data(self):\n",
    "    \"\"\"\n",
    "        Merging all the DataFrames created before.\n",
    "        Returns a DataFrame with:\n",
    "        'seller_id', 'seller_state', 'seller_city', 'delay_to_carrier',\n",
    "        'wait_time', 'share_of_five_stars', 'share_of_one_stars',\n",
    "        'seller_review_score', 'n_orders', 'quantity,' 'date_first_sale',\n",
    "        'date_last_sale', 'sales'\n",
    "        \"\"\"\n",
    "\n",
    "    training_set =\\\n",
    "        self.get_seller_features()\\\n",
    "            .merge(\n",
    "            self.get_seller_delay_wait_time(), on='seller_id'\n",
    "           ).merge(\n",
    "            self.get_active_dates(), on='seller_id'\n",
    "           ).merge(\n",
    "            self.get_review_score(), on='seller_id'\n",
    "           ).merge(\n",
    "            self.get_quantity(), on='seller_id'\n",
    "           ).merge(\n",
    "            self.get_sales(), on='seller_id'\n",
    "           )\n",
    "\n",
    "    return training_set\n"
   ]
  },
  {
   "cell_type": "markdown",
   "metadata": {},
   "source": [
    "---\n",
    "### Saving logic into seller.py"
   ]
  },
  {
   "cell_type": "markdown",
   "metadata": {},
   "source": [
    "Testing the code from seller.py"
   ]
  },
  {
   "cell_type": "code",
   "execution_count": 12,
   "metadata": {},
   "outputs": [
    {
     "data": {
      "text/html": [
       "<div>\n",
       "<style scoped>\n",
       "    .dataframe tbody tr th:only-of-type {\n",
       "        vertical-align: middle;\n",
       "    }\n",
       "\n",
       "    .dataframe tbody tr th {\n",
       "        vertical-align: top;\n",
       "    }\n",
       "\n",
       "    .dataframe thead th {\n",
       "        text-align: right;\n",
       "    }\n",
       "</style>\n",
       "<table border=\"1\" class=\"dataframe\">\n",
       "  <thead>\n",
       "    <tr style=\"text-align: right;\">\n",
       "      <th></th>\n",
       "      <th>seller_id</th>\n",
       "      <th>seller_city</th>\n",
       "      <th>seller_state</th>\n",
       "      <th>delay_to_carrier</th>\n",
       "      <th>wait_time</th>\n",
       "      <th>date_first_sale</th>\n",
       "      <th>date_last_sale</th>\n",
       "      <th>share_of_one_stars</th>\n",
       "      <th>share_of_five_stars</th>\n",
       "      <th>review_score</th>\n",
       "      <th>n_orders</th>\n",
       "      <th>quantity</th>\n",
       "      <th>quantity_per_order</th>\n",
       "      <th>sales</th>\n",
       "    </tr>\n",
       "  </thead>\n",
       "  <tbody>\n",
       "    <tr>\n",
       "      <th>0</th>\n",
       "      <td>3442f8959a84dea7ee197c632cb2df15</td>\n",
       "      <td>campinas</td>\n",
       "      <td>SP</td>\n",
       "      <td>1.514329</td>\n",
       "      <td>13.018588</td>\n",
       "      <td>2017-05-05 16:25:11</td>\n",
       "      <td>2017-08-30 12:50:19</td>\n",
       "      <td>0.333333</td>\n",
       "      <td>0.333333</td>\n",
       "      <td>3.00</td>\n",
       "      <td>3</td>\n",
       "      <td>3</td>\n",
       "      <td>1.000</td>\n",
       "      <td>218.70</td>\n",
       "    </tr>\n",
       "    <tr>\n",
       "      <th>1</th>\n",
       "      <td>d1b65fc7debc3361ea86b5f14c68d2e2</td>\n",
       "      <td>mogi guacu</td>\n",
       "      <td>SP</td>\n",
       "      <td>0.155190</td>\n",
       "      <td>9.065716</td>\n",
       "      <td>2017-03-29 02:10:34</td>\n",
       "      <td>2018-06-06 20:15:21</td>\n",
       "      <td>0.050000</td>\n",
       "      <td>0.725000</td>\n",
       "      <td>4.55</td>\n",
       "      <td>40</td>\n",
       "      <td>41</td>\n",
       "      <td>1.025</td>\n",
       "      <td>11703.07</td>\n",
       "    </tr>\n",
       "    <tr>\n",
       "      <th>2</th>\n",
       "      <td>ce3ad9de960102d0677a81f5d0bb7b2d</td>\n",
       "      <td>rio de janeiro</td>\n",
       "      <td>RJ</td>\n",
       "      <td>0.000000</td>\n",
       "      <td>4.042292</td>\n",
       "      <td>2018-07-30 12:44:49</td>\n",
       "      <td>2018-07-30 12:44:49</td>\n",
       "      <td>0.000000</td>\n",
       "      <td>1.000000</td>\n",
       "      <td>5.00</td>\n",
       "      <td>1</td>\n",
       "      <td>1</td>\n",
       "      <td>1.000</td>\n",
       "      <td>158.00</td>\n",
       "    </tr>\n",
       "    <tr>\n",
       "      <th>3</th>\n",
       "      <td>c0f3eea2e14555b6faeea3dd58c1b1c3</td>\n",
       "      <td>sao paulo</td>\n",
       "      <td>SP</td>\n",
       "      <td>0.000000</td>\n",
       "      <td>5.667187</td>\n",
       "      <td>2018-08-03 00:44:08</td>\n",
       "      <td>2018-08-03 00:44:08</td>\n",
       "      <td>0.000000</td>\n",
       "      <td>1.000000</td>\n",
       "      <td>5.00</td>\n",
       "      <td>1</td>\n",
       "      <td>1</td>\n",
       "      <td>1.000</td>\n",
       "      <td>79.99</td>\n",
       "    </tr>\n",
       "    <tr>\n",
       "      <th>4</th>\n",
       "      <td>51a04a8a6bdcb23deccc82b0b80742cf</td>\n",
       "      <td>braganca paulista</td>\n",
       "      <td>SP</td>\n",
       "      <td>3.353727</td>\n",
       "      <td>35.314861</td>\n",
       "      <td>2017-11-14 12:15:25</td>\n",
       "      <td>2017-11-14 12:15:25</td>\n",
       "      <td>1.000000</td>\n",
       "      <td>0.000000</td>\n",
       "      <td>1.00</td>\n",
       "      <td>1</td>\n",
       "      <td>1</td>\n",
       "      <td>1.000</td>\n",
       "      <td>167.99</td>\n",
       "    </tr>\n",
       "  </tbody>\n",
       "</table>\n",
       "</div>"
      ],
      "text/plain": [
       "                          seller_id        seller_city seller_state  \\\n",
       "0  3442f8959a84dea7ee197c632cb2df15           campinas           SP   \n",
       "1  d1b65fc7debc3361ea86b5f14c68d2e2         mogi guacu           SP   \n",
       "2  ce3ad9de960102d0677a81f5d0bb7b2d     rio de janeiro           RJ   \n",
       "3  c0f3eea2e14555b6faeea3dd58c1b1c3          sao paulo           SP   \n",
       "4  51a04a8a6bdcb23deccc82b0b80742cf  braganca paulista           SP   \n",
       "\n",
       "   delay_to_carrier  wait_time     date_first_sale      date_last_sale  \\\n",
       "0          1.514329  13.018588 2017-05-05 16:25:11 2017-08-30 12:50:19   \n",
       "1          0.155190   9.065716 2017-03-29 02:10:34 2018-06-06 20:15:21   \n",
       "2          0.000000   4.042292 2018-07-30 12:44:49 2018-07-30 12:44:49   \n",
       "3          0.000000   5.667187 2018-08-03 00:44:08 2018-08-03 00:44:08   \n",
       "4          3.353727  35.314861 2017-11-14 12:15:25 2017-11-14 12:15:25   \n",
       "\n",
       "   share_of_one_stars  share_of_five_stars  review_score  n_orders  quantity  \\\n",
       "0            0.333333             0.333333          3.00         3         3   \n",
       "1            0.050000             0.725000          4.55        40        41   \n",
       "2            0.000000             1.000000          5.00         1         1   \n",
       "3            0.000000             1.000000          5.00         1         1   \n",
       "4            1.000000             0.000000          1.00         1         1   \n",
       "\n",
       "   quantity_per_order     sales  \n",
       "0               1.000    218.70  \n",
       "1               1.025  11703.07  \n",
       "2               1.000    158.00  \n",
       "3               1.000     79.99  \n",
       "4               1.000    167.99  "
      ]
     },
     "execution_count": 12,
     "metadata": {},
     "output_type": "execute_result"
    }
   ],
   "source": [
    "from olistdash.seller import Seller\n",
    "data = Seller().get_training_data()\n",
    "\n",
    "data.head()"
   ]
  },
  {
   "cell_type": "markdown",
   "metadata": {},
   "source": []
  }
 ],
 "metadata": {
  "interpreter": {
   "hash": "b8a82e7080485e78fcfa83fef03810cd92165d97a6ff1e2c5804f0b7673e7209"
  },
  "kernelspec": {
   "display_name": "Python 3.8.6 64-bit ('olist-dash': pyenv)",
   "name": "python3"
  },
  "language_info": {
   "codemirror_mode": {
    "name": "ipython",
    "version": 3
   },
   "file_extension": ".py",
   "mimetype": "text/x-python",
   "name": "python",
   "nbconvert_exporter": "python",
   "pygments_lexer": "ipython3",
   "version": "3.8.6"
  },
  "orig_nbformat": 4
 },
 "nbformat": 4,
 "nbformat_minor": 2
}