{
 "cells": [
  {
   "cell_type": "markdown",
   "metadata": {},
   "source": [
    "# Olist's Net Promoter Score (NPS)"
   ]
  },
  {
   "cell_type": "markdown",
   "metadata": {},
   "source": [
    "The Net Promoter Score (NPS) of a service answers the following question:\n",
    "\n",
    ">_How likely is it that you would recommend our company/product/service to a friend or colleague?_\n",
    "\n",
    "For a service rated between 1 to 5 stars as Olist:\n",
    "- Those who respond with a score of 5 are called **Promoters**\n",
    "- Those who respond with a score of 4 are called **Passive**\n",
    "- Those who respond with a score of 1/2/3 are called **Detractors**\n",
    "\n",
    "NPS is computed by subtracting the percentage of customers who are Detractors from the percentage of customers who are Promoters."
   ]
  },
  {
   "cell_type": "code",
   "execution_count": 1,
   "metadata": {},
   "outputs": [],
   "source": [
    "# Usual modules\n",
    "import pandas as pd\n",
    "import numpy as np\n",
    "import seaborn as sns\n",
    "import matplotlib.pyplot as plt"
   ]
  },
  {
   "cell_type": "code",
   "execution_count": 2,
   "metadata": {},
   "outputs": [],
   "source": [
    "# Import olist data\n",
    "from olistdash.data import Olist\n",
    "from olistdash.order import Order\n",
    "\n",
    "data = Olist().get_data()\n",
    "orders = Order().get_training_data()"
   ]
  },
  {
   "cell_type": "code",
   "execution_count": 5,
   "metadata": {},
   "outputs": [
    {
     "data": {
      "text/plain": [
       "Index(['order_id', 'wait_time', 'expected_wait_time', 'delay_vs_expected',\n",
       "       'order_status', 'dim_is_five_star', 'dim_is_one_star', 'review_score',\n",
       "       'number_of_products', 'number_of_sellers', 'price', 'freight_value'],\n",
       "      dtype='object')"
      ]
     },
     "execution_count": 5,
     "metadata": {},
     "output_type": "execute_result"
    }
   ],
   "source": [
    "orders.columns"
   ]
  },
  {
   "cell_type": "code",
   "execution_count": 3,
   "metadata": {},
   "outputs": [
    {
     "data": {
      "text/plain": [
       "0        4\n",
       "1        4\n",
       "2        5\n",
       "3        5\n",
       "4        5\n",
       "        ..\n",
       "97010    5\n",
       "97011    4\n",
       "97012    5\n",
       "97013    2\n",
       "97014    5\n",
       "Name: review_score, Length: 97007, dtype: int64"
      ]
     },
     "execution_count": 3,
     "metadata": {},
     "output_type": "execute_result"
    }
   ],
   "source": [
    "orders.review_score"
   ]
  },
  {
   "cell_type": "markdown",
   "metadata": {},
   "source": [
    "% Promoters - % Detractors = (# Promoter - # Detractors) / # Reviews"
   ]
  },
  {
   "cell_type": "code",
   "execution_count": 6,
   "metadata": {},
   "outputs": [
    {
     "data": {
      "text/plain": [
       "pandas.core.series.Series"
      ]
     },
     "execution_count": 6,
     "metadata": {},
     "output_type": "execute_result"
    }
   ],
   "source": [
    "type(orders.review_score)"
   ]
  },
  {
   "cell_type": "code",
   "execution_count": 8,
   "metadata": {},
   "outputs": [
    {
     "data": {
      "text/plain": [
       "0        0\n",
       "1        0\n",
       "2        1\n",
       "3        1\n",
       "4        1\n",
       "        ..\n",
       "97010    1\n",
       "97011    0\n",
       "97012    1\n",
       "97013   -1\n",
       "97014    1\n",
       "Name: review_score, Length: 97007, dtype: int64"
      ]
     },
     "execution_count": 8,
     "metadata": {},
     "output_type": "execute_result"
    }
   ],
   "source": [
    "def promoter_score(x):\n",
    "    score = 0\n",
    "    if x == 5:\n",
    "        score = 1\n",
    "    if x < 4:\n",
    "        score = -1\n",
    "    return score\n",
    "\n",
    "\n",
    "orders.review_score.map(promoter_score)"
   ]
  },
  {
   "cell_type": "markdown",
   "metadata": {},
   "source": [
    "Computing it in one line"
   ]
  },
  {
   "cell_type": "code",
   "execution_count": 14,
   "metadata": {},
   "outputs": [
    {
     "data": {
      "text/plain": [
       "0        0\n",
       "1        0\n",
       "2        1\n",
       "3        1\n",
       "4        1\n",
       "        ..\n",
       "97010    1\n",
       "97011    0\n",
       "97012    1\n",
       "97013   -1\n",
       "97014    1\n",
       "Name: review_score, Length: 97007, dtype: int64"
      ]
     },
     "execution_count": 14,
     "metadata": {},
     "output_type": "execute_result"
    }
   ],
   "source": [
    "# Option 1\n",
    "orders.review_score.map(lambda x: 1 if x == 5 else -1 if x < 4 else 0)"
   ]
  },
  {
   "cell_type": "code",
   "execution_count": 16,
   "metadata": {},
   "outputs": [
    {
     "data": {
      "text/plain": [
       "0        0\n",
       "1        0\n",
       "2        1\n",
       "3        1\n",
       "4        1\n",
       "        ..\n",
       "97010    1\n",
       "97011    0\n",
       "97012    1\n",
       "97013   -1\n",
       "97014    1\n",
       "Name: review_score, Length: 97007, dtype: int64"
      ]
     },
     "execution_count": 16,
     "metadata": {},
     "output_type": "execute_result"
    }
   ],
   "source": [
    "# Option 2\n",
    "orders.review_score.map({5:1, 4:0, 3:-1, 2:-1, 1:-1})"
   ]
  },
  {
   "cell_type": "code",
   "execution_count": 17,
   "metadata": {},
   "outputs": [],
   "source": [
    "nps = orders.review_score.map({\n",
    "    5: 1,\n",
    "    4: 0,\n",
    "    3: -1,\n",
    "    2: -1,\n",
    "    1: -1\n",
    "}).sum() / orders.review_score.count()\n"
   ]
  },
  {
   "cell_type": "code",
   "execution_count": 19,
   "metadata": {},
   "outputs": [
    {
     "data": {
      "text/plain": [
       "'NPS Score = 0.37439566216870945'"
      ]
     },
     "execution_count": 19,
     "metadata": {},
     "output_type": "execute_result"
    }
   ],
   "source": [
    "f'NPS Score = {nps}'"
   ]
  },
  {
   "cell_type": "code",
   "execution_count": 20,
   "metadata": {},
   "outputs": [
    {
     "data": {
      "text/plain": [
       "'NPS Score = 37.4%'"
      ]
     },
     "execution_count": 20,
     "metadata": {},
     "output_type": "execute_result"
    }
   ],
   "source": [
    "f'NPS Score = {nps*100:.1f}%'"
   ]
  },
  {
   "cell_type": "markdown",
   "metadata": {},
   "source": [
    "## NPS per customer states"
   ]
  },
  {
   "cell_type": "markdown",
   "metadata": {},
   "source": [
    "### Mean review score per state"
   ]
  },
  {
   "cell_type": "markdown",
   "metadata": {},
   "source": [
    "### 1. Creating the dataset required for computation"
   ]
  },
  {
   "cell_type": "code",
   "execution_count": 22,
   "metadata": {},
   "outputs": [
    {
     "data": {
      "text/plain": [
       "100000"
      ]
     },
     "execution_count": 22,
     "metadata": {},
     "output_type": "execute_result"
    }
   ],
   "source": [
    "# \"chaining\" methods in pandas\n",
    "\n",
    "merge = data['orders']\\\n",
    ".merge(data['order_reviews'], on='order_id')\\\n",
    ".merge(data['customers'], on='customer_id')\n",
    "\n",
    "len(merge)"
   ]
  },
  {
   "cell_type": "code",
   "execution_count": 23,
   "metadata": {},
   "outputs": [
    {
     "data": {
      "text/plain": [
       "order_id                         99441\n",
       "customer_id                      99441\n",
       "order_status                         8\n",
       "order_purchase_timestamp         98875\n",
       "order_approved_at                90733\n",
       "order_delivered_carrier_date     81018\n",
       "order_delivered_customer_date    95664\n",
       "order_estimated_delivery_date      459\n",
       "review_id                        99173\n",
       "review_score                         5\n",
       "review_comment_title              4600\n",
       "review_comment_message           36921\n",
       "review_creation_date               637\n",
       "review_answer_timestamp          99010\n",
       "customer_unique_id               96096\n",
       "customer_zip_code_prefix         14994\n",
       "customer_city                     4119\n",
       "customer_state                      27\n",
       "dtype: int64"
      ]
     },
     "execution_count": 23,
     "metadata": {},
     "output_type": "execute_result"
    }
   ],
   "source": [
    "merge.nunique()"
   ]
  },
  {
   "cell_type": "markdown",
   "metadata": {},
   "source": [
    "Grouping by `customer_state` and aggregating \"mean\" review score"
   ]
  },
  {
   "cell_type": "markdown",
   "metadata": {},
   "source": [
    "Computing mean review_score per customer_state"
   ]
  },
  {
   "cell_type": "code",
   "execution_count": 25,
   "metadata": {},
   "outputs": [
    {
     "data": {
      "text/plain": [
       "customer_state\n",
       "AC    4.049383\n",
       "AL    3.731415\n",
       "AM    4.154362\n",
       "AP    4.176471\n",
       "BA    3.834314\n",
       "Name: review_score, dtype: float64"
      ]
     },
     "execution_count": 25,
     "metadata": {},
     "output_type": "execute_result"
    }
   ],
   "source": [
    "# Otion 1\n",
    "merge.groupby(['customer_state'])['review_score'].mean().head()"
   ]
  },
  {
   "cell_type": "code",
   "execution_count": 27,
   "metadata": {},
   "outputs": [
    {
     "data": {
      "text/plain": [
       "customer_state\n",
       "AC    4.049383\n",
       "AL    3.731415\n",
       "AM    4.154362\n",
       "AP    4.176471\n",
       "BA    3.834314\n",
       "Name: review_score, dtype: float64"
      ]
     },
     "execution_count": 27,
     "metadata": {},
     "output_type": "execute_result"
    }
   ],
   "source": [
    "# Option 2 .apply()\n",
    "merge.groupby(['customer_state'])['review_score'].apply(np.mean).head()"
   ]
  },
  {
   "cell_type": "code",
   "execution_count": 28,
   "metadata": {},
   "outputs": [
    {
     "data": {
      "text/html": [
       "<div>\n",
       "<style scoped>\n",
       "    .dataframe tbody tr th:only-of-type {\n",
       "        vertical-align: middle;\n",
       "    }\n",
       "\n",
       "    .dataframe tbody tr th {\n",
       "        vertical-align: top;\n",
       "    }\n",
       "\n",
       "    .dataframe thead th {\n",
       "        text-align: right;\n",
       "    }\n",
       "</style>\n",
       "<table border=\"1\" class=\"dataframe\">\n",
       "  <thead>\n",
       "    <tr style=\"text-align: right;\">\n",
       "      <th></th>\n",
       "      <th>mean_review_score</th>\n",
       "    </tr>\n",
       "    <tr>\n",
       "      <th>customer_state</th>\n",
       "      <th></th>\n",
       "    </tr>\n",
       "  </thead>\n",
       "  <tbody>\n",
       "    <tr>\n",
       "      <th>AC</th>\n",
       "      <td>4.049383</td>\n",
       "    </tr>\n",
       "    <tr>\n",
       "      <th>AL</th>\n",
       "      <td>3.731415</td>\n",
       "    </tr>\n",
       "    <tr>\n",
       "      <th>AM</th>\n",
       "      <td>4.154362</td>\n",
       "    </tr>\n",
       "    <tr>\n",
       "      <th>AP</th>\n",
       "      <td>4.176471</td>\n",
       "    </tr>\n",
       "    <tr>\n",
       "      <th>BA</th>\n",
       "      <td>3.834314</td>\n",
       "    </tr>\n",
       "  </tbody>\n",
       "</table>\n",
       "</div>"
      ],
      "text/plain": [
       "                mean_review_score\n",
       "customer_state                   \n",
       "AC                       4.049383\n",
       "AL                       3.731415\n",
       "AM                       4.154362\n",
       "AP                       4.176471\n",
       "BA                       3.834314"
      ]
     },
     "execution_count": 28,
     "metadata": {},
     "output_type": "execute_result"
    }
   ],
   "source": [
    "# Option 3 .agg()\n",
    "merge.groupby(['customer_state']).agg({'review_score': np.mean})\\\n",
    ".rename(columns={'review_score': 'mean_review_score'})\\\n",
    ".head()"
   ]
  },
  {
   "cell_type": "markdown",
   "metadata": {},
   "source": [
    "### NPS per state\n",
    "Creating a **custom aggregation function** to directly compute the NPS per customer_state."
   ]
  },
  {
   "cell_type": "code",
   "execution_count": 29,
   "metadata": {},
   "outputs": [
    {
     "data": {
      "text/html": [
       "<div>\n",
       "<style scoped>\n",
       "    .dataframe tbody tr th:only-of-type {\n",
       "        vertical-align: middle;\n",
       "    }\n",
       "\n",
       "    .dataframe tbody tr th {\n",
       "        vertical-align: top;\n",
       "    }\n",
       "\n",
       "    .dataframe thead th {\n",
       "        text-align: right;\n",
       "    }\n",
       "</style>\n",
       "<table border=\"1\" class=\"dataframe\">\n",
       "  <thead>\n",
       "    <tr style=\"text-align: right;\">\n",
       "      <th></th>\n",
       "      <th>review_score</th>\n",
       "    </tr>\n",
       "    <tr>\n",
       "      <th>customer_state</th>\n",
       "      <th></th>\n",
       "    </tr>\n",
       "  </thead>\n",
       "  <tbody>\n",
       "    <tr>\n",
       "      <th>AC</th>\n",
       "      <td>0.296296</td>\n",
       "    </tr>\n",
       "    <tr>\n",
       "      <th>AL</th>\n",
       "      <td>0.158273</td>\n",
       "    </tr>\n",
       "    <tr>\n",
       "      <th>AM</th>\n",
       "      <td>0.395973</td>\n",
       "    </tr>\n",
       "    <tr>\n",
       "      <th>AP</th>\n",
       "      <td>0.294118</td>\n",
       "    </tr>\n",
       "    <tr>\n",
       "      <th>BA</th>\n",
       "      <td>0.187169</td>\n",
       "    </tr>\n",
       "  </tbody>\n",
       "</table>\n",
       "</div>"
      ],
      "text/plain": [
       "                review_score\n",
       "customer_state              \n",
       "AC                  0.296296\n",
       "AL                  0.158273\n",
       "AM                  0.395973\n",
       "AP                  0.294118\n",
       "BA                  0.187169"
      ]
     },
     "execution_count": 29,
     "metadata": {},
     "output_type": "execute_result"
    }
   ],
   "source": [
    "def nps(serie):\n",
    "    #import ipdb; ipdb.set_trace()\n",
    "    return serie.map(promoter_score).sum() / serie.count()\n",
    "\n",
    "\n",
    "merge.groupby(['customer_state']).agg({\n",
    "    'review_score': nps,\n",
    "}).head()"
   ]
  },
  {
   "cell_type": "code",
   "execution_count": 30,
   "metadata": {},
   "outputs": [
    {
     "data": {
      "text/plain": [
       "customer_state\n",
       "AC    0.296296\n",
       "AL    0.158273\n",
       "AM    0.395973\n",
       "AP    0.294118\n",
       "BA    0.187169\n",
       "CE    0.201643\n",
       "DF    0.329167\n",
       "ES    0.296133\n",
       "GO    0.297496\n",
       "MA    0.149134\n",
       "MG    0.365539\n",
       "MS    0.373278\n",
       "MT    0.334066\n",
       "PA    0.193483\n",
       "PB    0.303538\n",
       "PE    0.302102\n",
       "PI    0.241935\n",
       "PR    0.392773\n",
       "RJ    0.241841\n",
       "RN    0.344969\n",
       "RO    0.304348\n",
       "RR    0.043478\n",
       "RS    0.364990\n",
       "SC    0.324569\n",
       "SE    0.202857\n",
       "SP    0.390307\n",
       "TO    0.328571\n",
       "Name: review_score, dtype: float64"
      ]
     },
     "execution_count": 30,
     "metadata": {},
     "output_type": "execute_result"
    }
   ],
   "source": [
    "# One liner version\n",
    "merge.groupby([\n",
    "    'customer_state'\n",
    "])['review_score'].apply(lambda s: s.map(promoter_score).sum() / s.count())\n"
   ]
  },
  {
   "cell_type": "markdown",
   "metadata": {},
   "source": [
    "# Cheat Sheet\n"
   ]
  },
  {
   "cell_type": "markdown",
   "metadata": {},
   "source": [
    "```python\n",
    "## MAP (for Series)\n",
    "series.map(function) \n",
    "Series.map({mapping dict})\n",
    "\n",
    "## APPLY (for DataFrame)\n",
    "df.apply(lambda col: col.max(), axis = 0)     # default axis\n",
    "df.apply(lambda row: row[‘A’] + row[‘B’], axis = 1)\n",
    "df.applymap(my_funct_for_indiv_elements)\n",
    "    df.applymap(lambda x: '%.2f' % x)\n",
    "```"
   ]
  },
  {
   "cell_type": "markdown",
   "metadata": {},
   "source": [
    "```python\n",
    "## GROUPBY\n",
    "group = df.groupby('col_A')\n",
    "group.mean()\n",
    "group.apply(np.mean)\n",
    "group.agg({\n",
    "    col_A: ['mean', np.sum],\n",
    "    col_B: my_custom_sum,\n",
    "    col_B: lambda s: my_custom_sum(s)\n",
    "    })\n",
    "\n",
    "group.apply(custom_mean_function)\n",
    "```"
   ]
  },
  {
   "cell_type": "markdown",
   "metadata": {},
   "source": []
  }
 ],
 "metadata": {
  "interpreter": {
   "hash": "b8a82e7080485e78fcfa83fef03810cd92165d97a6ff1e2c5804f0b7673e7209"
  },
  "kernelspec": {
   "display_name": "Python 3.8.6 64-bit ('olist-dash': pyenv)",
   "name": "python3"
  },
  "language_info": {
   "codemirror_mode": {
    "name": "ipython",
    "version": 3
   },
   "file_extension": ".py",
   "mimetype": "text/x-python",
   "name": "python",
   "nbconvert_exporter": "python",
   "pygments_lexer": "ipython3",
   "version": "3.8.6"
  },
  "orig_nbformat": 4
 },
 "nbformat": 4,
 "nbformat_minor": 2
}