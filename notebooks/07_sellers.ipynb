{
 "cells": [
  {
   "cell_type": "code",
   "execution_count": null,
   "metadata": {},
   "outputs": [],
   "source": [
    "%load_ext autoreload\n",
    "%autoreload 2\n",
    "\n",
    "import pandas as pd\n",
    "import numpy as np \n",
    "import matplotlib.pyplot as plt\n",
    "import seaborn as sns\n",
    "import statsmodels.formula.api as smf"
   ]
  },
  {
   "cell_type": "markdown",
   "metadata": {},
   "source": [
    "# Sellers"
   ]
  },
  {
   "cell_type": "markdown",
   "metadata": {},
   "source": [
    "The goal is to find Sellers that repeatedly underperform vs others, and understand why.  \n",
    "This will help us shape our recommendations on how to improve Olist's profit margin."
   ]
  },
  {
   "cell_type": "markdown",
   "metadata": {},
   "source": [
    "## 1 - Code `olist/seller.py` "
   ]
  },
  {
   "cell_type": "markdown",
   "metadata": {},
   "source": [
    "- Creating the method `get_training_data` in `olistdash/seller.py` that will return the following DataFrame:\n",
    "\n",
    "  - `seller_id` (_str_) _the id of the seller **UNIQUE**\n",
    "  - `seller_city` (_str_) _the city where seller is located_\n",
    "  - `seller_state` (_str_) _the state where seller is located_\n",
    "  - `delay_to_carrier` (_float_) _Average delay_to_carrier per seller. Return 0 if the order is delivered before the shipping_limit_date, otherwise the absolute value of the delay\n",
    "  - `wait_time` (_float_) _Average wait_time (duration of deliveries) per seller_\n",
    "  - `date_first_sale` (_datetime_) _Date of first sales on Olist_\n",
    "  - `date_last_sale` (_datetime_) _Date of last sales on Olist_\n",
    "  - `share_of_five_stars` (_float_) _The share of five star orders for orders in which the seller was involved_\n",
    "  - `share_of_one_stars` (_float_) _The share of one star orders for orders in which the seller was involved_\n",
    "  - `review_score` (_float_) _The average review score for orders in which the seller was involved_\n",
    "  - `n_orders` (_int_) _The number of unique orders the seller was involved with._\n",
    "  - `quantity` (_int_) _The total number of items sold by this seller_\n",
    "  - `quantity_per_order`(_float_) _The mean number of items per order for this seller_\n",
    "  - `sales` (_float_) _The total sales associated with this seller (excluding freight value)_ in BRL"
   ]
  },
  {
   "cell_type": "markdown",
   "metadata": {},
   "source": [
    "### `get_seller_features`\n",
    "Returns a DataFrame with: 'seller_id', 'seller_city', 'seller_state'"
   ]
  },
  {
   "cell_type": "markdown",
   "metadata": {},
   "source": [
    "### `get_seller_delay_wait_time`\n",
    "Returns a DataFrame with: 'seller_id', 'delay_to_carrier', 'wait_time'"
   ]
  },
  {
   "cell_type": "markdown",
   "metadata": {},
   "source": [
    "### `get_active_dates`\n",
    "Returns a DataFrame with 'seller_id', 'date_first_sale', 'date_last_sale'"
   ]
  },
  {
   "cell_type": "markdown",
   "metadata": {},
   "source": [
    "### `get_review_score`\n",
    "['seller_id', 'share_of_five_stars', 'share_of_one_stars', 'review_score']"
   ]
  },
  {
   "cell_type": "markdown",
   "metadata": {},
   "source": [
    "### `get_quantity`\n",
    "['seller_id', 'n_orders', 'quantity', 'quantity_per_order']"
   ]
  },
  {
   "cell_type": "markdown",
   "metadata": {},
   "source": [
    "### `get_sales`\n",
    "['seller_id', 'sales']"
   ]
  },
  {
   "cell_type": "markdown",
   "metadata": {},
   "source": [
    "---\n",
    "### Saving logic into seller.py"
   ]
  },
  {
   "cell_type": "markdown",
   "metadata": {},
   "source": []
  }
 ],
 "metadata": {
  "interpreter": {
   "hash": "b8a82e7080485e78fcfa83fef03810cd92165d97a6ff1e2c5804f0b7673e7209"
  },
  "kernelspec": {
   "display_name": "Python 3.8.6 64-bit ('olist-dash': pyenv)",
   "name": "python3"
  },
  "language_info": {
   "name": "python",
   "version": ""
  },
  "orig_nbformat": 4
 },
 "nbformat": 4,
 "nbformat_minor": 2
}