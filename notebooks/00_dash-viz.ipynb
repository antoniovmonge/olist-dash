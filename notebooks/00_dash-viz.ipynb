{
 "cells": [
  {
   "cell_type": "code",
   "execution_count": 85,
   "id": "559e9a94-bc61-43f7-969e-6c84b13ee717",
   "metadata": {},
   "outputs": [],
   "source": [
    "import pandas as pd\n",
    "import numpy as np\n",
    "import seaborn as sns\n",
    "import matplotlib.pyplot as plt"
   ]
  },
  {
   "cell_type": "markdown",
   "id": "a478477a-597b-4588-9861-b1257440edc4",
   "metadata": {},
   "source": [
    "GETTING THE DATA"
   ]
  },
  {
   "cell_type": "code",
   "execution_count": 132,
   "id": "79ae0c38-0ea8-4834-a3a8-4289afb72c50",
   "metadata": {},
   "outputs": [],
   "source": [
    "from olistdash.data import Olist\n",
    "data = Olist().get_data()"
   ]
  },
  {
   "cell_type": "markdown",
   "id": "9325f3c9-664f-460e-be09-5611f9ff7a5c",
   "metadata": {},
   "source": [
    "TOTAL PAYMENTS TO OLIST"
   ]
  },
  {
   "cell_type": "code",
   "execution_count": 133,
   "id": "4bfcfead-f0a0-48f4-81d8-3b05fed46e43",
   "metadata": {},
   "outputs": [
    {
     "data": {
      "text/plain": [
       "16008872.12"
      ]
     },
     "execution_count": 133,
     "metadata": {},
     "output_type": "execute_result"
    }
   ],
   "source": [
    "data['order_payments']['payment_value'].sum()"
   ]
  },
  {
   "cell_type": "code",
   "execution_count": 134,
   "id": "1871a85a-8b59-4bd5-9970-8bdcc575f591",
   "metadata": {},
   "outputs": [],
   "source": [
    "df = data['order_payments'][['order_id','payment_value']].merge(data['orders'][['order_id','order_purchase_timestamp']], on='order_id', how='outer')"
   ]
  },
  {
   "cell_type": "code",
   "execution_count": 135,
   "id": "15ebb362-951e-4e56-83e6-69813d5a43ba",
   "metadata": {},
   "outputs": [
    {
     "data": {
      "text/html": [
       "<div>\n",
       "<style scoped>\n",
       "    .dataframe tbody tr th:only-of-type {\n",
       "        vertical-align: middle;\n",
       "    }\n",
       "\n",
       "    .dataframe tbody tr th {\n",
       "        vertical-align: top;\n",
       "    }\n",
       "\n",
       "    .dataframe thead th {\n",
       "        text-align: right;\n",
       "    }\n",
       "</style>\n",
       "<table border=\"1\" class=\"dataframe\">\n",
       "  <thead>\n",
       "    <tr style=\"text-align: right;\">\n",
       "      <th></th>\n",
       "      <th>order_id</th>\n",
       "      <th>payment_value</th>\n",
       "    </tr>\n",
       "    <tr>\n",
       "      <th>order_purchase_timestamp</th>\n",
       "      <th></th>\n",
       "      <th></th>\n",
       "    </tr>\n",
       "  </thead>\n",
       "  <tbody>\n",
       "    <tr>\n",
       "      <th>2016-09-04 21:15:19</th>\n",
       "      <td>2e7a8482f6fb09756ca50c10d7bfc047</td>\n",
       "      <td>136.23</td>\n",
       "    </tr>\n",
       "    <tr>\n",
       "      <th>2016-09-05 00:15:34</th>\n",
       "      <td>e5fa5a7210941f7d56d0208e4e071d35</td>\n",
       "      <td>75.06</td>\n",
       "    </tr>\n",
       "    <tr>\n",
       "      <th>2016-09-13 15:24:19</th>\n",
       "      <td>809a282bbd5dbcabb6f2f724fca862ec</td>\n",
       "      <td>40.95</td>\n",
       "    </tr>\n",
       "    <tr>\n",
       "      <th>2016-09-15 12:16:38</th>\n",
       "      <td>bfbd0f9bdef84302105ad712db648a6c</td>\n",
       "      <td>NaN</td>\n",
       "    </tr>\n",
       "    <tr>\n",
       "      <th>2016-10-02 22:07:52</th>\n",
       "      <td>71303d7e93b399f5bcd537d124c0bcfa</td>\n",
       "      <td>109.34</td>\n",
       "    </tr>\n",
       "    <tr>\n",
       "      <th>...</th>\n",
       "      <td>...</td>\n",
       "      <td>...</td>\n",
       "    </tr>\n",
       "    <tr>\n",
       "      <th>2018-09-29 09:13:03</th>\n",
       "      <td>392ed9afd714e3c74767d0c4d3e3f477</td>\n",
       "      <td>137.03</td>\n",
       "    </tr>\n",
       "    <tr>\n",
       "      <th>2018-10-01 15:30:09</th>\n",
       "      <td>616fa7d4871b87832197b2a137a115d2</td>\n",
       "      <td>80.38</td>\n",
       "    </tr>\n",
       "    <tr>\n",
       "      <th>2018-10-03 18:55:29</th>\n",
       "      <td>a2ac6dad85cf8af5b0afb510a240fe8c</td>\n",
       "      <td>197.55</td>\n",
       "    </tr>\n",
       "    <tr>\n",
       "      <th>2018-10-16 20:16:02</th>\n",
       "      <td>b059ee4de278302d550a3035c4cdb740</td>\n",
       "      <td>222.03</td>\n",
       "    </tr>\n",
       "    <tr>\n",
       "      <th>2018-10-17 17:30:18</th>\n",
       "      <td>10a045cdf6a5650c21e9cfeb60384c16</td>\n",
       "      <td>89.71</td>\n",
       "    </tr>\n",
       "  </tbody>\n",
       "</table>\n",
       "<p>103887 rows × 2 columns</p>\n",
       "</div>"
      ],
      "text/plain": [
       "                                                  order_id  payment_value\n",
       "order_purchase_timestamp                                                 \n",
       "2016-09-04 21:15:19       2e7a8482f6fb09756ca50c10d7bfc047         136.23\n",
       "2016-09-05 00:15:34       e5fa5a7210941f7d56d0208e4e071d35          75.06\n",
       "2016-09-13 15:24:19       809a282bbd5dbcabb6f2f724fca862ec          40.95\n",
       "2016-09-15 12:16:38       bfbd0f9bdef84302105ad712db648a6c            NaN\n",
       "2016-10-02 22:07:52       71303d7e93b399f5bcd537d124c0bcfa         109.34\n",
       "...                                                    ...            ...\n",
       "2018-09-29 09:13:03       392ed9afd714e3c74767d0c4d3e3f477         137.03\n",
       "2018-10-01 15:30:09       616fa7d4871b87832197b2a137a115d2          80.38\n",
       "2018-10-03 18:55:29       a2ac6dad85cf8af5b0afb510a240fe8c         197.55\n",
       "2018-10-16 20:16:02       b059ee4de278302d550a3035c4cdb740         222.03\n",
       "2018-10-17 17:30:18       10a045cdf6a5650c21e9cfeb60384c16          89.71\n",
       "\n",
       "[103887 rows x 2 columns]"
      ]
     },
     "execution_count": 135,
     "metadata": {},
     "output_type": "execute_result"
    }
   ],
   "source": [
    "df['order_purchase_timestamp'] = pd.to_datetime(df['order_purchase_timestamp'])\n",
    "df = df.set_index('order_purchase_timestamp')\n",
    "df.sort_index()"
   ]
  },
  {
   "cell_type": "code",
   "execution_count": 146,
   "id": "f3ba4ae2-e317-426a-9412-000dfa0f9d05",
   "metadata": {},
   "outputs": [
    {
     "name": "stdout",
     "output_type": "stream",
     "text": [
      "order_purchase_timestamp\n",
      "2016-12-31      59362.34\n",
      "2017-12-31    7249746.73\n",
      "2018-12-31    8699763.05\n",
      "Freq: A-DEC, Name: payment_value, dtype: float64\n"
     ]
    },
    {
     "data": {
      "text/plain": [
       "Text(0.5, 1.0, 'Yearly payment value')"
      ]
     },
     "execution_count": 146,
     "metadata": {},
     "output_type": "execute_result"
    },
    {
     "data": {
      "image/png": "[encoded data removed]",
      "text/plain": [
       "<Figure size 432x288 with 1 Axes>"
      ]
     },
     "metadata": {
      "needs_background": "light"
     },
     "output_type": "display_data"
    }
   ],
   "source": [
    "print(df.resample('Y')['payment_value'].sum())\n",
    "df.resample('Y')['payment_value'].sum().plot()\n",
    "plt.title('Yearly payment value')"
   ]
  },
  {
   "cell_type": "code",
   "execution_count": 141,
   "id": "6ceb5831-0503-4b78-a4cc-ad7fe1388210",
   "metadata": {},
   "outputs": [
    {
     "data": {
      "text/plain": [
       "order_purchase_timestamp\n",
       "2016-09-30        252.24\n",
       "2016-10-31      59090.48\n",
       "2016-11-30          0.00\n",
       "2016-12-31         19.62\n",
       "2017-01-31     138488.04\n",
       "2017-02-28     291908.01\n",
       "2017-03-31     449863.60\n",
       "2017-04-30     417788.03\n",
       "2017-05-31     592918.82\n",
       "2017-06-30     511276.38\n",
       "2017-07-31     592382.92\n",
       "2017-08-31     674396.32\n",
       "2017-09-30     727762.45\n",
       "2017-10-31     779677.88\n",
       "2017-11-30    1194882.80\n",
       "2017-12-31     878401.48\n",
       "2018-01-31    1115004.18\n",
       "2018-02-28     992463.34\n",
       "2018-03-31    1159652.12\n",
       "2018-04-30    1160785.48\n",
       "2018-05-31    1153982.15\n",
       "2018-06-30    1023880.50\n",
       "2018-07-31    1066540.75\n",
       "2018-08-31    1022425.32\n",
       "2018-09-30       4439.54\n",
       "2018-10-31        589.67\n",
       "Freq: M, Name: payment_value, dtype: float64"
      ]
     },
     "execution_count": 141,
     "metadata": {},
     "output_type": "execute_result"
    }
   ],
   "source": [
    "df.resample('M')['payment_value'].sum()"
   ]
  },
  {
   "cell_type": "code",
   "execution_count": 92,
   "id": "dac0826d-9ea2-4885-90d0-b8b34ada1b9a",
   "metadata": {},
   "outputs": [],
   "source": [
    "df['month'] = pd.to_datetime(df['order_purchase_timestamp']).dt.month"
   ]
  },
  {
   "cell_type": "code",
   "execution_count": 93,
   "id": "675c4355-365d-4ce1-94d2-a0f766ffc846",
   "metadata": {},
   "outputs": [
    {
     "data": {
      "text/plain": [
       "year\n",
       "2016      59362.34\n",
       "2017    7249746.73\n",
       "2018    8699763.05\n",
       "Name: payment_value, dtype: float64"
      ]
     },
     "execution_count": 93,
     "metadata": {},
     "output_type": "execute_result"
    }
   ],
   "source": [
    "df.groupby('year')['payment_value'].sum()"
   ]
  },
  {
   "cell_type": "code",
   "execution_count": 94,
   "id": "e1402767-09fa-4f84-b057-73225b8e4147",
   "metadata": {},
   "outputs": [
    {
     "data": {
      "text/html": [
       "<div>\n",
       "<style scoped>\n",
       "    .dataframe tbody tr th:only-of-type {\n",
       "        vertical-align: middle;\n",
       "    }\n",
       "\n",
       "    .dataframe tbody tr th {\n",
       "        vertical-align: top;\n",
       "    }\n",
       "\n",
       "    .dataframe thead th {\n",
       "        text-align: right;\n",
       "    }\n",
       "</style>\n",
       "<table border=\"1\" class=\"dataframe\">\n",
       "  <thead>\n",
       "    <tr style=\"text-align: right;\">\n",
       "      <th></th>\n",
       "      <th>order_id</th>\n",
       "      <th>payment_value</th>\n",
       "      <th>order_purchase_timestamp</th>\n",
       "      <th>date</th>\n",
       "      <th>year</th>\n",
       "      <th>month</th>\n",
       "    </tr>\n",
       "  </thead>\n",
       "  <tbody>\n",
       "    <tr>\n",
       "      <th>0</th>\n",
       "      <td>b81ef226f3fe1789b1e8b2acac839d17</td>\n",
       "      <td>99.33</td>\n",
       "      <td>2018-04-25 22:01:49</td>\n",
       "      <td>2018-04-25</td>\n",
       "      <td>2018</td>\n",
       "      <td>4</td>\n",
       "    </tr>\n",
       "    <tr>\n",
       "      <th>1</th>\n",
       "      <td>a9810da82917af2d9aefd1278f1dcfa0</td>\n",
       "      <td>24.39</td>\n",
       "      <td>2018-06-26 11:01:38</td>\n",
       "      <td>2018-06-26</td>\n",
       "      <td>2018</td>\n",
       "      <td>6</td>\n",
       "    </tr>\n",
       "    <tr>\n",
       "      <th>2</th>\n",
       "      <td>25e8ea4e93396b6fa0d3dd708e76c1bd</td>\n",
       "      <td>65.71</td>\n",
       "      <td>2017-12-12 11:19:55</td>\n",
       "      <td>2017-12-12</td>\n",
       "      <td>2017</td>\n",
       "      <td>12</td>\n",
       "    </tr>\n",
       "    <tr>\n",
       "      <th>3</th>\n",
       "      <td>ba78997921bbcdc1373bb41e913ab953</td>\n",
       "      <td>107.78</td>\n",
       "      <td>2017-12-06 12:04:06</td>\n",
       "      <td>2017-12-06</td>\n",
       "      <td>2017</td>\n",
       "      <td>12</td>\n",
       "    </tr>\n",
       "    <tr>\n",
       "      <th>4</th>\n",
       "      <td>42fdf880ba16b47b59251dd489d4441a</td>\n",
       "      <td>128.45</td>\n",
       "      <td>2018-05-21 13:59:17</td>\n",
       "      <td>2018-05-21</td>\n",
       "      <td>2018</td>\n",
       "      <td>5</td>\n",
       "    </tr>\n",
       "  </tbody>\n",
       "</table>\n",
       "</div>"
      ],
      "text/plain": [
       "                           order_id  payment_value order_purchase_timestamp  \\\n",
       "0  b81ef226f3fe1789b1e8b2acac839d17          99.33      2018-04-25 22:01:49   \n",
       "1  a9810da82917af2d9aefd1278f1dcfa0          24.39      2018-06-26 11:01:38   \n",
       "2  25e8ea4e93396b6fa0d3dd708e76c1bd          65.71      2017-12-12 11:19:55   \n",
       "3  ba78997921bbcdc1373bb41e913ab953         107.78      2017-12-06 12:04:06   \n",
       "4  42fdf880ba16b47b59251dd489d4441a         128.45      2018-05-21 13:59:17   \n",
       "\n",
       "         date  year  month  \n",
       "0  2018-04-25  2018      4  \n",
       "1  2018-06-26  2018      6  \n",
       "2  2017-12-12  2017     12  \n",
       "3  2017-12-06  2017     12  \n",
       "4  2018-05-21  2018      5  "
      ]
     },
     "execution_count": 94,
     "metadata": {},
     "output_type": "execute_result"
    }
   ],
   "source": [
    "df.head()"
   ]
  },
  {
   "cell_type": "code",
   "execution_count": 95,
   "id": "2ed96963-b208-4330-ae92-dc3a84b06641",
   "metadata": {},
   "outputs": [],
   "source": [
    "df = df.sort_values(by=['date'])"
   ]
  },
  {
   "cell_type": "code",
   "execution_count": 49,
   "id": "7a65b54f-8b78-4a49-92a0-2bf7c9f98f79",
   "metadata": {},
   "outputs": [
    {
     "data": {
      "text/plain": [
       "0      136.23\n",
       "1       75.06\n",
       "2       40.95\n",
       "3        0.00\n",
       "4      109.34\n",
       "        ...  \n",
       "629    137.03\n",
       "630     80.38\n",
       "631    197.55\n",
       "632    222.03\n",
       "633     89.71\n",
       "Name: payment_value, Length: 634, dtype: float64"
      ]
     },
     "execution_count": 49,
     "metadata": {},
     "output_type": "execute_result"
    }
   ],
   "source": [
    "y = df.groupby('date')['payment_value'].sum().reset_index(drop=True)\n",
    "y"
   ]
  },
  {
   "cell_type": "code",
   "execution_count": 50,
   "id": "92db373d-d2e1-45e3-a712-1a0480a7bf28",
   "metadata": {},
   "outputs": [
    {
     "data": {
      "text/plain": [
       "29482     2016-09-04\n",
       "63668     2016-09-05\n",
       "61038     2016-09-13\n",
       "103886    2016-09-15\n",
       "35342     2016-10-02\n",
       "             ...    \n",
       "95876     2018-09-29\n",
       "38098     2018-10-01\n",
       "66093     2018-10-03\n",
       "5958      2018-10-16\n",
       "11904     2018-10-17\n",
       "Name: date, Length: 634, dtype: object"
      ]
     },
     "execution_count": 50,
     "metadata": {},
     "output_type": "execute_result"
    }
   ],
   "source": [
    "x = df['date'].drop_duplicates()\n",
    "x"
   ]
  },
  {
   "cell_type": "code",
   "execution_count": 73,
   "id": "bd31f7a3-d077-480c-a86c-50ea1a8b4e1b",
   "metadata": {},
   "outputs": [
    {
     "data": {
      "application/vnd.plotly.v1+json": {
       "config": {
        "plotlyServerURL": "https://plot.ly"
       },
       "data": [
        {
         "hovertemplate": "x=%{x}<br>y=%{y}<extra></extra>",
         "legendgroup": "",
         "line": {
          "color": "#636efa",
          "dash": "solid"
         },
         "mode": "lines",
         "name": "",
         "orientation": "v",
         "showlegend": false,
         "type": "scatter",
         "x": [
          "2016-09-04",
          "2016-09-05",
          "2016-09-13",
          "2016-09-15",
          "2016-10-02",
          "2016-10-03",
          "2016-10-04",
          "2016-10-05",
          "2016-10-06",
          "2016-10-07",
          "2016-10-08",
          "2016-10-09",
          "2016-10-10",
          "2016-10-22",
          "2016-12-23",
          "2017-01-05",
          "2017-01-06",
          "2017-01-07",
          "2017-01-08",
          "2017-01-09",
          "2017-01-10",
          "2017-01-11",
          "2017-01-12",
          "2017-01-13",
          "2017-01-14",
          "2017-01-15",
          "2017-01-16",
          "2017-01-17",
          "2017-01-18",
          "2017-01-19",
          "2017-01-20",
          "2017-01-21",
          "2017-01-22",
          "2017-01-23",
          "2017-01-24",
          "2017-01-25",
          "2017-01-26",
          "2017-01-27",
          "2017-01-28",
          "2017-01-29",
          "2017-01-30",
          "2017-01-31",
          "2017-02-01",
          "2017-02-02",
          "2017-02-03",
          "2017-02-04",
          "2017-02-05",
          "2017-02-06",
          "2017-02-07",
          "2017-02-08",
          "2017-02-09",
          "2017-02-10",
          "2017-02-11",
          "2017-02-12",
          "2017-02-13",
          "2017-02-14",
          "2017-02-15",
          "2017-02-16",
          "2017-02-17",
          "2017-02-18",
          "2017-02-19",
          "2017-02-20",
          "2017-02-21",
          "2017-02-22",
          "2017-02-23",
          "2017-02-24",
          "2017-02-25",
          "2017-02-26",
          "2017-02-27",
          "2017-02-28",
          "2017-03-01",
          "2017-03-02",
          "2017-03-03",
          "2017-03-04",
          "2017-03-05",
          "2017-03-06",
          "2017-03-07",
          "2017-03-08",
          "2017-03-09",
          "2017-03-10",
          "2017-03-11",
          "2017-03-12",
          "2017-03-13",
          "2017-03-14",
          "2017-03-15",
          "2017-03-16",
          "2017-03-17",
          "2017-03-18",
          "2017-03-19",
          "2017-03-20",
          "2017-03-21",
          "2017-03-22",
          "2017-03-23",
          "2017-03-24",
          "2017-03-25",
          "2017-03-26",
          "2017-03-27",
          "2017-03-28",
          "2017-03-29",
          "2017-03-30",
          "2017-03-31",
          "2017-04-01",
          "2017-04-02",
          "2017-04-03",
          "2017-04-04",
          "2017-04-05",
          "2017-04-06",
          "2017-04-07",
          "2017-04-08",
          "2017-04-09",
          "2017-04-10",
          "2017-04-11",
          "2017-04-12",
          "2017-04-13",
          "2017-04-14",
          "2017-04-15",
          "2017-04-16",
          "2017-04-17",
          "2017-04-18",
          "2017-04-19",
          "2017-04-20",
          "2017-04-21",
          "2017-04-22",
          "2017-04-23",
          "2017-04-24",
          "2017-04-25",
          "2017-04-26",
          "2017-04-27",
          "2017-04-28",
          "2017-04-29",
          "2017-04-30",
          "2017-05-01",
          "2017-05-02",
          "2017-05-03",
          "2017-05-04",
          "2017-05-05",
          "2017-05-06",
          "2017-05-07",
          "2017-05-08",
          "2017-05-09",
          "2017-05-10",
          "2017-05-11",
          "2017-05-12",
          "2017-05-13",
          "2017-05-14",
          "2017-05-15",
          "2017-05-16",
          "2017-05-17",
          "2017-05-18",
          "2017-05-19",
          "2017-05-20",
          "2017-05-21",
          "2017-05-22",
          "2017-05-23",
          "2017-05-24",
          "2017-05-25",
          "2017-05-26",
          "2017-05-27",
          "2017-05-28",
          "2017-05-29",
          "2017-05-30",
          "2017-05-31",
          "2017-06-01",
          "2017-06-02",
          "2017-06-03",
          "2017-06-04",
          "2017-06-05",
          "2017-06-06",
          "2017-06-07",
          "2017-06-08",
          "2017-06-09",
          "2017-06-10",
          "2017-06-11",
          "2017-06-12",
          "2017-06-13",
          "2017-06-14",
          "2017-06-15",
          "2017-06-16",
          "2017-06-17",
          "2017-06-18",
          "2017-06-19",
          "2017-06-20",
          "2017-06-21",
          "2017-06-22",
          "2017-06-23",
          "2017-06-24",
          "2017-06-25",
          "2017-06-26",
          "2017-06-27",
          "2017-06-28",
          "2017-06-29",
          "2017-06-30",
          "2017-07-01",
          "2017-07-02",
          "2017-07-03",
          "2017-07-04",
          "2017-07-05",
          "2017-07-06",
          "2017-07-07",
          "2017-07-08",
          "2017-07-09",
          "2017-07-10",
          "2017-07-11",
          "2017-07-12",
          "2017-07-13",
          "2017-07-14",
          "2017-07-15",
          "2017-07-16",
          "2017-07-17",
          "2017-07-18",
          "2017-07-19",
          "2017-07-20",
          "2017-07-21",
          "2017-07-22",
          "2017-07-23",
          "2017-07-24",
          "2017-07-25",
          "2017-07-26",
          "2017-07-27",
          "2017-07-28",
          "2017-07-29",
          "2017-07-30",
          "2017-07-31",
          "2017-08-01",
          "2017-08-02",
          "2017-08-03",
          "2017-08-04",
          "2017-08-05",
          "2017-08-06",
          "2017-08-07",
          "2017-08-08",
          "2017-08-09",
          "2017-08-10",
          "2017-08-11",
          "2017-08-12",
          "2017-08-13",
          "2017-08-14",
          "2017-08-15",
          "2017-08-16",
          "2017-08-17",
          "2017-08-18",
          "2017-08-19",
          "2017-08-20",
          "2017-08-21",
          "2017-08-22",
          "2017-08-23",
          "2017-08-24",
          "2017-08-25",
          "2017-08-26",
          "2017-08-27",
          "2017-08-28",
          "2017-08-29",
          "2017-08-30",
          "2017-08-31",
          "2017-09-01",
          "2017-09-02",
          "2017-09-03",
          "2017-09-04",
          "2017-09-05",
          "2017-09-06",
          "2017-09-07",
          "2017-09-08",
          "2017-09-09",
          "2017-09-10",
          "2017-09-11",
          "2017-09-12",
          "2017-09-13",
          "2017-09-14",
          "2017-09-15",
          "2017-09-16",
          "2017-09-17",
          "2017-09-18",
          "2017-09-19",
          "2017-09-20",
          "2017-09-21",
          "2017-09-22",
          "2017-09-23",
          "2017-09-24",
          "2017-09-25",
          "2017-09-26",
          "2017-09-27",
          "2017-09-28",
          "2017-09-29",
          "2017-09-30",
          "2017-10-01",
          "2017-10-02",
          "2017-10-03",
          "2017-10-04",
          "2017-10-05",
          "2017-10-06",
          "2017-10-07",
          "2017-10-08",
          "2017-10-09",
          "2017-10-10",
          "2017-10-11",
          "2017-10-12",
          "2017-10-13",
          "2017-10-14",
          "2017-10-15",
          "2017-10-16",
          "2017-10-17",
          "2017-10-18",
          "2017-10-19",
          "2017-10-20",
          "2017-10-21",
          "2017-10-22",
          "2017-10-23",
          "2017-10-24",
          "2017-10-25",
          "2017-10-26",
          "2017-10-27",
          "2017-10-28",
          "2017-10-29",
          "2017-10-30",
          "2017-10-31",
          "2017-11-01",
          "2017-11-02",
          "2017-11-03",
          "2017-11-04",
          "2017-11-05",
          "2017-11-06",
          "2017-11-07",
          "2017-11-08",
          "2017-11-09",
          "2017-11-10",
          "2017-11-11",
          "2017-11-12",
          "2017-11-13",
          "2017-11-14",
          "2017-11-15",
          "2017-11-16",
          "2017-11-17",
          "2017-11-18",
          "2017-11-19",
          "2017-11-20",
          "2017-11-21",
          "2017-11-22",
          "2017-11-23",
          "2017-11-24",
          "2017-11-25",
          "2017-11-26",
          "2017-11-27",
          "2017-11-28",
          "2017-11-29",
          "2017-11-30",
          "2017-12-01",
          "2017-12-02",
          "2017-12-03",
          "2017-12-04",
          "2017-12-05",
          "2017-12-06",
          "2017-12-07",
          "2017-12-08",
          "2017-12-09",
          "2017-12-10",
          "2017-12-11",
          "2017-12-12",
          "2017-12-13",
          "2017-12-14",
          "2017-12-15",
          "2017-12-16",
          "2017-12-17",
          "2017-12-18",
          "2017-12-19",
          "2017-12-20",
          "2017-12-21",
          "2017-12-22",
          "2017-12-23",
          "2017-12-24",
          "2017-12-25",
          "2017-12-26",
          "2017-12-27",
          "2017-12-28",
          "2017-12-29",
          "2017-12-30",
          "2017-12-31",
          "2018-01-01",
          "2018-01-02",
          "2018-01-03",
          "2018-01-04",
          "2018-01-05",
          "2018-01-06",
          "2018-01-07",
          "2018-01-08",
          "2018-01-09",
          "2018-01-10",
          "2018-01-11",
          "2018-01-12",
          "2018-01-13",
          "2018-01-14",
          "2018-01-15",
          "2018-01-16",
          "2018-01-17",
          "2018-01-18",
          "2018-01-19",
          "2018-01-20",
          "2018-01-21",
          "2018-01-22",
          "2018-01-23",
          "2018-01-24",
          "2018-01-25",
          "2018-01-26",
          "2018-01-27",
          "2018-01-28",
          "2018-01-29",
          "2018-01-30",
          "2018-01-31",
          "2018-02-01",
          "2018-02-02",
          "2018-02-03",
          "2018-02-04",
          "2018-02-05",
          "2018-02-06",
          "2018-02-07",
          "2018-02-08",
          "2018-02-09",
          "2018-02-10",
          "2018-02-11",
          "2018-02-12",
          "2018-02-13",
          "2018-02-14",
          "2018-02-15",
          "2018-02-16",
          "2018-02-17",
          "2018-02-18",
          "2018-02-19",
          "2018-02-20",
          "2018-02-21",
          "2018-02-22",
          "2018-02-23",
          "2018-02-24",
          "2018-02-25",
          "2018-02-26",
          "2018-02-27",
          "2018-02-28",
          "2018-03-01",
          "2018-03-02",
          "2018-03-03",
          "2018-03-04",
          "2018-03-05",
          "2018-03-06",
          "2018-03-07",
          "2018-03-08",
          "2018-03-09",
          "2018-03-10",
          "2018-03-11",
          "2018-03-12",
          "2018-03-13",
          "2018-03-14",
          "2018-03-15",
          "2018-03-16",
          "2018-03-17",
          "2018-03-18",
          "2018-03-19",
          "2018-03-20",
          "2018-03-21",
          "2018-03-22",
          "2018-03-23",
          "2018-03-24",
          "2018-03-25",
          "2018-03-26",
          "2018-03-27",
          "2018-03-28",
          "2018-03-29",
          "2018-03-30",
          "2018-03-31",
          "2018-04-01",
          "2018-04-02",
          "2018-04-03",
          "2018-04-04",
          "2018-04-05",
          "2018-04-06",
          "2018-04-07",
          "2018-04-08",
          "2018-04-09",
          "2018-04-10",
          "2018-04-11",
          "2018-04-12",
          "2018-04-13",
          "2018-04-14",
          "2018-04-15",
          "2018-04-16",
          "2018-04-17",
          "2018-04-18",
          "2018-04-19",
          "2018-04-20",
          "2018-04-21",
          "2018-04-22",
          "2018-04-23",
          "2018-04-24",
          "2018-04-25",
          "2018-04-26",
          "2018-04-27",
          "2018-04-28",
          "2018-04-29",
          "2018-04-30",
          "2018-05-01",
          "2018-05-02",
          "2018-05-03",
          "2018-05-04",
          "2018-05-05",
          "2018-05-06",
          "2018-05-07",
          "2018-05-08",
          "2018-05-09",
          "2018-05-10",
          "2018-05-11",
          "2018-05-12",
          "2018-05-13",
          "2018-05-14",
          "2018-05-15",
          "2018-05-16",
          "2018-05-17",
          "2018-05-18",
          "2018-05-19",
          "2018-05-20",
          "2018-05-21",
          "2018-05-22",
          "2018-05-23",
          "2018-05-24",
          "2018-05-25",
          "2018-05-26",
          "2018-05-27",
          "2018-05-28",
          "2018-05-29",
          "2018-05-30",
          "2018-05-31",
          "2018-06-01",
          "2018-06-02",
          "2018-06-03",
          "2018-06-04",
          "2018-06-05",
          "2018-06-06",
          "2018-06-07",
          "2018-06-08",
          "2018-06-09",
          "2018-06-10",
          "2018-06-11",
          "2018-06-12",
          "2018-06-13",
          "2018-06-14",
          "2018-06-15",
          "2018-06-16",
          "2018-06-17",
          "2018-06-18",
          "2018-06-19",
          "2018-06-20",
          "2018-06-21",
          "2018-06-22",
          "2018-06-23",
          "2018-06-24",
          "2018-06-25",
          "2018-06-26",
          "2018-06-27",
          "2018-06-28",
          "2018-06-29",
          "2018-06-30",
          "2018-07-01",
          "2018-07-02",
          "2018-07-03",
          "2018-07-04",
          "2018-07-05",
          "2018-07-06",
          "2018-07-07",
          "2018-07-08",
          "2018-07-09",
          "2018-07-10",
          "2018-07-11",
          "2018-07-12",
          "2018-07-13",
          "2018-07-14",
          "2018-07-15",
          "2018-07-16",
          "2018-07-17",
          "2018-07-18",
          "2018-07-19",
          "2018-07-20",
          "2018-07-21",
          "2018-07-22",
          "2018-07-23",
          "2018-07-24",
          "2018-07-25",
          "2018-07-26",
          "2018-07-27",
          "2018-07-28",
          "2018-07-29",
          "2018-07-30",
          "2018-07-31",
          "2018-08-01",
          "2018-08-02",
          "2018-08-03",
          "2018-08-04",
          "2018-08-05",
          "2018-08-06",
          "2018-08-07",
          "2018-08-08",
          "2018-08-09",
          "2018-08-10",
          "2018-08-11",
          "2018-08-12",
          "2018-08-13",
          "2018-08-14",
          "2018-08-15",
          "2018-08-16",
          "2018-08-17",
          "2018-08-18",
          "2018-08-19",
          "2018-08-20",
          "2018-08-21",
          "2018-08-22",
          "2018-08-23",
          "2018-08-24",
          "2018-08-25",
          "2018-08-26",
          "2018-08-27",
          "2018-08-28",
          "2018-08-29",
          "2018-08-30",
          "2018-08-31",
          "2018-09-03",
          "2018-09-06",
          "2018-09-10",
          "2018-09-11",
          "2018-09-12",
          "2018-09-13",
          "2018-09-17",
          "2018-09-20",
          "2018-09-25",
          "2018-09-26",
          "2018-09-29",
          "2018-10-01",
          "2018-10-03",
          "2018-10-16",
          "2018-10-17"
         ],
         "xaxis": "x",
         "y": [
          136.23,
          75.06,
          40.95,
          0,
          109.34,
          595.14,
          11914.650000000005,
          10212.220000000001,
          9398.609999999999,
          8255.189999999999,
          9716.129999999997,
          4152.11,
          4675.099999999999,
          61.99,
          19.62,
          707.2700000000001,
          988.2800000000001,
          1447.99,
          809.6300000000001,
          774.51,
          1571.17,
          3062.3299999999995,
          2502.69,
          2903.9699999999993,
          1507.3599999999997,
          2551.34,
          3712.2400000000002,
          3893.6099999999988,
          4683.380000000001,
          4140.159999999999,
          4698.070000000001,
          3094.7600000000007,
          4280.22,
          7553.890000000002,
          6794.499999999997,
          10434.310000000003,
          15191.960000000008,
          12904.129999999994,
          5909.979999999999,
          7160.659999999995,
          12187.899999999994,
          13021.729999999996,
          10310.99,
          10676.54,
          11639.190000000004,
          15747.169999999998,
          10153.239999999998,
          11626,
          16627.210000000003,
          14299.970000000005,
          10844.169999999996,
          15674.09,
          5648.369999999999,
          16682.29,
          13092.090000000004,
          15309.080000000002,
          8326.400000000001,
          7803.720000000001,
          8093.570000000001,
          9308.300000000003,
          4477.65,
          9157.300000000001,
          9333.460000000003,
          9393.37,
          8571.86,
          7983.009999999999,
          5126.18,
          6583.499999999999,
          6836.77,
          12582.519999999999,
          18923.17000000001,
          13146.36,
          14154.710000000003,
          15533.690000000002,
          8789.14,
          13515.120000000003,
          13855.370000000006,
          16769.66,
          13828.330000000004,
          14518.919999999993,
          12503.97,
          7853.180000000002,
          19306.060000000005,
          16542.980000000003,
          17364.910000000003,
          16653.719999999998,
          13611.279999999999,
          17943.070000000003,
          7728.08,
          20014.930000000008,
          14937.51,
          16390.14,
          22913.370000000003,
          13386.910000000009,
          11251.740000000002,
          7642.0199999999995,
          20549.290000000005,
          14838.579999999996,
          10209.110000000004,
          11434.999999999998,
          13753.280000000002,
          20574.679999999997,
          10608.62,
          10776.9,
          14152.990000000007,
          20774.549999999992,
          26863.579999999998,
          15043.719999999996,
          10290.740000000003,
          9689.41,
          13492.1,
          9878.09,
          9407.94,
          11216.110000000006,
          10515.900000000001,
          9391.56,
          6532.21,
          10765.57,
          23433.859999999993,
          13941.250000000002,
          16056.000000000004,
          10162.6,
          15005.060000000007,
          11839.91,
          17711.56999999999,
          17176.350000000006,
          18696.090000000004,
          12455.1,
          18063.289999999997,
          13835.280000000002,
          9436.999999999998,
          14869.670000000007,
          20673.079999999998,
          12192.339999999998,
          15901.720000000005,
          16584.580000000005,
          19227.55,
          20467.980000000003,
          19194.68,
          24245.050000000007,
          23418.399999999987,
          21204.03999999999,
          15314.460000000003,
          10675.67,
          17551.829999999998,
          21907.00999999999,
          24535.569999999992,
          21396.329999999987,
          20861.79000000001,
          21525.089999999986,
          12364.170000000002,
          20368.52999999999,
          28906.599999999984,
          20622.469999999998,
          26991.949999999993,
          18420.65999999999,
          12680.520000000002,
          16333.540000000012,
          11120.709999999997,
          22225.089999999993,
          17074.36,
          24063.379999999994,
          21781.379999999997,
          21769.380000000012,
          12265.439999999999,
          16029.490000000002,
          27400.540000000008,
          17525.09,
          16072.620000000006,
          22106.280000000002,
          18738.529999999995,
          9892.1,
          19348.539999999994,
          17389.2,
          16894.890000000007,
          23559.519999999982,
          15105.260000000006,
          14777.690000000004,
          13070.160000000007,
          19733.690000000002,
          25933.439999999988,
          14659.820000000002,
          7275.100000000002,
          10609.039999999999,
          15698.500000000004,
          10013.700000000003,
          20734.34000000001,
          15200.319999999998,
          19680.129999999997,
          17080.88,
          14694.570000000007,
          16236.740000000005,
          14139,
          14002.370000000004,
          19328.179999999986,
          18107.599999999988,
          24664.579999999998,
          26556.070000000003,
          16676.75,
          12001.350000000002,
          10701.14,
          20661.800000000007,
          24964.63000000001,
          22740.800000000007,
          17986.750000000007,
          21833.259999999995,
          13128.050000000005,
          16150.230000000003,
          25799.539999999994,
          32450.889999999992,
          20411.749999999985,
          22517.840000000007,
          15870.789999999997,
          13318.540000000003,
          14066.830000000004,
          22950.00999999999,
          20884.700000000004,
          14053.840000000006,
          18945.82,
          23276.300000000003,
          18371.909999999993,
          15341.690000000008,
          20479.91,
          25417.35999999999,
          21690.260000000006,
          22380.55000000001,
          21712.530000000006,
          14465.840000000002,
          17023.39000000001,
          26629.340000000007,
          21541.13000000001,
          24214.39000000001,
          23594.020000000004,
          23627.109999999986,
          16221.090000000004,
          15928.580000000005,
          22232.119999999995,
          27992.040000000008,
          28398.60999999997,
          21885.089999999993,
          20143.719999999998,
          15172.920000000006,
          15073.710000000005,
          26019.71999999999,
          19955.449999999986,
          18789.699999999993,
          16398.730000000003,
          17403.720000000005,
          12054.650000000009,
          16327.140000000001,
          25696.590000000015,
          37025.69999999999,
          35466.26999999998,
          23914.850000000002,
          32485.269999999997,
          20479.17999999999,
          30950.780000000002,
          28719.239999999998,
          24954.680000000008,
          28821.83,
          21328.86000000001,
          14789.080000000002,
          17681.22,
          20978.600000000002,
          27103.889999999992,
          32784.959999999985,
          32054.369999999984,
          26502.510000000006,
          21556.659999999996,
          24040.31,
          22848.41999999999,
          32535.229999999992,
          23478.66000000001,
          26170.079999999998,
          22458.18999999998,
          19200.250000000007,
          12574.83,
          15880.060000000003,
          21203.050000000003,
          25296.359999999993,
          24879.939999999988,
          26629.300000000003,
          34497.46999999999,
          14879.170000000002,
          21909.429999999997,
          25565.110000000008,
          30389.119999999995,
          24787.58000000001,
          29129.829999999994,
          21890.58,
          17975.41,
          19756.299999999992,
          35265.56999999999,
          32559.070000000003,
          26214.77999999999,
          22520.929999999993,
          26589.92,
          16185.459999999997,
          21353.839999999997,
          35315.41999999998,
          35288.18,
          31793.669999999995,
          26988.799999999996,
          21979.199999999993,
          18022.3,
          23273.049999999996,
          25993.410000000007,
          25739.269999999997,
          21470.530000000006,
          26415.549999999992,
          23488.17,
          20572.640000000007,
          20444.680000000004,
          23741.859999999997,
          27058.219999999983,
          22702.160000000003,
          25017.159999999996,
          27058.519999999997,
          22294.809999999998,
          21752.57,
          33945.13999999999,
          24945.210000000003,
          23436.700000000008,
          29175.83,
          23676.7,
          27578.63000000002,
          26725.080000000005,
          29606.239999999987,
          32012.600000000006,
          27683.349999999995,
          33063.26999999999,
          35386.83999999998,
          27968.569999999996,
          23312.600000000002,
          50621.24,
          39831.85,
          30721.619999999995,
          52584.619999999995,
          179200.02999999994,
          71897.01,
          53939.87,
          56966.280000000006,
          56708.40999999998,
          48043.16000000003,
          37026.72999999998,
          46080.83999999996,
          35908.509999999995,
          34803.18999999998,
          56225.409999999974,
          40707.770000000004,
          46149.63000000002,
          33664.200000000004,
          35160.820000000014,
          23639.519999999997,
          29784.260000000024,
          39415.42999999998,
          40370.389999999985,
          34385.08,
          30754.309999999987,
          31451.629999999986,
          22907.05000000001,
          22105.999999999993,
          33898.129999999976,
          24494.27999999999,
          32004.67999999999,
          21546.44,
          18073.47000000001,
          16425.64,
          6960.790000000002,
          12662.230000000003,
          23797.46000000001,
          21074.289999999994,
          17793.849999999995,
          20552.64000000001,
          15412.610000000002,
          10190.929999999998,
          8486.289999999999,
          29494.739999999994,
          37154.62,
          40998.14999999999,
          32341.949999999993,
          32711.84,
          33993.479999999996,
          45310.599999999984,
          35439.999999999985,
          44824.93000000001,
          46746.37999999997,
          37270.22999999999,
          33222.380000000005,
          35993.459999999985,
          45208.28999999999,
          51339.38000000002,
          42151.91999999998,
          33038.69000000002,
          35649.62999999997,
          26960.000000000007,
          28447.419999999987,
          43867.890000000036,
          40298.33000000003,
          37025.22999999998,
          35335.98000000001,
          39308.93999999998,
          25106.77000000001,
          27804.900000000005,
          36056.51999999999,
          35523.60999999998,
          37891.630000000005,
          35767.91999999998,
          32532.449999999993,
          27572.170000000002,
          28261.909999999996,
          43196.969999999965,
          40066.41999999996,
          36529.710000000014,
          31911.009999999973,
          35374.18999999999,
          25265.31999999999,
          26129.459999999992,
          27990.54999999998,
          29024.169999999987,
          43643.359999999986,
          39224.750000000015,
          31867.470000000005,
          29611.55,
          29071.929999999975,
          33735.95999999999,
          42706.690000000024,
          38017.25999999998,
          38784.23000000002,
          33072.96,
          28341.360000000004,
          34930.87999999998,
          50433.959999999934,
          47076.98999999997,
          52321.739999999976,
          46747.399999999994,
          37550.30999999999,
          31781.789999999983,
          37479.799999999974,
          45635.60999999999,
          45971.24000000001,
          42513.19000000003,
          33842.11999999999,
          33823.070000000014,
          31105,
          36618.35000000003,
          35930.88999999998,
          42179.579999999994,
          28417.25000000002,
          51935.360000000015,
          38760.35999999999,
          24000.210000000006,
          36076.37999999998,
          52707.310000000034,
          42887.92999999999,
          46482.08999999998,
          36989.790000000045,
          34817.72,
          27711.420000000006,
          30192.800000000017,
          42745.22999999999,
          40633.58000000003,
          35150.720000000016,
          33564.47000000001,
          26279.75000000001,
          29121.4,
          34189,
          48076.450000000026,
          42187.32000000005,
          43567.820000000036,
          42219.170000000035,
          32285.36,
          29014.860000000008,
          27883.61,
          55782.82,
          32535.280000000013,
          47204.469999999994,
          39945.380000000005,
          36440.52999999998,
          22397.870000000006,
          36564.19,
          47364.65000000005,
          42814.250000000015,
          46308.64999999997,
          50326.52999999999,
          32841.640000000014,
          22465.889999999992,
          31991.790000000023,
          44363.29000000002,
          49905.01999999999,
          47356.490000000005,
          36912.770000000004,
          46764.300000000025,
          26978.52000000001,
          23060.950000000008,
          41036.61000000001,
          39274.26000000002,
          44908.630000000005,
          50218.850000000006,
          45494.099999999984,
          32640.670000000013,
          33099.310000000005,
          62568.25000000001,
          55129.380000000056,
          51096.81999999996,
          58871.87,
          43346.500000000015,
          34883.12,
          36320.07000000001,
          62230.72999999996,
          49505.98999999998,
          64742.060000000005,
          36258.360000000015,
          36429.77,
          28319.729999999996,
          23086.12,
          30619.940000000017,
          32070.660000000007,
          20262.30000000001,
          22278.7,
          18286.320000000007,
          16914.09,
          14693.68,
          30304.950000000004,
          29441.33000000001,
          22529.07000000001,
          28156.520000000004,
          37284.050000000025,
          28939.989999999994,
          33024.44,
          34326.40000000001,
          36471.22,
          32176.980000000003,
          42676.37999999999,
          31797.20000000001,
          34033.780000000006,
          30295.410000000007,
          57345.55999999998,
          46762.43000000001,
          41586.61,
          32707.209999999985,
          31498.76000000002,
          29000.08,
          20751.519999999986,
          41027.07,
          40013.59999999999,
          34330.26000000001,
          33301.98999999998,
          28753.149999999998,
          21181.11000000001,
          29498.57000000001,
          42008.02000000002,
          37673.669999999984,
          32920.9,
          38773.74000000002,
          25098.690000000013,
          18621.710000000006,
          29060.700000000015,
          29422.429999999997,
          31454.6,
          41579.79999999999,
          33949.500000000015,
          22108.66999999999,
          11277.240000000002,
          17554.720000000005,
          23122.169999999987,
          22694.45,
          22148.64,
          35228.69999999998,
          32635.240000000013,
          26427.019999999997,
          34489.39999999999,
          37854.659999999996,
          35758.42,
          51392.43000000001,
          44911.25000000002,
          38131.01000000001,
          25508.970000000012,
          32962.26,
          48104.330000000016,
          48154.03,
          47917.70999999999,
          41784.73999999998,
          33331.119999999966,
          30168.169999999995,
          36468.26000000002,
          46288.00999999999,
          54652.10000000001,
          48850.81000000005,
          45932.69999999999,
          49517.59000000002,
          41239.970000000016,
          42272.07,
          65860.43000000002,
          62057.769999999975,
          51463.76000000004,
          47261.68,
          40690.25999999997,
          31277.249999999993,
          36739.750000000015,
          48163.75999999999,
          51574.67,
          53322.7,
          42581.079999999994,
          40872.77000000003,
          29695.070000000003,
          29989.349999999995,
          40352.46999999997,
          31479.900000000005,
          24401.84000000002,
          19737.719999999994,
          11450.760000000002,
          11737.760000000002,
          9304,
          6229.950000000001,
          5216.72,
          2381.83,
          705.0400000000001,
          63.89,
          458.64000000000004,
          2443.2000000000003,
          51.17,
          258.67,
          84.58,
          414.04,
          84.58,
          191.46,
          221.54,
          94.63,
          137.03,
          80.38,
          197.55,
          222.03,
          89.71
         ],
         "yaxis": "y"
        }
       ],
       "layout": {
        "autosize": true,
        "legend": {
         "tracegroupgap": 0
        },
        "margin": {
         "t": 60
        },
        "template": {
         "data": {
          "bar": [
           {
            "error_x": {
             "color": "#2a3f5f"
            },
            "error_y": {
             "color": "#2a3f5f"
            },
            "marker": {
             "line": {
              "color": "#E5ECF6",
              "width": 0.5
             },
             "pattern": {
              "fillmode": "overlay",
              "size": 10,
              "solidity": 0.2
             }
            },
            "type": "bar"
           }
          ],
          "barpolar": [
           {
            "marker": {
             "line": {
              "color": "#E5ECF6",
              "width": 0.5
             },
             "pattern": {
              "fillmode": "overlay",
              "size": 10,
              "solidity": 0.2
             }
            },
            "type": "barpolar"
           }
          ],
          "carpet": [
           {
            "aaxis": {
             "endlinecolor": "#2a3f5f",
             "gridcolor": "white",
             "linecolor": "white",
             "minorgridcolor": "white",
             "startlinecolor": "#2a3f5f"
            },
            "baxis": {
             "endlinecolor": "#2a3f5f",
             "gridcolor": "white",
             "linecolor": "white",
             "minorgridcolor": "white",
             "startlinecolor": "#2a3f5f"
            },
            "type": "carpet"
           }
          ],
          "choropleth": [
           {
            "colorbar": {
             "outlinewidth": 0,
             "ticks": ""
            },
            "type": "choropleth"
           }
          ],
          "contour": [
           {
            "colorbar": {
             "outlinewidth": 0,
             "ticks": ""
            },
            "colorscale": [
             [
              0,
              "#0d0887"
             ],
             [
              0.1111111111111111,
              "#46039f"
             ],
             [
              0.2222222222222222,
              "#7201a8"
             ],
             [
              0.3333333333333333,
              "#9c179e"
             ],
             [
              0.4444444444444444,
              "#bd3786"
             ],
             [
              0.5555555555555556,
              "#d8576b"
             ],
             [
              0.6666666666666666,
              "#ed7953"
             ],
             [
              0.7777777777777778,
              "#fb9f3a"
             ],
             [
              0.8888888888888888,
              "#fdca26"
             ],
             [
              1,
              "#f0f921"
             ]
            ],
            "type": "contour"
           }
          ],
          "contourcarpet": [
           {
            "colorbar": {
             "outlinewidth": 0,
             "ticks": ""
            },
            "type": "contourcarpet"
           }
          ],
          "heatmap": [
           {
            "colorbar": {
             "outlinewidth": 0,
             "ticks": ""
            },
            "colorscale": [
             [
              0,
              "#0d0887"
             ],
             [
              0.1111111111111111,
              "#46039f"
             ],
             [
              0.2222222222222222,
              "#7201a8"
             ],
             [
              0.3333333333333333,
              "#9c179e"
             ],
             [
              0.4444444444444444,
              "#bd3786"
             ],
             [
              0.5555555555555556,
              "#d8576b"
             ],
             [
              0.6666666666666666,
              "#ed7953"
             ],
             [
              0.7777777777777778,
              "#fb9f3a"
             ],
             [
              0.8888888888888888,
              "#fdca26"
             ],
             [
              1,
              "#f0f921"
             ]
            ],
            "type": "heatmap"
           }
          ],
          "heatmapgl": [
           {
            "colorbar": {
             "outlinewidth": 0,
             "ticks": ""
            },
            "colorscale": [
             [
              0,
              "#0d0887"
             ],
             [
              0.1111111111111111,
              "#46039f"
             ],
             [
              0.2222222222222222,
              "#7201a8"
             ],
             [
              0.3333333333333333,
              "#9c179e"
             ],
             [
              0.4444444444444444,
              "#bd3786"
             ],
             [
              0.5555555555555556,
              "#d8576b"
             ],
             [
              0.6666666666666666,
              "#ed7953"
             ],
             [
              0.7777777777777778,
              "#fb9f3a"
             ],
             [
              0.8888888888888888,
              "#fdca26"
             ],
             [
              1,
              "#f0f921"
             ]
            ],
            "type": "heatmapgl"
           }
          ],
          "histogram": [
           {
            "marker": {
             "pattern": {
              "fillmode": "overlay",
              "size": 10,
              "solidity": 0.2
             }
            },
            "type": "histogram"
           }
          ],
          "histogram2d": [
           {
            "colorbar": {
             "outlinewidth": 0,
             "ticks": ""
            },
            "colorscale": [
             [
              0,
              "#0d0887"
             ],
             [
              0.1111111111111111,
              "#46039f"
             ],
             [
              0.2222222222222222,
              "#7201a8"
             ],
             [
              0.3333333333333333,
              "#9c179e"
             ],
             [
              0.4444444444444444,
              "#bd3786"
             ],
             [
              0.5555555555555556,
              "#d8576b"
             ],
             [
              0.6666666666666666,
              "#ed7953"
             ],
             [
              0.7777777777777778,
              "#fb9f3a"
             ],
             [
              0.8888888888888888,
              "#fdca26"
             ],
             [
              1,
              "#f0f921"
             ]
            ],
            "type": "histogram2d"
           }
          ],
          "histogram2dcontour": [
           {
            "colorbar": {
             "outlinewidth": 0,
             "ticks": ""
            },
            "colorscale": [
             [
              0,
              "#0d0887"
             ],
             [
              0.1111111111111111,
              "#46039f"
             ],
             [
              0.2222222222222222,
              "#7201a8"
             ],
             [
              0.3333333333333333,
              "#9c179e"
             ],
             [
              0.4444444444444444,
              "#bd3786"
             ],
             [
              0.5555555555555556,
              "#d8576b"
             ],
             [
              0.6666666666666666,
              "#ed7953"
             ],
             [
              0.7777777777777778,
              "#fb9f3a"
             ],
             [
              0.8888888888888888,
              "#fdca26"
             ],
             [
              1,
              "#f0f921"
             ]
            ],
            "type": "histogram2dcontour"
           }
          ],
          "mesh3d": [
           {
            "colorbar": {
             "outlinewidth": 0,
             "ticks": ""
            },
            "type": "mesh3d"
           }
          ],
          "parcoords": [
           {
            "line": {
             "colorbar": {
              "outlinewidth": 0,
              "ticks": ""
             }
            },
            "type": "parcoords"
           }
          ],
          "pie": [
           {
            "automargin": true,
            "type": "pie"
           }
          ],
          "scatter": [
           {
            "marker": {
             "colorbar": {
              "outlinewidth": 0,
              "ticks": ""
             }
            },
            "type": "scatter"
           }
          ],
          "scatter3d": [
           {
            "line": {
             "colorbar": {
              "outlinewidth": 0,
              "ticks": ""
             }
            },
            "marker": {
             "colorbar": {
              "outlinewidth": 0,
              "ticks": ""
             }
            },
            "type": "scatter3d"
           }
          ],
          "scattercarpet": [
           {
            "marker": {
             "colorbar": {
              "outlinewidth": 0,
              "ticks": ""
             }
            },
            "type": "scattercarpet"
           }
          ],
          "scattergeo": [
           {
            "marker": {
             "colorbar": {
              "outlinewidth": 0,
              "ticks": ""
             }
            },
            "type": "scattergeo"
           }
          ],
          "scattergl": [
           {
            "marker": {
             "colorbar": {
              "outlinewidth": 0,
              "ticks": ""
             }
            },
            "type": "scattergl"
           }
          ],
          "scattermapbox": [
           {
            "marker": {
             "colorbar": {
              "outlinewidth": 0,
              "ticks": ""
             }
            },
            "type": "scattermapbox"
           }
          ],
          "scatterpolar": [
           {
            "marker": {
             "colorbar": {
              "outlinewidth": 0,
              "ticks": ""
             }
            },
            "type": "scatterpolar"
           }
          ],
          "scatterpolargl": [
           {
            "marker": {
             "colorbar": {
              "outlinewidth": 0,
              "ticks": ""
             }
            },
            "type": "scatterpolargl"
           }
          ],
          "scatterternary": [
           {
            "marker": {
             "colorbar": {
              "outlinewidth": 0,
              "ticks": ""
             }
            },
            "type": "scatterternary"
           }
          ],
          "surface": [
           {
            "colorbar": {
             "outlinewidth": 0,
             "ticks": ""
            },
            "colorscale": [
             [
              0,
              "#0d0887"
             ],
             [
              0.1111111111111111,
              "#46039f"
             ],
             [
              0.2222222222222222,
              "#7201a8"
             ],
             [
              0.3333333333333333,
              "#9c179e"
             ],
             [
              0.4444444444444444,
              "#bd3786"
             ],
             [
              0.5555555555555556,
              "#d8576b"
             ],
             [
              0.6666666666666666,
              "#ed7953"
             ],
             [
              0.7777777777777778,
              "#fb9f3a"
             ],
             [
              0.8888888888888888,
              "#fdca26"
             ],
             [
              1,
              "#f0f921"
             ]
            ],
            "type": "surface"
           }
          ],
          "table": [
           {
            "cells": {
             "fill": {
              "color": "#EBF0F8"
             },
             "line": {
              "color": "white"
             }
            },
            "header": {
             "fill": {
              "color": "#C8D4E3"
             },
             "line": {
              "color": "white"
             }
            },
            "type": "table"
           }
          ]
         },
         "layout": {
          "annotationdefaults": {
           "arrowcolor": "#2a3f5f",
           "arrowhead": 0,
           "arrowwidth": 1
          },
          "autotypenumbers": "strict",
          "coloraxis": {
           "colorbar": {
            "outlinewidth": 0,
            "ticks": ""
           }
          },
          "colorscale": {
           "diverging": [
            [
             0,
             "#8e0152"
            ],
            [
             0.1,
             "#c51b7d"
            ],
            [
             0.2,
             "#de77ae"
            ],
            [
             0.3,
             "#f1b6da"
            ],
            [
             0.4,
             "#fde0ef"
            ],
            [
             0.5,
             "#f7f7f7"
            ],
            [
             0.6,
             "#e6f5d0"
            ],
            [
             0.7,
             "#b8e186"
            ],
            [
             0.8,
             "#7fbc41"
            ],
            [
             0.9,
             "#4d9221"
            ],
            [
             1,
             "#276419"
            ]
           ],
           "sequential": [
            [
             0,
             "#0d0887"
            ],
            [
             0.1111111111111111,
             "#46039f"
            ],
            [
             0.2222222222222222,
             "#7201a8"
            ],
            [
             0.3333333333333333,
             "#9c179e"
            ],
            [
             0.4444444444444444,
             "#bd3786"
            ],
            [
             0.5555555555555556,
             "#d8576b"
            ],
            [
             0.6666666666666666,
             "#ed7953"
            ],
            [
             0.7777777777777778,
             "#fb9f3a"
            ],
            [
             0.8888888888888888,
             "#fdca26"
            ],
            [
             1,
             "#f0f921"
            ]
           ],
           "sequentialminus": [
            [
             0,
             "#0d0887"
            ],
            [
             0.1111111111111111,
             "#46039f"
            ],
            [
             0.2222222222222222,
             "#7201a8"
            ],
            [
             0.3333333333333333,
             "#9c179e"
            ],
            [
             0.4444444444444444,
             "#bd3786"
            ],
            [
             0.5555555555555556,
             "#d8576b"
            ],
            [
             0.6666666666666666,
             "#ed7953"
            ],
            [
             0.7777777777777778,
             "#fb9f3a"
            ],
            [
             0.8888888888888888,
             "#fdca26"
            ],
            [
             1,
             "#f0f921"
            ]
           ]
          },
          "colorway": [
           "#636efa",
           "#EF553B",
           "#00cc96",
           "#ab63fa",
           "#FFA15A",
           "#19d3f3",
           "#FF6692",
           "#B6E880",
           "#FF97FF",
           "#FECB52"
          ],
          "font": {
           "color": "#2a3f5f"
          },
          "geo": {
           "bgcolor": "white",
           "lakecolor": "white",
           "landcolor": "#E5ECF6",
           "showlakes": true,
           "showland": true,
           "subunitcolor": "white"
          },
          "hoverlabel": {
           "align": "left"
          },
          "hovermode": "closest",
          "mapbox": {
           "style": "light"
          },
          "paper_bgcolor": "white",
          "plot_bgcolor": "#E5ECF6",
          "polar": {
           "angularaxis": {
            "gridcolor": "white",
            "linecolor": "white",
            "ticks": ""
           },
           "bgcolor": "#E5ECF6",
           "radialaxis": {
            "gridcolor": "white",
            "linecolor": "white",
            "ticks": ""
           }
          },
          "scene": {
           "xaxis": {
            "backgroundcolor": "#E5ECF6",
            "gridcolor": "white",
            "gridwidth": 2,
            "linecolor": "white",
            "showbackground": true,
            "ticks": "",
            "zerolinecolor": "white"
           },
           "yaxis": {
            "backgroundcolor": "#E5ECF6",
            "gridcolor": "white",
            "gridwidth": 2,
            "linecolor": "white",
            "showbackground": true,
            "ticks": "",
            "zerolinecolor": "white"
           },
           "zaxis": {
            "backgroundcolor": "#E5ECF6",
            "gridcolor": "white",
            "gridwidth": 2,
            "linecolor": "white",
            "showbackground": true,
            "ticks": "",
            "zerolinecolor": "white"
           }
          },
          "shapedefaults": {
           "line": {
            "color": "#2a3f5f"
           }
          },
          "ternary": {
           "aaxis": {
            "gridcolor": "white",
            "linecolor": "white",
            "ticks": ""
           },
           "baxis": {
            "gridcolor": "white",
            "linecolor": "white",
            "ticks": ""
           },
           "bgcolor": "#E5ECF6",
           "caxis": {
            "gridcolor": "white",
            "linecolor": "white",
            "ticks": ""
           }
          },
          "title": {
           "x": 0.05
          },
          "xaxis": {
           "automargin": true,
           "gridcolor": "white",
           "linecolor": "white",
           "ticks": "",
           "title": {
            "standoff": 15
           },
           "zerolinecolor": "white",
           "zerolinewidth": 2
          },
          "yaxis": {
           "automargin": true,
           "gridcolor": "white",
           "linecolor": "white",
           "ticks": "",
           "title": {
            "standoff": 15
           },
           "zerolinecolor": "white",
           "zerolinewidth": 2
          }
         }
        },
        "xaxis": {
         "anchor": "y",
         "autorange": true,
         "domain": [
          0,
          1
         ],
         "range": [
          "2016-09-04",
          "2018-10-17"
         ],
         "title": {
          "text": "x"
         },
         "type": "date"
        },
        "yaxis": {
         "anchor": "x",
         "autorange": true,
         "domain": [
          0,
          1
         ],
         "range": [
          -9955.557222222218,
          189155.58722222215
         ],
         "title": {
          "text": "y"
         },
         "type": "linear"
        }
       }
      },
      "image/png": "[encoded data removed]",
      "text/html": [
       "<div>                            <div id=\"b49cb5ab-ee3e-40b1-bfb1-f3a7dbad2445\" class=\"plotly-graph-div\" style=\"height:525px; width:100%;\"></div>            <script type=\"text/javascript\">                require([\"plotly\"], function(Plotly) {                    window.PLOTLYENV=window.PLOTLYENV || {};                                    if (document.getElementById(\"b49cb5ab-ee3e-40b1-bfb1-f3a7dbad2445\")) {                    Plotly.newPlot(                        \"b49cb5ab-ee3e-40b1-bfb1-f3a7dbad2445\",                        [{\"hovertemplate\":\"x=%{x}<br>y=%{y}<extra></extra>\",\"legendgroup\":\"\",\"line\":{\"color\":\"#636efa\",\"dash\":\"solid\"},\"mode\":\"lines\",\"name\":\"\",\"orientation\":\"v\",\"showlegend\":false,\"type\":\"scatter\",\"x\":[\"2016-09-04\",\"2016-09-05\",\"2016-09-13\",\"2016-09-15\",\"2016-10-02\",\"2016-10-03\",\"2016-10-04\",\"2016-10-05\",\"2016-10-06\",\"2016-10-07\",\"2016-10-08\",\"2016-10-09\",\"2016-10-10\",\"2016-10-22\",\"2016-12-23\",\"2017-01-05\",\"2017-01-06\",\"2017-01-07\",\"2017-01-08\",\"2017-01-09\",\"2017-01-10\",\"2017-01-11\",\"2017-01-12\",\"2017-01-13\",\"2017-01-14\",\"2017-01-15\",\"2017-01-16\",\"2017-01-17\",\"2017-01-18\",\"2017-01-19\",\"2017-01-20\",\"2017-01-21\",\"2017-01-22\",\"2017-01-23\",\"2017-01-24\",\"2017-01-25\",\"2017-01-26\",\"2017-01-27\",\"2017-01-28\",\"2017-01-29\",\"2017-01-30\",\"2017-01-31\",\"2017-02-01\",\"2017-02-02\",\"2017-02-03\",\"2017-02-04\",\"2017-02-05\",\"2017-02-06\",\"2017-02-07\",\"2017-02-08\",\"2017-02-09\",\"2017-02-10\",\"2017-02-11\",\"2017-02-12\",\"2017-02-13\",\"2017-02-14\",\"2017-02-15\",\"2017-02-16\",\"2017-02-17\",\"2017-02-18\",\"2017-02-19\",\"2017-02-20\",\"2017-02-21\",\"2017-02-22\",\"2017-02-23\",\"2017-02-24\",\"2017-02-25\",\"2017-02-26\",\"2017-02-27\",\"2017-02-28\",\"2017-03-01\",\"2017-03-02\",\"2017-03-03\",\"2017-03-04\",\"2017-03-05\",\"2017-03-06\",\"2017-03-07\",\"2017-03-08\",\"2017-03-09\",\"2017-03-10\",\"2017-03-11\",\"2017-03-12\",\"2017-03-13\",\"2017-03-14\",\"2017-03-15\",\"2017-03-16\",\"2017-03-17\",\"2017-03-18\",\"2017-03-19\",\"2017-03-20\",\"2017-03-21\",\"2017-03-22\",\"2017-03-23\",\"2017-03-24\",\"2017-03-25\",\"2017-03-26\",\"2017-03-27\",\"2017-03-28\",\"2017-03-29\",\"2017-03-30\",\"2017-03-31\",\"2017-04-01\",\"2017-04-02\",\"2017-04-03\",\"2017-04-04\",\"2017-04-05\",\"2017-04-06\",\"2017-04-07\",\"2017-04-08\",\"2017-04-09\",\"2017-04-10\",\"2017-04-11\",\"2017-04-12\",\"2017-04-13\",\"2017-04-14\",\"2017-04-15\",\"2017-04-16\",\"2017-04-17\",\"2017-04-18\",\"2017-04-19\",\"2017-04-20\",\"2017-04-21\",\"2017-04-22\",\"2017-04-23\",\"2017-04-24\",\"2017-04-25\",\"2017-04-26\",\"2017-04-27\",\"2017-04-28\",\"2017-04-29\",\"2017-04-30\",\"2017-05-01\",\"2017-05-02\",\"2017-05-03\",\"2017-05-04\",\"2017-05-05\",\"2017-05-06\",\"2017-05-07\",\"2017-05-08\",\"2017-05-09\",\"2017-05-10\",\"2017-05-11\",\"2017-05-12\",\"2017-05-13\",\"2017-05-14\",\"2017-05-15\",\"2017-05-16\",\"2017-05-17\",\"2017-05-18\",\"2017-05-19\",\"2017-05-20\",\"2017-05-21\",\"2017-05-22\",\"2017-05-23\",\"2017-05-24\",\"2017-05-25\",\"2017-05-26\",\"2017-05-27\",\"2017-05-28\",\"2017-05-29\",\"2017-05-30\",\"2017-05-31\",\"2017-06-01\",\"2017-06-02\",\"2017-06-03\",\"2017-06-04\",\"2017-06-05\",\"2017-06-06\",\"2017-06-07\",\"2017-06-08\",\"2017-06-09\",\"2017-06-10\",\"2017-06-11\",\"2017-06-12\",\"2017-06-13\",\"2017-06-14\",\"2017-06-15\",\"2017-06-16\",\"2017-06-17\",\"2017-06-18\",\"2017-06-19\",\"2017-06-20\",\"2017-06-21\",\"2017-06-22\",\"2017-06-23\",\"2017-06-24\",\"2017-06-25\",\"2017-06-26\",\"2017-06-27\",\"2017-06-28\",\"2017-06-29\",\"2017-06-30\",\"2017-07-01\",\"2017-07-02\",\"2017-07-03\",\"2017-07-04\",\"2017-07-05\",\"2017-07-06\",\"2017-07-07\",\"2017-07-08\",\"2017-07-09\",\"2017-07-10\",\"2017-07-11\",\"2017-07-12\",\"2017-07-13\",\"2017-07-14\",\"2017-07-15\",\"2017-07-16\",\"2017-07-17\",\"2017-07-18\",\"2017-07-19\",\"2017-07-20\",\"2017-07-21\",\"2017-07-22\",\"2017-07-23\",\"2017-07-24\",\"2017-07-25\",\"2017-07-26\",\"2017-07-27\",\"2017-07-28\",\"2017-07-29\",\"2017-07-30\",\"2017-07-31\",\"2017-08-01\",\"2017-08-02\",\"2017-08-03\",\"2017-08-04\",\"2017-08-05\",\"2017-08-06\",\"2017-08-07\",\"2017-08-08\",\"2017-08-09\",\"2017-08-10\",\"2017-08-11\",\"2017-08-12\",\"2017-08-13\",\"2017-08-14\",\"2017-08-15\",\"2017-08-16\",\"2017-08-17\",\"2017-08-18\",\"2017-08-19\",\"2017-08-20\",\"2017-08-21\",\"2017-08-22\",\"2017-08-23\",\"2017-08-24\",\"2017-08-25\",\"2017-08-26\",\"2017-08-27\",\"2017-08-28\",\"2017-08-29\",\"2017-08-30\",\"2017-08-31\",\"2017-09-01\",\"2017-09-02\",\"2017-09-03\",\"2017-09-04\",\"2017-09-05\",\"2017-09-06\",\"2017-09-07\",\"2017-09-08\",\"2017-09-09\",\"2017-09-10\",\"2017-09-11\",\"2017-09-12\",\"2017-09-13\",\"2017-09-14\",\"2017-09-15\",\"2017-09-16\",\"2017-09-17\",\"2017-09-18\",\"2017-09-19\",\"2017-09-20\",\"2017-09-21\",\"2017-09-22\",\"2017-09-23\",\"2017-09-24\",\"2017-09-25\",\"2017-09-26\",\"2017-09-27\",\"2017-09-28\",\"2017-09-29\",\"2017-09-30\",\"2017-10-01\",\"2017-10-02\",\"2017-10-03\",\"2017-10-04\",\"2017-10-05\",\"2017-10-06\",\"2017-10-07\",\"2017-10-08\",\"2017-10-09\",\"2017-10-10\",\"2017-10-11\",\"2017-10-12\",\"2017-10-13\",\"2017-10-14\",\"2017-10-15\",\"2017-10-16\",\"2017-10-17\",\"2017-10-18\",\"2017-10-19\",\"2017-10-20\",\"2017-10-21\",\"2017-10-22\",\"2017-10-23\",\"2017-10-24\",\"2017-10-25\",\"2017-10-26\",\"2017-10-27\",\"2017-10-28\",\"2017-10-29\",\"2017-10-30\",\"2017-10-31\",\"2017-11-01\",\"2017-11-02\",\"2017-11-03\",\"2017-11-04\",\"2017-11-05\",\"2017-11-06\",\"2017-11-07\",\"2017-11-08\",\"2017-11-09\",\"2017-11-10\",\"2017-11-11\",\"2017-11-12\",\"2017-11-13\",\"2017-11-14\",\"2017-11-15\",\"2017-11-16\",\"2017-11-17\",\"2017-11-18\",\"2017-11-19\",\"2017-11-20\",\"2017-11-21\",\"2017-11-22\",\"2017-11-23\",\"2017-11-24\",\"2017-11-25\",\"2017-11-26\",\"2017-11-27\",\"2017-11-28\",\"2017-11-29\",\"2017-11-30\",\"2017-12-01\",\"2017-12-02\",\"2017-12-03\",\"2017-12-04\",\"2017-12-05\",\"2017-12-06\",\"2017-12-07\",\"2017-12-08\",\"2017-12-09\",\"2017-12-10\",\"2017-12-11\",\"2017-12-12\",\"2017-12-13\",\"2017-12-14\",\"2017-12-15\",\"2017-12-16\",\"2017-12-17\",\"2017-12-18\",\"2017-12-19\",\"2017-12-20\",\"2017-12-21\",\"2017-12-22\",\"2017-12-23\",\"2017-12-24\",\"2017-12-25\",\"2017-12-26\",\"2017-12-27\",\"2017-12-28\",\"2017-12-29\",\"2017-12-30\",\"2017-12-31\",\"2018-01-01\",\"2018-01-02\",\"2018-01-03\",\"2018-01-04\",\"2018-01-05\",\"2018-01-06\",\"2018-01-07\",\"2018-01-08\",\"2018-01-09\",\"2018-01-10\",\"2018-01-11\",\"2018-01-12\",\"2018-01-13\",\"2018-01-14\",\"2018-01-15\",\"2018-01-16\",\"2018-01-17\",\"2018-01-18\",\"2018-01-19\",\"2018-01-20\",\"2018-01-21\",\"2018-01-22\",\"2018-01-23\",\"2018-01-24\",\"2018-01-25\",\"2018-01-26\",\"2018-01-27\",\"2018-01-28\",\"2018-01-29\",\"2018-01-30\",\"2018-01-31\",\"2018-02-01\",\"2018-02-02\",\"2018-02-03\",\"2018-02-04\",\"2018-02-05\",\"2018-02-06\",\"2018-02-07\",\"2018-02-08\",\"2018-02-09\",\"2018-02-10\",\"2018-02-11\",\"2018-02-12\",\"2018-02-13\",\"2018-02-14\",\"2018-02-15\",\"2018-02-16\",\"2018-02-17\",\"2018-02-18\",\"2018-02-19\",\"2018-02-20\",\"2018-02-21\",\"2018-02-22\",\"2018-02-23\",\"2018-02-24\",\"2018-02-25\",\"2018-02-26\",\"2018-02-27\",\"2018-02-28\",\"2018-03-01\",\"2018-03-02\",\"2018-03-03\",\"2018-03-04\",\"2018-03-05\",\"2018-03-06\",\"2018-03-07\",\"2018-03-08\",\"2018-03-09\",\"2018-03-10\",\"2018-03-11\",\"2018-03-12\",\"2018-03-13\",\"2018-03-14\",\"2018-03-15\",\"2018-03-16\",\"2018-03-17\",\"2018-03-18\",\"2018-03-19\",\"2018-03-20\",\"2018-03-21\",\"2018-03-22\",\"2018-03-23\",\"2018-03-24\",\"2018-03-25\",\"2018-03-26\",\"2018-03-27\",\"2018-03-28\",\"2018-03-29\",\"2018-03-30\",\"2018-03-31\",\"2018-04-01\",\"2018-04-02\",\"2018-04-03\",\"2018-04-04\",\"2018-04-05\",\"2018-04-06\",\"2018-04-07\",\"2018-04-08\",\"2018-04-09\",\"2018-04-10\",\"2018-04-11\",\"2018-04-12\",\"2018-04-13\",\"2018-04-14\",\"2018-04-15\",\"2018-04-16\",\"2018-04-17\",\"2018-04-18\",\"2018-04-19\",\"2018-04-20\",\"2018-04-21\",\"2018-04-22\",\"2018-04-23\",\"2018-04-24\",\"2018-04-25\",\"2018-04-26\",\"2018-04-27\",\"2018-04-28\",\"2018-04-29\",\"2018-04-30\",\"2018-05-01\",\"2018-05-02\",\"2018-05-03\",\"2018-05-04\",\"2018-05-05\",\"2018-05-06\",\"2018-05-07\",\"2018-05-08\",\"2018-05-09\",\"2018-05-10\",\"2018-05-11\",\"2018-05-12\",\"2018-05-13\",\"2018-05-14\",\"2018-05-15\",\"2018-05-16\",\"2018-05-17\",\"2018-05-18\",\"2018-05-19\",\"2018-05-20\",\"2018-05-21\",\"2018-05-22\",\"2018-05-23\",\"2018-05-24\",\"2018-05-25\",\"2018-05-26\",\"2018-05-27\",\"2018-05-28\",\"2018-05-29\",\"2018-05-30\",\"2018-05-31\",\"2018-06-01\",\"2018-06-02\",\"2018-06-03\",\"2018-06-04\",\"2018-06-05\",\"2018-06-06\",\"2018-06-07\",\"2018-06-08\",\"2018-06-09\",\"2018-06-10\",\"2018-06-11\",\"2018-06-12\",\"2018-06-13\",\"2018-06-14\",\"2018-06-15\",\"2018-06-16\",\"2018-06-17\",\"2018-06-18\",\"2018-06-19\",\"2018-06-20\",\"2018-06-21\",\"2018-06-22\",\"2018-06-23\",\"2018-06-24\",\"2018-06-25\",\"2018-06-26\",\"2018-06-27\",\"2018-06-28\",\"2018-06-29\",\"2018-06-30\",\"2018-07-01\",\"2018-07-02\",\"2018-07-03\",\"2018-07-04\",\"2018-07-05\",\"2018-07-06\",\"2018-07-07\",\"2018-07-08\",\"2018-07-09\",\"2018-07-10\",\"2018-07-11\",\"2018-07-12\",\"2018-07-13\",\"2018-07-14\",\"2018-07-15\",\"2018-07-16\",\"2018-07-17\",\"2018-07-18\",\"2018-07-19\",\"2018-07-20\",\"2018-07-21\",\"2018-07-22\",\"2018-07-23\",\"2018-07-24\",\"2018-07-25\",\"2018-07-26\",\"2018-07-27\",\"2018-07-28\",\"2018-07-29\",\"2018-07-30\",\"2018-07-31\",\"2018-08-01\",\"2018-08-02\",\"2018-08-03\",\"2018-08-04\",\"2018-08-05\",\"2018-08-06\",\"2018-08-07\",\"2018-08-08\",\"2018-08-09\",\"2018-08-10\",\"2018-08-11\",\"2018-08-12\",\"2018-08-13\",\"2018-08-14\",\"2018-08-15\",\"2018-08-16\",\"2018-08-17\",\"2018-08-18\",\"2018-08-19\",\"2018-08-20\",\"2018-08-21\",\"2018-08-22\",\"2018-08-23\",\"2018-08-24\",\"2018-08-25\",\"2018-08-26\",\"2018-08-27\",\"2018-08-28\",\"2018-08-29\",\"2018-08-30\",\"2018-08-31\",\"2018-09-03\",\"2018-09-06\",\"2018-09-10\",\"2018-09-11\",\"2018-09-12\",\"2018-09-13\",\"2018-09-17\",\"2018-09-20\",\"2018-09-25\",\"2018-09-26\",\"2018-09-29\",\"2018-10-01\",\"2018-10-03\",\"2018-10-16\",\"2018-10-17\"],\"xaxis\":\"x\",\"y\":[136.23,75.06,40.95,0.0,109.34,595.14,11914.650000000005,10212.220000000001,9398.609999999999,8255.189999999999,9716.129999999997,4152.11,4675.099999999999,61.99,19.62,707.2700000000001,988.2800000000001,1447.99,809.6300000000001,774.51,1571.17,3062.3299999999995,2502.69,2903.9699999999993,1507.3599999999997,2551.34,3712.2400000000002,3893.6099999999988,4683.380000000001,4140.159999999999,4698.070000000001,3094.7600000000007,4280.22,7553.890000000002,6794.499999999997,10434.310000000003,15191.960000000008,12904.129999999994,5909.979999999999,7160.659999999995,12187.899999999994,13021.729999999996,10310.99,10676.54,11639.190000000004,15747.169999999998,10153.239999999998,11626.0,16627.210000000003,14299.970000000005,10844.169999999996,15674.09,5648.369999999999,16682.29,13092.090000000004,15309.080000000002,8326.400000000001,7803.720000000001,8093.570000000001,9308.300000000003,4477.65,9157.300000000001,9333.460000000003,9393.37,8571.86,7983.009999999999,5126.18,6583.499999999999,6836.77,12582.519999999999,18923.17000000001,13146.36,14154.710000000003,15533.690000000002,8789.14,13515.120000000003,13855.370000000006,16769.66,13828.330000000004,14518.919999999993,12503.97,7853.180000000002,19306.060000000005,16542.980000000003,17364.910000000003,16653.719999999998,13611.279999999999,17943.070000000003,7728.08,20014.930000000008,14937.51,16390.14,22913.370000000003,13386.910000000009,11251.740000000002,7642.0199999999995,20549.290000000005,14838.579999999996,10209.110000000004,11434.999999999998,13753.280000000002,20574.679999999997,10608.62,10776.9,14152.990000000007,20774.549999999992,26863.579999999998,15043.719999999996,10290.740000000003,9689.41,13492.1,9878.09,9407.94,11216.110000000006,10515.900000000001,9391.56,6532.21,10765.57,23433.859999999993,13941.250000000002,16056.000000000004,10162.6,15005.060000000007,11839.91,17711.56999999999,17176.350000000006,18696.090000000004,12455.1,18063.289999999997,13835.280000000002,9436.999999999998,14869.670000000007,20673.079999999998,12192.339999999998,15901.720000000005,16584.580000000005,19227.55,20467.980000000003,19194.68,24245.050000000007,23418.399999999987,21204.03999999999,15314.460000000003,10675.67,17551.829999999998,21907.00999999999,24535.569999999992,21396.329999999987,20861.79000000001,21525.089999999986,12364.170000000002,20368.52999999999,28906.599999999984,20622.469999999998,26991.949999999993,18420.65999999999,12680.520000000002,16333.540000000012,11120.709999999997,22225.089999999993,17074.36,24063.379999999994,21781.379999999997,21769.380000000012,12265.439999999999,16029.490000000002,27400.540000000008,17525.09,16072.620000000006,22106.280000000002,18738.529999999995,9892.1,19348.539999999994,17389.2,16894.890000000007,23559.519999999982,15105.260000000006,14777.690000000004,13070.160000000007,19733.690000000002,25933.439999999988,14659.820000000002,7275.100000000002,10609.039999999999,15698.500000000004,10013.700000000003,20734.34000000001,15200.319999999998,19680.129999999997,17080.88,14694.570000000007,16236.740000000005,14139.0,14002.370000000004,19328.179999999986,18107.599999999988,24664.579999999998,26556.070000000003,16676.75,12001.350000000002,10701.14,20661.800000000007,24964.63000000001,22740.800000000007,17986.750000000007,21833.259999999995,13128.050000000005,16150.230000000003,25799.539999999994,32450.889999999992,20411.749999999985,22517.840000000007,15870.789999999997,13318.540000000003,14066.830000000004,22950.00999999999,20884.700000000004,14053.840000000006,18945.82,23276.300000000003,18371.909999999993,15341.690000000008,20479.91,25417.35999999999,21690.260000000006,22380.55000000001,21712.530000000006,14465.840000000002,17023.39000000001,26629.340000000007,21541.13000000001,24214.39000000001,23594.020000000004,23627.109999999986,16221.090000000004,15928.580000000005,22232.119999999995,27992.040000000008,28398.60999999997,21885.089999999993,20143.719999999998,15172.920000000006,15073.710000000005,26019.71999999999,19955.449999999986,18789.699999999993,16398.730000000003,17403.720000000005,12054.650000000009,16327.140000000001,25696.590000000015,37025.69999999999,35466.26999999998,23914.850000000002,32485.269999999997,20479.17999999999,30950.780000000002,28719.239999999998,24954.680000000008,28821.83,21328.86000000001,14789.080000000002,17681.22,20978.600000000002,27103.889999999992,32784.959999999985,32054.369999999984,26502.510000000006,21556.659999999996,24040.31,22848.41999999999,32535.229999999992,23478.66000000001,26170.079999999998,22458.18999999998,19200.250000000007,12574.83,15880.060000000003,21203.050000000003,25296.359999999993,24879.939999999988,26629.300000000003,34497.46999999999,14879.170000000002,21909.429999999997,25565.110000000008,30389.119999999995,24787.58000000001,29129.829999999994,21890.58,17975.41,19756.299999999992,35265.56999999999,32559.070000000003,26214.77999999999,22520.929999999993,26589.92,16185.459999999997,21353.839999999997,35315.41999999998,35288.18,31793.669999999995,26988.799999999996,21979.199999999993,18022.3,23273.049999999996,25993.410000000007,25739.269999999997,21470.530000000006,26415.549999999992,23488.17,20572.640000000007,20444.680000000004,23741.859999999997,27058.219999999983,22702.160000000003,25017.159999999996,27058.519999999997,22294.809999999998,21752.57,33945.13999999999,24945.210000000003,23436.700000000008,29175.83,23676.7,27578.63000000002,26725.080000000005,29606.239999999987,32012.600000000006,27683.349999999995,33063.26999999999,35386.83999999998,27968.569999999996,23312.600000000002,50621.24,39831.85,30721.619999999995,52584.619999999995,179200.02999999994,71897.01,53939.87,56966.280000000006,56708.40999999998,48043.16000000003,37026.72999999998,46080.83999999996,35908.509999999995,34803.18999999998,56225.409999999974,40707.770000000004,46149.63000000002,33664.200000000004,35160.820000000014,23639.519999999997,29784.260000000024,39415.42999999998,40370.389999999985,34385.08,30754.309999999987,31451.629999999986,22907.05000000001,22105.999999999993,33898.129999999976,24494.27999999999,32004.67999999999,21546.44,18073.47000000001,16425.64,6960.790000000002,12662.230000000003,23797.46000000001,21074.289999999994,17793.849999999995,20552.64000000001,15412.610000000002,10190.929999999998,8486.289999999999,29494.739999999994,37154.62,40998.14999999999,32341.949999999993,32711.84,33993.479999999996,45310.599999999984,35439.999999999985,44824.93000000001,46746.37999999997,37270.22999999999,33222.380000000005,35993.459999999985,45208.28999999999,51339.38000000002,42151.91999999998,33038.69000000002,35649.62999999997,26960.000000000007,28447.419999999987,43867.890000000036,40298.33000000003,37025.22999999998,35335.98000000001,39308.93999999998,25106.77000000001,27804.900000000005,36056.51999999999,35523.60999999998,37891.630000000005,35767.91999999998,32532.449999999993,27572.170000000002,28261.909999999996,43196.969999999965,40066.41999999996,36529.710000000014,31911.009999999973,35374.18999999999,25265.31999999999,26129.459999999992,27990.54999999998,29024.169999999987,43643.359999999986,39224.750000000015,31867.470000000005,29611.55,29071.929999999975,33735.95999999999,42706.690000000024,38017.25999999998,38784.23000000002,33072.96,28341.360000000004,34930.87999999998,50433.959999999934,47076.98999999997,52321.739999999976,46747.399999999994,37550.30999999999,31781.789999999983,37479.799999999974,45635.60999999999,45971.24000000001,42513.19000000003,33842.11999999999,33823.070000000014,31105.0,36618.35000000003,35930.88999999998,42179.579999999994,28417.25000000002,51935.360000000015,38760.35999999999,24000.210000000006,36076.37999999998,52707.310000000034,42887.92999999999,46482.08999999998,36989.790000000045,34817.72,27711.420000000006,30192.800000000017,42745.22999999999,40633.58000000003,35150.720000000016,33564.47000000001,26279.75000000001,29121.4,34189.0,48076.450000000026,42187.32000000005,43567.820000000036,42219.170000000035,32285.36,29014.860000000008,27883.61,55782.82,32535.280000000013,47204.469999999994,39945.380000000005,36440.52999999998,22397.870000000006,36564.19,47364.65000000005,42814.250000000015,46308.64999999997,50326.52999999999,32841.640000000014,22465.889999999992,31991.790000000023,44363.29000000002,49905.01999999999,47356.490000000005,36912.770000000004,46764.300000000025,26978.52000000001,23060.950000000008,41036.61000000001,39274.26000000002,44908.630000000005,50218.850000000006,45494.099999999984,32640.670000000013,33099.310000000005,62568.25000000001,55129.380000000056,51096.81999999996,58871.87,43346.500000000015,34883.12,36320.07000000001,62230.72999999996,49505.98999999998,64742.060000000005,36258.360000000015,36429.77,28319.729999999996,23086.12,30619.940000000017,32070.660000000007,20262.30000000001,22278.7,18286.320000000007,16914.09,14693.68,30304.950000000004,29441.33000000001,22529.07000000001,28156.520000000004,37284.050000000025,28939.989999999994,33024.44,34326.40000000001,36471.22,32176.980000000003,42676.37999999999,31797.20000000001,34033.780000000006,30295.410000000007,57345.55999999998,46762.43000000001,41586.61,32707.209999999985,31498.76000000002,29000.08,20751.519999999986,41027.07,40013.59999999999,34330.26000000001,33301.98999999998,28753.149999999998,21181.11000000001,29498.57000000001,42008.02000000002,37673.669999999984,32920.9,38773.74000000002,25098.690000000013,18621.710000000006,29060.700000000015,29422.429999999997,31454.6,41579.79999999999,33949.500000000015,22108.66999999999,11277.240000000002,17554.720000000005,23122.169999999987,22694.45,22148.64,35228.69999999998,32635.240000000013,26427.019999999997,34489.39999999999,37854.659999999996,35758.42,51392.43000000001,44911.25000000002,38131.01000000001,25508.970000000012,32962.26,48104.330000000016,48154.03,47917.70999999999,41784.73999999998,33331.119999999966,30168.169999999995,36468.26000000002,46288.00999999999,54652.10000000001,48850.81000000005,45932.69999999999,49517.59000000002,41239.970000000016,42272.07,65860.43000000002,62057.769999999975,51463.76000000004,47261.68,40690.25999999997,31277.249999999993,36739.750000000015,48163.75999999999,51574.67,53322.7,42581.079999999994,40872.77000000003,29695.070000000003,29989.349999999995,40352.46999999997,31479.900000000005,24401.84000000002,19737.719999999994,11450.760000000002,11737.760000000002,9304.0,6229.950000000001,5216.72,2381.83,705.0400000000001,63.89,458.64000000000004,2443.2000000000003,51.17,258.67,84.58,414.04,84.58,191.46,221.54,94.63,137.03,80.38,197.55,222.03,89.71],\"yaxis\":\"y\"}],                        {\"legend\":{\"tracegroupgap\":0},\"margin\":{\"t\":60},\"template\":{\"data\":{\"bar\":[{\"error_x\":{\"color\":\"#2a3f5f\"},\"error_y\":{\"color\":\"#2a3f5f\"},\"marker\":{\"line\":{\"color\":\"#E5ECF6\",\"width\":0.5},\"pattern\":{\"fillmode\":\"overlay\",\"size\":10,\"solidity\":0.2}},\"type\":\"bar\"}],\"barpolar\":[{\"marker\":{\"line\":{\"color\":\"#E5ECF6\",\"width\":0.5},\"pattern\":{\"fillmode\":\"overlay\",\"size\":10,\"solidity\":0.2}},\"type\":\"barpolar\"}],\"carpet\":[{\"aaxis\":{\"endlinecolor\":\"#2a3f5f\",\"gridcolor\":\"white\",\"linecolor\":\"white\",\"minorgridcolor\":\"white\",\"startlinecolor\":\"#2a3f5f\"},\"baxis\":{\"endlinecolor\":\"#2a3f5f\",\"gridcolor\":\"white\",\"linecolor\":\"white\",\"minorgridcolor\":\"white\",\"startlinecolor\":\"#2a3f5f\"},\"type\":\"carpet\"}],\"choropleth\":[{\"colorbar\":{\"outlinewidth\":0,\"ticks\":\"\"},\"type\":\"choropleth\"}],\"contour\":[{\"colorbar\":{\"outlinewidth\":0,\"ticks\":\"\"},\"colorscale\":[[0.0,\"#0d0887\"],[0.1111111111111111,\"#46039f\"],[0.2222222222222222,\"#7201a8\"],[0.3333333333333333,\"#9c179e\"],[0.4444444444444444,\"#bd3786\"],[0.5555555555555556,\"#d8576b\"],[0.6666666666666666,\"#ed7953\"],[0.7777777777777778,\"#fb9f3a\"],[0.8888888888888888,\"#fdca26\"],[1.0,\"#f0f921\"]],\"type\":\"contour\"}],\"contourcarpet\":[{\"colorbar\":{\"outlinewidth\":0,\"ticks\":\"\"},\"type\":\"contourcarpet\"}],\"heatmap\":[{\"colorbar\":{\"outlinewidth\":0,\"ticks\":\"\"},\"colorscale\":[[0.0,\"#0d0887\"],[0.1111111111111111,\"#46039f\"],[0.2222222222222222,\"#7201a8\"],[0.3333333333333333,\"#9c179e\"],[0.4444444444444444,\"#bd3786\"],[0.5555555555555556,\"#d8576b\"],[0.6666666666666666,\"#ed7953\"],[0.7777777777777778,\"#fb9f3a\"],[0.8888888888888888,\"#fdca26\"],[1.0,\"#f0f921\"]],\"type\":\"heatmap\"}],\"heatmapgl\":[{\"colorbar\":{\"outlinewidth\":0,\"ticks\":\"\"},\"colorscale\":[[0.0,\"#0d0887\"],[0.1111111111111111,\"#46039f\"],[0.2222222222222222,\"#7201a8\"],[0.3333333333333333,\"#9c179e\"],[0.4444444444444444,\"#bd3786\"],[0.5555555555555556,\"#d8576b\"],[0.6666666666666666,\"#ed7953\"],[0.7777777777777778,\"#fb9f3a\"],[0.8888888888888888,\"#fdca26\"],[1.0,\"#f0f921\"]],\"type\":\"heatmapgl\"}],\"histogram\":[{\"marker\":{\"pattern\":{\"fillmode\":\"overlay\",\"size\":10,\"solidity\":0.2}},\"type\":\"histogram\"}],\"histogram2d\":[{\"colorbar\":{\"outlinewidth\":0,\"ticks\":\"\"},\"colorscale\":[[0.0,\"#0d0887\"],[0.1111111111111111,\"#46039f\"],[0.2222222222222222,\"#7201a8\"],[0.3333333333333333,\"#9c179e\"],[0.4444444444444444,\"#bd3786\"],[0.5555555555555556,\"#d8576b\"],[0.6666666666666666,\"#ed7953\"],[0.7777777777777778,\"#fb9f3a\"],[0.8888888888888888,\"#fdca26\"],[1.0,\"#f0f921\"]],\"type\":\"histogram2d\"}],\"histogram2dcontour\":[{\"colorbar\":{\"outlinewidth\":0,\"ticks\":\"\"},\"colorscale\":[[0.0,\"#0d0887\"],[0.1111111111111111,\"#46039f\"],[0.2222222222222222,\"#7201a8\"],[0.3333333333333333,\"#9c179e\"],[0.4444444444444444,\"#bd3786\"],[0.5555555555555556,\"#d8576b\"],[0.6666666666666666,\"#ed7953\"],[0.7777777777777778,\"#fb9f3a\"],[0.8888888888888888,\"#fdca26\"],[1.0,\"#f0f921\"]],\"type\":\"histogram2dcontour\"}],\"mesh3d\":[{\"colorbar\":{\"outlinewidth\":0,\"ticks\":\"\"},\"type\":\"mesh3d\"}],\"parcoords\":[{\"line\":{\"colorbar\":{\"outlinewidth\":0,\"ticks\":\"\"}},\"type\":\"parcoords\"}],\"pie\":[{\"automargin\":true,\"type\":\"pie\"}],\"scatter\":[{\"marker\":{\"colorbar\":{\"outlinewidth\":0,\"ticks\":\"\"}},\"type\":\"scatter\"}],\"scatter3d\":[{\"line\":{\"colorbar\":{\"outlinewidth\":0,\"ticks\":\"\"}},\"marker\":{\"colorbar\":{\"outlinewidth\":0,\"ticks\":\"\"}},\"type\":\"scatter3d\"}],\"scattercarpet\":[{\"marker\":{\"colorbar\":{\"outlinewidth\":0,\"ticks\":\"\"}},\"type\":\"scattercarpet\"}],\"scattergeo\":[{\"marker\":{\"colorbar\":{\"outlinewidth\":0,\"ticks\":\"\"}},\"type\":\"scattergeo\"}],\"scattergl\":[{\"marker\":{\"colorbar\":{\"outlinewidth\":0,\"ticks\":\"\"}},\"type\":\"scattergl\"}],\"scattermapbox\":[{\"marker\":{\"colorbar\":{\"outlinewidth\":0,\"ticks\":\"\"}},\"type\":\"scattermapbox\"}],\"scatterpolar\":[{\"marker\":{\"colorbar\":{\"outlinewidth\":0,\"ticks\":\"\"}},\"type\":\"scatterpolar\"}],\"scatterpolargl\":[{\"marker\":{\"colorbar\":{\"outlinewidth\":0,\"ticks\":\"\"}},\"type\":\"scatterpolargl\"}],\"scatterternary\":[{\"marker\":{\"colorbar\":{\"outlinewidth\":0,\"ticks\":\"\"}},\"type\":\"scatterternary\"}],\"surface\":[{\"colorbar\":{\"outlinewidth\":0,\"ticks\":\"\"},\"colorscale\":[[0.0,\"#0d0887\"],[0.1111111111111111,\"#46039f\"],[0.2222222222222222,\"#7201a8\"],[0.3333333333333333,\"#9c179e\"],[0.4444444444444444,\"#bd3786\"],[0.5555555555555556,\"#d8576b\"],[0.6666666666666666,\"#ed7953\"],[0.7777777777777778,\"#fb9f3a\"],[0.8888888888888888,\"#fdca26\"],[1.0,\"#f0f921\"]],\"type\":\"surface\"}],\"table\":[{\"cells\":{\"fill\":{\"color\":\"#EBF0F8\"},\"line\":{\"color\":\"white\"}},\"header\":{\"fill\":{\"color\":\"#C8D4E3\"},\"line\":{\"color\":\"white\"}},\"type\":\"table\"}]},\"layout\":{\"annotationdefaults\":{\"arrowcolor\":\"#2a3f5f\",\"arrowhead\":0,\"arrowwidth\":1},\"autotypenumbers\":\"strict\",\"coloraxis\":{\"colorbar\":{\"outlinewidth\":0,\"ticks\":\"\"}},\"colorscale\":{\"diverging\":[[0,\"#8e0152\"],[0.1,\"#c51b7d\"],[0.2,\"#de77ae\"],[0.3,\"#f1b6da\"],[0.4,\"#fde0ef\"],[0.5,\"#f7f7f7\"],[0.6,\"#e6f5d0\"],[0.7,\"#b8e186\"],[0.8,\"#7fbc41\"],[0.9,\"#4d9221\"],[1,\"#276419\"]],\"sequential\":[[0.0,\"#0d0887\"],[0.1111111111111111,\"#46039f\"],[0.2222222222222222,\"#7201a8\"],[0.3333333333333333,\"#9c179e\"],[0.4444444444444444,\"#bd3786\"],[0.5555555555555556,\"#d8576b\"],[0.6666666666666666,\"#ed7953\"],[0.7777777777777778,\"#fb9f3a\"],[0.8888888888888888,\"#fdca26\"],[1.0,\"#f0f921\"]],\"sequentialminus\":[[0.0,\"#0d0887\"],[0.1111111111111111,\"#46039f\"],[0.2222222222222222,\"#7201a8\"],[0.3333333333333333,\"#9c179e\"],[0.4444444444444444,\"#bd3786\"],[0.5555555555555556,\"#d8576b\"],[0.6666666666666666,\"#ed7953\"],[0.7777777777777778,\"#fb9f3a\"],[0.8888888888888888,\"#fdca26\"],[1.0,\"#f0f921\"]]},\"colorway\":[\"#636efa\",\"#EF553B\",\"#00cc96\",\"#ab63fa\",\"#FFA15A\",\"#19d3f3\",\"#FF6692\",\"#B6E880\",\"#FF97FF\",\"#FECB52\"],\"font\":{\"color\":\"#2a3f5f\"},\"geo\":{\"bgcolor\":\"white\",\"lakecolor\":\"white\",\"landcolor\":\"#E5ECF6\",\"showlakes\":true,\"showland\":true,\"subunitcolor\":\"white\"},\"hoverlabel\":{\"align\":\"left\"},\"hovermode\":\"closest\",\"mapbox\":{\"style\":\"light\"},\"paper_bgcolor\":\"white\",\"plot_bgcolor\":\"#E5ECF6\",\"polar\":{\"angularaxis\":{\"gridcolor\":\"white\",\"linecolor\":\"white\",\"ticks\":\"\"},\"bgcolor\":\"#E5ECF6\",\"radialaxis\":{\"gridcolor\":\"white\",\"linecolor\":\"white\",\"ticks\":\"\"}},\"scene\":{\"xaxis\":{\"backgroundcolor\":\"#E5ECF6\",\"gridcolor\":\"white\",\"gridwidth\":2,\"linecolor\":\"white\",\"showbackground\":true,\"ticks\":\"\",\"zerolinecolor\":\"white\"},\"yaxis\":{\"backgroundcolor\":\"#E5ECF6\",\"gridcolor\":\"white\",\"gridwidth\":2,\"linecolor\":\"white\",\"showbackground\":true,\"ticks\":\"\",\"zerolinecolor\":\"white\"},\"zaxis\":{\"backgroundcolor\":\"#E5ECF6\",\"gridcolor\":\"white\",\"gridwidth\":2,\"linecolor\":\"white\",\"showbackground\":true,\"ticks\":\"\",\"zerolinecolor\":\"white\"}},\"shapedefaults\":{\"line\":{\"color\":\"#2a3f5f\"}},\"ternary\":{\"aaxis\":{\"gridcolor\":\"white\",\"linecolor\":\"white\",\"ticks\":\"\"},\"baxis\":{\"gridcolor\":\"white\",\"linecolor\":\"white\",\"ticks\":\"\"},\"bgcolor\":\"#E5ECF6\",\"caxis\":{\"gridcolor\":\"white\",\"linecolor\":\"white\",\"ticks\":\"\"}},\"title\":{\"x\":0.05},\"xaxis\":{\"automargin\":true,\"gridcolor\":\"white\",\"linecolor\":\"white\",\"ticks\":\"\",\"title\":{\"standoff\":15},\"zerolinecolor\":\"white\",\"zerolinewidth\":2},\"yaxis\":{\"automargin\":true,\"gridcolor\":\"white\",\"linecolor\":\"white\",\"ticks\":\"\",\"title\":{\"standoff\":15},\"zerolinecolor\":\"white\",\"zerolinewidth\":2}}},\"xaxis\":{\"anchor\":\"y\",\"domain\":[0.0,1.0],\"title\":{\"text\":\"x\"}},\"yaxis\":{\"anchor\":\"x\",\"domain\":[0.0,1.0],\"title\":{\"text\":\"y\"}}},                        {\"responsive\": true}                    ).then(function(){\n",
       "                            \n",
       "var gd = document.getElementById('b49cb5ab-ee3e-40b1-bfb1-f3a7dbad2445');\n",
       "var x = new MutationObserver(function (mutations, observer) {{\n",
       "        var display = window.getComputedStyle(gd).display;\n",
       "        if (!display || display === 'none') {{\n",
       "            console.log([gd, 'removed!']);\n",
       "            Plotly.purge(gd);\n",
       "            observer.disconnect();\n",
       "        }}\n",
       "}});\n",
       "\n",
       "// Listen for the removal of the full notebook cells\n",
       "var notebookContainer = gd.closest('#notebook-container');\n",
       "if (notebookContainer) {{\n",
       "    x.observe(notebookContainer, {childList: true});\n",
       "}}\n",
       "\n",
       "// Listen for the clearing of the current output cell\n",
       "var outputEl = gd.closest('.output');\n",
       "if (outputEl) {{\n",
       "    x.observe(outputEl, {childList: true});\n",
       "}}\n",
       "\n",
       "                        })                };                });            </script>        </div>"
      ]
     },
     "metadata": {},
     "output_type": "display_data"
    }
   ],
   "source": [
    "import plotly.express as px\n",
    "\n",
    "df_1 = pd.concat([x, y], axis=1)\n",
    "\n",
    "# df = px.data.stocks()\n",
    "# fig = px.line(df, x='date', y=\"GOOG\")\n",
    "# fig.show()\n",
    "\n",
    "fig = px.line(df_1,x,y)\n",
    "# fig.update_traces(xperiod=\"M1\")\n",
    "fig.show()"
   ]
  },
  {
   "cell_type": "code",
   "execution_count": 102,
   "id": "7788b73e-8f51-4e82-a882-cf180630cd49",
   "metadata": {},
   "outputs": [
    {
     "data": {
      "application/vnd.plotly.v1+json": {
       "config": {
        "plotlyServerURL": "https://plot.ly"
       },
       "data": [
        {
         "hovertemplate": "x=%{x}<br>y=%{y}<extra></extra>",
         "legendgroup": "",
         "line": {
          "color": "#636efa",
          "dash": "solid"
         },
         "mode": "lines",
         "name": "",
         "orientation": "v",
         "showlegend": false,
         "type": "scatter",
         "x": [
          "2016-09-04",
          "2016-09-05",
          "2016-09-13",
          "2016-09-15",
          "2016-10-02",
          "2016-10-03",
          "2016-10-04",
          "2016-10-05",
          "2016-10-06",
          "2016-10-07",
          "2016-10-08",
          "2016-10-09",
          "2016-10-10",
          "2016-10-22",
          "2016-12-23"
         ],
         "xaxis": "x",
         "y": [
          136.23,
          75.06,
          40.95,
          0,
          109.34,
          595.14,
          11914.650000000005,
          10212.220000000001,
          9398.609999999999,
          8255.189999999999,
          9716.129999999997,
          4152.11,
          4675.099999999999,
          61.99,
          19.62
         ],
         "yaxis": "y"
        }
       ],
       "layout": {
        "autosize": true,
        "legend": {
         "tracegroupgap": 0
        },
        "margin": {
         "t": 60
        },
        "template": {
         "data": {
          "bar": [
           {
            "error_x": {
             "color": "#2a3f5f"
            },
            "error_y": {
             "color": "#2a3f5f"
            },
            "marker": {
             "line": {
              "color": "#E5ECF6",
              "width": 0.5
             },
             "pattern": {
              "fillmode": "overlay",
              "size": 10,
              "solidity": 0.2
             }
            },
            "type": "bar"
           }
          ],
          "barpolar": [
           {
            "marker": {
             "line": {
              "color": "#E5ECF6",
              "width": 0.5
             },
             "pattern": {
              "fillmode": "overlay",
              "size": 10,
              "solidity": 0.2
             }
            },
            "type": "barpolar"
           }
          ],
          "carpet": [
           {
            "aaxis": {
             "endlinecolor": "#2a3f5f",
             "gridcolor": "white",
             "linecolor": "white",
             "minorgridcolor": "white",
             "startlinecolor": "#2a3f5f"
            },
            "baxis": {
             "endlinecolor": "#2a3f5f",
             "gridcolor": "white",
             "linecolor": "white",
             "minorgridcolor": "white",
             "startlinecolor": "#2a3f5f"
            },
            "type": "carpet"
           }
          ],
          "choropleth": [
           {
            "colorbar": {
             "outlinewidth": 0,
             "ticks": ""
            },
            "type": "choropleth"
           }
          ],
          "contour": [
           {
            "colorbar": {
             "outlinewidth": 0,
             "ticks": ""
            },
            "colorscale": [
             [
              0,
              "#0d0887"
             ],
             [
              0.1111111111111111,
              "#46039f"
             ],
             [
              0.2222222222222222,
              "#7201a8"
             ],
             [
              0.3333333333333333,
              "#9c179e"
             ],
             [
              0.4444444444444444,
              "#bd3786"
             ],
             [
              0.5555555555555556,
              "#d8576b"
             ],
             [
              0.6666666666666666,
              "#ed7953"
             ],
             [
              0.7777777777777778,
              "#fb9f3a"
             ],
             [
              0.8888888888888888,
              "#fdca26"
             ],
             [
              1,
              "#f0f921"
             ]
            ],
            "type": "contour"
           }
          ],
          "contourcarpet": [
           {
            "colorbar": {
             "outlinewidth": 0,
             "ticks": ""
            },
            "type": "contourcarpet"
           }
          ],
          "heatmap": [
           {
            "colorbar": {
             "outlinewidth": 0,
             "ticks": ""
            },
            "colorscale": [
             [
              0,
              "#0d0887"
             ],
             [
              0.1111111111111111,
              "#46039f"
             ],
             [
              0.2222222222222222,
              "#7201a8"
             ],
             [
              0.3333333333333333,
              "#9c179e"
             ],
             [
              0.4444444444444444,
              "#bd3786"
             ],
             [
              0.5555555555555556,
              "#d8576b"
             ],
             [
              0.6666666666666666,
              "#ed7953"
             ],
             [
              0.7777777777777778,
              "#fb9f3a"
             ],
             [
              0.8888888888888888,
              "#fdca26"
             ],
             [
              1,
              "#f0f921"
             ]
            ],
            "type": "heatmap"
           }
          ],
          "heatmapgl": [
           {
            "colorbar": {
             "outlinewidth": 0,
             "ticks": ""
            },
            "colorscale": [
             [
              0,
              "#0d0887"
             ],
             [
              0.1111111111111111,
              "#46039f"
             ],
             [
              0.2222222222222222,
              "#7201a8"
             ],
             [
              0.3333333333333333,
              "#9c179e"
             ],
             [
              0.4444444444444444,
              "#bd3786"
             ],
             [
              0.5555555555555556,
              "#d8576b"
             ],
             [
              0.6666666666666666,
              "#ed7953"
             ],
             [
              0.7777777777777778,
              "#fb9f3a"
             ],
             [
              0.8888888888888888,
              "#fdca26"
             ],
             [
              1,
              "#f0f921"
             ]
            ],
            "type": "heatmapgl"
           }
          ],
          "histogram": [
           {
            "marker": {
             "pattern": {
              "fillmode": "overlay",
              "size": 10,
              "solidity": 0.2
             }
            },
            "type": "histogram"
           }
          ],
          "histogram2d": [
           {
            "colorbar": {
             "outlinewidth": 0,
             "ticks": ""
            },
            "colorscale": [
             [
              0,
              "#0d0887"
             ],
             [
              0.1111111111111111,
              "#46039f"
             ],
             [
              0.2222222222222222,
              "#7201a8"
             ],
             [
              0.3333333333333333,
              "#9c179e"
             ],
             [
              0.4444444444444444,
              "#bd3786"
             ],
             [
              0.5555555555555556,
              "#d8576b"
             ],
             [
              0.6666666666666666,
              "#ed7953"
             ],
             [
              0.7777777777777778,
              "#fb9f3a"
             ],
             [
              0.8888888888888888,
              "#fdca26"
             ],
             [
              1,
              "#f0f921"
             ]
            ],
            "type": "histogram2d"
           }
          ],
          "histogram2dcontour": [
           {
            "colorbar": {
             "outlinewidth": 0,
             "ticks": ""
            },
            "colorscale": [
             [
              0,
              "#0d0887"
             ],
             [
              0.1111111111111111,
              "#46039f"
             ],
             [
              0.2222222222222222,
              "#7201a8"
             ],
             [
              0.3333333333333333,
              "#9c179e"
             ],
             [
              0.4444444444444444,
              "#bd3786"
             ],
             [
              0.5555555555555556,
              "#d8576b"
             ],
             [
              0.6666666666666666,
              "#ed7953"
             ],
             [
              0.7777777777777778,
              "#fb9f3a"
             ],
             [
              0.8888888888888888,
              "#fdca26"
             ],
             [
              1,
              "#f0f921"
             ]
            ],
            "type": "histogram2dcontour"
           }
          ],
          "mesh3d": [
           {
            "colorbar": {
             "outlinewidth": 0,
             "ticks": ""
            },
            "type": "mesh3d"
           }
          ],
          "parcoords": [
           {
            "line": {
             "colorbar": {
              "outlinewidth": 0,
              "ticks": ""
             }
            },
            "type": "parcoords"
           }
          ],
          "pie": [
           {
            "automargin": true,
            "type": "pie"
           }
          ],
          "scatter": [
           {
            "marker": {
             "colorbar": {
              "outlinewidth": 0,
              "ticks": ""
             }
            },
            "type": "scatter"
           }
          ],
          "scatter3d": [
           {
            "line": {
             "colorbar": {
              "outlinewidth": 0,
              "ticks": ""
             }
            },
            "marker": {
             "colorbar": {
              "outlinewidth": 0,
              "ticks": ""
             }
            },
            "type": "scatter3d"
           }
          ],
          "scattercarpet": [
           {
            "marker": {
             "colorbar": {
              "outlinewidth": 0,
              "ticks": ""
             }
            },
            "type": "scattercarpet"
           }
          ],
          "scattergeo": [
           {
            "marker": {
             "colorbar": {
              "outlinewidth": 0,
              "ticks": ""
             }
            },
            "type": "scattergeo"
           }
          ],
          "scattergl": [
           {
            "marker": {
             "colorbar": {
              "outlinewidth": 0,
              "ticks": ""
             }
            },
            "type": "scattergl"
           }
          ],
          "scattermapbox": [
           {
            "marker": {
             "colorbar": {
              "outlinewidth": 0,
              "ticks": ""
             }
            },
            "type": "scattermapbox"
           }
          ],
          "scatterpolar": [
           {
            "marker": {
             "colorbar": {
              "outlinewidth": 0,
              "ticks": ""
             }
            },
            "type": "scatterpolar"
           }
          ],
          "scatterpolargl": [
           {
            "marker": {
             "colorbar": {
              "outlinewidth": 0,
              "ticks": ""
             }
            },
            "type": "scatterpolargl"
           }
          ],
          "scatterternary": [
           {
            "marker": {
             "colorbar": {
              "outlinewidth": 0,
              "ticks": ""
             }
            },
            "type": "scatterternary"
           }
          ],
          "surface": [
           {
            "colorbar": {
             "outlinewidth": 0,
             "ticks": ""
            },
            "colorscale": [
             [
              0,
              "#0d0887"
             ],
             [
              0.1111111111111111,
              "#46039f"
             ],
             [
              0.2222222222222222,
              "#7201a8"
             ],
             [
              0.3333333333333333,
              "#9c179e"
             ],
             [
              0.4444444444444444,
              "#bd3786"
             ],
             [
              0.5555555555555556,
              "#d8576b"
             ],
             [
              0.6666666666666666,
              "#ed7953"
             ],
             [
              0.7777777777777778,
              "#fb9f3a"
             ],
             [
              0.8888888888888888,
              "#fdca26"
             ],
             [
              1,
              "#f0f921"
             ]
            ],
            "type": "surface"
           }
          ],
          "table": [
           {
            "cells": {
             "fill": {
              "color": "#EBF0F8"
             },
             "line": {
              "color": "white"
             }
            },
            "header": {
             "fill": {
              "color": "#C8D4E3"
             },
             "line": {
              "color": "white"
             }
            },
            "type": "table"
           }
          ]
         },
         "layout": {
          "annotationdefaults": {
           "arrowcolor": "#2a3f5f",
           "arrowhead": 0,
           "arrowwidth": 1
          },
          "autotypenumbers": "strict",
          "coloraxis": {
           "colorbar": {
            "outlinewidth": 0,
            "ticks": ""
           }
          },
          "colorscale": {
           "diverging": [
            [
             0,
             "#8e0152"
            ],
            [
             0.1,
             "#c51b7d"
            ],
            [
             0.2,
             "#de77ae"
            ],
            [
             0.3,
             "#f1b6da"
            ],
            [
             0.4,
             "#fde0ef"
            ],
            [
             0.5,
             "#f7f7f7"
            ],
            [
             0.6,
             "#e6f5d0"
            ],
            [
             0.7,
             "#b8e186"
            ],
            [
             0.8,
             "#7fbc41"
            ],
            [
             0.9,
             "#4d9221"
            ],
            [
             1,
             "#276419"
            ]
           ],
           "sequential": [
            [
             0,
             "#0d0887"
            ],
            [
             0.1111111111111111,
             "#46039f"
            ],
            [
             0.2222222222222222,
             "#7201a8"
            ],
            [
             0.3333333333333333,
             "#9c179e"
            ],
            [
             0.4444444444444444,
             "#bd3786"
            ],
            [
             0.5555555555555556,
             "#d8576b"
            ],
            [
             0.6666666666666666,
             "#ed7953"
            ],
            [
             0.7777777777777778,
             "#fb9f3a"
            ],
            [
             0.8888888888888888,
             "#fdca26"
            ],
            [
             1,
             "#f0f921"
            ]
           ],
           "sequentialminus": [
            [
             0,
             "#0d0887"
            ],
            [
             0.1111111111111111,
             "#46039f"
            ],
            [
             0.2222222222222222,
             "#7201a8"
            ],
            [
             0.3333333333333333,
             "#9c179e"
            ],
            [
             0.4444444444444444,
             "#bd3786"
            ],
            [
             0.5555555555555556,
             "#d8576b"
            ],
            [
             0.6666666666666666,
             "#ed7953"
            ],
            [
             0.7777777777777778,
             "#fb9f3a"
            ],
            [
             0.8888888888888888,
             "#fdca26"
            ],
            [
             1,
             "#f0f921"
            ]
           ]
          },
          "colorway": [
           "#636efa",
           "#EF553B",
           "#00cc96",
           "#ab63fa",
           "#FFA15A",
           "#19d3f3",
           "#FF6692",
           "#B6E880",
           "#FF97FF",
           "#FECB52"
          ],
          "font": {
           "color": "#2a3f5f"
          },
          "geo": {
           "bgcolor": "white",
           "lakecolor": "white",
           "landcolor": "#E5ECF6",
           "showlakes": true,
           "showland": true,
           "subunitcolor": "white"
          },
          "hoverlabel": {
           "align": "left"
          },
          "hovermode": "closest",
          "mapbox": {
           "style": "light"
          },
          "paper_bgcolor": "white",
          "plot_bgcolor": "#E5ECF6",
          "polar": {
           "angularaxis": {
            "gridcolor": "white",
            "linecolor": "white",
            "ticks": ""
           },
           "bgcolor": "#E5ECF6",
           "radialaxis": {
            "gridcolor": "white",
            "linecolor": "white",
            "ticks": ""
           }
          },
          "scene": {
           "xaxis": {
            "backgroundcolor": "#E5ECF6",
            "gridcolor": "white",
            "gridwidth": 2,
            "linecolor": "white",
            "showbackground": true,
            "ticks": "",
            "zerolinecolor": "white"
           },
           "yaxis": {
            "backgroundcolor": "#E5ECF6",
            "gridcolor": "white",
            "gridwidth": 2,
            "linecolor": "white",
            "showbackground": true,
            "ticks": "",
            "zerolinecolor": "white"
           },
           "zaxis": {
            "backgroundcolor": "#E5ECF6",
            "gridcolor": "white",
            "gridwidth": 2,
            "linecolor": "white",
            "showbackground": true,
            "ticks": "",
            "zerolinecolor": "white"
           }
          },
          "shapedefaults": {
           "line": {
            "color": "#2a3f5f"
           }
          },
          "ternary": {
           "aaxis": {
            "gridcolor": "white",
            "linecolor": "white",
            "ticks": ""
           },
           "baxis": {
            "gridcolor": "white",
            "linecolor": "white",
            "ticks": ""
           },
           "bgcolor": "#E5ECF6",
           "caxis": {
            "gridcolor": "white",
            "linecolor": "white",
            "ticks": ""
           }
          },
          "title": {
           "x": 0.05
          },
          "xaxis": {
           "automargin": true,
           "gridcolor": "white",
           "linecolor": "white",
           "ticks": "",
           "title": {
            "standoff": 15
           },
           "zerolinecolor": "white",
           "zerolinewidth": 2
          },
          "yaxis": {
           "automargin": true,
           "gridcolor": "white",
           "linecolor": "white",
           "ticks": "",
           "title": {
            "standoff": 15
           },
           "zerolinecolor": "white",
           "zerolinewidth": 2
          }
         }
        },
        "xaxis": {
         "anchor": "y",
         "autorange": true,
         "domain": [
          0,
          1
         ],
         "range": [
          "2016-09-04",
          "2016-12-23"
         ],
         "title": {
          "text": "x"
         },
         "type": "date"
        },
        "yaxis": {
         "anchor": "x",
         "autorange": true,
         "domain": [
          0,
          1
         ],
         "range": [
          -661.9250000000003,
          12576.575000000006
         ],
         "title": {
          "text": "y"
         },
         "type": "linear"
        }
       }
      },
      "image/png": "[encoded data removed]",
      "text/html": [
       "<div>                            <div id=\"e3f8a02f-5d63-4a27-8e8e-47e21a6c4e97\" class=\"plotly-graph-div\" style=\"height:525px; width:100%;\"></div>            <script type=\"text/javascript\">                require([\"plotly\"], function(Plotly) {                    window.PLOTLYENV=window.PLOTLYENV || {};                                    if (document.getElementById(\"e3f8a02f-5d63-4a27-8e8e-47e21a6c4e97\")) {                    Plotly.newPlot(                        \"e3f8a02f-5d63-4a27-8e8e-47e21a6c4e97\",                        [{\"hovertemplate\":\"x=%{x}<br>y=%{y}<extra></extra>\",\"legendgroup\":\"\",\"line\":{\"color\":\"#636efa\",\"dash\":\"solid\"},\"mode\":\"lines\",\"name\":\"\",\"orientation\":\"v\",\"showlegend\":false,\"type\":\"scatter\",\"x\":[\"2016-09-04\",\"2016-09-05\",\"2016-09-13\",\"2016-09-15\",\"2016-10-02\",\"2016-10-03\",\"2016-10-04\",\"2016-10-05\",\"2016-10-06\",\"2016-10-07\",\"2016-10-08\",\"2016-10-09\",\"2016-10-10\",\"2016-10-22\",\"2016-12-23\"],\"xaxis\":\"x\",\"y\":[136.23,75.06,40.95,0.0,109.34,595.14,11914.650000000005,10212.220000000001,9398.609999999999,8255.189999999999,9716.129999999997,4152.11,4675.099999999999,61.99,19.62],\"yaxis\":\"y\"}],                        {\"legend\":{\"tracegroupgap\":0},\"margin\":{\"t\":60},\"template\":{\"data\":{\"bar\":[{\"error_x\":{\"color\":\"#2a3f5f\"},\"error_y\":{\"color\":\"#2a3f5f\"},\"marker\":{\"line\":{\"color\":\"#E5ECF6\",\"width\":0.5},\"pattern\":{\"fillmode\":\"overlay\",\"size\":10,\"solidity\":0.2}},\"type\":\"bar\"}],\"barpolar\":[{\"marker\":{\"line\":{\"color\":\"#E5ECF6\",\"width\":0.5},\"pattern\":{\"fillmode\":\"overlay\",\"size\":10,\"solidity\":0.2}},\"type\":\"barpolar\"}],\"carpet\":[{\"aaxis\":{\"endlinecolor\":\"#2a3f5f\",\"gridcolor\":\"white\",\"linecolor\":\"white\",\"minorgridcolor\":\"white\",\"startlinecolor\":\"#2a3f5f\"},\"baxis\":{\"endlinecolor\":\"#2a3f5f\",\"gridcolor\":\"white\",\"linecolor\":\"white\",\"minorgridcolor\":\"white\",\"startlinecolor\":\"#2a3f5f\"},\"type\":\"carpet\"}],\"choropleth\":[{\"colorbar\":{\"outlinewidth\":0,\"ticks\":\"\"},\"type\":\"choropleth\"}],\"contour\":[{\"colorbar\":{\"outlinewidth\":0,\"ticks\":\"\"},\"colorscale\":[[0.0,\"#0d0887\"],[0.1111111111111111,\"#46039f\"],[0.2222222222222222,\"#7201a8\"],[0.3333333333333333,\"#9c179e\"],[0.4444444444444444,\"#bd3786\"],[0.5555555555555556,\"#d8576b\"],[0.6666666666666666,\"#ed7953\"],[0.7777777777777778,\"#fb9f3a\"],[0.8888888888888888,\"#fdca26\"],[1.0,\"#f0f921\"]],\"type\":\"contour\"}],\"contourcarpet\":[{\"colorbar\":{\"outlinewidth\":0,\"ticks\":\"\"},\"type\":\"contourcarpet\"}],\"heatmap\":[{\"colorbar\":{\"outlinewidth\":0,\"ticks\":\"\"},\"colorscale\":[[0.0,\"#0d0887\"],[0.1111111111111111,\"#46039f\"],[0.2222222222222222,\"#7201a8\"],[0.3333333333333333,\"#9c179e\"],[0.4444444444444444,\"#bd3786\"],[0.5555555555555556,\"#d8576b\"],[0.6666666666666666,\"#ed7953\"],[0.7777777777777778,\"#fb9f3a\"],[0.8888888888888888,\"#fdca26\"],[1.0,\"#f0f921\"]],\"type\":\"heatmap\"}],\"heatmapgl\":[{\"colorbar\":{\"outlinewidth\":0,\"ticks\":\"\"},\"colorscale\":[[0.0,\"#0d0887\"],[0.1111111111111111,\"#46039f\"],[0.2222222222222222,\"#7201a8\"],[0.3333333333333333,\"#9c179e\"],[0.4444444444444444,\"#bd3786\"],[0.5555555555555556,\"#d8576b\"],[0.6666666666666666,\"#ed7953\"],[0.7777777777777778,\"#fb9f3a\"],[0.8888888888888888,\"#fdca26\"],[1.0,\"#f0f921\"]],\"type\":\"heatmapgl\"}],\"histogram\":[{\"marker\":{\"pattern\":{\"fillmode\":\"overlay\",\"size\":10,\"solidity\":0.2}},\"type\":\"histogram\"}],\"histogram2d\":[{\"colorbar\":{\"outlinewidth\":0,\"ticks\":\"\"},\"colorscale\":[[0.0,\"#0d0887\"],[0.1111111111111111,\"#46039f\"],[0.2222222222222222,\"#7201a8\"],[0.3333333333333333,\"#9c179e\"],[0.4444444444444444,\"#bd3786\"],[0.5555555555555556,\"#d8576b\"],[0.6666666666666666,\"#ed7953\"],[0.7777777777777778,\"#fb9f3a\"],[0.8888888888888888,\"#fdca26\"],[1.0,\"#f0f921\"]],\"type\":\"histogram2d\"}],\"histogram2dcontour\":[{\"colorbar\":{\"outlinewidth\":0,\"ticks\":\"\"},\"colorscale\":[[0.0,\"#0d0887\"],[0.1111111111111111,\"#46039f\"],[0.2222222222222222,\"#7201a8\"],[0.3333333333333333,\"#9c179e\"],[0.4444444444444444,\"#bd3786\"],[0.5555555555555556,\"#d8576b\"],[0.6666666666666666,\"#ed7953\"],[0.7777777777777778,\"#fb9f3a\"],[0.8888888888888888,\"#fdca26\"],[1.0,\"#f0f921\"]],\"type\":\"histogram2dcontour\"}],\"mesh3d\":[{\"colorbar\":{\"outlinewidth\":0,\"ticks\":\"\"},\"type\":\"mesh3d\"}],\"parcoords\":[{\"line\":{\"colorbar\":{\"outlinewidth\":0,\"ticks\":\"\"}},\"type\":\"parcoords\"}],\"pie\":[{\"automargin\":true,\"type\":\"pie\"}],\"scatter\":[{\"marker\":{\"colorbar\":{\"outlinewidth\":0,\"ticks\":\"\"}},\"type\":\"scatter\"}],\"scatter3d\":[{\"line\":{\"colorbar\":{\"outlinewidth\":0,\"ticks\":\"\"}},\"marker\":{\"colorbar\":{\"outlinewidth\":0,\"ticks\":\"\"}},\"type\":\"scatter3d\"}],\"scattercarpet\":[{\"marker\":{\"colorbar\":{\"outlinewidth\":0,\"ticks\":\"\"}},\"type\":\"scattercarpet\"}],\"scattergeo\":[{\"marker\":{\"colorbar\":{\"outlinewidth\":0,\"ticks\":\"\"}},\"type\":\"scattergeo\"}],\"scattergl\":[{\"marker\":{\"colorbar\":{\"outlinewidth\":0,\"ticks\":\"\"}},\"type\":\"scattergl\"}],\"scattermapbox\":[{\"marker\":{\"colorbar\":{\"outlinewidth\":0,\"ticks\":\"\"}},\"type\":\"scattermapbox\"}],\"scatterpolar\":[{\"marker\":{\"colorbar\":{\"outlinewidth\":0,\"ticks\":\"\"}},\"type\":\"scatterpolar\"}],\"scatterpolargl\":[{\"marker\":{\"colorbar\":{\"outlinewidth\":0,\"ticks\":\"\"}},\"type\":\"scatterpolargl\"}],\"scatterternary\":[{\"marker\":{\"colorbar\":{\"outlinewidth\":0,\"ticks\":\"\"}},\"type\":\"scatterternary\"}],\"surface\":[{\"colorbar\":{\"outlinewidth\":0,\"ticks\":\"\"},\"colorscale\":[[0.0,\"#0d0887\"],[0.1111111111111111,\"#46039f\"],[0.2222222222222222,\"#7201a8\"],[0.3333333333333333,\"#9c179e\"],[0.4444444444444444,\"#bd3786\"],[0.5555555555555556,\"#d8576b\"],[0.6666666666666666,\"#ed7953\"],[0.7777777777777778,\"#fb9f3a\"],[0.8888888888888888,\"#fdca26\"],[1.0,\"#f0f921\"]],\"type\":\"surface\"}],\"table\":[{\"cells\":{\"fill\":{\"color\":\"#EBF0F8\"},\"line\":{\"color\":\"white\"}},\"header\":{\"fill\":{\"color\":\"#C8D4E3\"},\"line\":{\"color\":\"white\"}},\"type\":\"table\"}]},\"layout\":{\"annotationdefaults\":{\"arrowcolor\":\"#2a3f5f\",\"arrowhead\":0,\"arrowwidth\":1},\"autotypenumbers\":\"strict\",\"coloraxis\":{\"colorbar\":{\"outlinewidth\":0,\"ticks\":\"\"}},\"colorscale\":{\"diverging\":[[0,\"#8e0152\"],[0.1,\"#c51b7d\"],[0.2,\"#de77ae\"],[0.3,\"#f1b6da\"],[0.4,\"#fde0ef\"],[0.5,\"#f7f7f7\"],[0.6,\"#e6f5d0\"],[0.7,\"#b8e186\"],[0.8,\"#7fbc41\"],[0.9,\"#4d9221\"],[1,\"#276419\"]],\"sequential\":[[0.0,\"#0d0887\"],[0.1111111111111111,\"#46039f\"],[0.2222222222222222,\"#7201a8\"],[0.3333333333333333,\"#9c179e\"],[0.4444444444444444,\"#bd3786\"],[0.5555555555555556,\"#d8576b\"],[0.6666666666666666,\"#ed7953\"],[0.7777777777777778,\"#fb9f3a\"],[0.8888888888888888,\"#fdca26\"],[1.0,\"#f0f921\"]],\"sequentialminus\":[[0.0,\"#0d0887\"],[0.1111111111111111,\"#46039f\"],[0.2222222222222222,\"#7201a8\"],[0.3333333333333333,\"#9c179e\"],[0.4444444444444444,\"#bd3786\"],[0.5555555555555556,\"#d8576b\"],[0.6666666666666666,\"#ed7953\"],[0.7777777777777778,\"#fb9f3a\"],[0.8888888888888888,\"#fdca26\"],[1.0,\"#f0f921\"]]},\"colorway\":[\"#636efa\",\"#EF553B\",\"#00cc96\",\"#ab63fa\",\"#FFA15A\",\"#19d3f3\",\"#FF6692\",\"#B6E880\",\"#FF97FF\",\"#FECB52\"],\"font\":{\"color\":\"#2a3f5f\"},\"geo\":{\"bgcolor\":\"white\",\"lakecolor\":\"white\",\"landcolor\":\"#E5ECF6\",\"showlakes\":true,\"showland\":true,\"subunitcolor\":\"white\"},\"hoverlabel\":{\"align\":\"left\"},\"hovermode\":\"closest\",\"mapbox\":{\"style\":\"light\"},\"paper_bgcolor\":\"white\",\"plot_bgcolor\":\"#E5ECF6\",\"polar\":{\"angularaxis\":{\"gridcolor\":\"white\",\"linecolor\":\"white\",\"ticks\":\"\"},\"bgcolor\":\"#E5ECF6\",\"radialaxis\":{\"gridcolor\":\"white\",\"linecolor\":\"white\",\"ticks\":\"\"}},\"scene\":{\"xaxis\":{\"backgroundcolor\":\"#E5ECF6\",\"gridcolor\":\"white\",\"gridwidth\":2,\"linecolor\":\"white\",\"showbackground\":true,\"ticks\":\"\",\"zerolinecolor\":\"white\"},\"yaxis\":{\"backgroundcolor\":\"#E5ECF6\",\"gridcolor\":\"white\",\"gridwidth\":2,\"linecolor\":\"white\",\"showbackground\":true,\"ticks\":\"\",\"zerolinecolor\":\"white\"},\"zaxis\":{\"backgroundcolor\":\"#E5ECF6\",\"gridcolor\":\"white\",\"gridwidth\":2,\"linecolor\":\"white\",\"showbackground\":true,\"ticks\":\"\",\"zerolinecolor\":\"white\"}},\"shapedefaults\":{\"line\":{\"color\":\"#2a3f5f\"}},\"ternary\":{\"aaxis\":{\"gridcolor\":\"white\",\"linecolor\":\"white\",\"ticks\":\"\"},\"baxis\":{\"gridcolor\":\"white\",\"linecolor\":\"white\",\"ticks\":\"\"},\"bgcolor\":\"#E5ECF6\",\"caxis\":{\"gridcolor\":\"white\",\"linecolor\":\"white\",\"ticks\":\"\"}},\"title\":{\"x\":0.05},\"xaxis\":{\"automargin\":true,\"gridcolor\":\"white\",\"linecolor\":\"white\",\"ticks\":\"\",\"title\":{\"standoff\":15},\"zerolinecolor\":\"white\",\"zerolinewidth\":2},\"yaxis\":{\"automargin\":true,\"gridcolor\":\"white\",\"linecolor\":\"white\",\"ticks\":\"\",\"title\":{\"standoff\":15},\"zerolinecolor\":\"white\",\"zerolinewidth\":2}}},\"xaxis\":{\"anchor\":\"y\",\"domain\":[0.0,1.0],\"title\":{\"text\":\"x\"}},\"yaxis\":{\"anchor\":\"x\",\"domain\":[0.0,1.0],\"title\":{\"text\":\"y\"}}},                        {\"responsive\": true}                    ).then(function(){\n",
       "                            \n",
       "var gd = document.getElementById('e3f8a02f-5d63-4a27-8e8e-47e21a6c4e97');\n",
       "var x = new MutationObserver(function (mutations, observer) {{\n",
       "        var display = window.getComputedStyle(gd).display;\n",
       "        if (!display || display === 'none') {{\n",
       "            console.log([gd, 'removed!']);\n",
       "            Plotly.purge(gd);\n",
       "            observer.disconnect();\n",
       "        }}\n",
       "}});\n",
       "\n",
       "// Listen for the removal of the full notebook cells\n",
       "var notebookContainer = gd.closest('#notebook-container');\n",
       "if (notebookContainer) {{\n",
       "    x.observe(notebookContainer, {childList: true});\n",
       "}}\n",
       "\n",
       "// Listen for the clearing of the current output cell\n",
       "var outputEl = gd.closest('.output');\n",
       "if (outputEl) {{\n",
       "    x.observe(outputEl, {childList: true});\n",
       "}}\n",
       "\n",
       "                        })                };                });            </script>        </div>"
      ]
     },
     "metadata": {},
     "output_type": "display_data"
    }
   ],
   "source": [
    "def year_2016():\n",
    "    df_2016 = df[df['year'] == 2016]\n",
    "    y = df_2016.groupby('date')['payment_value'].sum().reset_index(drop=True)\n",
    "    x = df_2016['date'].drop_duplicates()\n",
    "    df_plot = pd.concat([x, y], axis=1)\n",
    "    fig = px.line(df_plot,x,y)\n",
    "    return fig.show()\n",
    "\n",
    "year_2016()"
   ]
  },
  {
   "cell_type": "code",
   "execution_count": 111,
   "id": "f8e90ba2-b0f6-44ec-8292-7034ca83d54c",
   "metadata": {},
   "outputs": [
    {
     "data": {
      "application/vnd.plotly.v1+json": {
       "config": {
        "plotlyServerURL": "https://plot.ly"
       },
       "data": [
        {
         "hovertemplate": "x=%{x}<br>y=%{y}<extra></extra>",
         "legendgroup": "",
         "line": {
          "color": "#636efa",
          "dash": "solid"
         },
         "mode": "lines",
         "name": "",
         "orientation": "v",
         "showlegend": false,
         "type": "scatter",
         "x": [
          "2017-01-05",
          "2017-01-06",
          "2017-01-07",
          "2017-01-08",
          "2017-01-09",
          "2017-01-10",
          "2017-01-11",
          "2017-01-12",
          "2017-01-13",
          "2017-01-14",
          "2017-01-15",
          "2017-01-16",
          "2017-01-17",
          "2017-01-18",
          "2017-01-19",
          "2017-01-20",
          "2017-01-21",
          "2017-01-22",
          "2017-01-23",
          "2017-01-24",
          "2017-01-25",
          "2017-01-26",
          "2017-01-27",
          "2017-01-28",
          "2017-01-29",
          "2017-01-30",
          "2017-01-31",
          "2017-02-01",
          "2017-02-02",
          "2017-02-03",
          "2017-02-04",
          "2017-02-05",
          "2017-02-06",
          "2017-02-07",
          "2017-02-08",
          "2017-02-09",
          "2017-02-10",
          "2017-02-11",
          "2017-02-12",
          "2017-02-13",
          "2017-02-14",
          "2017-02-15",
          "2017-02-16",
          "2017-02-17",
          "2017-02-18",
          "2017-02-19",
          "2017-02-20",
          "2017-02-21",
          "2017-02-22",
          "2017-02-23",
          "2017-02-24",
          "2017-02-25",
          "2017-02-26",
          "2017-02-27",
          "2017-02-28",
          "2017-03-01",
          "2017-03-02",
          "2017-03-03",
          "2017-03-04",
          "2017-03-05",
          "2017-03-06",
          "2017-03-07",
          "2017-03-08",
          "2017-03-09",
          "2017-03-10",
          "2017-03-11",
          "2017-03-12",
          "2017-03-13",
          "2017-03-14",
          "2017-03-15",
          "2017-03-16",
          "2017-03-17",
          "2017-03-18",
          "2017-03-19",
          "2017-03-20",
          "2017-03-21",
          "2017-03-22",
          "2017-03-23",
          "2017-03-24",
          "2017-03-25",
          "2017-03-26",
          "2017-03-27",
          "2017-03-28",
          "2017-03-29",
          "2017-03-30",
          "2017-03-31",
          "2017-04-01",
          "2017-04-02",
          "2017-04-03",
          "2017-04-04",
          "2017-04-05",
          "2017-04-06",
          "2017-04-07",
          "2017-04-08",
          "2017-04-09",
          "2017-04-10",
          "2017-04-11",
          "2017-04-12",
          "2017-04-13",
          "2017-04-14",
          "2017-04-15",
          "2017-04-16",
          "2017-04-17",
          "2017-04-18",
          "2017-04-19",
          "2017-04-20",
          "2017-04-21",
          "2017-04-22",
          "2017-04-23",
          "2017-04-24",
          "2017-04-25",
          "2017-04-26",
          "2017-04-27",
          "2017-04-28",
          "2017-04-29",
          "2017-04-30",
          "2017-05-01",
          "2017-05-02",
          "2017-05-03",
          "2017-05-04",
          "2017-05-05",
          "2017-05-06",
          "2017-05-07",
          "2017-05-08",
          "2017-05-09",
          "2017-05-10",
          "2017-05-11",
          "2017-05-12",
          "2017-05-13",
          "2017-05-14",
          "2017-05-15",
          "2017-05-16",
          "2017-05-17",
          "2017-05-18",
          "2017-05-19",
          "2017-05-20",
          "2017-05-21",
          "2017-05-22",
          "2017-05-23",
          "2017-05-24",
          "2017-05-25",
          "2017-05-26",
          "2017-05-27",
          "2017-05-28",
          "2017-05-29",
          "2017-05-30",
          "2017-05-31",
          "2017-06-01",
          "2017-06-02",
          "2017-06-03",
          "2017-06-04",
          "2017-06-05",
          "2017-06-06",
          "2017-06-07",
          "2017-06-08",
          "2017-06-09",
          "2017-06-10",
          "2017-06-11",
          "2017-06-12",
          "2017-06-13",
          "2017-06-14",
          "2017-06-15",
          "2017-06-16",
          "2017-06-17",
          "2017-06-18",
          "2017-06-19",
          "2017-06-20",
          "2017-06-21",
          "2017-06-22",
          "2017-06-23",
          "2017-06-24",
          "2017-06-25",
          "2017-06-26",
          "2017-06-27",
          "2017-06-28",
          "2017-06-29",
          "2017-06-30",
          "2017-07-01",
          "2017-07-02",
          "2017-07-03",
          "2017-07-04",
          "2017-07-05",
          "2017-07-06",
          "2017-07-07",
          "2017-07-08",
          "2017-07-09",
          "2017-07-10",
          "2017-07-11",
          "2017-07-12",
          "2017-07-13",
          "2017-07-14",
          "2017-07-15",
          "2017-07-16",
          "2017-07-17",
          "2017-07-18",
          "2017-07-19",
          "2017-07-20",
          "2017-07-21",
          "2017-07-22",
          "2017-07-23",
          "2017-07-24",
          "2017-07-25",
          "2017-07-26",
          "2017-07-27",
          "2017-07-28",
          "2017-07-29",
          "2017-07-30",
          "2017-07-31",
          "2017-08-01",
          "2017-08-02",
          "2017-08-03",
          "2017-08-04",
          "2017-08-05",
          "2017-08-06",
          "2017-08-07",
          "2017-08-08",
          "2017-08-09",
          "2017-08-10",
          "2017-08-11",
          "2017-08-12",
          "2017-08-13",
          "2017-08-14",
          "2017-08-15",
          "2017-08-16",
          "2017-08-17",
          "2017-08-18",
          "2017-08-19",
          "2017-08-20",
          "2017-08-21",
          "2017-08-22",
          "2017-08-23",
          "2017-08-24",
          "2017-08-25",
          "2017-08-26",
          "2017-08-27",
          "2017-08-28",
          "2017-08-29",
          "2017-08-30",
          "2017-08-31",
          "2017-09-01",
          "2017-09-02",
          "2017-09-03",
          "2017-09-04",
          "2017-09-05",
          "2017-09-06",
          "2017-09-07",
          "2017-09-08",
          "2017-09-09",
          "2017-09-10",
          "2017-09-11",
          "2017-09-12",
          "2017-09-13",
          "2017-09-14",
          "2017-09-15",
          "2017-09-16",
          "2017-09-17",
          "2017-09-18",
          "2017-09-19",
          "2017-09-20",
          "2017-09-21",
          "2017-09-22",
          "2017-09-23",
          "2017-09-24",
          "2017-09-25",
          "2017-09-26",
          "2017-09-27",
          "2017-09-28",
          "2017-09-29",
          "2017-09-30",
          "2017-10-01",
          "2017-10-02",
          "2017-10-03",
          "2017-10-04",
          "2017-10-05",
          "2017-10-06",
          "2017-10-07",
          "2017-10-08",
          "2017-10-09",
          "2017-10-10",
          "2017-10-11",
          "2017-10-12",
          "2017-10-13",
          "2017-10-14",
          "2017-10-15",
          "2017-10-16",
          "2017-10-17",
          "2017-10-18",
          "2017-10-19",
          "2017-10-20",
          "2017-10-21",
          "2017-10-22",
          "2017-10-23",
          "2017-10-24",
          "2017-10-25",
          "2017-10-26",
          "2017-10-27",
          "2017-10-28",
          "2017-10-29",
          "2017-10-30",
          "2017-10-31",
          "2017-11-01",
          "2017-11-02",
          "2017-11-03",
          "2017-11-04",
          "2017-11-05",
          "2017-11-06",
          "2017-11-07",
          "2017-11-08",
          "2017-11-09",
          "2017-11-10",
          "2017-11-11",
          "2017-11-12",
          "2017-11-13",
          "2017-11-14",
          "2017-11-15",
          "2017-11-16",
          "2017-11-17",
          "2017-11-18",
          "2017-11-19",
          "2017-11-20",
          "2017-11-21",
          "2017-11-22",
          "2017-11-23",
          "2017-11-24",
          "2017-11-25",
          "2017-11-26",
          "2017-11-27",
          "2017-11-28",
          "2017-11-29",
          "2017-11-30",
          "2017-12-01",
          "2017-12-02",
          "2017-12-03",
          "2017-12-04",
          "2017-12-05",
          "2017-12-06",
          "2017-12-07",
          "2017-12-08",
          "2017-12-09",
          "2017-12-10",
          "2017-12-11",
          "2017-12-12",
          "2017-12-13",
          "2017-12-14",
          "2017-12-15",
          "2017-12-16",
          "2017-12-17",
          "2017-12-18",
          "2017-12-19",
          "2017-12-20",
          "2017-12-21",
          "2017-12-22",
          "2017-12-23",
          "2017-12-24",
          "2017-12-25",
          "2017-12-26",
          "2017-12-27",
          "2017-12-28",
          "2017-12-29",
          "2017-12-30",
          "2017-12-31"
         ],
         "xaxis": "x",
         "y": [
          707.2700000000001,
          988.2800000000001,
          1447.99,
          809.6300000000001,
          774.51,
          1571.17,
          3062.3299999999995,
          2502.69,
          2903.9699999999993,
          1507.3599999999997,
          2551.34,
          3712.2400000000002,
          3893.6099999999988,
          4683.380000000001,
          4140.159999999999,
          4698.070000000001,
          3094.7600000000007,
          4280.22,
          7553.890000000002,
          6794.499999999997,
          10434.310000000003,
          15191.960000000008,
          12904.129999999994,
          5909.979999999999,
          7160.659999999995,
          12187.899999999994,
          13021.729999999996,
          10310.99,
          10676.54,
          11639.190000000004,
          15747.169999999998,
          10153.239999999998,
          11626,
          16627.210000000003,
          14299.970000000005,
          10844.169999999996,
          15674.09,
          5648.369999999999,
          16682.29,
          13092.090000000004,
          15309.080000000002,
          8326.400000000001,
          7803.720000000001,
          8093.570000000001,
          9308.300000000003,
          4477.65,
          9157.300000000001,
          9333.460000000003,
          9393.37,
          8571.86,
          7983.009999999999,
          5126.18,
          6583.499999999999,
          6836.77,
          12582.519999999999,
          18923.17000000001,
          13146.36,
          14154.710000000003,
          15533.690000000002,
          8789.14,
          13515.120000000003,
          13855.370000000006,
          16769.66,
          13828.330000000004,
          14518.919999999993,
          12503.97,
          7853.180000000002,
          19306.060000000005,
          16542.980000000003,
          17364.910000000003,
          16653.719999999998,
          13611.279999999999,
          17943.070000000003,
          7728.08,
          20014.930000000008,
          14937.51,
          16390.14,
          22913.370000000003,
          13386.910000000009,
          11251.740000000002,
          7642.0199999999995,
          20549.290000000005,
          14838.579999999996,
          10209.110000000004,
          11434.999999999998,
          13753.280000000002,
          20574.679999999997,
          10608.62,
          10776.9,
          14152.990000000007,
          20774.549999999992,
          26863.579999999998,
          15043.719999999996,
          10290.740000000003,
          9689.41,
          13492.1,
          9878.09,
          9407.94,
          11216.110000000006,
          10515.900000000001,
          9391.56,
          6532.21,
          10765.57,
          23433.859999999993,
          13941.250000000002,
          16056.000000000004,
          10162.6,
          15005.060000000007,
          11839.91,
          17711.56999999999,
          17176.350000000006,
          18696.090000000004,
          12455.1,
          18063.289999999997,
          13835.280000000002,
          9436.999999999998,
          14869.670000000007,
          20673.079999999998,
          12192.339999999998,
          15901.720000000005,
          16584.580000000005,
          19227.55,
          20467.980000000003,
          19194.68,
          24245.050000000007,
          23418.399999999987,
          21204.03999999999,
          15314.460000000003,
          10675.67,
          17551.829999999998,
          21907.00999999999,
          24535.569999999992,
          21396.329999999987,
          20861.79000000001,
          21525.089999999986,
          12364.170000000002,
          20368.52999999999,
          28906.599999999984,
          20622.469999999998,
          26991.949999999993,
          18420.65999999999,
          12680.520000000002,
          16333.540000000012,
          11120.709999999997,
          22225.089999999993,
          17074.36,
          24063.379999999994,
          21781.379999999997,
          21769.380000000012,
          12265.439999999999,
          16029.490000000002,
          27400.540000000008,
          17525.09,
          16072.620000000006,
          22106.280000000002,
          18738.529999999995,
          9892.1,
          19348.539999999994,
          17389.2,
          16894.890000000007,
          23559.519999999982,
          15105.260000000006,
          14777.690000000004,
          13070.160000000007,
          19733.690000000002,
          25933.439999999988,
          14659.820000000002,
          7275.100000000002,
          10609.039999999999,
          15698.500000000004,
          10013.700000000003,
          20734.34000000001,
          15200.319999999998,
          19680.129999999997,
          17080.88,
          14694.570000000007,
          16236.740000000005,
          14139,
          14002.370000000004,
          19328.179999999986,
          18107.599999999988,
          24664.579999999998,
          26556.070000000003,
          16676.75,
          12001.350000000002,
          10701.14,
          20661.800000000007,
          24964.63000000001,
          22740.800000000007,
          17986.750000000007,
          21833.259999999995,
          13128.050000000005,
          16150.230000000003,
          25799.539999999994,
          32450.889999999992,
          20411.749999999985,
          22517.840000000007,
          15870.789999999997,
          13318.540000000003,
          14066.830000000004,
          22950.00999999999,
          20884.700000000004,
          14053.840000000006,
          18945.82,
          23276.300000000003,
          18371.909999999993,
          15341.690000000008,
          20479.91,
          25417.35999999999,
          21690.260000000006,
          22380.55000000001,
          21712.530000000006,
          14465.840000000002,
          17023.39000000001,
          26629.340000000007,
          21541.13000000001,
          24214.39000000001,
          23594.020000000004,
          23627.109999999986,
          16221.090000000004,
          15928.580000000005,
          22232.119999999995,
          27992.040000000008,
          28398.60999999997,
          21885.089999999993,
          20143.719999999998,
          15172.920000000006,
          15073.710000000005,
          26019.71999999999,
          19955.449999999986,
          18789.699999999993,
          16398.730000000003,
          17403.720000000005,
          12054.650000000009,
          16327.140000000001,
          25696.590000000015,
          37025.69999999999,
          35466.26999999998,
          23914.850000000002,
          32485.269999999997,
          20479.17999999999,
          30950.780000000002,
          28719.239999999998,
          24954.680000000008,
          28821.83,
          21328.86000000001,
          14789.080000000002,
          17681.22,
          20978.600000000002,
          27103.889999999992,
          32784.959999999985,
          32054.369999999984,
          26502.510000000006,
          21556.659999999996,
          24040.31,
          22848.41999999999,
          32535.229999999992,
          23478.66000000001,
          26170.079999999998,
          22458.18999999998,
          19200.250000000007,
          12574.83,
          15880.060000000003,
          21203.050000000003,
          25296.359999999993,
          24879.939999999988,
          26629.300000000003,
          34497.46999999999,
          14879.170000000002,
          21909.429999999997,
          25565.110000000008,
          30389.119999999995,
          24787.58000000001,
          29129.829999999994,
          21890.58,
          17975.41,
          19756.299999999992,
          35265.56999999999,
          32559.070000000003,
          26214.77999999999,
          22520.929999999993,
          26589.92,
          16185.459999999997,
          21353.839999999997,
          35315.41999999998,
          35288.18,
          31793.669999999995,
          26988.799999999996,
          21979.199999999993,
          18022.3,
          23273.049999999996,
          25993.410000000007,
          25739.269999999997,
          21470.530000000006,
          26415.549999999992,
          23488.17,
          20572.640000000007,
          20444.680000000004,
          23741.859999999997,
          27058.219999999983,
          22702.160000000003,
          25017.159999999996,
          27058.519999999997,
          22294.809999999998,
          21752.57,
          33945.13999999999,
          24945.210000000003,
          23436.700000000008,
          29175.83,
          23676.7,
          27578.63000000002,
          26725.080000000005,
          29606.239999999987,
          32012.600000000006,
          27683.349999999995,
          33063.26999999999,
          35386.83999999998,
          27968.569999999996,
          23312.600000000002,
          50621.24,
          39831.85,
          30721.619999999995,
          52584.619999999995,
          179200.02999999994,
          71897.01,
          53939.87,
          56966.280000000006,
          56708.40999999998,
          48043.16000000003,
          37026.72999999998,
          46080.83999999996,
          35908.509999999995,
          34803.18999999998,
          56225.409999999974,
          40707.770000000004,
          46149.63000000002,
          33664.200000000004,
          35160.820000000014,
          23639.519999999997,
          29784.260000000024,
          39415.42999999998,
          40370.389999999985,
          34385.08,
          30754.309999999987,
          31451.629999999986,
          22907.05000000001,
          22105.999999999993,
          33898.129999999976,
          24494.27999999999,
          32004.67999999999,
          21546.44,
          18073.47000000001,
          16425.64,
          6960.790000000002,
          12662.230000000003,
          23797.46000000001,
          21074.289999999994,
          17793.849999999995,
          20552.64000000001,
          15412.610000000002,
          10190.929999999998
         ],
         "yaxis": "y"
        }
       ],
       "layout": {
        "autosize": true,
        "legend": {
         "tracegroupgap": 0
        },
        "margin": {
         "t": 60
        },
        "template": {
         "data": {
          "bar": [
           {
            "error_x": {
             "color": "#2a3f5f"
            },
            "error_y": {
             "color": "#2a3f5f"
            },
            "marker": {
             "line": {
              "color": "#E5ECF6",
              "width": 0.5
             },
             "pattern": {
              "fillmode": "overlay",
              "size": 10,
              "solidity": 0.2
             }
            },
            "type": "bar"
           }
          ],
          "barpolar": [
           {
            "marker": {
             "line": {
              "color": "#E5ECF6",
              "width": 0.5
             },
             "pattern": {
              "fillmode": "overlay",
              "size": 10,
              "solidity": 0.2
             }
            },
            "type": "barpolar"
           }
          ],
          "carpet": [
           {
            "aaxis": {
             "endlinecolor": "#2a3f5f",
             "gridcolor": "white",
             "linecolor": "white",
             "minorgridcolor": "white",
             "startlinecolor": "#2a3f5f"
            },
            "baxis": {
             "endlinecolor": "#2a3f5f",
             "gridcolor": "white",
             "linecolor": "white",
             "minorgridcolor": "white",
             "startlinecolor": "#2a3f5f"
            },
            "type": "carpet"
           }
          ],
          "choropleth": [
           {
            "colorbar": {
             "outlinewidth": 0,
             "ticks": ""
            },
            "type": "choropleth"
           }
          ],
          "contour": [
           {
            "colorbar": {
             "outlinewidth": 0,
             "ticks": ""
            },
            "colorscale": [
             [
              0,
              "#0d0887"
             ],
             [
              0.1111111111111111,
              "#46039f"
             ],
             [
              0.2222222222222222,
              "#7201a8"
             ],
             [
              0.3333333333333333,
              "#9c179e"
             ],
             [
              0.4444444444444444,
              "#bd3786"
             ],
             [
              0.5555555555555556,
              "#d8576b"
             ],
             [
              0.6666666666666666,
              "#ed7953"
             ],
             [
              0.7777777777777778,
              "#fb9f3a"
             ],
             [
              0.8888888888888888,
              "#fdca26"
             ],
             [
              1,
              "#f0f921"
             ]
            ],
            "type": "contour"
           }
          ],
          "contourcarpet": [
           {
            "colorbar": {
             "outlinewidth": 0,
             "ticks": ""
            },
            "type": "contourcarpet"
           }
          ],
          "heatmap": [
           {
            "colorbar": {
             "outlinewidth": 0,
             "ticks": ""
            },
            "colorscale": [
             [
              0,
              "#0d0887"
             ],
             [
              0.1111111111111111,
              "#46039f"
             ],
             [
              0.2222222222222222,
              "#7201a8"
             ],
             [
              0.3333333333333333,
              "#9c179e"
             ],
             [
              0.4444444444444444,
              "#bd3786"
             ],
             [
              0.5555555555555556,
              "#d8576b"
             ],
             [
              0.6666666666666666,
              "#ed7953"
             ],
             [
              0.7777777777777778,
              "#fb9f3a"
             ],
             [
              0.8888888888888888,
              "#fdca26"
             ],
             [
              1,
              "#f0f921"
             ]
            ],
            "type": "heatmap"
           }
          ],
          "heatmapgl": [
           {
            "colorbar": {
             "outlinewidth": 0,
             "ticks": ""
            },
            "colorscale": [
             [
              0,
              "#0d0887"
             ],
             [
              0.1111111111111111,
              "#46039f"
             ],
             [
              0.2222222222222222,
              "#7201a8"
             ],
             [
              0.3333333333333333,
              "#9c179e"
             ],
             [
              0.4444444444444444,
              "#bd3786"
             ],
             [
              0.5555555555555556,
              "#d8576b"
             ],
             [
              0.6666666666666666,
              "#ed7953"
             ],
             [
              0.7777777777777778,
              "#fb9f3a"
             ],
             [
              0.8888888888888888,
              "#fdca26"
             ],
             [
              1,
              "#f0f921"
             ]
            ],
            "type": "heatmapgl"
           }
          ],
          "histogram": [
           {
            "marker": {
             "pattern": {
              "fillmode": "overlay",
              "size": 10,
              "solidity": 0.2
             }
            },
            "type": "histogram"
           }
          ],
          "histogram2d": [
           {
            "colorbar": {
             "outlinewidth": 0,
             "ticks": ""
            },
            "colorscale": [
             [
              0,
              "#0d0887"
             ],
             [
              0.1111111111111111,
              "#46039f"
             ],
             [
              0.2222222222222222,
              "#7201a8"
             ],
             [
              0.3333333333333333,
              "#9c179e"
             ],
             [
              0.4444444444444444,
              "#bd3786"
             ],
             [
              0.5555555555555556,
              "#d8576b"
             ],
             [
              0.6666666666666666,
              "#ed7953"
             ],
             [
              0.7777777777777778,
              "#fb9f3a"
             ],
             [
              0.8888888888888888,
              "#fdca26"
             ],
             [
              1,
              "#f0f921"
             ]
            ],
            "type": "histogram2d"
           }
          ],
          "histogram2dcontour": [
           {
            "colorbar": {
             "outlinewidth": 0,
             "ticks": ""
            },
            "colorscale": [
             [
              0,
              "#0d0887"
             ],
             [
              0.1111111111111111,
              "#46039f"
             ],
             [
              0.2222222222222222,
              "#7201a8"
             ],
             [
              0.3333333333333333,
              "#9c179e"
             ],
             [
              0.4444444444444444,
              "#bd3786"
             ],
             [
              0.5555555555555556,
              "#d8576b"
             ],
             [
              0.6666666666666666,
              "#ed7953"
             ],
             [
              0.7777777777777778,
              "#fb9f3a"
             ],
             [
              0.8888888888888888,
              "#fdca26"
             ],
             [
              1,
              "#f0f921"
             ]
            ],
            "type": "histogram2dcontour"
           }
          ],
          "mesh3d": [
           {
            "colorbar": {
             "outlinewidth": 0,
             "ticks": ""
            },
            "type": "mesh3d"
           }
          ],
          "parcoords": [
           {
            "line": {
             "colorbar": {
              "outlinewidth": 0,
              "ticks": ""
             }
            },
            "type": "parcoords"
           }
          ],
          "pie": [
           {
            "automargin": true,
            "type": "pie"
           }
          ],
          "scatter": [
           {
            "marker": {
             "colorbar": {
              "outlinewidth": 0,
              "ticks": ""
             }
            },
            "type": "scatter"
           }
          ],
          "scatter3d": [
           {
            "line": {
             "colorbar": {
              "outlinewidth": 0,
              "ticks": ""
             }
            },
            "marker": {
             "colorbar": {
              "outlinewidth": 0,
              "ticks": ""
             }
            },
            "type": "scatter3d"
           }
          ],
          "scattercarpet": [
           {
            "marker": {
             "colorbar": {
              "outlinewidth": 0,
              "ticks": ""
             }
            },
            "type": "scattercarpet"
           }
          ],
          "scattergeo": [
           {
            "marker": {
             "colorbar": {
              "outlinewidth": 0,
              "ticks": ""
             }
            },
            "type": "scattergeo"
           }
          ],
          "scattergl": [
           {
            "marker": {
             "colorbar": {
              "outlinewidth": 0,
              "ticks": ""
             }
            },
            "type": "scattergl"
           }
          ],
          "scattermapbox": [
           {
            "marker": {
             "colorbar": {
              "outlinewidth": 0,
              "ticks": ""
             }
            },
            "type": "scattermapbox"
           }
          ],
          "scatterpolar": [
           {
            "marker": {
             "colorbar": {
              "outlinewidth": 0,
              "ticks": ""
             }
            },
            "type": "scatterpolar"
           }
          ],
          "scatterpolargl": [
           {
            "marker": {
             "colorbar": {
              "outlinewidth": 0,
              "ticks": ""
             }
            },
            "type": "scatterpolargl"
           }
          ],
          "scatterternary": [
           {
            "marker": {
             "colorbar": {
              "outlinewidth": 0,
              "ticks": ""
             }
            },
            "type": "scatterternary"
           }
          ],
          "surface": [
           {
            "colorbar": {
             "outlinewidth": 0,
             "ticks": ""
            },
            "colorscale": [
             [
              0,
              "#0d0887"
             ],
             [
              0.1111111111111111,
              "#46039f"
             ],
             [
              0.2222222222222222,
              "#7201a8"
             ],
             [
              0.3333333333333333,
              "#9c179e"
             ],
             [
              0.4444444444444444,
              "#bd3786"
             ],
             [
              0.5555555555555556,
              "#d8576b"
             ],
             [
              0.6666666666666666,
              "#ed7953"
             ],
             [
              0.7777777777777778,
              "#fb9f3a"
             ],
             [
              0.8888888888888888,
              "#fdca26"
             ],
             [
              1,
              "#f0f921"
             ]
            ],
            "type": "surface"
           }
          ],
          "table": [
           {
            "cells": {
             "fill": {
              "color": "#EBF0F8"
             },
             "line": {
              "color": "white"
             }
            },
            "header": {
             "fill": {
              "color": "#C8D4E3"
             },
             "line": {
              "color": "white"
             }
            },
            "type": "table"
           }
          ]
         },
         "layout": {
          "annotationdefaults": {
           "arrowcolor": "#2a3f5f",
           "arrowhead": 0,
           "arrowwidth": 1
          },
          "autotypenumbers": "strict",
          "coloraxis": {
           "colorbar": {
            "outlinewidth": 0,
            "ticks": ""
           }
          },
          "colorscale": {
           "diverging": [
            [
             0,
             "#8e0152"
            ],
            [
             0.1,
             "#c51b7d"
            ],
            [
             0.2,
             "#de77ae"
            ],
            [
             0.3,
             "#f1b6da"
            ],
            [
             0.4,
             "#fde0ef"
            ],
            [
             0.5,
             "#f7f7f7"
            ],
            [
             0.6,
             "#e6f5d0"
            ],
            [
             0.7,
             "#b8e186"
            ],
            [
             0.8,
             "#7fbc41"
            ],
            [
             0.9,
             "#4d9221"
            ],
            [
             1,
             "#276419"
            ]
           ],
           "sequential": [
            [
             0,
             "#0d0887"
            ],
            [
             0.1111111111111111,
             "#46039f"
            ],
            [
             0.2222222222222222,
             "#7201a8"
            ],
            [
             0.3333333333333333,
             "#9c179e"
            ],
            [
             0.4444444444444444,
             "#bd3786"
            ],
            [
             0.5555555555555556,
             "#d8576b"
            ],
            [
             0.6666666666666666,
             "#ed7953"
            ],
            [
             0.7777777777777778,
             "#fb9f3a"
            ],
            [
             0.8888888888888888,
             "#fdca26"
            ],
            [
             1,
             "#f0f921"
            ]
           ],
           "sequentialminus": [
            [
             0,
             "#0d0887"
            ],
            [
             0.1111111111111111,
             "#46039f"
            ],
            [
             0.2222222222222222,
             "#7201a8"
            ],
            [
             0.3333333333333333,
             "#9c179e"
            ],
            [
             0.4444444444444444,
             "#bd3786"
            ],
            [
             0.5555555555555556,
             "#d8576b"
            ],
            [
             0.6666666666666666,
             "#ed7953"
            ],
            [
             0.7777777777777778,
             "#fb9f3a"
            ],
            [
             0.8888888888888888,
             "#fdca26"
            ],
            [
             1,
             "#f0f921"
            ]
           ]
          },
          "colorway": [
           "#636efa",
           "#EF553B",
           "#00cc96",
           "#ab63fa",
           "#FFA15A",
           "#19d3f3",
           "#FF6692",
           "#B6E880",
           "#FF97FF",
           "#FECB52"
          ],
          "font": {
           "color": "#2a3f5f"
          },
          "geo": {
           "bgcolor": "white",
           "lakecolor": "white",
           "landcolor": "#E5ECF6",
           "showlakes": true,
           "showland": true,
           "subunitcolor": "white"
          },
          "hoverlabel": {
           "align": "left"
          },
          "hovermode": "closest",
          "mapbox": {
           "style": "light"
          },
          "paper_bgcolor": "white",
          "plot_bgcolor": "#E5ECF6",
          "polar": {
           "angularaxis": {
            "gridcolor": "white",
            "linecolor": "white",
            "ticks": ""
           },
           "bgcolor": "#E5ECF6",
           "radialaxis": {
            "gridcolor": "white",
            "linecolor": "white",
            "ticks": ""
           }
          },
          "scene": {
           "xaxis": {
            "backgroundcolor": "#E5ECF6",
            "gridcolor": "white",
            "gridwidth": 2,
            "linecolor": "white",
            "showbackground": true,
            "ticks": "",
            "zerolinecolor": "white"
           },
           "yaxis": {
            "backgroundcolor": "#E5ECF6",
            "gridcolor": "white",
            "gridwidth": 2,
            "linecolor": "white",
            "showbackground": true,
            "ticks": "",
            "zerolinecolor": "white"
           },
           "zaxis": {
            "backgroundcolor": "#E5ECF6",
            "gridcolor": "white",
            "gridwidth": 2,
            "linecolor": "white",
            "showbackground": true,
            "ticks": "",
            "zerolinecolor": "white"
           }
          },
          "shapedefaults": {
           "line": {
            "color": "#2a3f5f"
           }
          },
          "ternary": {
           "aaxis": {
            "gridcolor": "white",
            "linecolor": "white",
            "ticks": ""
           },
           "baxis": {
            "gridcolor": "white",
            "linecolor": "white",
            "ticks": ""
           },
           "bgcolor": "#E5ECF6",
           "caxis": {
            "gridcolor": "white",
            "linecolor": "white",
            "ticks": ""
           }
          },
          "title": {
           "x": 0.05
          },
          "xaxis": {
           "automargin": true,
           "gridcolor": "white",
           "linecolor": "white",
           "ticks": "",
           "title": {
            "standoff": 15
           },
           "zerolinecolor": "white",
           "zerolinewidth": 2
          },
          "yaxis": {
           "automargin": true,
           "gridcolor": "white",
           "linecolor": "white",
           "ticks": "",
           "title": {
            "standoff": 15
           },
           "zerolinecolor": "white",
           "zerolinewidth": 2
          }
         }
        },
        "xaxis": {
         "anchor": "y",
         "autorange": true,
         "domain": [
          0,
          1
         ],
         "range": [
          "2017-01-05",
          "2017-12-31"
         ],
         "title": {
          "text": "x"
         },
         "type": "date"
        },
        "yaxis": {
         "anchor": "x",
         "autorange": true,
         "domain": [
          0,
          1
         ],
         "range": [
          -9208.99444444444,
          189116.2944444444
         ],
         "title": {
          "text": "y"
         },
         "type": "linear"
        }
       }
      },
      "image/png": "[encoded data removed]",
      "text/html": [
       "<div>                            <div id=\"ede5fca8-6015-4342-8242-9e9a0d8cc84a\" class=\"plotly-graph-div\" style=\"height:525px; width:100%;\"></div>            <script type=\"text/javascript\">                require([\"plotly\"], function(Plotly) {                    window.PLOTLYENV=window.PLOTLYENV || {};                                    if (document.getElementById(\"ede5fca8-6015-4342-8242-9e9a0d8cc84a\")) {                    Plotly.newPlot(                        \"ede5fca8-6015-4342-8242-9e9a0d8cc84a\",                        [{\"hovertemplate\":\"x=%{x}<br>y=%{y}<extra></extra>\",\"legendgroup\":\"\",\"line\":{\"color\":\"#636efa\",\"dash\":\"solid\"},\"mode\":\"lines\",\"name\":\"\",\"orientation\":\"v\",\"showlegend\":false,\"type\":\"scatter\",\"x\":[\"2017-01-05\",\"2017-01-06\",\"2017-01-07\",\"2017-01-08\",\"2017-01-09\",\"2017-01-10\",\"2017-01-11\",\"2017-01-12\",\"2017-01-13\",\"2017-01-14\",\"2017-01-15\",\"2017-01-16\",\"2017-01-17\",\"2017-01-18\",\"2017-01-19\",\"2017-01-20\",\"2017-01-21\",\"2017-01-22\",\"2017-01-23\",\"2017-01-24\",\"2017-01-25\",\"2017-01-26\",\"2017-01-27\",\"2017-01-28\",\"2017-01-29\",\"2017-01-30\",\"2017-01-31\",\"2017-02-01\",\"2017-02-02\",\"2017-02-03\",\"2017-02-04\",\"2017-02-05\",\"2017-02-06\",\"2017-02-07\",\"2017-02-08\",\"2017-02-09\",\"2017-02-10\",\"2017-02-11\",\"2017-02-12\",\"2017-02-13\",\"2017-02-14\",\"2017-02-15\",\"2017-02-16\",\"2017-02-17\",\"2017-02-18\",\"2017-02-19\",\"2017-02-20\",\"2017-02-21\",\"2017-02-22\",\"2017-02-23\",\"2017-02-24\",\"2017-02-25\",\"2017-02-26\",\"2017-02-27\",\"2017-02-28\",\"2017-03-01\",\"2017-03-02\",\"2017-03-03\",\"2017-03-04\",\"2017-03-05\",\"2017-03-06\",\"2017-03-07\",\"2017-03-08\",\"2017-03-09\",\"2017-03-10\",\"2017-03-11\",\"2017-03-12\",\"2017-03-13\",\"2017-03-14\",\"2017-03-15\",\"2017-03-16\",\"2017-03-17\",\"2017-03-18\",\"2017-03-19\",\"2017-03-20\",\"2017-03-21\",\"2017-03-22\",\"2017-03-23\",\"2017-03-24\",\"2017-03-25\",\"2017-03-26\",\"2017-03-27\",\"2017-03-28\",\"2017-03-29\",\"2017-03-30\",\"2017-03-31\",\"2017-04-01\",\"2017-04-02\",\"2017-04-03\",\"2017-04-04\",\"2017-04-05\",\"2017-04-06\",\"2017-04-07\",\"2017-04-08\",\"2017-04-09\",\"2017-04-10\",\"2017-04-11\",\"2017-04-12\",\"2017-04-13\",\"2017-04-14\",\"2017-04-15\",\"2017-04-16\",\"2017-04-17\",\"2017-04-18\",\"2017-04-19\",\"2017-04-20\",\"2017-04-21\",\"2017-04-22\",\"2017-04-23\",\"2017-04-24\",\"2017-04-25\",\"2017-04-26\",\"2017-04-27\",\"2017-04-28\",\"2017-04-29\",\"2017-04-30\",\"2017-05-01\",\"2017-05-02\",\"2017-05-03\",\"2017-05-04\",\"2017-05-05\",\"2017-05-06\",\"2017-05-07\",\"2017-05-08\",\"2017-05-09\",\"2017-05-10\",\"2017-05-11\",\"2017-05-12\",\"2017-05-13\",\"2017-05-14\",\"2017-05-15\",\"2017-05-16\",\"2017-05-17\",\"2017-05-18\",\"2017-05-19\",\"2017-05-20\",\"2017-05-21\",\"2017-05-22\",\"2017-05-23\",\"2017-05-24\",\"2017-05-25\",\"2017-05-26\",\"2017-05-27\",\"2017-05-28\",\"2017-05-29\",\"2017-05-30\",\"2017-05-31\",\"2017-06-01\",\"2017-06-02\",\"2017-06-03\",\"2017-06-04\",\"2017-06-05\",\"2017-06-06\",\"2017-06-07\",\"2017-06-08\",\"2017-06-09\",\"2017-06-10\",\"2017-06-11\",\"2017-06-12\",\"2017-06-13\",\"2017-06-14\",\"2017-06-15\",\"2017-06-16\",\"2017-06-17\",\"2017-06-18\",\"2017-06-19\",\"2017-06-20\",\"2017-06-21\",\"2017-06-22\",\"2017-06-23\",\"2017-06-24\",\"2017-06-25\",\"2017-06-26\",\"2017-06-27\",\"2017-06-28\",\"2017-06-29\",\"2017-06-30\",\"2017-07-01\",\"2017-07-02\",\"2017-07-03\",\"2017-07-04\",\"2017-07-05\",\"2017-07-06\",\"2017-07-07\",\"2017-07-08\",\"2017-07-09\",\"2017-07-10\",\"2017-07-11\",\"2017-07-12\",\"2017-07-13\",\"2017-07-14\",\"2017-07-15\",\"2017-07-16\",\"2017-07-17\",\"2017-07-18\",\"2017-07-19\",\"2017-07-20\",\"2017-07-21\",\"2017-07-22\",\"2017-07-23\",\"2017-07-24\",\"2017-07-25\",\"2017-07-26\",\"2017-07-27\",\"2017-07-28\",\"2017-07-29\",\"2017-07-30\",\"2017-07-31\",\"2017-08-01\",\"2017-08-02\",\"2017-08-03\",\"2017-08-04\",\"2017-08-05\",\"2017-08-06\",\"2017-08-07\",\"2017-08-08\",\"2017-08-09\",\"2017-08-10\",\"2017-08-11\",\"2017-08-12\",\"2017-08-13\",\"2017-08-14\",\"2017-08-15\",\"2017-08-16\",\"2017-08-17\",\"2017-08-18\",\"2017-08-19\",\"2017-08-20\",\"2017-08-21\",\"2017-08-22\",\"2017-08-23\",\"2017-08-24\",\"2017-08-25\",\"2017-08-26\",\"2017-08-27\",\"2017-08-28\",\"2017-08-29\",\"2017-08-30\",\"2017-08-31\",\"2017-09-01\",\"2017-09-02\",\"2017-09-03\",\"2017-09-04\",\"2017-09-05\",\"2017-09-06\",\"2017-09-07\",\"2017-09-08\",\"2017-09-09\",\"2017-09-10\",\"2017-09-11\",\"2017-09-12\",\"2017-09-13\",\"2017-09-14\",\"2017-09-15\",\"2017-09-16\",\"2017-09-17\",\"2017-09-18\",\"2017-09-19\",\"2017-09-20\",\"2017-09-21\",\"2017-09-22\",\"2017-09-23\",\"2017-09-24\",\"2017-09-25\",\"2017-09-26\",\"2017-09-27\",\"2017-09-28\",\"2017-09-29\",\"2017-09-30\",\"2017-10-01\",\"2017-10-02\",\"2017-10-03\",\"2017-10-04\",\"2017-10-05\",\"2017-10-06\",\"2017-10-07\",\"2017-10-08\",\"2017-10-09\",\"2017-10-10\",\"2017-10-11\",\"2017-10-12\",\"2017-10-13\",\"2017-10-14\",\"2017-10-15\",\"2017-10-16\",\"2017-10-17\",\"2017-10-18\",\"2017-10-19\",\"2017-10-20\",\"2017-10-21\",\"2017-10-22\",\"2017-10-23\",\"2017-10-24\",\"2017-10-25\",\"2017-10-26\",\"2017-10-27\",\"2017-10-28\",\"2017-10-29\",\"2017-10-30\",\"2017-10-31\",\"2017-11-01\",\"2017-11-02\",\"2017-11-03\",\"2017-11-04\",\"2017-11-05\",\"2017-11-06\",\"2017-11-07\",\"2017-11-08\",\"2017-11-09\",\"2017-11-10\",\"2017-11-11\",\"2017-11-12\",\"2017-11-13\",\"2017-11-14\",\"2017-11-15\",\"2017-11-16\",\"2017-11-17\",\"2017-11-18\",\"2017-11-19\",\"2017-11-20\",\"2017-11-21\",\"2017-11-22\",\"2017-11-23\",\"2017-11-24\",\"2017-11-25\",\"2017-11-26\",\"2017-11-27\",\"2017-11-28\",\"2017-11-29\",\"2017-11-30\",\"2017-12-01\",\"2017-12-02\",\"2017-12-03\",\"2017-12-04\",\"2017-12-05\",\"2017-12-06\",\"2017-12-07\",\"2017-12-08\",\"2017-12-09\",\"2017-12-10\",\"2017-12-11\",\"2017-12-12\",\"2017-12-13\",\"2017-12-14\",\"2017-12-15\",\"2017-12-16\",\"2017-12-17\",\"2017-12-18\",\"2017-12-19\",\"2017-12-20\",\"2017-12-21\",\"2017-12-22\",\"2017-12-23\",\"2017-12-24\",\"2017-12-25\",\"2017-12-26\",\"2017-12-27\",\"2017-12-28\",\"2017-12-29\",\"2017-12-30\",\"2017-12-31\"],\"xaxis\":\"x\",\"y\":[707.2700000000001,988.2800000000001,1447.99,809.6300000000001,774.51,1571.17,3062.3299999999995,2502.69,2903.9699999999993,1507.3599999999997,2551.34,3712.2400000000002,3893.6099999999988,4683.380000000001,4140.159999999999,4698.070000000001,3094.7600000000007,4280.22,7553.890000000002,6794.499999999997,10434.310000000003,15191.960000000008,12904.129999999994,5909.979999999999,7160.659999999995,12187.899999999994,13021.729999999996,10310.99,10676.54,11639.190000000004,15747.169999999998,10153.239999999998,11626.0,16627.210000000003,14299.970000000005,10844.169999999996,15674.09,5648.369999999999,16682.29,13092.090000000004,15309.080000000002,8326.400000000001,7803.720000000001,8093.570000000001,9308.300000000003,4477.65,9157.300000000001,9333.460000000003,9393.37,8571.86,7983.009999999999,5126.18,6583.499999999999,6836.77,12582.519999999999,18923.17000000001,13146.36,14154.710000000003,15533.690000000002,8789.14,13515.120000000003,13855.370000000006,16769.66,13828.330000000004,14518.919999999993,12503.97,7853.180000000002,19306.060000000005,16542.980000000003,17364.910000000003,16653.719999999998,13611.279999999999,17943.070000000003,7728.08,20014.930000000008,14937.51,16390.14,22913.370000000003,13386.910000000009,11251.740000000002,7642.0199999999995,20549.290000000005,14838.579999999996,10209.110000000004,11434.999999999998,13753.280000000002,20574.679999999997,10608.62,10776.9,14152.990000000007,20774.549999999992,26863.579999999998,15043.719999999996,10290.740000000003,9689.41,13492.1,9878.09,9407.94,11216.110000000006,10515.900000000001,9391.56,6532.21,10765.57,23433.859999999993,13941.250000000002,16056.000000000004,10162.6,15005.060000000007,11839.91,17711.56999999999,17176.350000000006,18696.090000000004,12455.1,18063.289999999997,13835.280000000002,9436.999999999998,14869.670000000007,20673.079999999998,12192.339999999998,15901.720000000005,16584.580000000005,19227.55,20467.980000000003,19194.68,24245.050000000007,23418.399999999987,21204.03999999999,15314.460000000003,10675.67,17551.829999999998,21907.00999999999,24535.569999999992,21396.329999999987,20861.79000000001,21525.089999999986,12364.170000000002,20368.52999999999,28906.599999999984,20622.469999999998,26991.949999999993,18420.65999999999,12680.520000000002,16333.540000000012,11120.709999999997,22225.089999999993,17074.36,24063.379999999994,21781.379999999997,21769.380000000012,12265.439999999999,16029.490000000002,27400.540000000008,17525.09,16072.620000000006,22106.280000000002,18738.529999999995,9892.1,19348.539999999994,17389.2,16894.890000000007,23559.519999999982,15105.260000000006,14777.690000000004,13070.160000000007,19733.690000000002,25933.439999999988,14659.820000000002,7275.100000000002,10609.039999999999,15698.500000000004,10013.700000000003,20734.34000000001,15200.319999999998,19680.129999999997,17080.88,14694.570000000007,16236.740000000005,14139.0,14002.370000000004,19328.179999999986,18107.599999999988,24664.579999999998,26556.070000000003,16676.75,12001.350000000002,10701.14,20661.800000000007,24964.63000000001,22740.800000000007,17986.750000000007,21833.259999999995,13128.050000000005,16150.230000000003,25799.539999999994,32450.889999999992,20411.749999999985,22517.840000000007,15870.789999999997,13318.540000000003,14066.830000000004,22950.00999999999,20884.700000000004,14053.840000000006,18945.82,23276.300000000003,18371.909999999993,15341.690000000008,20479.91,25417.35999999999,21690.260000000006,22380.55000000001,21712.530000000006,14465.840000000002,17023.39000000001,26629.340000000007,21541.13000000001,24214.39000000001,23594.020000000004,23627.109999999986,16221.090000000004,15928.580000000005,22232.119999999995,27992.040000000008,28398.60999999997,21885.089999999993,20143.719999999998,15172.920000000006,15073.710000000005,26019.71999999999,19955.449999999986,18789.699999999993,16398.730000000003,17403.720000000005,12054.650000000009,16327.140000000001,25696.590000000015,37025.69999999999,35466.26999999998,23914.850000000002,32485.269999999997,20479.17999999999,30950.780000000002,28719.239999999998,24954.680000000008,28821.83,21328.86000000001,14789.080000000002,17681.22,20978.600000000002,27103.889999999992,32784.959999999985,32054.369999999984,26502.510000000006,21556.659999999996,24040.31,22848.41999999999,32535.229999999992,23478.66000000001,26170.079999999998,22458.18999999998,19200.250000000007,12574.83,15880.060000000003,21203.050000000003,25296.359999999993,24879.939999999988,26629.300000000003,34497.46999999999,14879.170000000002,21909.429999999997,25565.110000000008,30389.119999999995,24787.58000000001,29129.829999999994,21890.58,17975.41,19756.299999999992,35265.56999999999,32559.070000000003,26214.77999999999,22520.929999999993,26589.92,16185.459999999997,21353.839999999997,35315.41999999998,35288.18,31793.669999999995,26988.799999999996,21979.199999999993,18022.3,23273.049999999996,25993.410000000007,25739.269999999997,21470.530000000006,26415.549999999992,23488.17,20572.640000000007,20444.680000000004,23741.859999999997,27058.219999999983,22702.160000000003,25017.159999999996,27058.519999999997,22294.809999999998,21752.57,33945.13999999999,24945.210000000003,23436.700000000008,29175.83,23676.7,27578.63000000002,26725.080000000005,29606.239999999987,32012.600000000006,27683.349999999995,33063.26999999999,35386.83999999998,27968.569999999996,23312.600000000002,50621.24,39831.85,30721.619999999995,52584.619999999995,179200.02999999994,71897.01,53939.87,56966.280000000006,56708.40999999998,48043.16000000003,37026.72999999998,46080.83999999996,35908.509999999995,34803.18999999998,56225.409999999974,40707.770000000004,46149.63000000002,33664.200000000004,35160.820000000014,23639.519999999997,29784.260000000024,39415.42999999998,40370.389999999985,34385.08,30754.309999999987,31451.629999999986,22907.05000000001,22105.999999999993,33898.129999999976,24494.27999999999,32004.67999999999,21546.44,18073.47000000001,16425.64,6960.790000000002,12662.230000000003,23797.46000000001,21074.289999999994,17793.849999999995,20552.64000000001,15412.610000000002,10190.929999999998],\"yaxis\":\"y\"}],                        {\"legend\":{\"tracegroupgap\":0},\"margin\":{\"t\":60},\"template\":{\"data\":{\"bar\":[{\"error_x\":{\"color\":\"#2a3f5f\"},\"error_y\":{\"color\":\"#2a3f5f\"},\"marker\":{\"line\":{\"color\":\"#E5ECF6\",\"width\":0.5},\"pattern\":{\"fillmode\":\"overlay\",\"size\":10,\"solidity\":0.2}},\"type\":\"bar\"}],\"barpolar\":[{\"marker\":{\"line\":{\"color\":\"#E5ECF6\",\"width\":0.5},\"pattern\":{\"fillmode\":\"overlay\",\"size\":10,\"solidity\":0.2}},\"type\":\"barpolar\"}],\"carpet\":[{\"aaxis\":{\"endlinecolor\":\"#2a3f5f\",\"gridcolor\":\"white\",\"linecolor\":\"white\",\"minorgridcolor\":\"white\",\"startlinecolor\":\"#2a3f5f\"},\"baxis\":{\"endlinecolor\":\"#2a3f5f\",\"gridcolor\":\"white\",\"linecolor\":\"white\",\"minorgridcolor\":\"white\",\"startlinecolor\":\"#2a3f5f\"},\"type\":\"carpet\"}],\"choropleth\":[{\"colorbar\":{\"outlinewidth\":0,\"ticks\":\"\"},\"type\":\"choropleth\"}],\"contour\":[{\"colorbar\":{\"outlinewidth\":0,\"ticks\":\"\"},\"colorscale\":[[0.0,\"#0d0887\"],[0.1111111111111111,\"#46039f\"],[0.2222222222222222,\"#7201a8\"],[0.3333333333333333,\"#9c179e\"],[0.4444444444444444,\"#bd3786\"],[0.5555555555555556,\"#d8576b\"],[0.6666666666666666,\"#ed7953\"],[0.7777777777777778,\"#fb9f3a\"],[0.8888888888888888,\"#fdca26\"],[1.0,\"#f0f921\"]],\"type\":\"contour\"}],\"contourcarpet\":[{\"colorbar\":{\"outlinewidth\":0,\"ticks\":\"\"},\"type\":\"contourcarpet\"}],\"heatmap\":[{\"colorbar\":{\"outlinewidth\":0,\"ticks\":\"\"},\"colorscale\":[[0.0,\"#0d0887\"],[0.1111111111111111,\"#46039f\"],[0.2222222222222222,\"#7201a8\"],[0.3333333333333333,\"#9c179e\"],[0.4444444444444444,\"#bd3786\"],[0.5555555555555556,\"#d8576b\"],[0.6666666666666666,\"#ed7953\"],[0.7777777777777778,\"#fb9f3a\"],[0.8888888888888888,\"#fdca26\"],[1.0,\"#f0f921\"]],\"type\":\"heatmap\"}],\"heatmapgl\":[{\"colorbar\":{\"outlinewidth\":0,\"ticks\":\"\"},\"colorscale\":[[0.0,\"#0d0887\"],[0.1111111111111111,\"#46039f\"],[0.2222222222222222,\"#7201a8\"],[0.3333333333333333,\"#9c179e\"],[0.4444444444444444,\"#bd3786\"],[0.5555555555555556,\"#d8576b\"],[0.6666666666666666,\"#ed7953\"],[0.7777777777777778,\"#fb9f3a\"],[0.8888888888888888,\"#fdca26\"],[1.0,\"#f0f921\"]],\"type\":\"heatmapgl\"}],\"histogram\":[{\"marker\":{\"pattern\":{\"fillmode\":\"overlay\",\"size\":10,\"solidity\":0.2}},\"type\":\"histogram\"}],\"histogram2d\":[{\"colorbar\":{\"outlinewidth\":0,\"ticks\":\"\"},\"colorscale\":[[0.0,\"#0d0887\"],[0.1111111111111111,\"#46039f\"],[0.2222222222222222,\"#7201a8\"],[0.3333333333333333,\"#9c179e\"],[0.4444444444444444,\"#bd3786\"],[0.5555555555555556,\"#d8576b\"],[0.6666666666666666,\"#ed7953\"],[0.7777777777777778,\"#fb9f3a\"],[0.8888888888888888,\"#fdca26\"],[1.0,\"#f0f921\"]],\"type\":\"histogram2d\"}],\"histogram2dcontour\":[{\"colorbar\":{\"outlinewidth\":0,\"ticks\":\"\"},\"colorscale\":[[0.0,\"#0d0887\"],[0.1111111111111111,\"#46039f\"],[0.2222222222222222,\"#7201a8\"],[0.3333333333333333,\"#9c179e\"],[0.4444444444444444,\"#bd3786\"],[0.5555555555555556,\"#d8576b\"],[0.6666666666666666,\"#ed7953\"],[0.7777777777777778,\"#fb9f3a\"],[0.8888888888888888,\"#fdca26\"],[1.0,\"#f0f921\"]],\"type\":\"histogram2dcontour\"}],\"mesh3d\":[{\"colorbar\":{\"outlinewidth\":0,\"ticks\":\"\"},\"type\":\"mesh3d\"}],\"parcoords\":[{\"line\":{\"colorbar\":{\"outlinewidth\":0,\"ticks\":\"\"}},\"type\":\"parcoords\"}],\"pie\":[{\"automargin\":true,\"type\":\"pie\"}],\"scatter\":[{\"marker\":{\"colorbar\":{\"outlinewidth\":0,\"ticks\":\"\"}},\"type\":\"scatter\"}],\"scatter3d\":[{\"line\":{\"colorbar\":{\"outlinewidth\":0,\"ticks\":\"\"}},\"marker\":{\"colorbar\":{\"outlinewidth\":0,\"ticks\":\"\"}},\"type\":\"scatter3d\"}],\"scattercarpet\":[{\"marker\":{\"colorbar\":{\"outlinewidth\":0,\"ticks\":\"\"}},\"type\":\"scattercarpet\"}],\"scattergeo\":[{\"marker\":{\"colorbar\":{\"outlinewidth\":0,\"ticks\":\"\"}},\"type\":\"scattergeo\"}],\"scattergl\":[{\"marker\":{\"colorbar\":{\"outlinewidth\":0,\"ticks\":\"\"}},\"type\":\"scattergl\"}],\"scattermapbox\":[{\"marker\":{\"colorbar\":{\"outlinewidth\":0,\"ticks\":\"\"}},\"type\":\"scattermapbox\"}],\"scatterpolar\":[{\"marker\":{\"colorbar\":{\"outlinewidth\":0,\"ticks\":\"\"}},\"type\":\"scatterpolar\"}],\"scatterpolargl\":[{\"marker\":{\"colorbar\":{\"outlinewidth\":0,\"ticks\":\"\"}},\"type\":\"scatterpolargl\"}],\"scatterternary\":[{\"marker\":{\"colorbar\":{\"outlinewidth\":0,\"ticks\":\"\"}},\"type\":\"scatterternary\"}],\"surface\":[{\"colorbar\":{\"outlinewidth\":0,\"ticks\":\"\"},\"colorscale\":[[0.0,\"#0d0887\"],[0.1111111111111111,\"#46039f\"],[0.2222222222222222,\"#7201a8\"],[0.3333333333333333,\"#9c179e\"],[0.4444444444444444,\"#bd3786\"],[0.5555555555555556,\"#d8576b\"],[0.6666666666666666,\"#ed7953\"],[0.7777777777777778,\"#fb9f3a\"],[0.8888888888888888,\"#fdca26\"],[1.0,\"#f0f921\"]],\"type\":\"surface\"}],\"table\":[{\"cells\":{\"fill\":{\"color\":\"#EBF0F8\"},\"line\":{\"color\":\"white\"}},\"header\":{\"fill\":{\"color\":\"#C8D4E3\"},\"line\":{\"color\":\"white\"}},\"type\":\"table\"}]},\"layout\":{\"annotationdefaults\":{\"arrowcolor\":\"#2a3f5f\",\"arrowhead\":0,\"arrowwidth\":1},\"autotypenumbers\":\"strict\",\"coloraxis\":{\"colorbar\":{\"outlinewidth\":0,\"ticks\":\"\"}},\"colorscale\":{\"diverging\":[[0,\"#8e0152\"],[0.1,\"#c51b7d\"],[0.2,\"#de77ae\"],[0.3,\"#f1b6da\"],[0.4,\"#fde0ef\"],[0.5,\"#f7f7f7\"],[0.6,\"#e6f5d0\"],[0.7,\"#b8e186\"],[0.8,\"#7fbc41\"],[0.9,\"#4d9221\"],[1,\"#276419\"]],\"sequential\":[[0.0,\"#0d0887\"],[0.1111111111111111,\"#46039f\"],[0.2222222222222222,\"#7201a8\"],[0.3333333333333333,\"#9c179e\"],[0.4444444444444444,\"#bd3786\"],[0.5555555555555556,\"#d8576b\"],[0.6666666666666666,\"#ed7953\"],[0.7777777777777778,\"#fb9f3a\"],[0.8888888888888888,\"#fdca26\"],[1.0,\"#f0f921\"]],\"sequentialminus\":[[0.0,\"#0d0887\"],[0.1111111111111111,\"#46039f\"],[0.2222222222222222,\"#7201a8\"],[0.3333333333333333,\"#9c179e\"],[0.4444444444444444,\"#bd3786\"],[0.5555555555555556,\"#d8576b\"],[0.6666666666666666,\"#ed7953\"],[0.7777777777777778,\"#fb9f3a\"],[0.8888888888888888,\"#fdca26\"],[1.0,\"#f0f921\"]]},\"colorway\":[\"#636efa\",\"#EF553B\",\"#00cc96\",\"#ab63fa\",\"#FFA15A\",\"#19d3f3\",\"#FF6692\",\"#B6E880\",\"#FF97FF\",\"#FECB52\"],\"font\":{\"color\":\"#2a3f5f\"},\"geo\":{\"bgcolor\":\"white\",\"lakecolor\":\"white\",\"landcolor\":\"#E5ECF6\",\"showlakes\":true,\"showland\":true,\"subunitcolor\":\"white\"},\"hoverlabel\":{\"align\":\"left\"},\"hovermode\":\"closest\",\"mapbox\":{\"style\":\"light\"},\"paper_bgcolor\":\"white\",\"plot_bgcolor\":\"#E5ECF6\",\"polar\":{\"angularaxis\":{\"gridcolor\":\"white\",\"linecolor\":\"white\",\"ticks\":\"\"},\"bgcolor\":\"#E5ECF6\",\"radialaxis\":{\"gridcolor\":\"white\",\"linecolor\":\"white\",\"ticks\":\"\"}},\"scene\":{\"xaxis\":{\"backgroundcolor\":\"#E5ECF6\",\"gridcolor\":\"white\",\"gridwidth\":2,\"linecolor\":\"white\",\"showbackground\":true,\"ticks\":\"\",\"zerolinecolor\":\"white\"},\"yaxis\":{\"backgroundcolor\":\"#E5ECF6\",\"gridcolor\":\"white\",\"gridwidth\":2,\"linecolor\":\"white\",\"showbackground\":true,\"ticks\":\"\",\"zerolinecolor\":\"white\"},\"zaxis\":{\"backgroundcolor\":\"#E5ECF6\",\"gridcolor\":\"white\",\"gridwidth\":2,\"linecolor\":\"white\",\"showbackground\":true,\"ticks\":\"\",\"zerolinecolor\":\"white\"}},\"shapedefaults\":{\"line\":{\"color\":\"#2a3f5f\"}},\"ternary\":{\"aaxis\":{\"gridcolor\":\"white\",\"linecolor\":\"white\",\"ticks\":\"\"},\"baxis\":{\"gridcolor\":\"white\",\"linecolor\":\"white\",\"ticks\":\"\"},\"bgcolor\":\"#E5ECF6\",\"caxis\":{\"gridcolor\":\"white\",\"linecolor\":\"white\",\"ticks\":\"\"}},\"title\":{\"x\":0.05},\"xaxis\":{\"automargin\":true,\"gridcolor\":\"white\",\"linecolor\":\"white\",\"ticks\":\"\",\"title\":{\"standoff\":15},\"zerolinecolor\":\"white\",\"zerolinewidth\":2},\"yaxis\":{\"automargin\":true,\"gridcolor\":\"white\",\"linecolor\":\"white\",\"ticks\":\"\",\"title\":{\"standoff\":15},\"zerolinecolor\":\"white\",\"zerolinewidth\":2}}},\"xaxis\":{\"anchor\":\"y\",\"domain\":[0.0,1.0],\"title\":{\"text\":\"x\"}},\"yaxis\":{\"anchor\":\"x\",\"domain\":[0.0,1.0],\"title\":{\"text\":\"y\"}}},                        {\"responsive\": true}                    ).then(function(){\n",
       "                            \n",
       "var gd = document.getElementById('ede5fca8-6015-4342-8242-9e9a0d8cc84a');\n",
       "var x = new MutationObserver(function (mutations, observer) {{\n",
       "        var display = window.getComputedStyle(gd).display;\n",
       "        if (!display || display === 'none') {{\n",
       "            console.log([gd, 'removed!']);\n",
       "            Plotly.purge(gd);\n",
       "            observer.disconnect();\n",
       "        }}\n",
       "}});\n",
       "\n",
       "// Listen for the removal of the full notebook cells\n",
       "var notebookContainer = gd.closest('#notebook-container');\n",
       "if (notebookContainer) {{\n",
       "    x.observe(notebookContainer, {childList: true});\n",
       "}}\n",
       "\n",
       "// Listen for the clearing of the current output cell\n",
       "var outputEl = gd.closest('.output');\n",
       "if (outputEl) {{\n",
       "    x.observe(outputEl, {childList: true});\n",
       "}}\n",
       "\n",
       "                        })                };                });            </script>        </div>"
      ]
     },
     "metadata": {},
     "output_type": "display_data"
    }
   ],
   "source": [
    "def year_2017():\n",
    "    df_2017 = df[df['year'] == 2017]\n",
    "    y = df_2017.groupby('date')['payment_value'].sum().reset_index(drop=True)\n",
    "    x = df_2017['date'].drop_duplicates()\n",
    "    df_plot = pd.concat([x, y], axis=1)\n",
    "    fig = px.line(df_plot,x,y)\n",
    "#     fig.update_traces(xperiod=\"M0.5\")\n",
    "    return fig.show()\n",
    "\n",
    "year_2017()"
   ]
  },
  {
   "cell_type": "code",
   "execution_count": 98,
   "id": "8c3e96a6-b91c-43a2-bfcf-a376d20ce90c",
   "metadata": {},
   "outputs": [
    {
     "data": {
      "application/vnd.plotly.v1+json": {
       "config": {
        "plotlyServerURL": "https://plot.ly"
       },
       "data": [
        {
         "alignmentgroup": "True",
         "bingroup": "x",
         "histfunc": "sum",
         "hovertemplate": "date=%{x}<br>sum of payment_value=%{y}<extra></extra>",
         "legendgroup": "",
         "marker": {
          "color": "#636efa",
          "pattern": {
           "shape": ""
          }
         },
         "name": "",
         "offsetgroup": "",
         "orientation": "v",
         "showlegend": false,
         "type": "histogram",
         "x": [
          null,
          null,
          null,
          null,
          null,
          null,
          null,
          null,
          null,
          null,
          null,
          null,
          null,
          null,
          null,
          null,
          null,
          null,
          null,
          null,
          null,
          null,
          null,
          null,
          null,
          null,
          null,
          null,
          null,
          null,
          null,
          null,
          null,
          null,
          null,
          null,
          null,
          null,
          null,
          null,
          null,
          null,
          null,
          null,
          null,
          null,
          null,
          null,
          null,
          null,
          null,
          null,
          null,
          null,
          null,
          null,
          null,
          null,
          null,
          null,
          null,
          null,
          null,
          null,
          null,
          null,
          null,
          null,
          null,
          null,
          null,
          null,
          "2017-02-25",
          null,
          null,
          null,
          null,
          null,
          null,
          null,
          null,
          null,
          null,
          null,
          null,
          null,
          null,
          null,
          null,
          null,
          null,
          null,
          null,
          null,
          null,
          null,
          null,
          null,
          null,
          null,
          null,
          null,
          null,
          null,
          null,
          null,
          null,
          null,
          null,
          null,
          null,
          null,
          null,
          null,
          null,
          null,
          null,
          null,
          null,
          "2017-02-22",
          null,
          null,
          null,
          null,
          null,
          null,
          null,
          null,
          null,
          null,
          null,
          null,
          null,
          null,
          null,
          null,
          null,
          null,
          null,
          null,
          null,
          "2018-03-16",
          null,
          null,
          null,
          null,
          null,
          null,
          null,
          null,
          null,
          null,
          null,
          null,
          null,
          null,
          null,
          null,
          null,
          null,
          null,
          null,
          null,
          null,
          null,
          null,
          null,
          null,
          null,
          null,
          null,
          null,
          null,
          null,
          null,
          null,
          null,
          null,
          null,
          null,
          null,
          null,
          null,
          null,
          null,
          null,
          null,
          null,
          null,
          null,
          null,
          null,
          null,
          null,
          null,
          null,
          null,
          null,
          null,
          null,
          null,
          null,
          null,
          null,
          null,
          null,
          null,
          null,
          null,
          null,
          null,
          null,
          null,
          null,
          null,
          null,
          null,
          null,
          null,
          null,
          null,
          null,
          null,
          null,
          null,
          null,
          null,
          null,
          null,
          null,
          null,
          null,
          null,
          null,
          null,
          null,
          null,
          null,
          null,
          null,
          null,
          null,
          null,
          null,
          null,
          null,
          null,
          null,
          null,
          null,
          null,
          null,
          null,
          null,
          null,
          null,
          null,
          null,
          null,
          null,
          null,
          null,
          null,
          null,
          null,
          null,
          null,
          null,
          null,
          null,
          null,
          null,
          null,
          null,
          null,
          null,
          null,
          null,
          null,
          null,
          null,
          null,
          null,
          null,
          null,
          null,
          null,
          null,
          null,
          null,
          null,
          null,
          null,
          null,
          null,
          null,
          null,
          null,
          null,
          null,
          null,
          null,
          null,
          null,
          null,
          null,
          null,
          null,
          null,
          null,
          null,
          null,
          null,
          null,
          null,
          null,
          null,
          null,
          null,
          null,
          null,
          null,
          null,
          null,
          null,
          null,
          null,
          null,
          null,
          null,
          null,
          null,
          null,
          "2018-08-19",
          null,
          null,
          null,
          null,
          null,
          null,
          null,
          null,
          null,
          null,
          null,
          null,
          null,
          null,
          null,
          null,
          null,
          null,
          null,
          null,
          null,
          null,
          null,
          null,
          null,
          null,
          null,
          null,
          null,
          null,
          null,
          null,
          null,
          null,
          null,
          null,
          null,
          null,
          null,
          null,
          null,
          null,
          null,
          null,
          null,
          null,
          null,
          null,
          null,
          null,
          null,
          null,
          null,
          null,
          null,
          null,
          null,
          null,
          null,
          null,
          null,
          null,
          null,
          null,
          null,
          null,
          null,
          null,
          null,
          null,
          null,
          null,
          null,
          null,
          null,
          null,
          null,
          null,
          null,
          null,
          null,
          null,
          null,
          null,
          null,
          null,
          null,
          null,
          null,
          null,
          null,
          null,
          null,
          null,
          null,
          null,
          null,
          null,
          null,
          null,
          null,
          null,
          null,
          null,
          null,
          null,
          null,
          null,
          null,
          null,
          null,
          null,
          null,
          null,
          null,
          null,
          null,
          null,
          null,
          null,
          null,
          null,
          null,
          null,
          null,
          null,
          null,
          null,
          null,
          null,
          null,
          null,
          null,
          null,
          null,
          null,
          null,
          null,
          null,
          null,
          null,
          null,
          null,
          null,
          null,
          null,
          null,
          null,
          null,
          null,
          null,
          null,
          null,
          null,
          null,
          null,
          null,
          null,
          null,
          null,
          null,
          null,
          null,
          null,
          null,
          null,
          null,
          null,
          null,
          null,
          null,
          null,
          null,
          null,
          null,
          null,
          null,
          null,
          null,
          null,
          null,
          null,
          null,
          null,
          null,
          null,
          null,
          null,
          null,
          null,
          null,
          null,
          null,
          null,
          null,
          null,
          null,
          null,
          null,
          null,
          null,
          null,
          null,
          null,
          null,
          null,
          null,
          null,
          null,
          null,
          null,
          null,
          null,
          null,
          null,
          null,
          null,
          null,
          null,
          null,
          null,
          null,
          null,
          null,
          null,
          null,
          null,
          null,
          null,
          null,
          null,
          null,
          null,
          null,
          null,
          null,
          null,
          null,
          null,
          null,
          null,
          null,
          null,
          null,
          null,
          null,
          null,
          null,
          null,
          null,
          null,
          null,
          null,
          null,
          null,
          null,
          null,
          null,
          null,
          null,
          null,
          null,
          null,
          null,
          null,
          null,
          null,
          null,
          null,
          null,
          null,
          null,
          null,
          null,
          null,
          null,
          null,
          null,
          null,
          null,
          null,
          null,
          null,
          null,
          null,
          null,
          null,
          null,
          null,
          null,
          null,
          null,
          null,
          null,
          null,
          null,
          null,
          null,
          null,
          null,
          "2018-07-15",
          "2017-03-08",
          "2018-05-17",
          "2017-07-30",
          "2018-08-30",
          "2018-03-01",
          "2017-01-22",
          "2018-01-13",
          "2017-04-06",
          "2017-02-27",
          "2017-05-17",
          "2018-07-07",
          "2017-03-09",
          "2017-11-02",
          "2017-02-03",
          "2017-10-06",
          "2018-06-27",
          "2017-11-24",
          "2017-06-04",
          "2018-03-27",
          "2018-02-06",
          "2017-09-30",
          "2017-11-23",
          "2017-12-30",
          "2017-02-09",
          "2017-01-06",
          "2017-05-22",
          "2018-07-02",
          "2018-03-21",
          "2017-07-23",
          "2018-10-16",
          "2017-01-20",
          "2018-01-10",
          "2017-09-24",
          "2018-02-02",
          "2018-05-24",
          "2017-04-01",
          "2017-07-22",
          "2017-05-05",
          "2018-01-15",
          "2017-01-07",
          "2017-12-31",
          "2017-03-20",
          "2018-04-09",
          "2017-04-10",
          "2017-02-20",
          "2017-10-21",
          "2018-01-24",
          "2017-08-16",
          "2017-09-04",
          "2018-02-26",
          "2017-08-22",
          "2017-05-12",
          "2016-10-04",
          "2018-08-02",
          "2017-03-19",
          "2018-03-03",
          "2017-08-05",
          "2018-09-10",
          "2018-07-03",
          "2017-04-28",
          "2017-12-27",
          "2017-11-18",
          "2018-06-04",
          "2017-08-29",
          "2017-04-26",
          "2017-07-13",
          "2017-03-21",
          "2017-02-06",
          "2017-10-12",
          "2017-07-19",
          "2018-05-18",
          "2017-12-19",
          "2017-01-10",
          "2017-05-25",
          "2017-07-08",
          "2018-10-17",
          "2017-07-06",
          "2017-04-15",
          "2018-02-08",
          "2018-03-19",
          "2018-09-13",
          "2017-12-21",
          "2018-08-15",
          "2018-04-07",
          "2017-12-13",
          "2018-01-05",
          "2017-05-03",
          "2016-10-10",
          "2018-09-20",
          "2017-08-07",
          "2018-04-04",
          "2017-06-29",
          "2018-05-31",
          "2017-08-13",
          "2017-09-16",
          "2017-10-30",
          "2018-07-09",
          "2017-05-13",
          "2017-02-24",
          "2018-06-24",
          "2017-06-16",
          "2018-02-24",
          "2018-04-13",
          "2017-01-30",
          "2018-07-17",
          "2018-07-10",
          "2017-10-01",
          "2017-09-20",
          "2017-11-04",
          "2017-04-11",
          "2017-10-09",
          "2017-09-01",
          "2017-07-29",
          "2018-08-26",
          "2017-01-25",
          "2018-06-28",
          "2017-10-20",
          "2017-02-01",
          "2018-06-08",
          "2018-09-12",
          "2017-08-26",
          "2018-06-20",
          "2018-02-17",
          "2017-05-08",
          "2017-11-17",
          "2017-10-28",
          "2018-03-17",
          "2017-12-14",
          "2017-06-20",
          "2017-02-17",
          "2017-12-25",
          "2018-03-20",
          "2017-11-26",
          "2017-10-29",
          "2017-06-21",
          "2017-04-18",
          "2018-02-07",
          "2017-05-29",
          "2018-04-28",
          "2018-02-20",
          "2018-05-20",
          "2017-08-20",
          "2017-04-08",
          "2017-06-09",
          "2017-05-31",
          "2017-12-10",
          "2018-08-03",
          "2018-04-26",
          "2017-05-11",
          "2017-12-06",
          "2017-03-03",
          "2018-08-10",
          "2017-10-13",
          "2017-02-13",
          "2017-07-27",
          "2018-01-20",
          "2017-03-01",
          "2018-01-27",
          "2017-11-07",
          "2018-02-04",
          "2017-11-10",
          "2018-07-12",
          "2017-06-12",
          "2017-05-18",
          "2017-01-21",
          "2018-01-31",
          "2017-05-30",
          "2017-04-21",
          "2018-01-02",
          "2018-03-22",
          "2017-08-28",
          "2017-05-28",
          "2018-06-05",
          "2016-09-04",
          "2018-08-13",
          "2017-06-03",
          "2017-06-10",
          "2017-06-08",
          "2017-06-30",
          "2018-08-28",
          "2018-05-05",
          "2017-07-07",
          "2017-12-09",
          "2017-09-07",
          "2017-02-16",
          "2018-07-31",
          "2018-04-12",
          "2018-06-25",
          "2018-07-13",
          "2017-01-08",
          "2018-07-16",
          "2017-06-05",
          "2017-04-30",
          "2017-07-05",
          "2017-01-23",
          "2017-04-16",
          "2018-04-15",
          "2018-03-23",
          "2017-01-26",
          "2017-07-01",
          "2018-05-02",
          "2018-05-16",
          "2018-03-11",
          "2017-05-04",
          "2017-09-05",
          "2017-10-26",
          "2018-01-14",
          "2018-07-05",
          "2018-03-12",
          "2017-09-11",
          "2017-10-24",
          "2017-02-26",
          "2017-11-03",
          "2016-10-02",
          "2018-03-02",
          "2017-11-30",
          "2018-08-09",
          "2018-03-31",
          "2017-10-07",
          "2017-09-15",
          "2018-08-04",
          "2017-10-08",
          "2017-12-28",
          "2018-05-13",
          "2018-01-21",
          "2018-10-01",
          "2017-04-04",
          "2017-06-01",
          "2018-05-11",
          "2018-01-25",
          "2017-03-30",
          "2017-02-18",
          "2017-05-14",
          "2018-04-17",
          "2017-08-17",
          "2017-10-02",
          "2017-11-19",
          "2017-09-22",
          "2018-02-13",
          "2018-02-28",
          "2018-05-28",
          "2018-04-24",
          "2018-04-20",
          "2017-06-14",
          "2017-07-17",
          "2018-01-30",
          "2018-03-06",
          "2017-08-11",
          "2018-02-27",
          "2018-04-06",
          "2017-10-18",
          "2017-03-26",
          "2017-03-02",
          "2018-06-02",
          "2017-12-26",
          "2018-04-01",
          "2017-12-01",
          "2018-04-14",
          "2018-02-21",
          "2017-07-11",
          "2017-06-23",
          "2018-08-08",
          "2017-03-24",
          "2018-01-19",
          "2017-12-20",
          "2017-11-28",
          "2017-03-14",
          "2017-04-03",
          "2017-08-08",
          "2018-04-16",
          "2018-02-09",
          "2018-08-01",
          "2017-01-12",
          "2017-04-13",
          "2017-05-07",
          "2018-02-01",
          "2018-08-11",
          "2016-10-08",
          "2018-09-17",
          "2017-10-14",
          "2016-10-06",
          "2018-04-11",
          "2017-04-17",
          "2018-05-08",
          "2018-01-29",
          "2018-02-11",
          "2017-05-27",
          "2018-05-26",
          "2018-05-23",
          "2016-10-03",
          "2018-08-05",
          "2017-07-16",
          "2017-03-06",
          "2017-11-12",
          "2018-02-05",
          "2017-02-07",
          "2017-02-21",
          "2017-11-13",
          "2017-01-05",
          "2018-03-26",
          "2018-05-19",
          "2017-06-19",
          "2017-09-06",
          "2017-08-04",
          "2018-09-11",
          "2017-09-14",
          "2018-08-22",
          "2017-09-08",
          "2018-07-01",
          "2017-10-11",
          "2017-03-12",
          "2018-08-17",
          "2018-07-19",
          "2017-01-14",
          "2018-03-04",
          "2017-09-02",
          "2018-01-18",
          "2018-01-11",
          "2017-06-11",
          "2017-01-18",
          "2017-08-19",
          "2018-05-30",
          "2017-01-16",
          "2017-04-27",
          "2017-03-15",
          "2018-07-30",
          "2017-03-17",
          "2016-10-09",
          "2017-03-07",
          "2018-05-14",
          "2018-06-18",
          "2018-07-24",
          "2017-12-11",
          "2017-10-23",
          "2018-03-14",
          "2017-09-19",
          "2017-04-20",
          "2017-03-25",
          "2018-01-09",
          "2017-07-28",
          "2018-07-08",
          "2018-02-19",
          "2018-01-23",
          "2017-12-16",
          "2018-08-25",
          "2017-07-14",
          "2017-08-03",
          "2017-03-13",
          "2018-06-17",
          "2018-02-15",
          "2017-08-23",
          "2018-05-29",
          "2018-06-19",
          "2017-11-16",
          "2017-04-05",
          "2017-07-12",
          "2018-03-24",
          "2018-07-14",
          "2018-03-18",
          "2017-03-05",
          "2017-08-06",
          "2017-01-11",
          "2016-09-13",
          "2017-07-02",
          "2018-04-19",
          "2018-01-07",
          "2017-10-16",
          "2018-04-10",
          "2017-02-02",
          "2017-04-24",
          "2018-09-06",
          "2017-12-15",
          "2017-06-24",
          "2017-05-26",
          "2017-01-19",
          "2018-08-07",
          "2017-05-20",
          "2017-12-17",
          "2016-09-05",
          "2017-04-25",
          "2017-01-13",
          "2018-04-08",
          "2018-05-01",
          "2017-07-26",
          "2017-02-19",
          "2017-05-09",
          "2017-11-14",
          "2017-09-12",
          "2018-07-21",
          "2017-12-07",
          "2017-10-04",
          "2017-05-02",
          "2017-04-12",
          "2018-10-03",
          "2017-01-31",
          "2017-08-15",
          "2018-08-20",
          "2016-10-07",
          "2017-07-10",
          "2018-08-06",
          "2017-09-26",
          "2017-10-22",
          "2018-01-12",
          "2017-05-16",
          "2017-10-15",
          "2018-04-18",
          "2017-05-21",
          "2017-07-25",
          "2017-12-29",
          "2017-08-10",
          "2017-12-04",
          "2018-01-22",
          "2017-04-23",
          "2017-06-27",
          "2018-07-27",
          "2017-01-17",
          "2018-04-27",
          "2018-06-16",
          "2017-05-15",
          "2018-07-04",
          "2017-09-10",
          "2017-07-15",
          "2018-08-23",
          "2017-07-24",
          "2018-03-15",
          "2017-06-15",
          "2018-06-13",
          "2017-05-24",
          "2017-10-31",
          "2018-06-26",
          "2018-02-10",
          "2017-08-30",
          "2016-10-22",
          "2018-04-30",
          "2018-06-11",
          "2017-09-09",
          "2017-07-31",
          "2017-11-09",
          "2018-02-22",
          "2016-12-23",
          "2017-02-12",
          "2017-02-11",
          "2017-10-03",
          "2017-11-11",
          "2017-12-12",
          "2017-10-05",
          "2017-06-02",
          "2018-06-30",
          "2017-10-25",
          "2017-05-01",
          "2018-03-07",
          "2018-02-03",
          "2017-11-22",
          "2017-12-22",
          "2018-02-25",
          "2018-06-03",
          "2017-09-21",
          "2018-06-09",
          "2018-04-29",
          "2018-08-16",
          "2017-07-09",
          "2018-01-17",
          "2017-08-25",
          "2018-09-26",
          "2017-08-14",
          "2018-04-21",
          "2017-08-09",
          "2018-04-03",
          "2018-06-01",
          "2017-09-25",
          "2017-07-21",
          "2017-09-29",
          "2017-11-20",
          "2017-01-27",
          "2018-08-14",
          "2017-11-06",
          "2017-07-03",
          "2017-02-14",
          "2018-02-18",
          "2017-09-28",
          "2017-06-07",
          "2017-11-15",
          "2017-05-23",
          "2018-03-25",
          "2017-11-08",
          "2018-07-23",
          "2017-02-08",
          "2018-01-08",
          "2017-02-04",
          "2017-04-29",
          "2017-12-02",
          "2018-03-13",
          "2017-09-18",
          "2017-08-21",
          "2018-04-25",
          "2017-01-28",
          "2017-10-10",
          "2017-11-05",
          "2017-04-07",
          "2017-06-22",
          "2017-03-31",
          "2016-10-05",
          "2017-03-28",
          "2018-08-21",
          "2017-08-12",
          "2017-05-10",
          "2018-03-30",
          "2017-03-22",
          "2018-06-14",
          "2018-05-06",
          "2017-08-01",
          "2017-08-27",
          "2018-01-03",
          "2018-01-28",
          "2017-08-24",
          "2017-05-06",
          "2018-07-29",
          "2018-05-09",
          "2018-08-12",
          "2017-01-15",
          "2018-06-23",
          "2017-11-01",
          "2018-07-26",
          "2017-04-14",
          "2018-04-02",
          "2017-07-20",
          "2017-09-03",
          "2018-04-23",
          "2017-03-29",
          "2018-07-22",
          "2017-11-25",
          "2017-03-18",
          "2018-06-15",
          "2017-08-02",
          "2017-11-29",
          "2018-06-21",
          "2017-04-09",
          "2018-03-29",
          "2017-05-19",
          "2017-10-27",
          "2018-04-22",
          "2017-03-04",
          "2018-02-14",
          "2017-04-02",
          "2018-07-06",
          "2017-10-17",
          "2017-06-25",
          "2017-02-28",
          "2017-11-21",
          "2018-05-04",
          "2018-09-03",
          "2018-05-25",
          "2017-06-13",
          "2018-06-06",
          "2017-12-23",
          "2018-04-05",
          "2018-03-09",
          "2018-08-24",
          "2018-09-25",
          "2017-02-10",
          "2018-02-12",
          "2017-06-17",
          "2018-06-10",
          "2017-12-18",
          "2018-05-22",
          "2018-01-04",
          "2018-05-10",
          "2017-10-19",
          "2017-12-24",
          "2018-06-07",
          "2017-03-23",
          "2018-08-18",
          "2018-05-07",
          "2018-09-29",
          "2018-05-21",
          "2017-09-13",
          "2018-06-22",
          "2018-03-10",
          "2017-03-11",
          "2018-03-28",
          "2017-11-27",
          "2018-03-05",
          "2017-08-31",
          "2017-02-23",
          "2018-06-12",
          "2017-03-27",
          "2018-08-29",
          "2018-02-16",
          "2017-12-08",
          "2018-02-23",
          "2018-05-12",
          "2018-07-28",
          "2018-07-11",
          "2017-07-18",
          "2018-01-26",
          "2017-03-16",
          "2018-07-25",
          "2018-08-27",
          "2018-01-16",
          "2018-08-31",
          "2017-01-24",
          "2018-01-06",
          "2017-09-23",
          "2018-05-27",
          "2018-01-01",
          "2017-02-15",
          "2018-05-15",
          "2017-12-05",
          "2018-05-03",
          "2018-06-29",
          "2017-01-29",
          "2017-06-06",
          "2017-12-03",
          "2017-04-19",
          "2017-06-26",
          "2017-07-04",
          "2018-07-18",
          "2017-06-28",
          "2018-07-20",
          "2017-04-22",
          "2017-09-17",
          "2017-03-10",
          "2017-02-05",
          "2017-06-18",
          "2017-09-27",
          "2017-01-09",
          "2018-03-08",
          "2017-08-18",
          "2016-09-15"
         ],
         "xaxis": "x",
         "xbins": {
          "size": "M1"
         },
         "y": [
          136.23,
          75.06,
          40.95,
          0,
          109.34,
          595.14,
          11914.650000000005,
          10212.220000000001,
          9398.609999999999,
          8255.189999999999,
          9716.129999999997,
          4152.11,
          4675.099999999999,
          61.99,
          19.62,
          707.2700000000001,
          988.2800000000001,
          1447.99,
          809.6300000000001,
          774.51,
          1571.17,
          3062.3299999999995,
          2502.69,
          2903.9699999999993,
          1507.3599999999997,
          2551.34,
          3712.2400000000002,
          3893.6099999999988,
          4683.380000000001,
          4140.159999999999,
          4698.070000000001,
          3094.7600000000007,
          4280.22,
          7553.890000000002,
          6794.499999999997,
          10434.310000000003,
          15191.960000000008,
          12904.129999999994,
          5909.979999999999,
          7160.659999999995,
          12187.899999999994,
          13021.729999999996,
          10310.99,
          10676.54,
          11639.190000000004,
          15747.169999999998,
          10153.239999999998,
          11626,
          16627.210000000003,
          14299.970000000005,
          10844.169999999996,
          15674.09,
          5648.369999999999,
          16682.29,
          13092.090000000004,
          15309.080000000002,
          8326.400000000001,
          7803.720000000001,
          8093.570000000001,
          9308.300000000003,
          4477.65,
          9157.300000000001,
          9333.460000000003,
          9393.37,
          8571.86,
          7983.009999999999,
          5126.18,
          6583.499999999999,
          6836.77,
          12582.519999999999,
          18923.17000000001,
          13146.36,
          14154.710000000003,
          15533.690000000002,
          8789.14,
          13515.120000000003,
          13855.370000000006,
          16769.66,
          13828.330000000004,
          14518.919999999993,
          12503.97,
          7853.180000000002,
          19306.060000000005,
          16542.980000000003,
          17364.910000000003,
          16653.719999999998,
          13611.279999999999,
          17943.070000000003,
          7728.08,
          20014.930000000008,
          14937.51,
          16390.14,
          22913.370000000003,
          13386.910000000009,
          11251.740000000002,
          7642.0199999999995,
          20549.290000000005,
          14838.579999999996,
          10209.110000000004,
          11434.999999999998,
          13753.280000000002,
          20574.679999999997,
          10608.62,
          10776.9,
          14152.990000000007,
          20774.549999999992,
          26863.579999999998,
          15043.719999999996,
          10290.740000000003,
          9689.41,
          13492.1,
          9878.09,
          9407.94,
          11216.110000000006,
          10515.900000000001,
          9391.56,
          6532.21,
          10765.57,
          23433.859999999993,
          13941.250000000002,
          16056.000000000004,
          10162.6,
          15005.060000000007,
          11839.91,
          17711.56999999999,
          17176.350000000006,
          18696.090000000004,
          12455.1,
          18063.289999999997,
          13835.280000000002,
          9436.999999999998,
          14869.670000000007,
          20673.079999999998,
          12192.339999999998,
          15901.720000000005,
          16584.580000000005,
          19227.55,
          20467.980000000003,
          19194.68,
          24245.050000000007,
          23418.399999999987,
          21204.03999999999,
          15314.460000000003,
          10675.67,
          17551.829999999998,
          21907.00999999999,
          24535.569999999992,
          21396.329999999987,
          20861.79000000001,
          21525.089999999986,
          12364.170000000002,
          20368.52999999999,
          28906.599999999984,
          20622.469999999998,
          26991.949999999993,
          18420.65999999999,
          12680.520000000002,
          16333.540000000012,
          11120.709999999997,
          22225.089999999993,
          17074.36,
          24063.379999999994,
          21781.379999999997,
          21769.380000000012,
          12265.439999999999,
          16029.490000000002,
          27400.540000000008,
          17525.09,
          16072.620000000006,
          22106.280000000002,
          18738.529999999995,
          9892.1,
          19348.539999999994,
          17389.2,
          16894.890000000007,
          23559.519999999982,
          15105.260000000006,
          14777.690000000004,
          13070.160000000007,
          19733.690000000002,
          25933.439999999988,
          14659.820000000002,
          7275.100000000002,
          10609.039999999999,
          15698.500000000004,
          10013.700000000003,
          20734.34000000001,
          15200.319999999998,
          19680.129999999997,
          17080.88,
          14694.570000000007,
          16236.740000000005,
          14139,
          14002.370000000004,
          19328.179999999986,
          18107.599999999988,
          24664.579999999998,
          26556.070000000003,
          16676.75,
          12001.350000000002,
          10701.14,
          20661.800000000007,
          24964.63000000001,
          22740.800000000007,
          17986.750000000007,
          21833.259999999995,
          13128.050000000005,
          16150.230000000003,
          25799.539999999994,
          32450.889999999992,
          20411.749999999985,
          22517.840000000007,
          15870.789999999997,
          13318.540000000003,
          14066.830000000004,
          22950.00999999999,
          20884.700000000004,
          14053.840000000006,
          18945.82,
          23276.300000000003,
          18371.909999999993,
          15341.690000000008,
          20479.91,
          25417.35999999999,
          21690.260000000006,
          22380.55000000001,
          21712.530000000006,
          14465.840000000002,
          17023.39000000001,
          26629.340000000007,
          21541.13000000001,
          24214.39000000001,
          23594.020000000004,
          23627.109999999986,
          16221.090000000004,
          15928.580000000005,
          22232.119999999995,
          27992.040000000008,
          28398.60999999997,
          21885.089999999993,
          20143.719999999998,
          15172.920000000006,
          15073.710000000005,
          26019.71999999999,
          19955.449999999986,
          18789.699999999993,
          16398.730000000003,
          17403.720000000005,
          12054.650000000009,
          16327.140000000001,
          25696.590000000015,
          37025.69999999999,
          35466.26999999998,
          23914.850000000002,
          32485.269999999997,
          20479.17999999999,
          30950.780000000002,
          28719.239999999998,
          24954.680000000008,
          28821.83,
          21328.86000000001,
          14789.080000000002,
          17681.22,
          20978.600000000002,
          27103.889999999992,
          32784.959999999985,
          32054.369999999984,
          26502.510000000006,
          21556.659999999996,
          24040.31,
          22848.41999999999,
          32535.229999999992,
          23478.66000000001,
          26170.079999999998,
          22458.18999999998,
          19200.250000000007,
          12574.83,
          15880.060000000003,
          21203.050000000003,
          25296.359999999993,
          24879.939999999988,
          26629.300000000003,
          34497.46999999999,
          14879.170000000002,
          21909.429999999997,
          25565.110000000008,
          30389.119999999995,
          24787.58000000001,
          29129.829999999994,
          21890.58,
          17975.41,
          19756.299999999992,
          35265.56999999999,
          32559.070000000003,
          26214.77999999999,
          22520.929999999993,
          26589.92,
          16185.459999999997,
          21353.839999999997,
          35315.41999999998,
          35288.18,
          31793.669999999995,
          26988.799999999996,
          21979.199999999993,
          18022.3,
          23273.049999999996,
          25993.410000000007,
          25739.269999999997,
          21470.530000000006,
          26415.549999999992,
          23488.17,
          20572.640000000007,
          20444.680000000004,
          23741.859999999997,
          27058.219999999983,
          22702.160000000003,
          25017.159999999996,
          27058.519999999997,
          22294.809999999998,
          21752.57,
          33945.13999999999,
          24945.210000000003,
          23436.700000000008,
          29175.83,
          23676.7,
          27578.63000000002,
          26725.080000000005,
          29606.239999999987,
          32012.600000000006,
          27683.349999999995,
          33063.26999999999,
          35386.83999999998,
          27968.569999999996,
          23312.600000000002,
          50621.24,
          39831.85,
          30721.619999999995,
          52584.619999999995,
          179200.02999999994,
          71897.01,
          53939.87,
          56966.280000000006,
          56708.40999999998,
          48043.16000000003,
          37026.72999999998,
          46080.83999999996,
          35908.509999999995,
          34803.18999999998,
          56225.409999999974,
          40707.770000000004,
          46149.63000000002,
          33664.200000000004,
          35160.820000000014,
          23639.519999999997,
          29784.260000000024,
          39415.42999999998,
          40370.389999999985,
          34385.08,
          30754.309999999987,
          31451.629999999986,
          22907.05000000001,
          22105.999999999993,
          33898.129999999976,
          24494.27999999999,
          32004.67999999999,
          21546.44,
          18073.47000000001,
          16425.64,
          6960.790000000002,
          12662.230000000003,
          23797.46000000001,
          21074.289999999994,
          17793.849999999995,
          20552.64000000001,
          15412.610000000002,
          10190.929999999998,
          8486.289999999999,
          29494.739999999994,
          37154.62,
          40998.14999999999,
          32341.949999999993,
          32711.84,
          33993.479999999996,
          45310.599999999984,
          35439.999999999985,
          44824.93000000001,
          46746.37999999997,
          37270.22999999999,
          33222.380000000005,
          35993.459999999985,
          45208.28999999999,
          51339.38000000002,
          42151.91999999998,
          33038.69000000002,
          35649.62999999997,
          26960.000000000007,
          28447.419999999987,
          43867.890000000036,
          40298.33000000003,
          37025.22999999998,
          35335.98000000001,
          39308.93999999998,
          25106.77000000001,
          27804.900000000005,
          36056.51999999999,
          35523.60999999998,
          37891.630000000005,
          35767.91999999998,
          32532.449999999993,
          27572.170000000002,
          28261.909999999996,
          43196.969999999965,
          40066.41999999996,
          36529.710000000014,
          31911.009999999973,
          35374.18999999999,
          25265.31999999999,
          26129.459999999992,
          27990.54999999998,
          29024.169999999987,
          43643.359999999986,
          39224.750000000015,
          31867.470000000005,
          29611.55,
          29071.929999999975,
          33735.95999999999,
          42706.690000000024,
          38017.25999999998,
          38784.23000000002,
          33072.96,
          28341.360000000004,
          34930.87999999998,
          50433.959999999934,
          47076.98999999997,
          52321.739999999976,
          46747.399999999994,
          37550.30999999999,
          31781.789999999983,
          37479.799999999974,
          45635.60999999999,
          45971.24000000001,
          42513.19000000003,
          33842.11999999999,
          33823.070000000014,
          31105,
          36618.35000000003,
          35930.88999999998,
          42179.579999999994,
          28417.25000000002,
          51935.360000000015,
          38760.35999999999,
          24000.210000000006,
          36076.37999999998,
          52707.310000000034,
          42887.92999999999,
          46482.08999999998,
          36989.790000000045,
          34817.72,
          27711.420000000006,
          30192.800000000017,
          42745.22999999999,
          40633.58000000003,
          35150.720000000016,
          33564.47000000001,
          26279.75000000001,
          29121.4,
          34189,
          48076.450000000026,
          42187.32000000005,
          43567.820000000036,
          42219.170000000035,
          32285.36,
          29014.860000000008,
          27883.61,
          55782.82,
          32535.280000000013,
          47204.469999999994,
          39945.380000000005,
          36440.52999999998,
          22397.870000000006,
          36564.19,
          47364.65000000005,
          42814.250000000015,
          46308.64999999997,
          50326.52999999999,
          32841.640000000014,
          22465.889999999992,
          31991.790000000023,
          44363.29000000002,
          49905.01999999999,
          47356.490000000005,
          36912.770000000004,
          46764.300000000025,
          26978.52000000001,
          23060.950000000008,
          41036.61000000001,
          39274.26000000002,
          44908.630000000005,
          50218.850000000006,
          45494.099999999984,
          32640.670000000013,
          33099.310000000005,
          62568.25000000001,
          55129.380000000056,
          51096.81999999996,
          58871.87,
          43346.500000000015,
          34883.12,
          36320.07000000001,
          62230.72999999996,
          49505.98999999998,
          64742.060000000005,
          36258.360000000015,
          36429.77,
          28319.729999999996,
          23086.12,
          30619.940000000017,
          32070.660000000007,
          20262.30000000001,
          22278.7,
          18286.320000000007,
          16914.09,
          14693.68,
          30304.950000000004,
          29441.33000000001,
          22529.07000000001,
          28156.520000000004,
          37284.050000000025,
          28939.989999999994,
          33024.44,
          34326.40000000001,
          36471.22,
          32176.980000000003,
          42676.37999999999,
          31797.20000000001,
          34033.780000000006,
          30295.410000000007,
          57345.55999999998,
          46762.43000000001,
          41586.61,
          32707.209999999985,
          31498.76000000002,
          29000.08,
          20751.519999999986,
          41027.07,
          40013.59999999999,
          34330.26000000001,
          33301.98999999998,
          28753.149999999998,
          21181.11000000001,
          29498.57000000001,
          42008.02000000002,
          37673.669999999984,
          32920.9,
          38773.74000000002,
          25098.690000000013,
          18621.710000000006,
          29060.700000000015,
          29422.429999999997,
          31454.6,
          41579.79999999999,
          33949.500000000015,
          22108.66999999999,
          11277.240000000002,
          17554.720000000005,
          23122.169999999987,
          22694.45,
          22148.64,
          35228.69999999998,
          32635.240000000013,
          26427.019999999997,
          34489.39999999999,
          37854.659999999996,
          35758.42,
          51392.43000000001,
          44911.25000000002,
          38131.01000000001,
          25508.970000000012,
          32962.26,
          48104.330000000016,
          48154.03,
          47917.70999999999,
          41784.73999999998,
          33331.119999999966,
          30168.169999999995,
          36468.26000000002,
          46288.00999999999,
          54652.10000000001,
          48850.81000000005,
          45932.69999999999,
          49517.59000000002,
          41239.970000000016,
          42272.07,
          65860.43000000002,
          62057.769999999975,
          51463.76000000004,
          47261.68,
          40690.25999999997,
          31277.249999999993,
          36739.750000000015,
          48163.75999999999,
          51574.67,
          53322.7,
          42581.079999999994,
          40872.77000000003,
          29695.070000000003,
          29989.349999999995,
          40352.46999999997,
          31479.900000000005,
          24401.84000000002,
          19737.719999999994,
          11450.760000000002,
          11737.760000000002,
          9304,
          6229.950000000001,
          5216.72,
          2381.83,
          705.0400000000001,
          63.89,
          458.64000000000004,
          2443.2000000000003,
          51.17,
          258.67,
          84.58,
          414.04,
          84.58,
          191.46,
          221.54,
          94.63,
          137.03,
          80.38,
          197.55,
          222.03,
          89.71,
          null,
          null,
          null,
          null,
          null,
          null,
          null,
          null,
          null,
          null,
          null,
          null,
          null,
          null,
          null,
          null,
          null,
          null,
          null,
          null,
          null,
          null,
          null,
          null,
          null,
          null,
          null,
          null,
          null,
          null,
          null,
          null,
          null,
          null,
          null,
          null,
          null,
          null,
          null,
          null,
          null,
          null,
          null,
          null,
          null,
          null,
          null,
          null,
          null,
          null,
          null,
          null,
          null,
          null,
          null,
          null,
          null,
          null,
          null,
          null,
          null,
          null,
          null,
          null,
          null,
          null,
          null,
          null,
          null,
          null,
          null,
          null,
          null,
          null,
          null,
          null,
          null,
          null,
          null,
          null,
          null,
          null,
          null,
          null,
          null,
          null,
          null,
          null,
          null,
          null,
          null,
          null,
          null,
          null,
          null,
          null,
          null,
          null,
          null,
          null,
          null,
          null,
          null,
          null,
          null,
          null,
          null,
          null,
          null,
          null,
          null,
          null,
          null,
          null,
          null,
          null,
          null,
          null,
          null,
          null,
          null,
          null,
          null,
          null,
          null,
          null,
          null,
          null,
          null,
          null,
          null,
          null,
          null,
          null,
          null,
          null,
          null,
          null,
          null,
          null,
          null,
          null,
          null,
          null,
          null,
          null,
          null,
          null,
          null,
          null,
          null,
          null,
          null,
          null,
          null,
          null,
          null,
          null,
          null,
          null,
          null,
          null,
          null,
          null,
          null,
          null,
          null,
          null,
          null,
          null,
          null,
          null,
          null,
          null,
          null,
          null,
          null,
          null,
          null,
          null,
          null,
          null,
          null,
          null,
          null,
          null,
          null,
          null,
          null,
          null,
          null,
          null,
          null,
          null,
          null,
          null,
          null,
          null,
          null,
          null,
          null,
          null,
          null,
          null,
          null,
          null,
          null,
          null,
          null,
          null,
          null,
          null,
          null,
          null,
          null,
          null,
          null,
          null,
          null,
          null,
          null,
          null,
          null,
          null,
          null,
          null,
          null,
          null,
          null,
          null,
          null,
          null,
          null,
          null,
          null,
          null,
          null,
          null,
          null,
          null,
          null,
          null,
          null,
          null,
          null,
          null,
          null,
          null,
          null,
          null,
          null,
          null,
          null,
          null,
          null,
          null,
          null,
          null,
          null,
          null,
          null,
          null,
          null,
          null,
          null,
          null,
          null,
          null,
          null,
          null,
          null,
          null,
          null,
          null,
          null,
          null,
          null,
          null,
          null,
          null,
          null,
          null,
          null,
          null,
          null,
          null,
          null,
          null,
          null,
          null,
          null,
          null,
          null,
          null,
          null,
          null,
          null,
          null,
          null,
          null,
          null,
          null,
          null,
          null,
          null,
          null,
          null,
          null,
          null,
          null,
          null,
          null,
          null,
          null,
          null,
          null,
          null,
          null,
          null,
          null,
          null,
          null,
          null,
          null,
          null,
          null,
          null,
          null,
          null,
          null,
          null,
          null,
          null,
          null,
          null,
          null,
          null,
          null,
          null,
          null,
          null,
          null,
          null,
          null,
          null,
          null,
          null,
          null,
          null,
          null,
          null,
          null,
          null,
          null,
          null,
          null,
          null,
          null,
          null,
          null,
          null,
          null,
          null,
          null,
          null,
          null,
          null,
          null,
          null,
          null,
          null,
          null,
          null,
          null,
          null,
          null,
          null,
          null,
          null,
          null,
          null,
          null,
          null,
          null,
          null,
          null,
          null,
          null,
          null,
          null,
          null,
          null,
          null,
          null,
          null,
          null,
          null,
          null,
          null,
          null,
          null,
          null,
          null,
          null,
          null,
          null,
          null,
          null,
          null,
          null,
          null,
          null,
          null,
          null,
          null,
          null,
          null,
          null,
          null,
          null,
          null,
          null,
          null,
          null,
          null,
          null,
          null,
          null,
          null,
          null,
          null,
          null,
          null,
          null,
          null,
          null,
          null,
          null,
          null,
          null,
          null,
          null,
          null,
          null,
          null,
          null,
          null,
          null,
          null,
          null,
          null,
          null,
          null,
          null,
          null,
          null,
          null,
          null,
          null,
          null,
          null,
          null,
          null,
          null,
          null,
          null,
          null,
          null,
          null,
          null,
          null,
          null,
          null,
          null,
          null,
          null,
          null,
          null,
          null,
          null,
          null,
          null,
          null,
          null,
          null,
          null,
          null,
          null,
          null,
          null,
          null,
          null,
          null,
          null,
          null,
          null,
          null,
          null,
          null,
          null,
          null,
          null,
          null,
          null,
          null,
          null,
          null,
          null,
          null,
          null,
          null,
          null,
          null,
          null,
          null,
          null,
          null,
          null,
          null,
          null,
          null,
          null,
          null,
          null,
          null,
          null,
          null,
          null,
          null,
          null,
          null,
          null,
          null,
          null,
          null,
          null,
          null,
          null,
          null,
          null,
          null,
          null,
          null,
          null,
          null,
          null,
          null,
          null,
          null,
          null,
          null,
          null,
          null,
          null,
          null,
          null,
          null,
          null,
          null,
          null,
          null,
          null,
          null,
          null,
          null,
          null,
          null,
          null,
          null,
          null,
          null,
          null,
          null,
          null,
          null,
          null,
          null,
          null,
          null,
          null,
          null,
          null,
          null,
          null,
          null,
          null,
          null,
          null,
          null,
          null,
          null,
          null,
          null,
          null,
          null,
          null,
          null,
          null,
          null,
          null,
          null,
          null,
          null,
          null,
          null,
          null,
          null,
          null,
          null,
          null,
          null,
          null,
          null,
          null,
          null,
          null,
          null,
          null,
          null,
          null,
          null,
          null,
          null,
          null,
          null,
          null,
          null,
          null,
          null,
          null
         ],
         "yaxis": "y"
        },
        {
         "mode": "markers",
         "name": "daily",
         "type": "scatter",
         "x": [
          "2016-09-04",
          "2016-09-05",
          "2016-09-13",
          "2016-09-15",
          "2016-10-02",
          "2016-10-03",
          "2016-10-04",
          "2016-10-05",
          "2016-10-06",
          "2016-10-07",
          "2016-10-08",
          "2016-10-09",
          "2016-10-10",
          "2016-10-22",
          "2016-12-23",
          "2017-01-05",
          "2017-01-06",
          "2017-01-07",
          "2017-01-08",
          "2017-01-09",
          "2017-01-10",
          "2017-01-11",
          "2017-01-12",
          "2017-01-13",
          "2017-01-14",
          "2017-01-15",
          "2017-01-16",
          "2017-01-17",
          "2017-01-18",
          "2017-01-19",
          "2017-01-20",
          "2017-01-21",
          "2017-01-22",
          "2017-01-23",
          "2017-01-24",
          "2017-01-25",
          "2017-01-26",
          "2017-01-27",
          "2017-01-28",
          "2017-01-29",
          "2017-01-30",
          "2017-01-31",
          "2017-02-01",
          "2017-02-02",
          "2017-02-03",
          "2017-02-04",
          "2017-02-05",
          "2017-02-06",
          "2017-02-07",
          "2017-02-08",
          "2017-02-09",
          "2017-02-10",
          "2017-02-11",
          "2017-02-12",
          "2017-02-13",
          "2017-02-14",
          "2017-02-15",
          "2017-02-16",
          "2017-02-17",
          "2017-02-18",
          "2017-02-19",
          "2017-02-20",
          "2017-02-21",
          "2017-02-22",
          "2017-02-23",
          "2017-02-24",
          "2017-02-25",
          "2017-02-26",
          "2017-02-27",
          "2017-02-28",
          "2017-03-01",
          "2017-03-02",
          "2017-03-03",
          "2017-03-04",
          "2017-03-05",
          "2017-03-06",
          "2017-03-07",
          "2017-03-08",
          "2017-03-09",
          "2017-03-10",
          "2017-03-11",
          "2017-03-12",
          "2017-03-13",
          "2017-03-14",
          "2017-03-15",
          "2017-03-16",
          "2017-03-17",
          "2017-03-18",
          "2017-03-19",
          "2017-03-20",
          "2017-03-21",
          "2017-03-22",
          "2017-03-23",
          "2017-03-24",
          "2017-03-25",
          "2017-03-26",
          "2017-03-27",
          "2017-03-28",
          "2017-03-29",
          "2017-03-30",
          "2017-03-31",
          "2017-04-01",
          "2017-04-02",
          "2017-04-03",
          "2017-04-04",
          "2017-04-05",
          "2017-04-06",
          "2017-04-07",
          "2017-04-08",
          "2017-04-09",
          "2017-04-10",
          "2017-04-11",
          "2017-04-12",
          "2017-04-13",
          "2017-04-14",
          "2017-04-15",
          "2017-04-16",
          "2017-04-17",
          "2017-04-18",
          "2017-04-19",
          "2017-04-20",
          "2017-04-21",
          "2017-04-22",
          "2017-04-23",
          "2017-04-24",
          "2017-04-25",
          "2017-04-26",
          "2017-04-27",
          "2017-04-28",
          "2017-04-29",
          "2017-04-30",
          "2017-05-01",
          "2017-05-02",
          "2017-05-03",
          "2017-05-04",
          "2017-05-05",
          "2017-05-06",
          "2017-05-07",
          "2017-05-08",
          "2017-05-09",
          "2017-05-10",
          "2017-05-11",
          "2017-05-12",
          "2017-05-13",
          "2017-05-14",
          "2017-05-15",
          "2017-05-16",
          "2017-05-17",
          "2017-05-18",
          "2017-05-19",
          "2017-05-20",
          "2017-05-21",
          "2017-05-22",
          "2017-05-23",
          "2017-05-24",
          "2017-05-25",
          "2017-05-26",
          "2017-05-27",
          "2017-05-28",
          "2017-05-29",
          "2017-05-30",
          "2017-05-31",
          "2017-06-01",
          "2017-06-02",
          "2017-06-03",
          "2017-06-04",
          "2017-06-05",
          "2017-06-06",
          "2017-06-07",
          "2017-06-08",
          "2017-06-09",
          "2017-06-10",
          "2017-06-11",
          "2017-06-12",
          "2017-06-13",
          "2017-06-14",
          "2017-06-15",
          "2017-06-16",
          "2017-06-17",
          "2017-06-18",
          "2017-06-19",
          "2017-06-20",
          "2017-06-21",
          "2017-06-22",
          "2017-06-23",
          "2017-06-24",
          "2017-06-25",
          "2017-06-26",
          "2017-06-27",
          "2017-06-28",
          "2017-06-29",
          "2017-06-30",
          "2017-07-01",
          "2017-07-02",
          "2017-07-03",
          "2017-07-04",
          "2017-07-05",
          "2017-07-06",
          "2017-07-07",
          "2017-07-08",
          "2017-07-09",
          "2017-07-10",
          "2017-07-11",
          "2017-07-12",
          "2017-07-13",
          "2017-07-14",
          "2017-07-15",
          "2017-07-16",
          "2017-07-17",
          "2017-07-18",
          "2017-07-19",
          "2017-07-20",
          "2017-07-21",
          "2017-07-22",
          "2017-07-23",
          "2017-07-24",
          "2017-07-25",
          "2017-07-26",
          "2017-07-27",
          "2017-07-28",
          "2017-07-29",
          "2017-07-30",
          "2017-07-31",
          "2017-08-01",
          "2017-08-02",
          "2017-08-03",
          "2017-08-04",
          "2017-08-05",
          "2017-08-06",
          "2017-08-07",
          "2017-08-08",
          "2017-08-09",
          "2017-08-10",
          "2017-08-11",
          "2017-08-12",
          "2017-08-13",
          "2017-08-14",
          "2017-08-15",
          "2017-08-16",
          "2017-08-17",
          "2017-08-18",
          "2017-08-19",
          "2017-08-20",
          "2017-08-21",
          "2017-08-22",
          "2017-08-23",
          "2017-08-24",
          "2017-08-25",
          "2017-08-26",
          "2017-08-27",
          "2017-08-28",
          "2017-08-29",
          "2017-08-30",
          "2017-08-31",
          "2017-09-01",
          "2017-09-02",
          "2017-09-03",
          "2017-09-04",
          "2017-09-05",
          "2017-09-06",
          "2017-09-07",
          "2017-09-08",
          "2017-09-09",
          "2017-09-10",
          "2017-09-11",
          "2017-09-12",
          "2017-09-13",
          "2017-09-14",
          "2017-09-15",
          "2017-09-16",
          "2017-09-17",
          "2017-09-18",
          "2017-09-19",
          "2017-09-20",
          "2017-09-21",
          "2017-09-22",
          "2017-09-23",
          "2017-09-24",
          "2017-09-25",
          "2017-09-26",
          "2017-09-27",
          "2017-09-28",
          "2017-09-29",
          "2017-09-30",
          "2017-10-01",
          "2017-10-02",
          "2017-10-03",
          "2017-10-04",
          "2017-10-05",
          "2017-10-06",
          "2017-10-07",
          "2017-10-08",
          "2017-10-09",
          "2017-10-10",
          "2017-10-11",
          "2017-10-12",
          "2017-10-13",
          "2017-10-14",
          "2017-10-15",
          "2017-10-16",
          "2017-10-17",
          "2017-10-18",
          "2017-10-19",
          "2017-10-20",
          "2017-10-21",
          "2017-10-22",
          "2017-10-23",
          "2017-10-24",
          "2017-10-25",
          "2017-10-26",
          "2017-10-27",
          "2017-10-28",
          "2017-10-29",
          "2017-10-30",
          "2017-10-31",
          "2017-11-01",
          "2017-11-02",
          "2017-11-03",
          "2017-11-04",
          "2017-11-05",
          "2017-11-06",
          "2017-11-07",
          "2017-11-08",
          "2017-11-09",
          "2017-11-10",
          "2017-11-11",
          "2017-11-12",
          "2017-11-13",
          "2017-11-14",
          "2017-11-15",
          "2017-11-16",
          "2017-11-17",
          "2017-11-18",
          "2017-11-19",
          "2017-11-20",
          "2017-11-21",
          "2017-11-22",
          "2017-11-23",
          "2017-11-24",
          "2017-11-25",
          "2017-11-26",
          "2017-11-27",
          "2017-11-28",
          "2017-11-29",
          "2017-11-30",
          "2017-12-01",
          "2017-12-02",
          "2017-12-03",
          "2017-12-04",
          "2017-12-05",
          "2017-12-06",
          "2017-12-07",
          "2017-12-08",
          "2017-12-09",
          "2017-12-10",
          "2017-12-11",
          "2017-12-12",
          "2017-12-13",
          "2017-12-14",
          "2017-12-15",
          "2017-12-16",
          "2017-12-17",
          "2017-12-18",
          "2017-12-19",
          "2017-12-20",
          "2017-12-21",
          "2017-12-22",
          "2017-12-23",
          "2017-12-24",
          "2017-12-25",
          "2017-12-26",
          "2017-12-27",
          "2017-12-28",
          "2017-12-29",
          "2017-12-30",
          "2017-12-31",
          "2018-01-01",
          "2018-01-02",
          "2018-01-03",
          "2018-01-04",
          "2018-01-05",
          "2018-01-06",
          "2018-01-07",
          "2018-01-08",
          "2018-01-09",
          "2018-01-10",
          "2018-01-11",
          "2018-01-12",
          "2018-01-13",
          "2018-01-14",
          "2018-01-15",
          "2018-01-16",
          "2018-01-17",
          "2018-01-18",
          "2018-01-19",
          "2018-01-20",
          "2018-01-21",
          "2018-01-22",
          "2018-01-23",
          "2018-01-24",
          "2018-01-25",
          "2018-01-26",
          "2018-01-27",
          "2018-01-28",
          "2018-01-29",
          "2018-01-30",
          "2018-01-31",
          "2018-02-01",
          "2018-02-02",
          "2018-02-03",
          "2018-02-04",
          "2018-02-05",
          "2018-02-06",
          "2018-02-07",
          "2018-02-08",
          "2018-02-09",
          "2018-02-10",
          "2018-02-11",
          "2018-02-12",
          "2018-02-13",
          "2018-02-14",
          "2018-02-15",
          "2018-02-16",
          "2018-02-17",
          "2018-02-18",
          "2018-02-19",
          "2018-02-20",
          "2018-02-21",
          "2018-02-22",
          "2018-02-23",
          "2018-02-24",
          "2018-02-25",
          "2018-02-26",
          "2018-02-27",
          "2018-02-28",
          "2018-03-01",
          "2018-03-02",
          "2018-03-03",
          "2018-03-04",
          "2018-03-05",
          "2018-03-06",
          "2018-03-07",
          "2018-03-08",
          "2018-03-09",
          "2018-03-10",
          "2018-03-11",
          "2018-03-12",
          "2018-03-13",
          "2018-03-14",
          "2018-03-15",
          "2018-03-16",
          "2018-03-17",
          "2018-03-18",
          "2018-03-19",
          "2018-03-20",
          "2018-03-21",
          "2018-03-22",
          "2018-03-23",
          "2018-03-24",
          "2018-03-25",
          "2018-03-26",
          "2018-03-27",
          "2018-03-28",
          "2018-03-29",
          "2018-03-30",
          "2018-03-31",
          "2018-04-01",
          "2018-04-02",
          "2018-04-03",
          "2018-04-04",
          "2018-04-05",
          "2018-04-06",
          "2018-04-07",
          "2018-04-08",
          "2018-04-09",
          "2018-04-10",
          "2018-04-11",
          "2018-04-12",
          "2018-04-13",
          "2018-04-14",
          "2018-04-15",
          "2018-04-16",
          "2018-04-17",
          "2018-04-18",
          "2018-04-19",
          "2018-04-20",
          "2018-04-21",
          "2018-04-22",
          "2018-04-23",
          "2018-04-24",
          "2018-04-25",
          "2018-04-26",
          "2018-04-27",
          "2018-04-28",
          "2018-04-29",
          "2018-04-30",
          "2018-05-01",
          "2018-05-02",
          "2018-05-03",
          "2018-05-04",
          "2018-05-05",
          "2018-05-06",
          "2018-05-07",
          "2018-05-08",
          "2018-05-09",
          "2018-05-10",
          "2018-05-11",
          "2018-05-12",
          "2018-05-13",
          "2018-05-14",
          "2018-05-15",
          "2018-05-16",
          "2018-05-17",
          "2018-05-18",
          "2018-05-19",
          "2018-05-20",
          "2018-05-21",
          "2018-05-22",
          "2018-05-23",
          "2018-05-24",
          "2018-05-25",
          "2018-05-26",
          "2018-05-27",
          "2018-05-28",
          "2018-05-29",
          "2018-05-30",
          "2018-05-31",
          "2018-06-01",
          "2018-06-02",
          "2018-06-03",
          "2018-06-04",
          "2018-06-05",
          "2018-06-06",
          "2018-06-07",
          "2018-06-08",
          "2018-06-09",
          "2018-06-10",
          "2018-06-11",
          "2018-06-12",
          "2018-06-13",
          "2018-06-14",
          "2018-06-15",
          "2018-06-16",
          "2018-06-17",
          "2018-06-18",
          "2018-06-19",
          "2018-06-20",
          "2018-06-21",
          "2018-06-22",
          "2018-06-23",
          "2018-06-24",
          "2018-06-25",
          "2018-06-26",
          "2018-06-27",
          "2018-06-28",
          "2018-06-29",
          "2018-06-30",
          "2018-07-01",
          "2018-07-02",
          "2018-07-03",
          "2018-07-04",
          "2018-07-05",
          "2018-07-06",
          "2018-07-07",
          "2018-07-08",
          "2018-07-09",
          "2018-07-10",
          "2018-07-11",
          "2018-07-12",
          "2018-07-13",
          "2018-07-14",
          "2018-07-15",
          "2018-07-16",
          "2018-07-17",
          "2018-07-18",
          "2018-07-19",
          "2018-07-20",
          "2018-07-21",
          "2018-07-22",
          "2018-07-23",
          "2018-07-24",
          "2018-07-25",
          "2018-07-26",
          "2018-07-27",
          "2018-07-28",
          "2018-07-29",
          "2018-07-30",
          "2018-07-31",
          "2018-08-01",
          "2018-08-02",
          "2018-08-03",
          "2018-08-04",
          "2018-08-05",
          "2018-08-06",
          "2018-08-07",
          "2018-08-08",
          "2018-08-09",
          "2018-08-10",
          "2018-08-11",
          "2018-08-12",
          "2018-08-13",
          "2018-08-14",
          "2018-08-15",
          "2018-08-16",
          "2018-08-17",
          "2018-08-18",
          "2018-08-19",
          "2018-08-20",
          "2018-08-21",
          "2018-08-22",
          "2018-08-23",
          "2018-08-24",
          "2018-08-25",
          "2018-08-26",
          "2018-08-27",
          "2018-08-28",
          "2018-08-29",
          "2018-08-30",
          "2018-08-31",
          "2018-09-03",
          "2018-09-06",
          "2018-09-10",
          "2018-09-11",
          "2018-09-12",
          "2018-09-13",
          "2018-09-17",
          "2018-09-20",
          "2018-09-25",
          "2018-09-26",
          "2018-09-29",
          "2018-10-01",
          "2018-10-03",
          "2018-10-16",
          "2018-10-17"
         ],
         "y": [
          136.23,
          75.06,
          40.95,
          0,
          109.34,
          595.14,
          11914.650000000005,
          10212.220000000001,
          9398.609999999999,
          8255.189999999999,
          9716.129999999997,
          4152.11,
          4675.099999999999,
          61.99,
          19.62,
          707.2700000000001,
          988.2800000000001,
          1447.99,
          809.6300000000001,
          774.51,
          1571.17,
          3062.3299999999995,
          2502.69,
          2903.9699999999993,
          1507.3599999999997,
          2551.34,
          3712.2400000000002,
          3893.6099999999988,
          4683.380000000001,
          4140.159999999999,
          4698.070000000001,
          3094.7600000000007,
          4280.22,
          7553.890000000002,
          6794.499999999997,
          10434.310000000003,
          15191.960000000008,
          12904.129999999994,
          5909.979999999999,
          7160.659999999995,
          12187.899999999994,
          13021.729999999996,
          10310.99,
          10676.54,
          11639.190000000004,
          15747.169999999998,
          10153.239999999998,
          11626,
          16627.210000000003,
          14299.970000000005,
          10844.169999999996,
          15674.09,
          5648.369999999999,
          16682.29,
          13092.090000000004,
          15309.080000000002,
          8326.400000000001,
          7803.720000000001,
          8093.570000000001,
          9308.300000000003,
          4477.65,
          9157.300000000001,
          9333.460000000003,
          9393.37,
          8571.86,
          7983.009999999999,
          5126.18,
          6583.499999999999,
          6836.77,
          12582.519999999999,
          18923.17000000001,
          13146.36,
          14154.710000000003,
          15533.690000000002,
          8789.14,
          13515.120000000003,
          13855.370000000006,
          16769.66,
          13828.330000000004,
          14518.919999999993,
          12503.97,
          7853.180000000002,
          19306.060000000005,
          16542.980000000003,
          17364.910000000003,
          16653.719999999998,
          13611.279999999999,
          17943.070000000003,
          7728.08,
          20014.930000000008,
          14937.51,
          16390.14,
          22913.370000000003,
          13386.910000000009,
          11251.740000000002,
          7642.0199999999995,
          20549.290000000005,
          14838.579999999996,
          10209.110000000004,
          11434.999999999998,
          13753.280000000002,
          20574.679999999997,
          10608.62,
          10776.9,
          14152.990000000007,
          20774.549999999992,
          26863.579999999998,
          15043.719999999996,
          10290.740000000003,
          9689.41,
          13492.1,
          9878.09,
          9407.94,
          11216.110000000006,
          10515.900000000001,
          9391.56,
          6532.21,
          10765.57,
          23433.859999999993,
          13941.250000000002,
          16056.000000000004,
          10162.6,
          15005.060000000007,
          11839.91,
          17711.56999999999,
          17176.350000000006,
          18696.090000000004,
          12455.1,
          18063.289999999997,
          13835.280000000002,
          9436.999999999998,
          14869.670000000007,
          20673.079999999998,
          12192.339999999998,
          15901.720000000005,
          16584.580000000005,
          19227.55,
          20467.980000000003,
          19194.68,
          24245.050000000007,
          23418.399999999987,
          21204.03999999999,
          15314.460000000003,
          10675.67,
          17551.829999999998,
          21907.00999999999,
          24535.569999999992,
          21396.329999999987,
          20861.79000000001,
          21525.089999999986,
          12364.170000000002,
          20368.52999999999,
          28906.599999999984,
          20622.469999999998,
          26991.949999999993,
          18420.65999999999,
          12680.520000000002,
          16333.540000000012,
          11120.709999999997,
          22225.089999999993,
          17074.36,
          24063.379999999994,
          21781.379999999997,
          21769.380000000012,
          12265.439999999999,
          16029.490000000002,
          27400.540000000008,
          17525.09,
          16072.620000000006,
          22106.280000000002,
          18738.529999999995,
          9892.1,
          19348.539999999994,
          17389.2,
          16894.890000000007,
          23559.519999999982,
          15105.260000000006,
          14777.690000000004,
          13070.160000000007,
          19733.690000000002,
          25933.439999999988,
          14659.820000000002,
          7275.100000000002,
          10609.039999999999,
          15698.500000000004,
          10013.700000000003,
          20734.34000000001,
          15200.319999999998,
          19680.129999999997,
          17080.88,
          14694.570000000007,
          16236.740000000005,
          14139,
          14002.370000000004,
          19328.179999999986,
          18107.599999999988,
          24664.579999999998,
          26556.070000000003,
          16676.75,
          12001.350000000002,
          10701.14,
          20661.800000000007,
          24964.63000000001,
          22740.800000000007,
          17986.750000000007,
          21833.259999999995,
          13128.050000000005,
          16150.230000000003,
          25799.539999999994,
          32450.889999999992,
          20411.749999999985,
          22517.840000000007,
          15870.789999999997,
          13318.540000000003,
          14066.830000000004,
          22950.00999999999,
          20884.700000000004,
          14053.840000000006,
          18945.82,
          23276.300000000003,
          18371.909999999993,
          15341.690000000008,
          20479.91,
          25417.35999999999,
          21690.260000000006,
          22380.55000000001,
          21712.530000000006,
          14465.840000000002,
          17023.39000000001,
          26629.340000000007,
          21541.13000000001,
          24214.39000000001,
          23594.020000000004,
          23627.109999999986,
          16221.090000000004,
          15928.580000000005,
          22232.119999999995,
          27992.040000000008,
          28398.60999999997,
          21885.089999999993,
          20143.719999999998,
          15172.920000000006,
          15073.710000000005,
          26019.71999999999,
          19955.449999999986,
          18789.699999999993,
          16398.730000000003,
          17403.720000000005,
          12054.650000000009,
          16327.140000000001,
          25696.590000000015,
          37025.69999999999,
          35466.26999999998,
          23914.850000000002,
          32485.269999999997,
          20479.17999999999,
          30950.780000000002,
          28719.239999999998,
          24954.680000000008,
          28821.83,
          21328.86000000001,
          14789.080000000002,
          17681.22,
          20978.600000000002,
          27103.889999999992,
          32784.959999999985,
          32054.369999999984,
          26502.510000000006,
          21556.659999999996,
          24040.31,
          22848.41999999999,
          32535.229999999992,
          23478.66000000001,
          26170.079999999998,
          22458.18999999998,
          19200.250000000007,
          12574.83,
          15880.060000000003,
          21203.050000000003,
          25296.359999999993,
          24879.939999999988,
          26629.300000000003,
          34497.46999999999,
          14879.170000000002,
          21909.429999999997,
          25565.110000000008,
          30389.119999999995,
          24787.58000000001,
          29129.829999999994,
          21890.58,
          17975.41,
          19756.299999999992,
          35265.56999999999,
          32559.070000000003,
          26214.77999999999,
          22520.929999999993,
          26589.92,
          16185.459999999997,
          21353.839999999997,
          35315.41999999998,
          35288.18,
          31793.669999999995,
          26988.799999999996,
          21979.199999999993,
          18022.3,
          23273.049999999996,
          25993.410000000007,
          25739.269999999997,
          21470.530000000006,
          26415.549999999992,
          23488.17,
          20572.640000000007,
          20444.680000000004,
          23741.859999999997,
          27058.219999999983,
          22702.160000000003,
          25017.159999999996,
          27058.519999999997,
          22294.809999999998,
          21752.57,
          33945.13999999999,
          24945.210000000003,
          23436.700000000008,
          29175.83,
          23676.7,
          27578.63000000002,
          26725.080000000005,
          29606.239999999987,
          32012.600000000006,
          27683.349999999995,
          33063.26999999999,
          35386.83999999998,
          27968.569999999996,
          23312.600000000002,
          50621.24,
          39831.85,
          30721.619999999995,
          52584.619999999995,
          179200.02999999994,
          71897.01,
          53939.87,
          56966.280000000006,
          56708.40999999998,
          48043.16000000003,
          37026.72999999998,
          46080.83999999996,
          35908.509999999995,
          34803.18999999998,
          56225.409999999974,
          40707.770000000004,
          46149.63000000002,
          33664.200000000004,
          35160.820000000014,
          23639.519999999997,
          29784.260000000024,
          39415.42999999998,
          40370.389999999985,
          34385.08,
          30754.309999999987,
          31451.629999999986,
          22907.05000000001,
          22105.999999999993,
          33898.129999999976,
          24494.27999999999,
          32004.67999999999,
          21546.44,
          18073.47000000001,
          16425.64,
          6960.790000000002,
          12662.230000000003,
          23797.46000000001,
          21074.289999999994,
          17793.849999999995,
          20552.64000000001,
          15412.610000000002,
          10190.929999999998,
          8486.289999999999,
          29494.739999999994,
          37154.62,
          40998.14999999999,
          32341.949999999993,
          32711.84,
          33993.479999999996,
          45310.599999999984,
          35439.999999999985,
          44824.93000000001,
          46746.37999999997,
          37270.22999999999,
          33222.380000000005,
          35993.459999999985,
          45208.28999999999,
          51339.38000000002,
          42151.91999999998,
          33038.69000000002,
          35649.62999999997,
          26960.000000000007,
          28447.419999999987,
          43867.890000000036,
          40298.33000000003,
          37025.22999999998,
          35335.98000000001,
          39308.93999999998,
          25106.77000000001,
          27804.900000000005,
          36056.51999999999,
          35523.60999999998,
          37891.630000000005,
          35767.91999999998,
          32532.449999999993,
          27572.170000000002,
          28261.909999999996,
          43196.969999999965,
          40066.41999999996,
          36529.710000000014,
          31911.009999999973,
          35374.18999999999,
          25265.31999999999,
          26129.459999999992,
          27990.54999999998,
          29024.169999999987,
          43643.359999999986,
          39224.750000000015,
          31867.470000000005,
          29611.55,
          29071.929999999975,
          33735.95999999999,
          42706.690000000024,
          38017.25999999998,
          38784.23000000002,
          33072.96,
          28341.360000000004,
          34930.87999999998,
          50433.959999999934,
          47076.98999999997,
          52321.739999999976,
          46747.399999999994,
          37550.30999999999,
          31781.789999999983,
          37479.799999999974,
          45635.60999999999,
          45971.24000000001,
          42513.19000000003,
          33842.11999999999,
          33823.070000000014,
          31105,
          36618.35000000003,
          35930.88999999998,
          42179.579999999994,
          28417.25000000002,
          51935.360000000015,
          38760.35999999999,
          24000.210000000006,
          36076.37999999998,
          52707.310000000034,
          42887.92999999999,
          46482.08999999998,
          36989.790000000045,
          34817.72,
          27711.420000000006,
          30192.800000000017,
          42745.22999999999,
          40633.58000000003,
          35150.720000000016,
          33564.47000000001,
          26279.75000000001,
          29121.4,
          34189,
          48076.450000000026,
          42187.32000000005,
          43567.820000000036,
          42219.170000000035,
          32285.36,
          29014.860000000008,
          27883.61,
          55782.82,
          32535.280000000013,
          47204.469999999994,
          39945.380000000005,
          36440.52999999998,
          22397.870000000006,
          36564.19,
          47364.65000000005,
          42814.250000000015,
          46308.64999999997,
          50326.52999999999,
          32841.640000000014,
          22465.889999999992,
          31991.790000000023,
          44363.29000000002,
          49905.01999999999,
          47356.490000000005,
          36912.770000000004,
          46764.300000000025,
          26978.52000000001,
          23060.950000000008,
          41036.61000000001,
          39274.26000000002,
          44908.630000000005,
          50218.850000000006,
          45494.099999999984,
          32640.670000000013,
          33099.310000000005,
          62568.25000000001,
          55129.380000000056,
          51096.81999999996,
          58871.87,
          43346.500000000015,
          34883.12,
          36320.07000000001,
          62230.72999999996,
          49505.98999999998,
          64742.060000000005,
          36258.360000000015,
          36429.77,
          28319.729999999996,
          23086.12,
          30619.940000000017,
          32070.660000000007,
          20262.30000000001,
          22278.7,
          18286.320000000007,
          16914.09,
          14693.68,
          30304.950000000004,
          29441.33000000001,
          22529.07000000001,
          28156.520000000004,
          37284.050000000025,
          28939.989999999994,
          33024.44,
          34326.40000000001,
          36471.22,
          32176.980000000003,
          42676.37999999999,
          31797.20000000001,
          34033.780000000006,
          30295.410000000007,
          57345.55999999998,
          46762.43000000001,
          41586.61,
          32707.209999999985,
          31498.76000000002,
          29000.08,
          20751.519999999986,
          41027.07,
          40013.59999999999,
          34330.26000000001,
          33301.98999999998,
          28753.149999999998,
          21181.11000000001,
          29498.57000000001,
          42008.02000000002,
          37673.669999999984,
          32920.9,
          38773.74000000002,
          25098.690000000013,
          18621.710000000006,
          29060.700000000015,
          29422.429999999997,
          31454.6,
          41579.79999999999,
          33949.500000000015,
          22108.66999999999,
          11277.240000000002,
          17554.720000000005,
          23122.169999999987,
          22694.45,
          22148.64,
          35228.69999999998,
          32635.240000000013,
          26427.019999999997,
          34489.39999999999,
          37854.659999999996,
          35758.42,
          51392.43000000001,
          44911.25000000002,
          38131.01000000001,
          25508.970000000012,
          32962.26,
          48104.330000000016,
          48154.03,
          47917.70999999999,
          41784.73999999998,
          33331.119999999966,
          30168.169999999995,
          36468.26000000002,
          46288.00999999999,
          54652.10000000001,
          48850.81000000005,
          45932.69999999999,
          49517.59000000002,
          41239.970000000016,
          42272.07,
          65860.43000000002,
          62057.769999999975,
          51463.76000000004,
          47261.68,
          40690.25999999997,
          31277.249999999993,
          36739.750000000015,
          48163.75999999999,
          51574.67,
          53322.7,
          42581.079999999994,
          40872.77000000003,
          29695.070000000003,
          29989.349999999995,
          40352.46999999997,
          31479.900000000005,
          24401.84000000002,
          19737.719999999994,
          11450.760000000002,
          11737.760000000002,
          9304,
          6229.950000000001,
          5216.72,
          2381.83,
          705.0400000000001,
          63.89,
          458.64000000000004,
          2443.2000000000003,
          51.17,
          258.67,
          84.58,
          414.04,
          84.58,
          191.46,
          221.54,
          94.63,
          137.03,
          80.38,
          197.55,
          222.03,
          89.71
         ]
        }
       ],
       "layout": {
        "autosize": true,
        "bargap": 0.1,
        "barmode": "relative",
        "legend": {
         "tracegroupgap": 0
        },
        "template": {
         "data": {
          "bar": [
           {
            "error_x": {
             "color": "#2a3f5f"
            },
            "error_y": {
             "color": "#2a3f5f"
            },
            "marker": {
             "line": {
              "color": "#E5ECF6",
              "width": 0.5
             },
             "pattern": {
              "fillmode": "overlay",
              "size": 10,
              "solidity": 0.2
             }
            },
            "type": "bar"
           }
          ],
          "barpolar": [
           {
            "marker": {
             "line": {
              "color": "#E5ECF6",
              "width": 0.5
             },
             "pattern": {
              "fillmode": "overlay",
              "size": 10,
              "solidity": 0.2
             }
            },
            "type": "barpolar"
           }
          ],
          "carpet": [
           {
            "aaxis": {
             "endlinecolor": "#2a3f5f",
             "gridcolor": "white",
             "linecolor": "white",
             "minorgridcolor": "white",
             "startlinecolor": "#2a3f5f"
            },
            "baxis": {
             "endlinecolor": "#2a3f5f",
             "gridcolor": "white",
             "linecolor": "white",
             "minorgridcolor": "white",
             "startlinecolor": "#2a3f5f"
            },
            "type": "carpet"
           }
          ],
          "choropleth": [
           {
            "colorbar": {
             "outlinewidth": 0,
             "ticks": ""
            },
            "type": "choropleth"
           }
          ],
          "contour": [
           {
            "colorbar": {
             "outlinewidth": 0,
             "ticks": ""
            },
            "colorscale": [
             [
              0,
              "#0d0887"
             ],
             [
              0.1111111111111111,
              "#46039f"
             ],
             [
              0.2222222222222222,
              "#7201a8"
             ],
             [
              0.3333333333333333,
              "#9c179e"
             ],
             [
              0.4444444444444444,
              "#bd3786"
             ],
             [
              0.5555555555555556,
              "#d8576b"
             ],
             [
              0.6666666666666666,
              "#ed7953"
             ],
             [
              0.7777777777777778,
              "#fb9f3a"
             ],
             [
              0.8888888888888888,
              "#fdca26"
             ],
             [
              1,
              "#f0f921"
             ]
            ],
            "type": "contour"
           }
          ],
          "contourcarpet": [
           {
            "colorbar": {
             "outlinewidth": 0,
             "ticks": ""
            },
            "type": "contourcarpet"
           }
          ],
          "heatmap": [
           {
            "colorbar": {
             "outlinewidth": 0,
             "ticks": ""
            },
            "colorscale": [
             [
              0,
              "#0d0887"
             ],
             [
              0.1111111111111111,
              "#46039f"
             ],
             [
              0.2222222222222222,
              "#7201a8"
             ],
             [
              0.3333333333333333,
              "#9c179e"
             ],
             [
              0.4444444444444444,
              "#bd3786"
             ],
             [
              0.5555555555555556,
              "#d8576b"
             ],
             [
              0.6666666666666666,
              "#ed7953"
             ],
             [
              0.7777777777777778,
              "#fb9f3a"
             ],
             [
              0.8888888888888888,
              "#fdca26"
             ],
             [
              1,
              "#f0f921"
             ]
            ],
            "type": "heatmap"
           }
          ],
          "heatmapgl": [
           {
            "colorbar": {
             "outlinewidth": 0,
             "ticks": ""
            },
            "colorscale": [
             [
              0,
              "#0d0887"
             ],
             [
              0.1111111111111111,
              "#46039f"
             ],
             [
              0.2222222222222222,
              "#7201a8"
             ],
             [
              0.3333333333333333,
              "#9c179e"
             ],
             [
              0.4444444444444444,
              "#bd3786"
             ],
             [
              0.5555555555555556,
              "#d8576b"
             ],
             [
              0.6666666666666666,
              "#ed7953"
             ],
             [
              0.7777777777777778,
              "#fb9f3a"
             ],
             [
              0.8888888888888888,
              "#fdca26"
             ],
             [
              1,
              "#f0f921"
             ]
            ],
            "type": "heatmapgl"
           }
          ],
          "histogram": [
           {
            "marker": {
             "pattern": {
              "fillmode": "overlay",
              "size": 10,
              "solidity": 0.2
             }
            },
            "type": "histogram"
           }
          ],
          "histogram2d": [
           {
            "colorbar": {
             "outlinewidth": 0,
             "ticks": ""
            },
            "colorscale": [
             [
              0,
              "#0d0887"
             ],
             [
              0.1111111111111111,
              "#46039f"
             ],
             [
              0.2222222222222222,
              "#7201a8"
             ],
             [
              0.3333333333333333,
              "#9c179e"
             ],
             [
              0.4444444444444444,
              "#bd3786"
             ],
             [
              0.5555555555555556,
              "#d8576b"
             ],
             [
              0.6666666666666666,
              "#ed7953"
             ],
             [
              0.7777777777777778,
              "#fb9f3a"
             ],
             [
              0.8888888888888888,
              "#fdca26"
             ],
             [
              1,
              "#f0f921"
             ]
            ],
            "type": "histogram2d"
           }
          ],
          "histogram2dcontour": [
           {
            "colorbar": {
             "outlinewidth": 0,
             "ticks": ""
            },
            "colorscale": [
             [
              0,
              "#0d0887"
             ],
             [
              0.1111111111111111,
              "#46039f"
             ],
             [
              0.2222222222222222,
              "#7201a8"
             ],
             [
              0.3333333333333333,
              "#9c179e"
             ],
             [
              0.4444444444444444,
              "#bd3786"
             ],
             [
              0.5555555555555556,
              "#d8576b"
             ],
             [
              0.6666666666666666,
              "#ed7953"
             ],
             [
              0.7777777777777778,
              "#fb9f3a"
             ],
             [
              0.8888888888888888,
              "#fdca26"
             ],
             [
              1,
              "#f0f921"
             ]
            ],
            "type": "histogram2dcontour"
           }
          ],
          "mesh3d": [
           {
            "colorbar": {
             "outlinewidth": 0,
             "ticks": ""
            },
            "type": "mesh3d"
           }
          ],
          "parcoords": [
           {
            "line": {
             "colorbar": {
              "outlinewidth": 0,
              "ticks": ""
             }
            },
            "type": "parcoords"
           }
          ],
          "pie": [
           {
            "automargin": true,
            "type": "pie"
           }
          ],
          "scatter": [
           {
            "marker": {
             "colorbar": {
              "outlinewidth": 0,
              "ticks": ""
             }
            },
            "type": "scatter"
           }
          ],
          "scatter3d": [
           {
            "line": {
             "colorbar": {
              "outlinewidth": 0,
              "ticks": ""
             }
            },
            "marker": {
             "colorbar": {
              "outlinewidth": 0,
              "ticks": ""
             }
            },
            "type": "scatter3d"
           }
          ],
          "scattercarpet": [
           {
            "marker": {
             "colorbar": {
              "outlinewidth": 0,
              "ticks": ""
             }
            },
            "type": "scattercarpet"
           }
          ],
          "scattergeo": [
           {
            "marker": {
             "colorbar": {
              "outlinewidth": 0,
              "ticks": ""
             }
            },
            "type": "scattergeo"
           }
          ],
          "scattergl": [
           {
            "marker": {
             "colorbar": {
              "outlinewidth": 0,
              "ticks": ""
             }
            },
            "type": "scattergl"
           }
          ],
          "scattermapbox": [
           {
            "marker": {
             "colorbar": {
              "outlinewidth": 0,
              "ticks": ""
             }
            },
            "type": "scattermapbox"
           }
          ],
          "scatterpolar": [
           {
            "marker": {
             "colorbar": {
              "outlinewidth": 0,
              "ticks": ""
             }
            },
            "type": "scatterpolar"
           }
          ],
          "scatterpolargl": [
           {
            "marker": {
             "colorbar": {
              "outlinewidth": 0,
              "ticks": ""
             }
            },
            "type": "scatterpolargl"
           }
          ],
          "scatterternary": [
           {
            "marker": {
             "colorbar": {
              "outlinewidth": 0,
              "ticks": ""
             }
            },
            "type": "scatterternary"
           }
          ],
          "surface": [
           {
            "colorbar": {
             "outlinewidth": 0,
             "ticks": ""
            },
            "colorscale": [
             [
              0,
              "#0d0887"
             ],
             [
              0.1111111111111111,
              "#46039f"
             ],
             [
              0.2222222222222222,
              "#7201a8"
             ],
             [
              0.3333333333333333,
              "#9c179e"
             ],
             [
              0.4444444444444444,
              "#bd3786"
             ],
             [
              0.5555555555555556,
              "#d8576b"
             ],
             [
              0.6666666666666666,
              "#ed7953"
             ],
             [
              0.7777777777777778,
              "#fb9f3a"
             ],
             [
              0.8888888888888888,
              "#fdca26"
             ],
             [
              1,
              "#f0f921"
             ]
            ],
            "type": "surface"
           }
          ],
          "table": [
           {
            "cells": {
             "fill": {
              "color": "#EBF0F8"
             },
             "line": {
              "color": "white"
             }
            },
            "header": {
             "fill": {
              "color": "#C8D4E3"
             },
             "line": {
              "color": "white"
             }
            },
            "type": "table"
           }
          ]
         },
         "layout": {
          "annotationdefaults": {
           "arrowcolor": "#2a3f5f",
           "arrowhead": 0,
           "arrowwidth": 1
          },
          "autotypenumbers": "strict",
          "coloraxis": {
           "colorbar": {
            "outlinewidth": 0,
            "ticks": ""
           }
          },
          "colorscale": {
           "diverging": [
            [
             0,
             "#8e0152"
            ],
            [
             0.1,
             "#c51b7d"
            ],
            [
             0.2,
             "#de77ae"
            ],
            [
             0.3,
             "#f1b6da"
            ],
            [
             0.4,
             "#fde0ef"
            ],
            [
             0.5,
             "#f7f7f7"
            ],
            [
             0.6,
             "#e6f5d0"
            ],
            [
             0.7,
             "#b8e186"
            ],
            [
             0.8,
             "#7fbc41"
            ],
            [
             0.9,
             "#4d9221"
            ],
            [
             1,
             "#276419"
            ]
           ],
           "sequential": [
            [
             0,
             "#0d0887"
            ],
            [
             0.1111111111111111,
             "#46039f"
            ],
            [
             0.2222222222222222,
             "#7201a8"
            ],
            [
             0.3333333333333333,
             "#9c179e"
            ],
            [
             0.4444444444444444,
             "#bd3786"
            ],
            [
             0.5555555555555556,
             "#d8576b"
            ],
            [
             0.6666666666666666,
             "#ed7953"
            ],
            [
             0.7777777777777778,
             "#fb9f3a"
            ],
            [
             0.8888888888888888,
             "#fdca26"
            ],
            [
             1,
             "#f0f921"
            ]
           ],
           "sequentialminus": [
            [
             0,
             "#0d0887"
            ],
            [
             0.1111111111111111,
             "#46039f"
            ],
            [
             0.2222222222222222,
             "#7201a8"
            ],
            [
             0.3333333333333333,
             "#9c179e"
            ],
            [
             0.4444444444444444,
             "#bd3786"
            ],
            [
             0.5555555555555556,
             "#d8576b"
            ],
            [
             0.6666666666666666,
             "#ed7953"
            ],
            [
             0.7777777777777778,
             "#fb9f3a"
            ],
            [
             0.8888888888888888,
             "#fdca26"
            ],
            [
             1,
             "#f0f921"
            ]
           ]
          },
          "colorway": [
           "#636efa",
           "#EF553B",
           "#00cc96",
           "#ab63fa",
           "#FFA15A",
           "#19d3f3",
           "#FF6692",
           "#B6E880",
           "#FF97FF",
           "#FECB52"
          ],
          "font": {
           "color": "#2a3f5f"
          },
          "geo": {
           "bgcolor": "white",
           "lakecolor": "white",
           "landcolor": "#E5ECF6",
           "showlakes": true,
           "showland": true,
           "subunitcolor": "white"
          },
          "hoverlabel": {
           "align": "left"
          },
          "hovermode": "closest",
          "mapbox": {
           "style": "light"
          },
          "paper_bgcolor": "white",
          "plot_bgcolor": "#E5ECF6",
          "polar": {
           "angularaxis": {
            "gridcolor": "white",
            "linecolor": "white",
            "ticks": ""
           },
           "bgcolor": "#E5ECF6",
           "radialaxis": {
            "gridcolor": "white",
            "linecolor": "white",
            "ticks": ""
           }
          },
          "scene": {
           "xaxis": {
            "backgroundcolor": "#E5ECF6",
            "gridcolor": "white",
            "gridwidth": 2,
            "linecolor": "white",
            "showbackground": true,
            "ticks": "",
            "zerolinecolor": "white"
           },
           "yaxis": {
            "backgroundcolor": "#E5ECF6",
            "gridcolor": "white",
            "gridwidth": 2,
            "linecolor": "white",
            "showbackground": true,
            "ticks": "",
            "zerolinecolor": "white"
           },
           "zaxis": {
            "backgroundcolor": "#E5ECF6",
            "gridcolor": "white",
            "gridwidth": 2,
            "linecolor": "white",
            "showbackground": true,
            "ticks": "",
            "zerolinecolor": "white"
           }
          },
          "shapedefaults": {
           "line": {
            "color": "#2a3f5f"
           }
          },
          "ternary": {
           "aaxis": {
            "gridcolor": "white",
            "linecolor": "white",
            "ticks": ""
           },
           "baxis": {
            "gridcolor": "white",
            "linecolor": "white",
            "ticks": ""
           },
           "bgcolor": "#E5ECF6",
           "caxis": {
            "gridcolor": "white",
            "linecolor": "white",
            "ticks": ""
           }
          },
          "title": {
           "x": 0.05
          },
          "xaxis": {
           "automargin": true,
           "gridcolor": "white",
           "linecolor": "white",
           "ticks": "",
           "title": {
            "standoff": 15
           },
           "zerolinecolor": "white",
           "zerolinewidth": 2
          },
          "yaxis": {
           "automargin": true,
           "gridcolor": "white",
           "linecolor": "white",
           "ticks": "",
           "title": {
            "standoff": 15
           },
           "zerolinecolor": "white",
           "zerolinewidth": 2
          }
         }
        },
        "title": {
         "text": "Histogram on Date Axes"
        },
        "xaxis": {
         "anchor": "y",
         "autorange": true,
         "domain": [
          0,
          1
         ],
         "dtick": "M1",
         "range": [
          "2016-07-16 11:03:41.1302",
          "2018-12-05 12:56:18.8698"
         ],
         "showgrid": true,
         "tickformat": "%b\n%Y",
         "ticklabelmode": "period",
         "title": {
          "text": "date"
         },
         "type": "date"
        },
        "yaxis": {
         "anchor": "x",
         "autorange": true,
         "domain": [
          0,
          1
         ],
         "range": [
          -14788.351990291258,
          193988.3819902912
         ],
         "title": {
          "text": "sum of payment_value"
         },
         "type": "linear"
        }
       }
      },
      "image/png": "[encoded data removed]",
      "text/html": [
       "<div>                            <div id=\"13cd5e85-6502-493a-ade4-42d33131aa7b\" class=\"plotly-graph-div\" style=\"height:525px; width:100%;\"></div>            <script type=\"text/javascript\">                require([\"plotly\"], function(Plotly) {                    window.PLOTLYENV=window.PLOTLYENV || {};                                    if (document.getElementById(\"13cd5e85-6502-493a-ade4-42d33131aa7b\")) {                    Plotly.newPlot(                        \"13cd5e85-6502-493a-ade4-42d33131aa7b\",                        [{\"alignmentgroup\":\"True\",\"bingroup\":\"x\",\"histfunc\":\"sum\",\"hovertemplate\":\"date=%{x}<br>sum of payment_value=%{y}<extra></extra>\",\"legendgroup\":\"\",\"marker\":{\"color\":\"#636efa\",\"pattern\":{\"shape\":\"\"}},\"name\":\"\",\"offsetgroup\":\"\",\"orientation\":\"v\",\"showlegend\":false,\"type\":\"histogram\",\"x\":[null,null,null,null,null,null,null,null,null,null,null,null,null,null,null,null,null,null,null,null,null,null,null,null,null,null,null,null,null,null,null,null,null,null,null,null,null,null,null,null,null,null,null,null,null,null,null,null,null,null,null,null,null,null,null,null,null,null,null,null,null,null,null,null,null,null,null,null,null,null,null,null,\"2017-02-25\",null,null,null,null,null,null,null,null,null,null,null,null,null,null,null,null,null,null,null,null,null,null,null,null,null,null,null,null,null,null,null,null,null,null,null,null,null,null,null,null,null,null,null,null,null,null,\"2017-02-22\",null,null,null,null,null,null,null,null,null,null,null,null,null,null,null,null,null,null,null,null,null,\"2018-03-16\",null,null,null,null,null,null,null,null,null,null,null,null,null,null,null,null,null,null,null,null,null,null,null,null,null,null,null,null,null,null,null,null,null,null,null,null,null,null,null,null,null,null,null,null,null,null,null,null,null,null,null,null,null,null,null,null,null,null,null,null,null,null,null,null,null,null,null,null,null,null,null,null,null,null,null,null,null,null,null,null,null,null,null,null,null,null,null,null,null,null,null,null,null,null,null,null,null,null,null,null,null,null,null,null,null,null,null,null,null,null,null,null,null,null,null,null,null,null,null,null,null,null,null,null,null,null,null,null,null,null,null,null,null,null,null,null,null,null,null,null,null,null,null,null,null,null,null,null,null,null,null,null,null,null,null,null,null,null,null,null,null,null,null,null,null,null,null,null,null,null,null,null,null,null,null,null,null,null,null,null,null,null,null,null,null,null,null,null,null,null,null,\"2018-08-19\",null,null,null,null,null,null,null,null,null,null,null,null,null,null,null,null,null,null,null,null,null,null,null,null,null,null,null,null,null,null,null,null,null,null,null,null,null,null,null,null,null,null,null,null,null,null,null,null,null,null,null,null,null,null,null,null,null,null,null,null,null,null,null,null,null,null,null,null,null,null,null,null,null,null,null,null,null,null,null,null,null,null,null,null,null,null,null,null,null,null,null,null,null,null,null,null,null,null,null,null,null,null,null,null,null,null,null,null,null,null,null,null,null,null,null,null,null,null,null,null,null,null,null,null,null,null,null,null,null,null,null,null,null,null,null,null,null,null,null,null,null,null,null,null,null,null,null,null,null,null,null,null,null,null,null,null,null,null,null,null,null,null,null,null,null,null,null,null,null,null,null,null,null,null,null,null,null,null,null,null,null,null,null,null,null,null,null,null,null,null,null,null,null,null,null,null,null,null,null,null,null,null,null,null,null,null,null,null,null,null,null,null,null,null,null,null,null,null,null,null,null,null,null,null,null,null,null,null,null,null,null,null,null,null,null,null,null,null,null,null,null,null,null,null,null,null,null,null,null,null,null,null,null,null,null,null,null,null,null,null,null,null,null,null,null,null,null,null,null,null,null,null,null,null,null,null,null,null,null,null,null,null,null,null,null,null,null,null,null,null,null,null,null,null,null,null,null,null,null,null,\"2018-07-15\",\"2017-03-08\",\"2018-05-17\",\"2017-07-30\",\"2018-08-30\",\"2018-03-01\",\"2017-01-22\",\"2018-01-13\",\"2017-04-06\",\"2017-02-27\",\"2017-05-17\",\"2018-07-07\",\"2017-03-09\",\"2017-11-02\",\"2017-02-03\",\"2017-10-06\",\"2018-06-27\",\"2017-11-24\",\"2017-06-04\",\"2018-03-27\",\"2018-02-06\",\"2017-09-30\",\"2017-11-23\",\"2017-12-30\",\"2017-02-09\",\"2017-01-06\",\"2017-05-22\",\"2018-07-02\",\"2018-03-21\",\"2017-07-23\",\"2018-10-16\",\"2017-01-20\",\"2018-01-10\",\"2017-09-24\",\"2018-02-02\",\"2018-05-24\",\"2017-04-01\",\"2017-07-22\",\"2017-05-05\",\"2018-01-15\",\"2017-01-07\",\"2017-12-31\",\"2017-03-20\",\"2018-04-09\",\"2017-04-10\",\"2017-02-20\",\"2017-10-21\",\"2018-01-24\",\"2017-08-16\",\"2017-09-04\",\"2018-02-26\",\"2017-08-22\",\"2017-05-12\",\"2016-10-04\",\"2018-08-02\",\"2017-03-19\",\"2018-03-03\",\"2017-08-05\",\"2018-09-10\",\"2018-07-03\",\"2017-04-28\",\"2017-12-27\",\"2017-11-18\",\"2018-06-04\",\"2017-08-29\",\"2017-04-26\",\"2017-07-13\",\"2017-03-21\",\"2017-02-06\",\"2017-10-12\",\"2017-07-19\",\"2018-05-18\",\"2017-12-19\",\"2017-01-10\",\"2017-05-25\",\"2017-07-08\",\"2018-10-17\",\"2017-07-06\",\"2017-04-15\",\"2018-02-08\",\"2018-03-19\",\"2018-09-13\",\"2017-12-21\",\"2018-08-15\",\"2018-04-07\",\"2017-12-13\",\"2018-01-05\",\"2017-05-03\",\"2016-10-10\",\"2018-09-20\",\"2017-08-07\",\"2018-04-04\",\"2017-06-29\",\"2018-05-31\",\"2017-08-13\",\"2017-09-16\",\"2017-10-30\",\"2018-07-09\",\"2017-05-13\",\"2017-02-24\",\"2018-06-24\",\"2017-06-16\",\"2018-02-24\",\"2018-04-13\",\"2017-01-30\",\"2018-07-17\",\"2018-07-10\",\"2017-10-01\",\"2017-09-20\",\"2017-11-04\",\"2017-04-11\",\"2017-10-09\",\"2017-09-01\",\"2017-07-29\",\"2018-08-26\",\"2017-01-25\",\"2018-06-28\",\"2017-10-20\",\"2017-02-01\",\"2018-06-08\",\"2018-09-12\",\"2017-08-26\",\"2018-06-20\",\"2018-02-17\",\"2017-05-08\",\"2017-11-17\",\"2017-10-28\",\"2018-03-17\",\"2017-12-14\",\"2017-06-20\",\"2017-02-17\",\"2017-12-25\",\"2018-03-20\",\"2017-11-26\",\"2017-10-29\",\"2017-06-21\",\"2017-04-18\",\"2018-02-07\",\"2017-05-29\",\"2018-04-28\",\"2018-02-20\",\"2018-05-20\",\"2017-08-20\",\"2017-04-08\",\"2017-06-09\",\"2017-05-31\",\"2017-12-10\",\"2018-08-03\",\"2018-04-26\",\"2017-05-11\",\"2017-12-06\",\"2017-03-03\",\"2018-08-10\",\"2017-10-13\",\"2017-02-13\",\"2017-07-27\",\"2018-01-20\",\"2017-03-01\",\"2018-01-27\",\"2017-11-07\",\"2018-02-04\",\"2017-11-10\",\"2018-07-12\",\"2017-06-12\",\"2017-05-18\",\"2017-01-21\",\"2018-01-31\",\"2017-05-30\",\"2017-04-21\",\"2018-01-02\",\"2018-03-22\",\"2017-08-28\",\"2017-05-28\",\"2018-06-05\",\"2016-09-04\",\"2018-08-13\",\"2017-06-03\",\"2017-06-10\",\"2017-06-08\",\"2017-06-30\",\"2018-08-28\",\"2018-05-05\",\"2017-07-07\",\"2017-12-09\",\"2017-09-07\",\"2017-02-16\",\"2018-07-31\",\"2018-04-12\",\"2018-06-25\",\"2018-07-13\",\"2017-01-08\",\"2018-07-16\",\"2017-06-05\",\"2017-04-30\",\"2017-07-05\",\"2017-01-23\",\"2017-04-16\",\"2018-04-15\",\"2018-03-23\",\"2017-01-26\",\"2017-07-01\",\"2018-05-02\",\"2018-05-16\",\"2018-03-11\",\"2017-05-04\",\"2017-09-05\",\"2017-10-26\",\"2018-01-14\",\"2018-07-05\",\"2018-03-12\",\"2017-09-11\",\"2017-10-24\",\"2017-02-26\",\"2017-11-03\",\"2016-10-02\",\"2018-03-02\",\"2017-11-30\",\"2018-08-09\",\"2018-03-31\",\"2017-10-07\",\"2017-09-15\",\"2018-08-04\",\"2017-10-08\",\"2017-12-28\",\"2018-05-13\",\"2018-01-21\",\"2018-10-01\",\"2017-04-04\",\"2017-06-01\",\"2018-05-11\",\"2018-01-25\",\"2017-03-30\",\"2017-02-18\",\"2017-05-14\",\"2018-04-17\",\"2017-08-17\",\"2017-10-02\",\"2017-11-19\",\"2017-09-22\",\"2018-02-13\",\"2018-02-28\",\"2018-05-28\",\"2018-04-24\",\"2018-04-20\",\"2017-06-14\",\"2017-07-17\",\"2018-01-30\",\"2018-03-06\",\"2017-08-11\",\"2018-02-27\",\"2018-04-06\",\"2017-10-18\",\"2017-03-26\",\"2017-03-02\",\"2018-06-02\",\"2017-12-26\",\"2018-04-01\",\"2017-12-01\",\"2018-04-14\",\"2018-02-21\",\"2017-07-11\",\"2017-06-23\",\"2018-08-08\",\"2017-03-24\",\"2018-01-19\",\"2017-12-20\",\"2017-11-28\",\"2017-03-14\",\"2017-04-03\",\"2017-08-08\",\"2018-04-16\",\"2018-02-09\",\"2018-08-01\",\"2017-01-12\",\"2017-04-13\",\"2017-05-07\",\"2018-02-01\",\"2018-08-11\",\"2016-10-08\",\"2018-09-17\",\"2017-10-14\",\"2016-10-06\",\"2018-04-11\",\"2017-04-17\",\"2018-05-08\",\"2018-01-29\",\"2018-02-11\",\"2017-05-27\",\"2018-05-26\",\"2018-05-23\",\"2016-10-03\",\"2018-08-05\",\"2017-07-16\",\"2017-03-06\",\"2017-11-12\",\"2018-02-05\",\"2017-02-07\",\"2017-02-21\",\"2017-11-13\",\"2017-01-05\",\"2018-03-26\",\"2018-05-19\",\"2017-06-19\",\"2017-09-06\",\"2017-08-04\",\"2018-09-11\",\"2017-09-14\",\"2018-08-22\",\"2017-09-08\",\"2018-07-01\",\"2017-10-11\",\"2017-03-12\",\"2018-08-17\",\"2018-07-19\",\"2017-01-14\",\"2018-03-04\",\"2017-09-02\",\"2018-01-18\",\"2018-01-11\",\"2017-06-11\",\"2017-01-18\",\"2017-08-19\",\"2018-05-30\",\"2017-01-16\",\"2017-04-27\",\"2017-03-15\",\"2018-07-30\",\"2017-03-17\",\"2016-10-09\",\"2017-03-07\",\"2018-05-14\",\"2018-06-18\",\"2018-07-24\",\"2017-12-11\",\"2017-10-23\",\"2018-03-14\",\"2017-09-19\",\"2017-04-20\",\"2017-03-25\",\"2018-01-09\",\"2017-07-28\",\"2018-07-08\",\"2018-02-19\",\"2018-01-23\",\"2017-12-16\",\"2018-08-25\",\"2017-07-14\",\"2017-08-03\",\"2017-03-13\",\"2018-06-17\",\"2018-02-15\",\"2017-08-23\",\"2018-05-29\",\"2018-06-19\",\"2017-11-16\",\"2017-04-05\",\"2017-07-12\",\"2018-03-24\",\"2018-07-14\",\"2018-03-18\",\"2017-03-05\",\"2017-08-06\",\"2017-01-11\",\"2016-09-13\",\"2017-07-02\",\"2018-04-19\",\"2018-01-07\",\"2017-10-16\",\"2018-04-10\",\"2017-02-02\",\"2017-04-24\",\"2018-09-06\",\"2017-12-15\",\"2017-06-24\",\"2017-05-26\",\"2017-01-19\",\"2018-08-07\",\"2017-05-20\",\"2017-12-17\",\"2016-09-05\",\"2017-04-25\",\"2017-01-13\",\"2018-04-08\",\"2018-05-01\",\"2017-07-26\",\"2017-02-19\",\"2017-05-09\",\"2017-11-14\",\"2017-09-12\",\"2018-07-21\",\"2017-12-07\",\"2017-10-04\",\"2017-05-02\",\"2017-04-12\",\"2018-10-03\",\"2017-01-31\",\"2017-08-15\",\"2018-08-20\",\"2016-10-07\",\"2017-07-10\",\"2018-08-06\",\"2017-09-26\",\"2017-10-22\",\"2018-01-12\",\"2017-05-16\",\"2017-10-15\",\"2018-04-18\",\"2017-05-21\",\"2017-07-25\",\"2017-12-29\",\"2017-08-10\",\"2017-12-04\",\"2018-01-22\",\"2017-04-23\",\"2017-06-27\",\"2018-07-27\",\"2017-01-17\",\"2018-04-27\",\"2018-06-16\",\"2017-05-15\",\"2018-07-04\",\"2017-09-10\",\"2017-07-15\",\"2018-08-23\",\"2017-07-24\",\"2018-03-15\",\"2017-06-15\",\"2018-06-13\",\"2017-05-24\",\"2017-10-31\",\"2018-06-26\",\"2018-02-10\",\"2017-08-30\",\"2016-10-22\",\"2018-04-30\",\"2018-06-11\",\"2017-09-09\",\"2017-07-31\",\"2017-11-09\",\"2018-02-22\",\"2016-12-23\",\"2017-02-12\",\"2017-02-11\",\"2017-10-03\",\"2017-11-11\",\"2017-12-12\",\"2017-10-05\",\"2017-06-02\",\"2018-06-30\",\"2017-10-25\",\"2017-05-01\",\"2018-03-07\",\"2018-02-03\",\"2017-11-22\",\"2017-12-22\",\"2018-02-25\",\"2018-06-03\",\"2017-09-21\",\"2018-06-09\",\"2018-04-29\",\"2018-08-16\",\"2017-07-09\",\"2018-01-17\",\"2017-08-25\",\"2018-09-26\",\"2017-08-14\",\"2018-04-21\",\"2017-08-09\",\"2018-04-03\",\"2018-06-01\",\"2017-09-25\",\"2017-07-21\",\"2017-09-29\",\"2017-11-20\",\"2017-01-27\",\"2018-08-14\",\"2017-11-06\",\"2017-07-03\",\"2017-02-14\",\"2018-02-18\",\"2017-09-28\",\"2017-06-07\",\"2017-11-15\",\"2017-05-23\",\"2018-03-25\",\"2017-11-08\",\"2018-07-23\",\"2017-02-08\",\"2018-01-08\",\"2017-02-04\",\"2017-04-29\",\"2017-12-02\",\"2018-03-13\",\"2017-09-18\",\"2017-08-21\",\"2018-04-25\",\"2017-01-28\",\"2017-10-10\",\"2017-11-05\",\"2017-04-07\",\"2017-06-22\",\"2017-03-31\",\"2016-10-05\",\"2017-03-28\",\"2018-08-21\",\"2017-08-12\",\"2017-05-10\",\"2018-03-30\",\"2017-03-22\",\"2018-06-14\",\"2018-05-06\",\"2017-08-01\",\"2017-08-27\",\"2018-01-03\",\"2018-01-28\",\"2017-08-24\",\"2017-05-06\",\"2018-07-29\",\"2018-05-09\",\"2018-08-12\",\"2017-01-15\",\"2018-06-23\",\"2017-11-01\",\"2018-07-26\",\"2017-04-14\",\"2018-04-02\",\"2017-07-20\",\"2017-09-03\",\"2018-04-23\",\"2017-03-29\",\"2018-07-22\",\"2017-11-25\",\"2017-03-18\",\"2018-06-15\",\"2017-08-02\",\"2017-11-29\",\"2018-06-21\",\"2017-04-09\",\"2018-03-29\",\"2017-05-19\",\"2017-10-27\",\"2018-04-22\",\"2017-03-04\",\"2018-02-14\",\"2017-04-02\",\"2018-07-06\",\"2017-10-17\",\"2017-06-25\",\"2017-02-28\",\"2017-11-21\",\"2018-05-04\",\"2018-09-03\",\"2018-05-25\",\"2017-06-13\",\"2018-06-06\",\"2017-12-23\",\"2018-04-05\",\"2018-03-09\",\"2018-08-24\",\"2018-09-25\",\"2017-02-10\",\"2018-02-12\",\"2017-06-17\",\"2018-06-10\",\"2017-12-18\",\"2018-05-22\",\"2018-01-04\",\"2018-05-10\",\"2017-10-19\",\"2017-12-24\",\"2018-06-07\",\"2017-03-23\",\"2018-08-18\",\"2018-05-07\",\"2018-09-29\",\"2018-05-21\",\"2017-09-13\",\"2018-06-22\",\"2018-03-10\",\"2017-03-11\",\"2018-03-28\",\"2017-11-27\",\"2018-03-05\",\"2017-08-31\",\"2017-02-23\",\"2018-06-12\",\"2017-03-27\",\"2018-08-29\",\"2018-02-16\",\"2017-12-08\",\"2018-02-23\",\"2018-05-12\",\"2018-07-28\",\"2018-07-11\",\"2017-07-18\",\"2018-01-26\",\"2017-03-16\",\"2018-07-25\",\"2018-08-27\",\"2018-01-16\",\"2018-08-31\",\"2017-01-24\",\"2018-01-06\",\"2017-09-23\",\"2018-05-27\",\"2018-01-01\",\"2017-02-15\",\"2018-05-15\",\"2017-12-05\",\"2018-05-03\",\"2018-06-29\",\"2017-01-29\",\"2017-06-06\",\"2017-12-03\",\"2017-04-19\",\"2017-06-26\",\"2017-07-04\",\"2018-07-18\",\"2017-06-28\",\"2018-07-20\",\"2017-04-22\",\"2017-09-17\",\"2017-03-10\",\"2017-02-05\",\"2017-06-18\",\"2017-09-27\",\"2017-01-09\",\"2018-03-08\",\"2017-08-18\",\"2016-09-15\"],\"xaxis\":\"x\",\"xbins\":{\"size\":\"M1\"},\"y\":[136.23,75.06,40.95,0.0,109.34,595.14,11914.650000000005,10212.220000000001,9398.609999999999,8255.189999999999,9716.129999999997,4152.11,4675.099999999999,61.99,19.62,707.2700000000001,988.2800000000001,1447.99,809.6300000000001,774.51,1571.17,3062.3299999999995,2502.69,2903.9699999999993,1507.3599999999997,2551.34,3712.2400000000002,3893.6099999999988,4683.380000000001,4140.159999999999,4698.070000000001,3094.7600000000007,4280.22,7553.890000000002,6794.499999999997,10434.310000000003,15191.960000000008,12904.129999999994,5909.979999999999,7160.659999999995,12187.899999999994,13021.729999999996,10310.99,10676.54,11639.190000000004,15747.169999999998,10153.239999999998,11626.0,16627.210000000003,14299.970000000005,10844.169999999996,15674.09,5648.369999999999,16682.29,13092.090000000004,15309.080000000002,8326.400000000001,7803.720000000001,8093.570000000001,9308.300000000003,4477.65,9157.300000000001,9333.460000000003,9393.37,8571.86,7983.009999999999,5126.18,6583.499999999999,6836.77,12582.519999999999,18923.17000000001,13146.36,14154.710000000003,15533.690000000002,8789.14,13515.120000000003,13855.370000000006,16769.66,13828.330000000004,14518.919999999993,12503.97,7853.180000000002,19306.060000000005,16542.980000000003,17364.910000000003,16653.719999999998,13611.279999999999,17943.070000000003,7728.08,20014.930000000008,14937.51,16390.14,22913.370000000003,13386.910000000009,11251.740000000002,7642.0199999999995,20549.290000000005,14838.579999999996,10209.110000000004,11434.999999999998,13753.280000000002,20574.679999999997,10608.62,10776.9,14152.990000000007,20774.549999999992,26863.579999999998,15043.719999999996,10290.740000000003,9689.41,13492.1,9878.09,9407.94,11216.110000000006,10515.900000000001,9391.56,6532.21,10765.57,23433.859999999993,13941.250000000002,16056.000000000004,10162.6,15005.060000000007,11839.91,17711.56999999999,17176.350000000006,18696.090000000004,12455.1,18063.289999999997,13835.280000000002,9436.999999999998,14869.670000000007,20673.079999999998,12192.339999999998,15901.720000000005,16584.580000000005,19227.55,20467.980000000003,19194.68,24245.050000000007,23418.399999999987,21204.03999999999,15314.460000000003,10675.67,17551.829999999998,21907.00999999999,24535.569999999992,21396.329999999987,20861.79000000001,21525.089999999986,12364.170000000002,20368.52999999999,28906.599999999984,20622.469999999998,26991.949999999993,18420.65999999999,12680.520000000002,16333.540000000012,11120.709999999997,22225.089999999993,17074.36,24063.379999999994,21781.379999999997,21769.380000000012,12265.439999999999,16029.490000000002,27400.540000000008,17525.09,16072.620000000006,22106.280000000002,18738.529999999995,9892.1,19348.539999999994,17389.2,16894.890000000007,23559.519999999982,15105.260000000006,14777.690000000004,13070.160000000007,19733.690000000002,25933.439999999988,14659.820000000002,7275.100000000002,10609.039999999999,15698.500000000004,10013.700000000003,20734.34000000001,15200.319999999998,19680.129999999997,17080.88,14694.570000000007,16236.740000000005,14139.0,14002.370000000004,19328.179999999986,18107.599999999988,24664.579999999998,26556.070000000003,16676.75,12001.350000000002,10701.14,20661.800000000007,24964.63000000001,22740.800000000007,17986.750000000007,21833.259999999995,13128.050000000005,16150.230000000003,25799.539999999994,32450.889999999992,20411.749999999985,22517.840000000007,15870.789999999997,13318.540000000003,14066.830000000004,22950.00999999999,20884.700000000004,14053.840000000006,18945.82,23276.300000000003,18371.909999999993,15341.690000000008,20479.91,25417.35999999999,21690.260000000006,22380.55000000001,21712.530000000006,14465.840000000002,17023.39000000001,26629.340000000007,21541.13000000001,24214.39000000001,23594.020000000004,23627.109999999986,16221.090000000004,15928.580000000005,22232.119999999995,27992.040000000008,28398.60999999997,21885.089999999993,20143.719999999998,15172.920000000006,15073.710000000005,26019.71999999999,19955.449999999986,18789.699999999993,16398.730000000003,17403.720000000005,12054.650000000009,16327.140000000001,25696.590000000015,37025.69999999999,35466.26999999998,23914.850000000002,32485.269999999997,20479.17999999999,30950.780000000002,28719.239999999998,24954.680000000008,28821.83,21328.86000000001,14789.080000000002,17681.22,20978.600000000002,27103.889999999992,32784.959999999985,32054.369999999984,26502.510000000006,21556.659999999996,24040.31,22848.41999999999,32535.229999999992,23478.66000000001,26170.079999999998,22458.18999999998,19200.250000000007,12574.83,15880.060000000003,21203.050000000003,25296.359999999993,24879.939999999988,26629.300000000003,34497.46999999999,14879.170000000002,21909.429999999997,25565.110000000008,30389.119999999995,24787.58000000001,29129.829999999994,21890.58,17975.41,19756.299999999992,35265.56999999999,32559.070000000003,26214.77999999999,22520.929999999993,26589.92,16185.459999999997,21353.839999999997,35315.41999999998,35288.18,31793.669999999995,26988.799999999996,21979.199999999993,18022.3,23273.049999999996,25993.410000000007,25739.269999999997,21470.530000000006,26415.549999999992,23488.17,20572.640000000007,20444.680000000004,23741.859999999997,27058.219999999983,22702.160000000003,25017.159999999996,27058.519999999997,22294.809999999998,21752.57,33945.13999999999,24945.210000000003,23436.700000000008,29175.83,23676.7,27578.63000000002,26725.080000000005,29606.239999999987,32012.600000000006,27683.349999999995,33063.26999999999,35386.83999999998,27968.569999999996,23312.600000000002,50621.24,39831.85,30721.619999999995,52584.619999999995,179200.02999999994,71897.01,53939.87,56966.280000000006,56708.40999999998,48043.16000000003,37026.72999999998,46080.83999999996,35908.509999999995,34803.18999999998,56225.409999999974,40707.770000000004,46149.63000000002,33664.200000000004,35160.820000000014,23639.519999999997,29784.260000000024,39415.42999999998,40370.389999999985,34385.08,30754.309999999987,31451.629999999986,22907.05000000001,22105.999999999993,33898.129999999976,24494.27999999999,32004.67999999999,21546.44,18073.47000000001,16425.64,6960.790000000002,12662.230000000003,23797.46000000001,21074.289999999994,17793.849999999995,20552.64000000001,15412.610000000002,10190.929999999998,8486.289999999999,29494.739999999994,37154.62,40998.14999999999,32341.949999999993,32711.84,33993.479999999996,45310.599999999984,35439.999999999985,44824.93000000001,46746.37999999997,37270.22999999999,33222.380000000005,35993.459999999985,45208.28999999999,51339.38000000002,42151.91999999998,33038.69000000002,35649.62999999997,26960.000000000007,28447.419999999987,43867.890000000036,40298.33000000003,37025.22999999998,35335.98000000001,39308.93999999998,25106.77000000001,27804.900000000005,36056.51999999999,35523.60999999998,37891.630000000005,35767.91999999998,32532.449999999993,27572.170000000002,28261.909999999996,43196.969999999965,40066.41999999996,36529.710000000014,31911.009999999973,35374.18999999999,25265.31999999999,26129.459999999992,27990.54999999998,29024.169999999987,43643.359999999986,39224.750000000015,31867.470000000005,29611.55,29071.929999999975,33735.95999999999,42706.690000000024,38017.25999999998,38784.23000000002,33072.96,28341.360000000004,34930.87999999998,50433.959999999934,47076.98999999997,52321.739999999976,46747.399999999994,37550.30999999999,31781.789999999983,37479.799999999974,45635.60999999999,45971.24000000001,42513.19000000003,33842.11999999999,33823.070000000014,31105.0,36618.35000000003,35930.88999999998,42179.579999999994,28417.25000000002,51935.360000000015,38760.35999999999,24000.210000000006,36076.37999999998,52707.310000000034,42887.92999999999,46482.08999999998,36989.790000000045,34817.72,27711.420000000006,30192.800000000017,42745.22999999999,40633.58000000003,35150.720000000016,33564.47000000001,26279.75000000001,29121.4,34189.0,48076.450000000026,42187.32000000005,43567.820000000036,42219.170000000035,32285.36,29014.860000000008,27883.61,55782.82,32535.280000000013,47204.469999999994,39945.380000000005,36440.52999999998,22397.870000000006,36564.19,47364.65000000005,42814.250000000015,46308.64999999997,50326.52999999999,32841.640000000014,22465.889999999992,31991.790000000023,44363.29000000002,49905.01999999999,47356.490000000005,36912.770000000004,46764.300000000025,26978.52000000001,23060.950000000008,41036.61000000001,39274.26000000002,44908.630000000005,50218.850000000006,45494.099999999984,32640.670000000013,33099.310000000005,62568.25000000001,55129.380000000056,51096.81999999996,58871.87,43346.500000000015,34883.12,36320.07000000001,62230.72999999996,49505.98999999998,64742.060000000005,36258.360000000015,36429.77,28319.729999999996,23086.12,30619.940000000017,32070.660000000007,20262.30000000001,22278.7,18286.320000000007,16914.09,14693.68,30304.950000000004,29441.33000000001,22529.07000000001,28156.520000000004,37284.050000000025,28939.989999999994,33024.44,34326.40000000001,36471.22,32176.980000000003,42676.37999999999,31797.20000000001,34033.780000000006,30295.410000000007,57345.55999999998,46762.43000000001,41586.61,32707.209999999985,31498.76000000002,29000.08,20751.519999999986,41027.07,40013.59999999999,34330.26000000001,33301.98999999998,28753.149999999998,21181.11000000001,29498.57000000001,42008.02000000002,37673.669999999984,32920.9,38773.74000000002,25098.690000000013,18621.710000000006,29060.700000000015,29422.429999999997,31454.6,41579.79999999999,33949.500000000015,22108.66999999999,11277.240000000002,17554.720000000005,23122.169999999987,22694.45,22148.64,35228.69999999998,32635.240000000013,26427.019999999997,34489.39999999999,37854.659999999996,35758.42,51392.43000000001,44911.25000000002,38131.01000000001,25508.970000000012,32962.26,48104.330000000016,48154.03,47917.70999999999,41784.73999999998,33331.119999999966,30168.169999999995,36468.26000000002,46288.00999999999,54652.10000000001,48850.81000000005,45932.69999999999,49517.59000000002,41239.970000000016,42272.07,65860.43000000002,62057.769999999975,51463.76000000004,47261.68,40690.25999999997,31277.249999999993,36739.750000000015,48163.75999999999,51574.67,53322.7,42581.079999999994,40872.77000000003,29695.070000000003,29989.349999999995,40352.46999999997,31479.900000000005,24401.84000000002,19737.719999999994,11450.760000000002,11737.760000000002,9304.0,6229.950000000001,5216.72,2381.83,705.0400000000001,63.89,458.64000000000004,2443.2000000000003,51.17,258.67,84.58,414.04,84.58,191.46,221.54,94.63,137.03,80.38,197.55,222.03,89.71,null,null,null,null,null,null,null,null,null,null,null,null,null,null,null,null,null,null,null,null,null,null,null,null,null,null,null,null,null,null,null,null,null,null,null,null,null,null,null,null,null,null,null,null,null,null,null,null,null,null,null,null,null,null,null,null,null,null,null,null,null,null,null,null,null,null,null,null,null,null,null,null,null,null,null,null,null,null,null,null,null,null,null,null,null,null,null,null,null,null,null,null,null,null,null,null,null,null,null,null,null,null,null,null,null,null,null,null,null,null,null,null,null,null,null,null,null,null,null,null,null,null,null,null,null,null,null,null,null,null,null,null,null,null,null,null,null,null,null,null,null,null,null,null,null,null,null,null,null,null,null,null,null,null,null,null,null,null,null,null,null,null,null,null,null,null,null,null,null,null,null,null,null,null,null,null,null,null,null,null,null,null,null,null,null,null,null,null,null,null,null,null,null,null,null,null,null,null,null,null,null,null,null,null,null,null,null,null,null,null,null,null,null,null,null,null,null,null,null,null,null,null,null,null,null,null,null,null,null,null,null,null,null,null,null,null,null,null,null,null,null,null,null,null,null,null,null,null,null,null,null,null,null,null,null,null,null,null,null,null,null,null,null,null,null,null,null,null,null,null,null,null,null,null,null,null,null,null,null,null,null,null,null,null,null,null,null,null,null,null,null,null,null,null,null,null,null,null,null,null,null,null,null,null,null,null,null,null,null,null,null,null,null,null,null,null,null,null,null,null,null,null,null,null,null,null,null,null,null,null,null,null,null,null,null,null,null,null,null,null,null,null,null,null,null,null,null,null,null,null,null,null,null,null,null,null,null,null,null,null,null,null,null,null,null,null,null,null,null,null,null,null,null,null,null,null,null,null,null,null,null,null,null,null,null,null,null,null,null,null,null,null,null,null,null,null,null,null,null,null,null,null,null,null,null,null,null,null,null,null,null,null,null,null,null,null,null,null,null,null,null,null,null,null,null,null,null,null,null,null,null,null,null,null,null,null,null,null,null,null,null,null,null,null,null,null,null,null,null,null,null,null,null,null,null,null,null,null,null,null,null,null,null,null,null,null,null,null,null,null,null,null,null,null,null,null,null,null,null,null,null,null,null,null,null,null,null,null,null,null,null,null,null,null,null,null,null,null,null,null,null,null,null,null,null,null,null,null,null,null,null,null,null,null,null,null,null,null,null,null,null,null,null,null,null,null,null,null,null,null,null,null,null,null,null,null,null,null,null,null,null,null,null,null,null,null,null,null,null,null,null,null,null,null,null,null,null,null,null,null,null,null,null,null,null,null,null,null,null,null,null,null,null,null,null,null,null,null,null,null,null,null,null,null,null,null,null,null,null,null,null,null,null,null,null,null,null,null,null,null,null,null,null,null,null,null,null,null,null,null,null,null,null,null,null,null,null,null,null,null,null,null,null,null,null,null,null,null,null,null],\"yaxis\":\"y\"},{\"mode\":\"markers\",\"name\":\"daily\",\"type\":\"scatter\",\"x\":[\"2016-09-04\",\"2016-09-05\",\"2016-09-13\",\"2016-09-15\",\"2016-10-02\",\"2016-10-03\",\"2016-10-04\",\"2016-10-05\",\"2016-10-06\",\"2016-10-07\",\"2016-10-08\",\"2016-10-09\",\"2016-10-10\",\"2016-10-22\",\"2016-12-23\",\"2017-01-05\",\"2017-01-06\",\"2017-01-07\",\"2017-01-08\",\"2017-01-09\",\"2017-01-10\",\"2017-01-11\",\"2017-01-12\",\"2017-01-13\",\"2017-01-14\",\"2017-01-15\",\"2017-01-16\",\"2017-01-17\",\"2017-01-18\",\"2017-01-19\",\"2017-01-20\",\"2017-01-21\",\"2017-01-22\",\"2017-01-23\",\"2017-01-24\",\"2017-01-25\",\"2017-01-26\",\"2017-01-27\",\"2017-01-28\",\"2017-01-29\",\"2017-01-30\",\"2017-01-31\",\"2017-02-01\",\"2017-02-02\",\"2017-02-03\",\"2017-02-04\",\"2017-02-05\",\"2017-02-06\",\"2017-02-07\",\"2017-02-08\",\"2017-02-09\",\"2017-02-10\",\"2017-02-11\",\"2017-02-12\",\"2017-02-13\",\"2017-02-14\",\"2017-02-15\",\"2017-02-16\",\"2017-02-17\",\"2017-02-18\",\"2017-02-19\",\"2017-02-20\",\"2017-02-21\",\"2017-02-22\",\"2017-02-23\",\"2017-02-24\",\"2017-02-25\",\"2017-02-26\",\"2017-02-27\",\"2017-02-28\",\"2017-03-01\",\"2017-03-02\",\"2017-03-03\",\"2017-03-04\",\"2017-03-05\",\"2017-03-06\",\"2017-03-07\",\"2017-03-08\",\"2017-03-09\",\"2017-03-10\",\"2017-03-11\",\"2017-03-12\",\"2017-03-13\",\"2017-03-14\",\"2017-03-15\",\"2017-03-16\",\"2017-03-17\",\"2017-03-18\",\"2017-03-19\",\"2017-03-20\",\"2017-03-21\",\"2017-03-22\",\"2017-03-23\",\"2017-03-24\",\"2017-03-25\",\"2017-03-26\",\"2017-03-27\",\"2017-03-28\",\"2017-03-29\",\"2017-03-30\",\"2017-03-31\",\"2017-04-01\",\"2017-04-02\",\"2017-04-03\",\"2017-04-04\",\"2017-04-05\",\"2017-04-06\",\"2017-04-07\",\"2017-04-08\",\"2017-04-09\",\"2017-04-10\",\"2017-04-11\",\"2017-04-12\",\"2017-04-13\",\"2017-04-14\",\"2017-04-15\",\"2017-04-16\",\"2017-04-17\",\"2017-04-18\",\"2017-04-19\",\"2017-04-20\",\"2017-04-21\",\"2017-04-22\",\"2017-04-23\",\"2017-04-24\",\"2017-04-25\",\"2017-04-26\",\"2017-04-27\",\"2017-04-28\",\"2017-04-29\",\"2017-04-30\",\"2017-05-01\",\"2017-05-02\",\"2017-05-03\",\"2017-05-04\",\"2017-05-05\",\"2017-05-06\",\"2017-05-07\",\"2017-05-08\",\"2017-05-09\",\"2017-05-10\",\"2017-05-11\",\"2017-05-12\",\"2017-05-13\",\"2017-05-14\",\"2017-05-15\",\"2017-05-16\",\"2017-05-17\",\"2017-05-18\",\"2017-05-19\",\"2017-05-20\",\"2017-05-21\",\"2017-05-22\",\"2017-05-23\",\"2017-05-24\",\"2017-05-25\",\"2017-05-26\",\"2017-05-27\",\"2017-05-28\",\"2017-05-29\",\"2017-05-30\",\"2017-05-31\",\"2017-06-01\",\"2017-06-02\",\"2017-06-03\",\"2017-06-04\",\"2017-06-05\",\"2017-06-06\",\"2017-06-07\",\"2017-06-08\",\"2017-06-09\",\"2017-06-10\",\"2017-06-11\",\"2017-06-12\",\"2017-06-13\",\"2017-06-14\",\"2017-06-15\",\"2017-06-16\",\"2017-06-17\",\"2017-06-18\",\"2017-06-19\",\"2017-06-20\",\"2017-06-21\",\"2017-06-22\",\"2017-06-23\",\"2017-06-24\",\"2017-06-25\",\"2017-06-26\",\"2017-06-27\",\"2017-06-28\",\"2017-06-29\",\"2017-06-30\",\"2017-07-01\",\"2017-07-02\",\"2017-07-03\",\"2017-07-04\",\"2017-07-05\",\"2017-07-06\",\"2017-07-07\",\"2017-07-08\",\"2017-07-09\",\"2017-07-10\",\"2017-07-11\",\"2017-07-12\",\"2017-07-13\",\"2017-07-14\",\"2017-07-15\",\"2017-07-16\",\"2017-07-17\",\"2017-07-18\",\"2017-07-19\",\"2017-07-20\",\"2017-07-21\",\"2017-07-22\",\"2017-07-23\",\"2017-07-24\",\"2017-07-25\",\"2017-07-26\",\"2017-07-27\",\"2017-07-28\",\"2017-07-29\",\"2017-07-30\",\"2017-07-31\",\"2017-08-01\",\"2017-08-02\",\"2017-08-03\",\"2017-08-04\",\"2017-08-05\",\"2017-08-06\",\"2017-08-07\",\"2017-08-08\",\"2017-08-09\",\"2017-08-10\",\"2017-08-11\",\"2017-08-12\",\"2017-08-13\",\"2017-08-14\",\"2017-08-15\",\"2017-08-16\",\"2017-08-17\",\"2017-08-18\",\"2017-08-19\",\"2017-08-20\",\"2017-08-21\",\"2017-08-22\",\"2017-08-23\",\"2017-08-24\",\"2017-08-25\",\"2017-08-26\",\"2017-08-27\",\"2017-08-28\",\"2017-08-29\",\"2017-08-30\",\"2017-08-31\",\"2017-09-01\",\"2017-09-02\",\"2017-09-03\",\"2017-09-04\",\"2017-09-05\",\"2017-09-06\",\"2017-09-07\",\"2017-09-08\",\"2017-09-09\",\"2017-09-10\",\"2017-09-11\",\"2017-09-12\",\"2017-09-13\",\"2017-09-14\",\"2017-09-15\",\"2017-09-16\",\"2017-09-17\",\"2017-09-18\",\"2017-09-19\",\"2017-09-20\",\"2017-09-21\",\"2017-09-22\",\"2017-09-23\",\"2017-09-24\",\"2017-09-25\",\"2017-09-26\",\"2017-09-27\",\"2017-09-28\",\"2017-09-29\",\"2017-09-30\",\"2017-10-01\",\"2017-10-02\",\"2017-10-03\",\"2017-10-04\",\"2017-10-05\",\"2017-10-06\",\"2017-10-07\",\"2017-10-08\",\"2017-10-09\",\"2017-10-10\",\"2017-10-11\",\"2017-10-12\",\"2017-10-13\",\"2017-10-14\",\"2017-10-15\",\"2017-10-16\",\"2017-10-17\",\"2017-10-18\",\"2017-10-19\",\"2017-10-20\",\"2017-10-21\",\"2017-10-22\",\"2017-10-23\",\"2017-10-24\",\"2017-10-25\",\"2017-10-26\",\"2017-10-27\",\"2017-10-28\",\"2017-10-29\",\"2017-10-30\",\"2017-10-31\",\"2017-11-01\",\"2017-11-02\",\"2017-11-03\",\"2017-11-04\",\"2017-11-05\",\"2017-11-06\",\"2017-11-07\",\"2017-11-08\",\"2017-11-09\",\"2017-11-10\",\"2017-11-11\",\"2017-11-12\",\"2017-11-13\",\"2017-11-14\",\"2017-11-15\",\"2017-11-16\",\"2017-11-17\",\"2017-11-18\",\"2017-11-19\",\"2017-11-20\",\"2017-11-21\",\"2017-11-22\",\"2017-11-23\",\"2017-11-24\",\"2017-11-25\",\"2017-11-26\",\"2017-11-27\",\"2017-11-28\",\"2017-11-29\",\"2017-11-30\",\"2017-12-01\",\"2017-12-02\",\"2017-12-03\",\"2017-12-04\",\"2017-12-05\",\"2017-12-06\",\"2017-12-07\",\"2017-12-08\",\"2017-12-09\",\"2017-12-10\",\"2017-12-11\",\"2017-12-12\",\"2017-12-13\",\"2017-12-14\",\"2017-12-15\",\"2017-12-16\",\"2017-12-17\",\"2017-12-18\",\"2017-12-19\",\"2017-12-20\",\"2017-12-21\",\"2017-12-22\",\"2017-12-23\",\"2017-12-24\",\"2017-12-25\",\"2017-12-26\",\"2017-12-27\",\"2017-12-28\",\"2017-12-29\",\"2017-12-30\",\"2017-12-31\",\"2018-01-01\",\"2018-01-02\",\"2018-01-03\",\"2018-01-04\",\"2018-01-05\",\"2018-01-06\",\"2018-01-07\",\"2018-01-08\",\"2018-01-09\",\"2018-01-10\",\"2018-01-11\",\"2018-01-12\",\"2018-01-13\",\"2018-01-14\",\"2018-01-15\",\"2018-01-16\",\"2018-01-17\",\"2018-01-18\",\"2018-01-19\",\"2018-01-20\",\"2018-01-21\",\"2018-01-22\",\"2018-01-23\",\"2018-01-24\",\"2018-01-25\",\"2018-01-26\",\"2018-01-27\",\"2018-01-28\",\"2018-01-29\",\"2018-01-30\",\"2018-01-31\",\"2018-02-01\",\"2018-02-02\",\"2018-02-03\",\"2018-02-04\",\"2018-02-05\",\"2018-02-06\",\"2018-02-07\",\"2018-02-08\",\"2018-02-09\",\"2018-02-10\",\"2018-02-11\",\"2018-02-12\",\"2018-02-13\",\"2018-02-14\",\"2018-02-15\",\"2018-02-16\",\"2018-02-17\",\"2018-02-18\",\"2018-02-19\",\"2018-02-20\",\"2018-02-21\",\"2018-02-22\",\"2018-02-23\",\"2018-02-24\",\"2018-02-25\",\"2018-02-26\",\"2018-02-27\",\"2018-02-28\",\"2018-03-01\",\"2018-03-02\",\"2018-03-03\",\"2018-03-04\",\"2018-03-05\",\"2018-03-06\",\"2018-03-07\",\"2018-03-08\",\"2018-03-09\",\"2018-03-10\",\"2018-03-11\",\"2018-03-12\",\"2018-03-13\",\"2018-03-14\",\"2018-03-15\",\"2018-03-16\",\"2018-03-17\",\"2018-03-18\",\"2018-03-19\",\"2018-03-20\",\"2018-03-21\",\"2018-03-22\",\"2018-03-23\",\"2018-03-24\",\"2018-03-25\",\"2018-03-26\",\"2018-03-27\",\"2018-03-28\",\"2018-03-29\",\"2018-03-30\",\"2018-03-31\",\"2018-04-01\",\"2018-04-02\",\"2018-04-03\",\"2018-04-04\",\"2018-04-05\",\"2018-04-06\",\"2018-04-07\",\"2018-04-08\",\"2018-04-09\",\"2018-04-10\",\"2018-04-11\",\"2018-04-12\",\"2018-04-13\",\"2018-04-14\",\"2018-04-15\",\"2018-04-16\",\"2018-04-17\",\"2018-04-18\",\"2018-04-19\",\"2018-04-20\",\"2018-04-21\",\"2018-04-22\",\"2018-04-23\",\"2018-04-24\",\"2018-04-25\",\"2018-04-26\",\"2018-04-27\",\"2018-04-28\",\"2018-04-29\",\"2018-04-30\",\"2018-05-01\",\"2018-05-02\",\"2018-05-03\",\"2018-05-04\",\"2018-05-05\",\"2018-05-06\",\"2018-05-07\",\"2018-05-08\",\"2018-05-09\",\"2018-05-10\",\"2018-05-11\",\"2018-05-12\",\"2018-05-13\",\"2018-05-14\",\"2018-05-15\",\"2018-05-16\",\"2018-05-17\",\"2018-05-18\",\"2018-05-19\",\"2018-05-20\",\"2018-05-21\",\"2018-05-22\",\"2018-05-23\",\"2018-05-24\",\"2018-05-25\",\"2018-05-26\",\"2018-05-27\",\"2018-05-28\",\"2018-05-29\",\"2018-05-30\",\"2018-05-31\",\"2018-06-01\",\"2018-06-02\",\"2018-06-03\",\"2018-06-04\",\"2018-06-05\",\"2018-06-06\",\"2018-06-07\",\"2018-06-08\",\"2018-06-09\",\"2018-06-10\",\"2018-06-11\",\"2018-06-12\",\"2018-06-13\",\"2018-06-14\",\"2018-06-15\",\"2018-06-16\",\"2018-06-17\",\"2018-06-18\",\"2018-06-19\",\"2018-06-20\",\"2018-06-21\",\"2018-06-22\",\"2018-06-23\",\"2018-06-24\",\"2018-06-25\",\"2018-06-26\",\"2018-06-27\",\"2018-06-28\",\"2018-06-29\",\"2018-06-30\",\"2018-07-01\",\"2018-07-02\",\"2018-07-03\",\"2018-07-04\",\"2018-07-05\",\"2018-07-06\",\"2018-07-07\",\"2018-07-08\",\"2018-07-09\",\"2018-07-10\",\"2018-07-11\",\"2018-07-12\",\"2018-07-13\",\"2018-07-14\",\"2018-07-15\",\"2018-07-16\",\"2018-07-17\",\"2018-07-18\",\"2018-07-19\",\"2018-07-20\",\"2018-07-21\",\"2018-07-22\",\"2018-07-23\",\"2018-07-24\",\"2018-07-25\",\"2018-07-26\",\"2018-07-27\",\"2018-07-28\",\"2018-07-29\",\"2018-07-30\",\"2018-07-31\",\"2018-08-01\",\"2018-08-02\",\"2018-08-03\",\"2018-08-04\",\"2018-08-05\",\"2018-08-06\",\"2018-08-07\",\"2018-08-08\",\"2018-08-09\",\"2018-08-10\",\"2018-08-11\",\"2018-08-12\",\"2018-08-13\",\"2018-08-14\",\"2018-08-15\",\"2018-08-16\",\"2018-08-17\",\"2018-08-18\",\"2018-08-19\",\"2018-08-20\",\"2018-08-21\",\"2018-08-22\",\"2018-08-23\",\"2018-08-24\",\"2018-08-25\",\"2018-08-26\",\"2018-08-27\",\"2018-08-28\",\"2018-08-29\",\"2018-08-30\",\"2018-08-31\",\"2018-09-03\",\"2018-09-06\",\"2018-09-10\",\"2018-09-11\",\"2018-09-12\",\"2018-09-13\",\"2018-09-17\",\"2018-09-20\",\"2018-09-25\",\"2018-09-26\",\"2018-09-29\",\"2018-10-01\",\"2018-10-03\",\"2018-10-16\",\"2018-10-17\"],\"y\":[136.23,75.06,40.95,0.0,109.34,595.14,11914.650000000005,10212.220000000001,9398.609999999999,8255.189999999999,9716.129999999997,4152.11,4675.099999999999,61.99,19.62,707.2700000000001,988.2800000000001,1447.99,809.6300000000001,774.51,1571.17,3062.3299999999995,2502.69,2903.9699999999993,1507.3599999999997,2551.34,3712.2400000000002,3893.6099999999988,4683.380000000001,4140.159999999999,4698.070000000001,3094.7600000000007,4280.22,7553.890000000002,6794.499999999997,10434.310000000003,15191.960000000008,12904.129999999994,5909.979999999999,7160.659999999995,12187.899999999994,13021.729999999996,10310.99,10676.54,11639.190000000004,15747.169999999998,10153.239999999998,11626.0,16627.210000000003,14299.970000000005,10844.169999999996,15674.09,5648.369999999999,16682.29,13092.090000000004,15309.080000000002,8326.400000000001,7803.720000000001,8093.570000000001,9308.300000000003,4477.65,9157.300000000001,9333.460000000003,9393.37,8571.86,7983.009999999999,5126.18,6583.499999999999,6836.77,12582.519999999999,18923.17000000001,13146.36,14154.710000000003,15533.690000000002,8789.14,13515.120000000003,13855.370000000006,16769.66,13828.330000000004,14518.919999999993,12503.97,7853.180000000002,19306.060000000005,16542.980000000003,17364.910000000003,16653.719999999998,13611.279999999999,17943.070000000003,7728.08,20014.930000000008,14937.51,16390.14,22913.370000000003,13386.910000000009,11251.740000000002,7642.0199999999995,20549.290000000005,14838.579999999996,10209.110000000004,11434.999999999998,13753.280000000002,20574.679999999997,10608.62,10776.9,14152.990000000007,20774.549999999992,26863.579999999998,15043.719999999996,10290.740000000003,9689.41,13492.1,9878.09,9407.94,11216.110000000006,10515.900000000001,9391.56,6532.21,10765.57,23433.859999999993,13941.250000000002,16056.000000000004,10162.6,15005.060000000007,11839.91,17711.56999999999,17176.350000000006,18696.090000000004,12455.1,18063.289999999997,13835.280000000002,9436.999999999998,14869.670000000007,20673.079999999998,12192.339999999998,15901.720000000005,16584.580000000005,19227.55,20467.980000000003,19194.68,24245.050000000007,23418.399999999987,21204.03999999999,15314.460000000003,10675.67,17551.829999999998,21907.00999999999,24535.569999999992,21396.329999999987,20861.79000000001,21525.089999999986,12364.170000000002,20368.52999999999,28906.599999999984,20622.469999999998,26991.949999999993,18420.65999999999,12680.520000000002,16333.540000000012,11120.709999999997,22225.089999999993,17074.36,24063.379999999994,21781.379999999997,21769.380000000012,12265.439999999999,16029.490000000002,27400.540000000008,17525.09,16072.620000000006,22106.280000000002,18738.529999999995,9892.1,19348.539999999994,17389.2,16894.890000000007,23559.519999999982,15105.260000000006,14777.690000000004,13070.160000000007,19733.690000000002,25933.439999999988,14659.820000000002,7275.100000000002,10609.039999999999,15698.500000000004,10013.700000000003,20734.34000000001,15200.319999999998,19680.129999999997,17080.88,14694.570000000007,16236.740000000005,14139.0,14002.370000000004,19328.179999999986,18107.599999999988,24664.579999999998,26556.070000000003,16676.75,12001.350000000002,10701.14,20661.800000000007,24964.63000000001,22740.800000000007,17986.750000000007,21833.259999999995,13128.050000000005,16150.230000000003,25799.539999999994,32450.889999999992,20411.749999999985,22517.840000000007,15870.789999999997,13318.540000000003,14066.830000000004,22950.00999999999,20884.700000000004,14053.840000000006,18945.82,23276.300000000003,18371.909999999993,15341.690000000008,20479.91,25417.35999999999,21690.260000000006,22380.55000000001,21712.530000000006,14465.840000000002,17023.39000000001,26629.340000000007,21541.13000000001,24214.39000000001,23594.020000000004,23627.109999999986,16221.090000000004,15928.580000000005,22232.119999999995,27992.040000000008,28398.60999999997,21885.089999999993,20143.719999999998,15172.920000000006,15073.710000000005,26019.71999999999,19955.449999999986,18789.699999999993,16398.730000000003,17403.720000000005,12054.650000000009,16327.140000000001,25696.590000000015,37025.69999999999,35466.26999999998,23914.850000000002,32485.269999999997,20479.17999999999,30950.780000000002,28719.239999999998,24954.680000000008,28821.83,21328.86000000001,14789.080000000002,17681.22,20978.600000000002,27103.889999999992,32784.959999999985,32054.369999999984,26502.510000000006,21556.659999999996,24040.31,22848.41999999999,32535.229999999992,23478.66000000001,26170.079999999998,22458.18999999998,19200.250000000007,12574.83,15880.060000000003,21203.050000000003,25296.359999999993,24879.939999999988,26629.300000000003,34497.46999999999,14879.170000000002,21909.429999999997,25565.110000000008,30389.119999999995,24787.58000000001,29129.829999999994,21890.58,17975.41,19756.299999999992,35265.56999999999,32559.070000000003,26214.77999999999,22520.929999999993,26589.92,16185.459999999997,21353.839999999997,35315.41999999998,35288.18,31793.669999999995,26988.799999999996,21979.199999999993,18022.3,23273.049999999996,25993.410000000007,25739.269999999997,21470.530000000006,26415.549999999992,23488.17,20572.640000000007,20444.680000000004,23741.859999999997,27058.219999999983,22702.160000000003,25017.159999999996,27058.519999999997,22294.809999999998,21752.57,33945.13999999999,24945.210000000003,23436.700000000008,29175.83,23676.7,27578.63000000002,26725.080000000005,29606.239999999987,32012.600000000006,27683.349999999995,33063.26999999999,35386.83999999998,27968.569999999996,23312.600000000002,50621.24,39831.85,30721.619999999995,52584.619999999995,179200.02999999994,71897.01,53939.87,56966.280000000006,56708.40999999998,48043.16000000003,37026.72999999998,46080.83999999996,35908.509999999995,34803.18999999998,56225.409999999974,40707.770000000004,46149.63000000002,33664.200000000004,35160.820000000014,23639.519999999997,29784.260000000024,39415.42999999998,40370.389999999985,34385.08,30754.309999999987,31451.629999999986,22907.05000000001,22105.999999999993,33898.129999999976,24494.27999999999,32004.67999999999,21546.44,18073.47000000001,16425.64,6960.790000000002,12662.230000000003,23797.46000000001,21074.289999999994,17793.849999999995,20552.64000000001,15412.610000000002,10190.929999999998,8486.289999999999,29494.739999999994,37154.62,40998.14999999999,32341.949999999993,32711.84,33993.479999999996,45310.599999999984,35439.999999999985,44824.93000000001,46746.37999999997,37270.22999999999,33222.380000000005,35993.459999999985,45208.28999999999,51339.38000000002,42151.91999999998,33038.69000000002,35649.62999999997,26960.000000000007,28447.419999999987,43867.890000000036,40298.33000000003,37025.22999999998,35335.98000000001,39308.93999999998,25106.77000000001,27804.900000000005,36056.51999999999,35523.60999999998,37891.630000000005,35767.91999999998,32532.449999999993,27572.170000000002,28261.909999999996,43196.969999999965,40066.41999999996,36529.710000000014,31911.009999999973,35374.18999999999,25265.31999999999,26129.459999999992,27990.54999999998,29024.169999999987,43643.359999999986,39224.750000000015,31867.470000000005,29611.55,29071.929999999975,33735.95999999999,42706.690000000024,38017.25999999998,38784.23000000002,33072.96,28341.360000000004,34930.87999999998,50433.959999999934,47076.98999999997,52321.739999999976,46747.399999999994,37550.30999999999,31781.789999999983,37479.799999999974,45635.60999999999,45971.24000000001,42513.19000000003,33842.11999999999,33823.070000000014,31105.0,36618.35000000003,35930.88999999998,42179.579999999994,28417.25000000002,51935.360000000015,38760.35999999999,24000.210000000006,36076.37999999998,52707.310000000034,42887.92999999999,46482.08999999998,36989.790000000045,34817.72,27711.420000000006,30192.800000000017,42745.22999999999,40633.58000000003,35150.720000000016,33564.47000000001,26279.75000000001,29121.4,34189.0,48076.450000000026,42187.32000000005,43567.820000000036,42219.170000000035,32285.36,29014.860000000008,27883.61,55782.82,32535.280000000013,47204.469999999994,39945.380000000005,36440.52999999998,22397.870000000006,36564.19,47364.65000000005,42814.250000000015,46308.64999999997,50326.52999999999,32841.640000000014,22465.889999999992,31991.790000000023,44363.29000000002,49905.01999999999,47356.490000000005,36912.770000000004,46764.300000000025,26978.52000000001,23060.950000000008,41036.61000000001,39274.26000000002,44908.630000000005,50218.850000000006,45494.099999999984,32640.670000000013,33099.310000000005,62568.25000000001,55129.380000000056,51096.81999999996,58871.87,43346.500000000015,34883.12,36320.07000000001,62230.72999999996,49505.98999999998,64742.060000000005,36258.360000000015,36429.77,28319.729999999996,23086.12,30619.940000000017,32070.660000000007,20262.30000000001,22278.7,18286.320000000007,16914.09,14693.68,30304.950000000004,29441.33000000001,22529.07000000001,28156.520000000004,37284.050000000025,28939.989999999994,33024.44,34326.40000000001,36471.22,32176.980000000003,42676.37999999999,31797.20000000001,34033.780000000006,30295.410000000007,57345.55999999998,46762.43000000001,41586.61,32707.209999999985,31498.76000000002,29000.08,20751.519999999986,41027.07,40013.59999999999,34330.26000000001,33301.98999999998,28753.149999999998,21181.11000000001,29498.57000000001,42008.02000000002,37673.669999999984,32920.9,38773.74000000002,25098.690000000013,18621.710000000006,29060.700000000015,29422.429999999997,31454.6,41579.79999999999,33949.500000000015,22108.66999999999,11277.240000000002,17554.720000000005,23122.169999999987,22694.45,22148.64,35228.69999999998,32635.240000000013,26427.019999999997,34489.39999999999,37854.659999999996,35758.42,51392.43000000001,44911.25000000002,38131.01000000001,25508.970000000012,32962.26,48104.330000000016,48154.03,47917.70999999999,41784.73999999998,33331.119999999966,30168.169999999995,36468.26000000002,46288.00999999999,54652.10000000001,48850.81000000005,45932.69999999999,49517.59000000002,41239.970000000016,42272.07,65860.43000000002,62057.769999999975,51463.76000000004,47261.68,40690.25999999997,31277.249999999993,36739.750000000015,48163.75999999999,51574.67,53322.7,42581.079999999994,40872.77000000003,29695.070000000003,29989.349999999995,40352.46999999997,31479.900000000005,24401.84000000002,19737.719999999994,11450.760000000002,11737.760000000002,9304.0,6229.950000000001,5216.72,2381.83,705.0400000000001,63.89,458.64000000000004,2443.2000000000003,51.17,258.67,84.58,414.04,84.58,191.46,221.54,94.63,137.03,80.38,197.55,222.03,89.71]}],                        {\"bargap\":0.1,\"barmode\":\"relative\",\"legend\":{\"tracegroupgap\":0},\"template\":{\"data\":{\"bar\":[{\"error_x\":{\"color\":\"#2a3f5f\"},\"error_y\":{\"color\":\"#2a3f5f\"},\"marker\":{\"line\":{\"color\":\"#E5ECF6\",\"width\":0.5},\"pattern\":{\"fillmode\":\"overlay\",\"size\":10,\"solidity\":0.2}},\"type\":\"bar\"}],\"barpolar\":[{\"marker\":{\"line\":{\"color\":\"#E5ECF6\",\"width\":0.5},\"pattern\":{\"fillmode\":\"overlay\",\"size\":10,\"solidity\":0.2}},\"type\":\"barpolar\"}],\"carpet\":[{\"aaxis\":{\"endlinecolor\":\"#2a3f5f\",\"gridcolor\":\"white\",\"linecolor\":\"white\",\"minorgridcolor\":\"white\",\"startlinecolor\":\"#2a3f5f\"},\"baxis\":{\"endlinecolor\":\"#2a3f5f\",\"gridcolor\":\"white\",\"linecolor\":\"white\",\"minorgridcolor\":\"white\",\"startlinecolor\":\"#2a3f5f\"},\"type\":\"carpet\"}],\"choropleth\":[{\"colorbar\":{\"outlinewidth\":0,\"ticks\":\"\"},\"type\":\"choropleth\"}],\"contour\":[{\"colorbar\":{\"outlinewidth\":0,\"ticks\":\"\"},\"colorscale\":[[0.0,\"#0d0887\"],[0.1111111111111111,\"#46039f\"],[0.2222222222222222,\"#7201a8\"],[0.3333333333333333,\"#9c179e\"],[0.4444444444444444,\"#bd3786\"],[0.5555555555555556,\"#d8576b\"],[0.6666666666666666,\"#ed7953\"],[0.7777777777777778,\"#fb9f3a\"],[0.8888888888888888,\"#fdca26\"],[1.0,\"#f0f921\"]],\"type\":\"contour\"}],\"contourcarpet\":[{\"colorbar\":{\"outlinewidth\":0,\"ticks\":\"\"},\"type\":\"contourcarpet\"}],\"heatmap\":[{\"colorbar\":{\"outlinewidth\":0,\"ticks\":\"\"},\"colorscale\":[[0.0,\"#0d0887\"],[0.1111111111111111,\"#46039f\"],[0.2222222222222222,\"#7201a8\"],[0.3333333333333333,\"#9c179e\"],[0.4444444444444444,\"#bd3786\"],[0.5555555555555556,\"#d8576b\"],[0.6666666666666666,\"#ed7953\"],[0.7777777777777778,\"#fb9f3a\"],[0.8888888888888888,\"#fdca26\"],[1.0,\"#f0f921\"]],\"type\":\"heatmap\"}],\"heatmapgl\":[{\"colorbar\":{\"outlinewidth\":0,\"ticks\":\"\"},\"colorscale\":[[0.0,\"#0d0887\"],[0.1111111111111111,\"#46039f\"],[0.2222222222222222,\"#7201a8\"],[0.3333333333333333,\"#9c179e\"],[0.4444444444444444,\"#bd3786\"],[0.5555555555555556,\"#d8576b\"],[0.6666666666666666,\"#ed7953\"],[0.7777777777777778,\"#fb9f3a\"],[0.8888888888888888,\"#fdca26\"],[1.0,\"#f0f921\"]],\"type\":\"heatmapgl\"}],\"histogram\":[{\"marker\":{\"pattern\":{\"fillmode\":\"overlay\",\"size\":10,\"solidity\":0.2}},\"type\":\"histogram\"}],\"histogram2d\":[{\"colorbar\":{\"outlinewidth\":0,\"ticks\":\"\"},\"colorscale\":[[0.0,\"#0d0887\"],[0.1111111111111111,\"#46039f\"],[0.2222222222222222,\"#7201a8\"],[0.3333333333333333,\"#9c179e\"],[0.4444444444444444,\"#bd3786\"],[0.5555555555555556,\"#d8576b\"],[0.6666666666666666,\"#ed7953\"],[0.7777777777777778,\"#fb9f3a\"],[0.8888888888888888,\"#fdca26\"],[1.0,\"#f0f921\"]],\"type\":\"histogram2d\"}],\"histogram2dcontour\":[{\"colorbar\":{\"outlinewidth\":0,\"ticks\":\"\"},\"colorscale\":[[0.0,\"#0d0887\"],[0.1111111111111111,\"#46039f\"],[0.2222222222222222,\"#7201a8\"],[0.3333333333333333,\"#9c179e\"],[0.4444444444444444,\"#bd3786\"],[0.5555555555555556,\"#d8576b\"],[0.6666666666666666,\"#ed7953\"],[0.7777777777777778,\"#fb9f3a\"],[0.8888888888888888,\"#fdca26\"],[1.0,\"#f0f921\"]],\"type\":\"histogram2dcontour\"}],\"mesh3d\":[{\"colorbar\":{\"outlinewidth\":0,\"ticks\":\"\"},\"type\":\"mesh3d\"}],\"parcoords\":[{\"line\":{\"colorbar\":{\"outlinewidth\":0,\"ticks\":\"\"}},\"type\":\"parcoords\"}],\"pie\":[{\"automargin\":true,\"type\":\"pie\"}],\"scatter\":[{\"marker\":{\"colorbar\":{\"outlinewidth\":0,\"ticks\":\"\"}},\"type\":\"scatter\"}],\"scatter3d\":[{\"line\":{\"colorbar\":{\"outlinewidth\":0,\"ticks\":\"\"}},\"marker\":{\"colorbar\":{\"outlinewidth\":0,\"ticks\":\"\"}},\"type\":\"scatter3d\"}],\"scattercarpet\":[{\"marker\":{\"colorbar\":{\"outlinewidth\":0,\"ticks\":\"\"}},\"type\":\"scattercarpet\"}],\"scattergeo\":[{\"marker\":{\"colorbar\":{\"outlinewidth\":0,\"ticks\":\"\"}},\"type\":\"scattergeo\"}],\"scattergl\":[{\"marker\":{\"colorbar\":{\"outlinewidth\":0,\"ticks\":\"\"}},\"type\":\"scattergl\"}],\"scattermapbox\":[{\"marker\":{\"colorbar\":{\"outlinewidth\":0,\"ticks\":\"\"}},\"type\":\"scattermapbox\"}],\"scatterpolar\":[{\"marker\":{\"colorbar\":{\"outlinewidth\":0,\"ticks\":\"\"}},\"type\":\"scatterpolar\"}],\"scatterpolargl\":[{\"marker\":{\"colorbar\":{\"outlinewidth\":0,\"ticks\":\"\"}},\"type\":\"scatterpolargl\"}],\"scatterternary\":[{\"marker\":{\"colorbar\":{\"outlinewidth\":0,\"ticks\":\"\"}},\"type\":\"scatterternary\"}],\"surface\":[{\"colorbar\":{\"outlinewidth\":0,\"ticks\":\"\"},\"colorscale\":[[0.0,\"#0d0887\"],[0.1111111111111111,\"#46039f\"],[0.2222222222222222,\"#7201a8\"],[0.3333333333333333,\"#9c179e\"],[0.4444444444444444,\"#bd3786\"],[0.5555555555555556,\"#d8576b\"],[0.6666666666666666,\"#ed7953\"],[0.7777777777777778,\"#fb9f3a\"],[0.8888888888888888,\"#fdca26\"],[1.0,\"#f0f921\"]],\"type\":\"surface\"}],\"table\":[{\"cells\":{\"fill\":{\"color\":\"#EBF0F8\"},\"line\":{\"color\":\"white\"}},\"header\":{\"fill\":{\"color\":\"#C8D4E3\"},\"line\":{\"color\":\"white\"}},\"type\":\"table\"}]},\"layout\":{\"annotationdefaults\":{\"arrowcolor\":\"#2a3f5f\",\"arrowhead\":0,\"arrowwidth\":1},\"autotypenumbers\":\"strict\",\"coloraxis\":{\"colorbar\":{\"outlinewidth\":0,\"ticks\":\"\"}},\"colorscale\":{\"diverging\":[[0,\"#8e0152\"],[0.1,\"#c51b7d\"],[0.2,\"#de77ae\"],[0.3,\"#f1b6da\"],[0.4,\"#fde0ef\"],[0.5,\"#f7f7f7\"],[0.6,\"#e6f5d0\"],[0.7,\"#b8e186\"],[0.8,\"#7fbc41\"],[0.9,\"#4d9221\"],[1,\"#276419\"]],\"sequential\":[[0.0,\"#0d0887\"],[0.1111111111111111,\"#46039f\"],[0.2222222222222222,\"#7201a8\"],[0.3333333333333333,\"#9c179e\"],[0.4444444444444444,\"#bd3786\"],[0.5555555555555556,\"#d8576b\"],[0.6666666666666666,\"#ed7953\"],[0.7777777777777778,\"#fb9f3a\"],[0.8888888888888888,\"#fdca26\"],[1.0,\"#f0f921\"]],\"sequentialminus\":[[0.0,\"#0d0887\"],[0.1111111111111111,\"#46039f\"],[0.2222222222222222,\"#7201a8\"],[0.3333333333333333,\"#9c179e\"],[0.4444444444444444,\"#bd3786\"],[0.5555555555555556,\"#d8576b\"],[0.6666666666666666,\"#ed7953\"],[0.7777777777777778,\"#fb9f3a\"],[0.8888888888888888,\"#fdca26\"],[1.0,\"#f0f921\"]]},\"colorway\":[\"#636efa\",\"#EF553B\",\"#00cc96\",\"#ab63fa\",\"#FFA15A\",\"#19d3f3\",\"#FF6692\",\"#B6E880\",\"#FF97FF\",\"#FECB52\"],\"font\":{\"color\":\"#2a3f5f\"},\"geo\":{\"bgcolor\":\"white\",\"lakecolor\":\"white\",\"landcolor\":\"#E5ECF6\",\"showlakes\":true,\"showland\":true,\"subunitcolor\":\"white\"},\"hoverlabel\":{\"align\":\"left\"},\"hovermode\":\"closest\",\"mapbox\":{\"style\":\"light\"},\"paper_bgcolor\":\"white\",\"plot_bgcolor\":\"#E5ECF6\",\"polar\":{\"angularaxis\":{\"gridcolor\":\"white\",\"linecolor\":\"white\",\"ticks\":\"\"},\"bgcolor\":\"#E5ECF6\",\"radialaxis\":{\"gridcolor\":\"white\",\"linecolor\":\"white\",\"ticks\":\"\"}},\"scene\":{\"xaxis\":{\"backgroundcolor\":\"#E5ECF6\",\"gridcolor\":\"white\",\"gridwidth\":2,\"linecolor\":\"white\",\"showbackground\":true,\"ticks\":\"\",\"zerolinecolor\":\"white\"},\"yaxis\":{\"backgroundcolor\":\"#E5ECF6\",\"gridcolor\":\"white\",\"gridwidth\":2,\"linecolor\":\"white\",\"showbackground\":true,\"ticks\":\"\",\"zerolinecolor\":\"white\"},\"zaxis\":{\"backgroundcolor\":\"#E5ECF6\",\"gridcolor\":\"white\",\"gridwidth\":2,\"linecolor\":\"white\",\"showbackground\":true,\"ticks\":\"\",\"zerolinecolor\":\"white\"}},\"shapedefaults\":{\"line\":{\"color\":\"#2a3f5f\"}},\"ternary\":{\"aaxis\":{\"gridcolor\":\"white\",\"linecolor\":\"white\",\"ticks\":\"\"},\"baxis\":{\"gridcolor\":\"white\",\"linecolor\":\"white\",\"ticks\":\"\"},\"bgcolor\":\"#E5ECF6\",\"caxis\":{\"gridcolor\":\"white\",\"linecolor\":\"white\",\"ticks\":\"\"}},\"title\":{\"x\":0.05},\"xaxis\":{\"automargin\":true,\"gridcolor\":\"white\",\"linecolor\":\"white\",\"ticks\":\"\",\"title\":{\"standoff\":15},\"zerolinecolor\":\"white\",\"zerolinewidth\":2},\"yaxis\":{\"automargin\":true,\"gridcolor\":\"white\",\"linecolor\":\"white\",\"ticks\":\"\",\"title\":{\"standoff\":15},\"zerolinecolor\":\"white\",\"zerolinewidth\":2}}},\"title\":{\"text\":\"Histogram on Date Axes\"},\"xaxis\":{\"anchor\":\"y\",\"domain\":[0.0,1.0],\"dtick\":\"M1\",\"showgrid\":true,\"tickformat\":\"%b\\n%Y\",\"ticklabelmode\":\"period\",\"title\":{\"text\":\"date\"}},\"yaxis\":{\"anchor\":\"x\",\"domain\":[0.0,1.0],\"title\":{\"text\":\"sum of payment_value\"}}},                        {\"responsive\": true}                    ).then(function(){\n",
       "                            \n",
       "var gd = document.getElementById('13cd5e85-6502-493a-ade4-42d33131aa7b');\n",
       "var x = new MutationObserver(function (mutations, observer) {{\n",
       "        var display = window.getComputedStyle(gd).display;\n",
       "        if (!display || display === 'none') {{\n",
       "            console.log([gd, 'removed!']);\n",
       "            Plotly.purge(gd);\n",
       "            observer.disconnect();\n",
       "        }}\n",
       "}});\n",
       "\n",
       "// Listen for the removal of the full notebook cells\n",
       "var notebookContainer = gd.closest('#notebook-container');\n",
       "if (notebookContainer) {{\n",
       "    x.observe(notebookContainer, {childList: true});\n",
       "}}\n",
       "\n",
       "// Listen for the clearing of the current output cell\n",
       "var outputEl = gd.closest('.output');\n",
       "if (outputEl) {{\n",
       "    x.observe(outputEl, {childList: true});\n",
       "}}\n",
       "\n",
       "                        })                };                });            </script>        </div>"
      ]
     },
     "metadata": {},
     "output_type": "display_data"
    }
   ],
   "source": [
    "import plotly.express as px\n",
    "import plotly.graph_objects as go\n",
    "import pandas as pd\n",
    "\n",
    "\n",
    "fig = px.histogram(df_1, x=\"date\", y=\"payment_value\", histfunc=\"sum\", title=\"Histogram on Date Axes\")\n",
    "fig.update_traces(xbins_size=\"M\")\n",
    "fig.update_xaxes(showgrid=True, ticklabelmode=\"period\", dtick=\"M1\", tickformat=\"%b\\n%Y\")\n",
    "fig.update_layout(bargap=0.1)\n",
    "fig.add_trace(go.Scatter(mode=\"markers\", x=x, y=y, name=\"daily\"))\n",
    "fig.show()"
   ]
  },
  {
   "cell_type": "code",
   "execution_count": null,
   "id": "443db69c-78e7-4a81-9983-4ba6c76d0a94",
   "metadata": {},
   "outputs": [],
   "source": []
  }
 ],
 "metadata": {
  "kernelspec": {
   "display_name": "Python 3",
   "language": "python",
   "name": "python3"
  },
  "language_info": {
   "codemirror_mode": {
    "name": "ipython",
    "version": 3
   },
   "file_extension": ".py",
   "mimetype": "text/x-python",
   "name": "python",
   "nbconvert_exporter": "python",
   "pygments_lexer": "ipython3",
   "version": "3.8.6"
  }
 },
 "nbformat": 4,
 "nbformat_minor": 5
}
