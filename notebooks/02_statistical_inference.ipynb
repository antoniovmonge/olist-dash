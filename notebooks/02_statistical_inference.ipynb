{
 "cells": [
  {
   "cell_type": "markdown",
   "id": "a8d48235-236e-4331-b4a6-25bfb7358271",
   "metadata": {},
   "source": [
    "# Orders"
   ]
  },
  {
   "cell_type": "markdown",
   "id": "b5a25f6d-b918-4bec-a2e5-af6d9fee824b",
   "metadata": {},
   "source": [
    "#### Investigating the orders, and their associated review score."
   ]
  },
  {
   "cell_type": "markdown",
   "id": "0b7dc14d-b354-4a2f-86ea-ee59a0091370",
   "metadata": {},
   "source": [
    "we will create one single data table containing **all our orders with some engineered statistics for them as additional columns.**\n",
    "\n",
    "Creating the following DataFrame, which will be very handy for the modeling phase.\n",
    "\n",
    "  - `order_id` (_str) the id of the order_\n",
    "  - `wait_time` (_float) the number of days between order_date and delivered_date_\n",
    "  - `expected_wait_time` (_float) the number of days between order_date and estimated_delivery_date_\n",
    "  - `delay_vs_expected` (_float) if the actual delivery date is later than the estimated delivery date, returns the absolute number of days between the two dates, otherwise return 0_\n",
    "  - `order_status` (_str) the status of the order_\n",
    "  - `dim_is_five_star` (_int) 1 if the order received a five_star, 0 otherwise_\n",
    "  - `dim_is_one_star` (_int) 1 if the order received a one_star, 0 otherwise_\n",
    "  - `review_score`(_int) from 1 to 5_\n",
    "  - `number_of_product` (_int) number of products that the order contains_\n",
    "  - `number_of_sellers` (_int) number of sellers involved in the order_\n",
    "  - `price` (_float) total price of the order paid by customer_\n",
    "  - `freight_value` (_float) value of the freight paid by customer_\n",
    "  - `distance_customer_seller` (_float) the distance in km between customer and seller_\n"
   ]
  },
  {
   "cell_type": "code",
   "execution_count": 1,
   "id": "108e773e-36eb-4898-bc51-00caec3d6f95",
   "metadata": {},
   "outputs": [],
   "source": [
    "# Auto reload imported module everytime a jupyter cell is executed\n",
    "%load_ext autoreload\n",
    "%autoreload 2"
   ]
  },
  {
   "cell_type": "code",
   "execution_count": 2,
   "id": "8c74e041-9dcf-446f-a45a-a0cd75aaf486",
   "metadata": {},
   "outputs": [],
   "source": [
    "# Import usual modules\n",
    "import pandas as pd\n",
    "import numpy as np\n",
    "import seaborn as sns\n",
    "import matplotlib.pyplot as plt"
   ]
  },
  {
   "cell_type": "code",
   "execution_count": 3,
   "id": "58604f72-dde2-4540-89e9-0843779bf38c",
   "metadata": {},
   "outputs": [],
   "source": [
    "# Import olist data\n",
    "from olistdash.data import Olist\n",
    "olist=Olist()\n",
    "data=olist.get_data()\n",
    "matching_table = olist.get_matching_table()"
   ]
  },
  {
   "cell_type": "markdown",
   "id": "ad70cebe-8126-4d43-9d7a-819b5e568a2a",
   "metadata": {},
   "source": [
    "## Code `order.py`"
   ]
  },
  {
   "cell_type": "code",
   "execution_count": 4,
   "id": "6dcf73c0-dcbd-412c-8fbc-9b32b4066860",
   "metadata": {},
   "outputs": [
    {
     "data": {
      "text/html": [
       "<div>\n",
       "<style scoped>\n",
       "    .dataframe tbody tr th:only-of-type {\n",
       "        vertical-align: middle;\n",
       "    }\n",
       "\n",
       "    .dataframe tbody tr th {\n",
       "        vertical-align: top;\n",
       "    }\n",
       "\n",
       "    .dataframe thead th {\n",
       "        text-align: right;\n",
       "    }\n",
       "</style>\n",
       "<table border=\"1\" class=\"dataframe\">\n",
       "  <thead>\n",
       "    <tr style=\"text-align: right;\">\n",
       "      <th></th>\n",
       "      <th>order_id</th>\n",
       "      <th>customer_id</th>\n",
       "      <th>order_status</th>\n",
       "      <th>order_purchase_timestamp</th>\n",
       "      <th>order_approved_at</th>\n",
       "      <th>order_delivered_carrier_date</th>\n",
       "      <th>order_delivered_customer_date</th>\n",
       "      <th>order_estimated_delivery_date</th>\n",
       "    </tr>\n",
       "  </thead>\n",
       "  <tbody>\n",
       "    <tr>\n",
       "      <th>0</th>\n",
       "      <td>e481f51cbdc54678b7cc49136f2d6af7</td>\n",
       "      <td>9ef432eb6251297304e76186b10a928d</td>\n",
       "      <td>delivered</td>\n",
       "      <td>2017-10-02 10:56:33</td>\n",
       "      <td>2017-10-02 11:07:15</td>\n",
       "      <td>2017-10-04 19:55:00</td>\n",
       "      <td>2017-10-10 21:25:13</td>\n",
       "      <td>2017-10-18 00:00:00</td>\n",
       "    </tr>\n",
       "  </tbody>\n",
       "</table>\n",
       "</div>"
      ],
      "text/plain": [
       "                           order_id                       customer_id  \\\n",
       "0  e481f51cbdc54678b7cc49136f2d6af7  9ef432eb6251297304e76186b10a928d   \n",
       "\n",
       "  order_status order_purchase_timestamp    order_approved_at  \\\n",
       "0    delivered      2017-10-02 10:56:33  2017-10-02 11:07:15   \n",
       "\n",
       "  order_delivered_carrier_date order_delivered_customer_date  \\\n",
       "0          2017-10-04 19:55:00           2017-10-10 21:25:13   \n",
       "\n",
       "  order_estimated_delivery_date  \n",
       "0           2017-10-18 00:00:00  "
      ]
     },
     "execution_count": 4,
     "metadata": {},
     "output_type": "execute_result"
    }
   ],
   "source": [
    "orders = data['orders'].copy() # to be sure not to modify the `data` variable\n",
    "orders.head(1)"
   ]
  },
  {
   "cell_type": "markdown",
   "id": "0d8b5565-5975-4192-ad96-a22b0d27c991",
   "metadata": {},
   "source": [
    "#### Filter delivered orders"
   ]
  },
  {
   "cell_type": "code",
   "execution_count": 5,
   "id": "46cad13d-7bb4-4c83-8e69-d8ff0e16ef06",
   "metadata": {},
   "outputs": [],
   "source": [
    "orders = orders.query(\"order_status=='delivered'\").copy()"
   ]
  },
  {
   "cell_type": "markdown",
   "id": "3187eef0-05c0-466d-9c09-80b6e92e081d",
   "metadata": {},
   "source": [
    "## 1. def get_wait_time():\n",
    "Return a dataframe with `[order_id, wait_time, expected_wait_time, delay_vs_expected, order_status]`"
   ]
  },
  {
   "cell_type": "markdown",
   "id": "d49bd454-e8de-434c-b4be-8b6cad8fcdf8",
   "metadata": {},
   "source": [
    "#### ⁉ ... Checking type of objects in \"time columns\""
   ]
  },
  {
   "cell_type": "code",
   "execution_count": 6,
   "id": "18c21d80-78f8-4e9a-a2cd-7e9c7a7da5c7",
   "metadata": {},
   "outputs": [
    {
     "name": "stdout",
     "output_type": "stream",
     "text": [
      "<class 'str'>\n",
      "<class 'str'>\n",
      "<class 'str'>\n"
     ]
    }
   ],
   "source": [
    "print(type(orders['order_delivered_customer_date'][1]))\n",
    "print(type(orders['order_estimated_delivery_date'][1]))\n",
    "print(type(orders['order_purchase_timestamp'][1]))"
   ]
  },
  {
   "cell_type": "markdown",
   "id": "d5f9b6bf-cc90-4488-b8ff-fe6455544e7e",
   "metadata": {},
   "source": [
    "#### ❕❗ As they are 'str' it is needed to convert them to pandas.datetime"
   ]
  },
  {
   "cell_type": "markdown",
   "id": "078f8dd3-ab9a-4864-9c11-aca08dee3598",
   "metadata": {},
   "source": [
    "#### handling datetime"
   ]
  },
  {
   "cell_type": "code",
   "execution_count": 7,
   "id": "1b5fb16c-7ffc-4e94-bd56-fa4b57cdeb10",
   "metadata": {},
   "outputs": [],
   "source": [
    "# converting column ['order_delivered_customer_date'] from \"str\" to pandas.datetime\n",
    "orders.loc[:, 'order_delivered_customer_date'] = pd.to_datetime(orders['order_delivered_customer_date'])\n",
    "# converting column ['order_estimated_delivery_date'] from \"str\" to pandas.datetime\n",
    "orders.loc[:, 'order_estimated_delivery_date'] = pd.to_datetime(orders['order_estimated_delivery_date'])\n",
    "# converting column ['order_purchase_timestamp'] from \"str\" to pandas.datetime\n",
    "orders.loc[:, 'order_purchase_timestamp'] = pd.to_datetime(orders['order_purchase_timestamp'])"
   ]
  },
  {
   "cell_type": "markdown",
   "id": "69154ed7-c863-4f24-9f36-83608e0decb2",
   "metadata": {},
   "source": [
    "#### ⁉ ... Checking again type of objects in \"time columns\""
   ]
  },
  {
   "cell_type": "code",
   "execution_count": 8,
   "id": "ee081428-d2b5-4cd4-a33b-87d71b69e1a9",
   "metadata": {},
   "outputs": [
    {
     "name": "stdout",
     "output_type": "stream",
     "text": [
      "<class 'pandas._libs.tslibs.timestamps.Timestamp'>\n",
      "<class 'pandas._libs.tslibs.timestamps.Timestamp'>\n",
      "<class 'pandas._libs.tslibs.timestamps.Timestamp'>\n"
     ]
    }
   ],
   "source": [
    "print(type(orders['order_delivered_customer_date'][1]))\n",
    "print(type(orders['order_estimated_delivery_date'][1]))\n",
    "print(type(orders['order_purchase_timestamp'][1]))"
   ]
  },
  {
   "cell_type": "markdown",
   "id": "bc2175e5-b629-4fbf-bf81-4025f3d8c034",
   "metadata": {},
   "source": [
    "#### 👌🆗 Now it is possible to procced"
   ]
  },
  {
   "cell_type": "markdown",
   "id": "93f62596-5da7-472b-9ef1-1c0094dca00b",
   "metadata": {},
   "source": [
    "### 1.1 Computing [\"delay_vs_expected\"]"
   ]
  },
  {
   "cell_type": "code",
   "execution_count": 9,
   "id": "3fb72115-e966-4a7c-adee-fb5f72ec7551",
   "metadata": {},
   "outputs": [],
   "source": [
    "# Creating new column ['delay_vs_expected']\n",
    "orders.loc[:, 'delay_vs_expected'] = (orders['order_estimated_delivery_date'] - orders['order_delivered_customer_date']) / np.timedelta64(24, 'h')"
   ]
  },
  {
   "cell_type": "code",
   "execution_count": 10,
   "id": "72fdf61a-d121-466b-a3e7-be2de6cb79b5",
   "metadata": {},
   "outputs": [
    {
     "data": {
      "text/plain": [
       "5.355729166666666"
      ]
     },
     "execution_count": 10,
     "metadata": {},
     "output_type": "execute_result"
    }
   ],
   "source": [
    "# TEST\n",
    "orders['delay_vs_expected'][1]"
   ]
  },
  {
   "cell_type": "markdown",
   "id": "3662c5e6-db0d-4191-af44-273f731db8fb",
   "metadata": {},
   "source": [
    "##### Analize new column:"
   ]
  },
  {
   "cell_type": "code",
   "execution_count": 11,
   "id": "b3a2f4f1-4dea-4dc6-ab32-a95f54e323b2",
   "metadata": {},
   "outputs": [
    {
     "data": {
      "text/plain": [
       "count    96470.000000\n",
       "mean        11.178126\n",
       "std         10.184354\n",
       "min       -188.975081\n",
       "25%          6.389815\n",
       "50%         11.948102\n",
       "75%         16.244065\n",
       "max        146.016123\n",
       "Name: delay_vs_expected, dtype: float64"
      ]
     },
     "execution_count": 11,
     "metadata": {},
     "output_type": "execute_result"
    }
   ],
   "source": [
    "orders['delay_vs_expected'].describe()"
   ]
  },
  {
   "cell_type": "markdown",
   "id": "5d91f691-63fa-4bd4-b9f4-3d108a1c89df",
   "metadata": {},
   "source": [
    "#### handling negative delays for ['delay_vs_expected'] column"
   ]
  },
  {
   "cell_type": "code",
   "execution_count": 12,
   "id": "8d86a1a5-483d-4a89-859c-f309a7a4811d",
   "metadata": {},
   "outputs": [],
   "source": [
    "# Creating custom function and applying it to the column\n",
    "def handle_delay(x):\n",
    "    if x < 0:\n",
    "        return abs(x)\n",
    "    else:\n",
    "        return 0\n",
    "    \n",
    "orders.loc[:,'delay_vs_expected'] = orders['delay_vs_expected'].apply(handle_delay)"
   ]
  },
  {
   "cell_type": "markdown",
   "id": "44e011e0-884f-4179-9ee8-3d3b5a4464c6",
   "metadata": {},
   "source": [
    "Testing result of applying handle_delay function:"
   ]
  },
  {
   "cell_type": "code",
   "execution_count": 13,
   "id": "653b8d98-e129-4fc7-9ccc-a9872dad6484",
   "metadata": {},
   "outputs": [
    {
     "data": {
      "text/plain": [
       "count    96478.000000\n",
       "mean         0.774811\n",
       "std          4.752895\n",
       "min          0.000000\n",
       "25%          0.000000\n",
       "50%          0.000000\n",
       "75%          0.000000\n",
       "max        188.975081\n",
       "Name: delay_vs_expected, dtype: float64"
      ]
     },
     "execution_count": 13,
     "metadata": {},
     "output_type": "execute_result"
    }
   ],
   "source": [
    "orders['delay_vs_expected'].describe()"
   ]
  },
  {
   "cell_type": "markdown",
   "id": "404bff6d-f926-414c-b04c-8c58edfbc44d",
   "metadata": {},
   "source": [
    "### 1.2 Computing `['wait_time']` column\n",
    "wait_time = time between purchasing item to becoming it (in days)"
   ]
  },
  {
   "cell_type": "code",
   "execution_count": 14,
   "id": "7f440a0f-9701-4e45-892d-79ea0ae4dd9c",
   "metadata": {},
   "outputs": [
    {
     "data": {
      "text/html": [
       "<div>\n",
       "<style scoped>\n",
       "    .dataframe tbody tr th:only-of-type {\n",
       "        vertical-align: middle;\n",
       "    }\n",
       "\n",
       "    .dataframe tbody tr th {\n",
       "        vertical-align: top;\n",
       "    }\n",
       "\n",
       "    .dataframe thead th {\n",
       "        text-align: right;\n",
       "    }\n",
       "</style>\n",
       "<table border=\"1\" class=\"dataframe\">\n",
       "  <thead>\n",
       "    <tr style=\"text-align: right;\">\n",
       "      <th></th>\n",
       "      <th>order_id</th>\n",
       "      <th>customer_id</th>\n",
       "      <th>order_status</th>\n",
       "      <th>order_purchase_timestamp</th>\n",
       "      <th>order_approved_at</th>\n",
       "      <th>order_delivered_carrier_date</th>\n",
       "      <th>order_delivered_customer_date</th>\n",
       "      <th>order_estimated_delivery_date</th>\n",
       "      <th>delay_vs_expected</th>\n",
       "    </tr>\n",
       "  </thead>\n",
       "  <tbody>\n",
       "    <tr>\n",
       "      <th>0</th>\n",
       "      <td>e481f51cbdc54678b7cc49136f2d6af7</td>\n",
       "      <td>9ef432eb6251297304e76186b10a928d</td>\n",
       "      <td>delivered</td>\n",
       "      <td>2017-10-02 10:56:33</td>\n",
       "      <td>2017-10-02 11:07:15</td>\n",
       "      <td>2017-10-04 19:55:00</td>\n",
       "      <td>2017-10-10 21:25:13</td>\n",
       "      <td>2017-10-18</td>\n",
       "      <td>0.0</td>\n",
       "    </tr>\n",
       "  </tbody>\n",
       "</table>\n",
       "</div>"
      ],
      "text/plain": [
       "                           order_id                       customer_id  \\\n",
       "0  e481f51cbdc54678b7cc49136f2d6af7  9ef432eb6251297304e76186b10a928d   \n",
       "\n",
       "  order_status order_purchase_timestamp    order_approved_at  \\\n",
       "0    delivered      2017-10-02 10:56:33  2017-10-02 11:07:15   \n",
       "\n",
       "  order_delivered_carrier_date order_delivered_customer_date  \\\n",
       "0          2017-10-04 19:55:00           2017-10-10 21:25:13   \n",
       "\n",
       "  order_estimated_delivery_date  delay_vs_expected  \n",
       "0                    2017-10-18                0.0  "
      ]
     },
     "execution_count": 14,
     "metadata": {},
     "output_type": "execute_result"
    }
   ],
   "source": [
    "orders.head(1)"
   ]
  },
  {
   "cell_type": "code",
   "execution_count": 15,
   "id": "11d0d50e-fb7d-4f8c-af09-dd180e5b1a04",
   "metadata": {},
   "outputs": [],
   "source": [
    "# compute wait_time (Create new column)\n",
    "orders.loc[:, 'wait_time'] = (orders['order_delivered_customer_date'] - orders['order_purchase_timestamp']) / np.timedelta64(24, 'h')"
   ]
  },
  {
   "cell_type": "code",
   "execution_count": 16,
   "id": "4de46b57-2058-4223-bb93-df6d736a8b77",
   "metadata": {},
   "outputs": [
    {
     "data": {
      "text/plain": [
       "13.782037037037037"
      ]
     },
     "execution_count": 16,
     "metadata": {},
     "output_type": "execute_result"
    }
   ],
   "source": [
    "# TEST\n",
    "orders['wait_time'][1]"
   ]
  },
  {
   "cell_type": "markdown",
   "id": "fed02aa2-938e-4f7d-b940-8cf0f3e08b8a",
   "metadata": {},
   "source": [
    "### Computing `['expected_wait_time']` column\n",
    "expected_wait_time = days between purchasing an item to estimated_delivery_date (in days)"
   ]
  },
  {
   "cell_type": "code",
   "execution_count": 17,
   "id": "4337733f-333f-401b-9736-d9aba192886b",
   "metadata": {},
   "outputs": [],
   "source": [
    "# compute expected wait time\n",
    "orders.loc[:, 'expected_wait_time'] = (orders['order_estimated_delivery_date'] - orders['order_purchase_timestamp']) / np.timedelta64(24, 'h')"
   ]
  },
  {
   "cell_type": "code",
   "execution_count": 18,
   "id": "7ca1994e-9ac5-4318-ba68-ddf4cb8a8f45",
   "metadata": {},
   "outputs": [
    {
     "data": {
      "text/plain": [
       "19.137766203703702"
      ]
     },
     "execution_count": 18,
     "metadata": {},
     "output_type": "execute_result"
    }
   ],
   "source": [
    "# TEST\n",
    "orders['expected_wait_time'][1]"
   ]
  },
  {
   "cell_type": "markdown",
   "id": "f99530f4-fe8b-4b5e-b762-0f16cdf4f307",
   "metadata": {},
   "source": [
    "#### DATA FRAME WITH NEW COLUMNS"
   ]
  },
  {
   "cell_type": "code",
   "execution_count": 19,
   "id": "2be46b21-cfb5-42f9-847c-1ddba9e01baa",
   "metadata": {},
   "outputs": [
    {
     "data": {
      "text/html": [
       "<div>\n",
       "<style scoped>\n",
       "    .dataframe tbody tr th:only-of-type {\n",
       "        vertical-align: middle;\n",
       "    }\n",
       "\n",
       "    .dataframe tbody tr th {\n",
       "        vertical-align: top;\n",
       "    }\n",
       "\n",
       "    .dataframe thead th {\n",
       "        text-align: right;\n",
       "    }\n",
       "</style>\n",
       "<table border=\"1\" class=\"dataframe\">\n",
       "  <thead>\n",
       "    <tr style=\"text-align: right;\">\n",
       "      <th></th>\n",
       "      <th>order_id</th>\n",
       "      <th>wait_time</th>\n",
       "      <th>expected_wait_time</th>\n",
       "      <th>delay_vs_expected</th>\n",
       "      <th>order_status</th>\n",
       "    </tr>\n",
       "  </thead>\n",
       "  <tbody>\n",
       "    <tr>\n",
       "      <th>0</th>\n",
       "      <td>e481f51cbdc54678b7cc49136f2d6af7</td>\n",
       "      <td>8.436574</td>\n",
       "      <td>15.544063</td>\n",
       "      <td>0.0</td>\n",
       "      <td>delivered</td>\n",
       "    </tr>\n",
       "    <tr>\n",
       "      <th>1</th>\n",
       "      <td>53cdb2fc8bc7dce0b6741e2150273451</td>\n",
       "      <td>13.782037</td>\n",
       "      <td>19.137766</td>\n",
       "      <td>0.0</td>\n",
       "      <td>delivered</td>\n",
       "    </tr>\n",
       "  </tbody>\n",
       "</table>\n",
       "</div>"
      ],
      "text/plain": [
       "                           order_id  wait_time  expected_wait_time  \\\n",
       "0  e481f51cbdc54678b7cc49136f2d6af7   8.436574           15.544063   \n",
       "1  53cdb2fc8bc7dce0b6741e2150273451  13.782037           19.137766   \n",
       "\n",
       "   delay_vs_expected order_status  \n",
       "0                0.0    delivered  \n",
       "1                0.0    delivered  "
      ]
     },
     "execution_count": 19,
     "metadata": {},
     "output_type": "execute_result"
    }
   ],
   "source": [
    "orders[['order_id', 'wait_time', 'expected_wait_time', 'delay_vs_expected', 'order_status']].head(2)"
   ]
  },
  {
   "cell_type": "markdown",
   "id": "3299e4a7-2aad-4f85-8f56-bc3e0a8b71e5",
   "metadata": {},
   "source": [
    "## 2. def get_review_score():\n",
    "Returns a DataFrame with:\n",
    "    `'order_id'`, `'dim_is_five_star'`, `'dim_is_one_star'`, `'review_score'`"
   ]
  },
  {
   "cell_type": "code",
   "execution_count": 21,
   "id": "0bf7a89b-3c3a-4912-b792-b93fa3a95a63",
   "metadata": {},
   "outputs": [
    {
     "data": {
      "text/html": [
       "<div>\n",
       "<style scoped>\n",
       "    .dataframe tbody tr th:only-of-type {\n",
       "        vertical-align: middle;\n",
       "    }\n",
       "\n",
       "    .dataframe tbody tr th {\n",
       "        vertical-align: top;\n",
       "    }\n",
       "\n",
       "    .dataframe thead th {\n",
       "        text-align: right;\n",
       "    }\n",
       "</style>\n",
       "<table border=\"1\" class=\"dataframe\">\n",
       "  <thead>\n",
       "    <tr style=\"text-align: right;\">\n",
       "      <th></th>\n",
       "      <th>review_id</th>\n",
       "      <th>order_id</th>\n",
       "      <th>review_score</th>\n",
       "      <th>review_comment_title</th>\n",
       "      <th>review_comment_message</th>\n",
       "      <th>review_creation_date</th>\n",
       "      <th>review_answer_timestamp</th>\n",
       "    </tr>\n",
       "  </thead>\n",
       "  <tbody>\n",
       "    <tr>\n",
       "      <th>0</th>\n",
       "      <td>7bc2406110b926393aa56f80a40eba40</td>\n",
       "      <td>73fc7af87114b39712e6da79b0a377eb</td>\n",
       "      <td>4</td>\n",
       "      <td>NaN</td>\n",
       "      <td>NaN</td>\n",
       "      <td>2018-01-18 00:00:00</td>\n",
       "      <td>2018-01-18 21:46:59</td>\n",
       "    </tr>\n",
       "    <tr>\n",
       "      <th>1</th>\n",
       "      <td>80e641a11e56f04c1ad469d5645fdfde</td>\n",
       "      <td>a548910a1c6147796b98fdf73dbeba33</td>\n",
       "      <td>5</td>\n",
       "      <td>NaN</td>\n",
       "      <td>NaN</td>\n",
       "      <td>2018-03-10 00:00:00</td>\n",
       "      <td>2018-03-11 03:05:13</td>\n",
       "    </tr>\n",
       "  </tbody>\n",
       "</table>\n",
       "</div>"
      ],
      "text/plain": [
       "                          review_id                          order_id  \\\n",
       "0  7bc2406110b926393aa56f80a40eba40  73fc7af87114b39712e6da79b0a377eb   \n",
       "1  80e641a11e56f04c1ad469d5645fdfde  a548910a1c6147796b98fdf73dbeba33   \n",
       "\n",
       "   review_score review_comment_title review_comment_message  \\\n",
       "0             4                  NaN                    NaN   \n",
       "1             5                  NaN                    NaN   \n",
       "\n",
       "  review_creation_date review_answer_timestamp  \n",
       "0  2018-01-18 00:00:00     2018-01-18 21:46:59  \n",
       "1  2018-03-10 00:00:00     2018-03-11 03:05:13  "
      ]
     },
     "execution_count": 21,
     "metadata": {},
     "output_type": "execute_result"
    }
   ],
   "source": [
    "reviews = data['order_reviews'].copy()\n",
    "reviews.head(2)"
   ]
  },
  {
   "cell_type": "code",
   "execution_count": 24,
   "id": "2b624ca8-cc2a-472c-b1f9-8f6671969bca",
   "metadata": {},
   "outputs": [],
   "source": [
    "# Implementing functions for the new columns 'dim_is_five_star' and 'dim_is_one_star'\n",
    "def dim_five_star(d):\n",
    "    if d == 5:\n",
    "        return 1\n",
    "    return 0\n",
    "\n",
    "def dim_one_star(d):\n",
    "    if d == 1:\n",
    "        return 1\n",
    "    return 0"
   ]
  },
  {
   "cell_type": "code",
   "execution_count": 25,
   "id": "162e3d23-8ecc-44ab-bec8-cf8f82e0cad0",
   "metadata": {},
   "outputs": [],
   "source": [
    "reviews[\"dim_is_five_star\"] = reviews[\"review_score\"].map(dim_five_star)\n",
    "reviews[\"dim_is_one_star\"] = reviews[\"review_score\"].map(dim_one_star)"
   ]
  },
  {
   "cell_type": "code",
   "execution_count": 28,
   "id": "6d11b3b0-0cd2-467c-b9f7-b07dc105c5f7",
   "metadata": {},
   "outputs": [
    {
     "data": {
      "text/html": [
       "<div>\n",
       "<style scoped>\n",
       "    .dataframe tbody tr th:only-of-type {\n",
       "        vertical-align: middle;\n",
       "    }\n",
       "\n",
       "    .dataframe tbody tr th {\n",
       "        vertical-align: top;\n",
       "    }\n",
       "\n",
       "    .dataframe thead th {\n",
       "        text-align: right;\n",
       "    }\n",
       "</style>\n",
       "<table border=\"1\" class=\"dataframe\">\n",
       "  <thead>\n",
       "    <tr style=\"text-align: right;\">\n",
       "      <th></th>\n",
       "      <th>order_id</th>\n",
       "      <th>dim_is_five_star</th>\n",
       "      <th>dim_is_one_star</th>\n",
       "      <th>review_score</th>\n",
       "    </tr>\n",
       "  </thead>\n",
       "  <tbody>\n",
       "    <tr>\n",
       "      <th>0</th>\n",
       "      <td>73fc7af87114b39712e6da79b0a377eb</td>\n",
       "      <td>0</td>\n",
       "      <td>0</td>\n",
       "      <td>4</td>\n",
       "    </tr>\n",
       "    <tr>\n",
       "      <th>1</th>\n",
       "      <td>a548910a1c6147796b98fdf73dbeba33</td>\n",
       "      <td>1</td>\n",
       "      <td>0</td>\n",
       "      <td>5</td>\n",
       "    </tr>\n",
       "    <tr>\n",
       "      <th>2</th>\n",
       "      <td>f9e4b658b201a9f2ecdecbb34bed034b</td>\n",
       "      <td>1</td>\n",
       "      <td>0</td>\n",
       "      <td>5</td>\n",
       "    </tr>\n",
       "    <tr>\n",
       "      <th>3</th>\n",
       "      <td>658677c97b385a9be170737859d3511b</td>\n",
       "      <td>1</td>\n",
       "      <td>0</td>\n",
       "      <td>5</td>\n",
       "    </tr>\n",
       "    <tr>\n",
       "      <th>4</th>\n",
       "      <td>8e6bfb81e283fa7e4f11123a3fb894f1</td>\n",
       "      <td>1</td>\n",
       "      <td>0</td>\n",
       "      <td>5</td>\n",
       "    </tr>\n",
       "  </tbody>\n",
       "</table>\n",
       "</div>"
      ],
      "text/plain": [
       "                           order_id  dim_is_five_star  dim_is_one_star  \\\n",
       "0  73fc7af87114b39712e6da79b0a377eb                 0                0   \n",
       "1  a548910a1c6147796b98fdf73dbeba33                 1                0   \n",
       "2  f9e4b658b201a9f2ecdecbb34bed034b                 1                0   \n",
       "3  658677c97b385a9be170737859d3511b                 1                0   \n",
       "4  8e6bfb81e283fa7e4f11123a3fb894f1                 1                0   \n",
       "\n",
       "   review_score  \n",
       "0             4  \n",
       "1             5  \n",
       "2             5  \n",
       "3             5  \n",
       "4             5  "
      ]
     },
     "execution_count": 28,
     "metadata": {},
     "output_type": "execute_result"
    }
   ],
   "source": [
    "# TEST\n",
    "reviews[[\"order_id\", \"dim_is_five_star\", \"dim_is_one_star\", \"review_score\"]].head()"
   ]
  },
  {
   "cell_type": "markdown",
   "id": "9d24d20a-2390-472b-9197-6daf89b9555d",
   "metadata": {},
   "source": [
    "# ⚠ Implement code in order.py"
   ]
  },
  {
   "cell_type": "code",
   "execution_count": 31,
   "id": "7b3324b0-7ac0-4f9c-9f53-7932bda252f1",
   "metadata": {},
   "outputs": [
    {
     "data": {
      "text/html": [
       "<div>\n",
       "<style scoped>\n",
       "    .dataframe tbody tr th:only-of-type {\n",
       "        vertical-align: middle;\n",
       "    }\n",
       "\n",
       "    .dataframe tbody tr th {\n",
       "        vertical-align: top;\n",
       "    }\n",
       "\n",
       "    .dataframe thead th {\n",
       "        text-align: right;\n",
       "    }\n",
       "</style>\n",
       "<table border=\"1\" class=\"dataframe\">\n",
       "  <thead>\n",
       "    <tr style=\"text-align: right;\">\n",
       "      <th></th>\n",
       "      <th>order_id</th>\n",
       "      <th>dim_is_five_star</th>\n",
       "      <th>dim_is_one_star</th>\n",
       "      <th>review_score</th>\n",
       "    </tr>\n",
       "  </thead>\n",
       "  <tbody>\n",
       "    <tr>\n",
       "      <th>0</th>\n",
       "      <td>73fc7af87114b39712e6da79b0a377eb</td>\n",
       "      <td>0</td>\n",
       "      <td>0</td>\n",
       "      <td>4</td>\n",
       "    </tr>\n",
       "    <tr>\n",
       "      <th>1</th>\n",
       "      <td>a548910a1c6147796b98fdf73dbeba33</td>\n",
       "      <td>1</td>\n",
       "      <td>0</td>\n",
       "      <td>5</td>\n",
       "    </tr>\n",
       "    <tr>\n",
       "      <th>2</th>\n",
       "      <td>f9e4b658b201a9f2ecdecbb34bed034b</td>\n",
       "      <td>1</td>\n",
       "      <td>0</td>\n",
       "      <td>5</td>\n",
       "    </tr>\n",
       "    <tr>\n",
       "      <th>3</th>\n",
       "      <td>658677c97b385a9be170737859d3511b</td>\n",
       "      <td>1</td>\n",
       "      <td>0</td>\n",
       "      <td>5</td>\n",
       "    </tr>\n",
       "    <tr>\n",
       "      <th>4</th>\n",
       "      <td>8e6bfb81e283fa7e4f11123a3fb894f1</td>\n",
       "      <td>1</td>\n",
       "      <td>0</td>\n",
       "      <td>5</td>\n",
       "    </tr>\n",
       "    <tr>\n",
       "      <th>...</th>\n",
       "      <td>...</td>\n",
       "      <td>...</td>\n",
       "      <td>...</td>\n",
       "      <td>...</td>\n",
       "    </tr>\n",
       "    <tr>\n",
       "      <th>99995</th>\n",
       "      <td>22ec9f0669f784db00fa86d035cf8602</td>\n",
       "      <td>1</td>\n",
       "      <td>0</td>\n",
       "      <td>5</td>\n",
       "    </tr>\n",
       "    <tr>\n",
       "      <th>99996</th>\n",
       "      <td>55d4004744368f5571d1f590031933e4</td>\n",
       "      <td>1</td>\n",
       "      <td>0</td>\n",
       "      <td>5</td>\n",
       "    </tr>\n",
       "    <tr>\n",
       "      <th>99997</th>\n",
       "      <td>7725825d039fc1f0ceb7635e3f7d9206</td>\n",
       "      <td>0</td>\n",
       "      <td>0</td>\n",
       "      <td>4</td>\n",
       "    </tr>\n",
       "    <tr>\n",
       "      <th>99998</th>\n",
       "      <td>f8bd3f2000c28c5342fedeb5e50f2e75</td>\n",
       "      <td>0</td>\n",
       "      <td>1</td>\n",
       "      <td>1</td>\n",
       "    </tr>\n",
       "    <tr>\n",
       "      <th>99999</th>\n",
       "      <td>90531360ecb1eec2a1fbb265a0db0508</td>\n",
       "      <td>0</td>\n",
       "      <td>1</td>\n",
       "      <td>1</td>\n",
       "    </tr>\n",
       "  </tbody>\n",
       "</table>\n",
       "<p>100000 rows × 4 columns</p>\n",
       "</div>"
      ],
      "text/plain": [
       "                               order_id  dim_is_five_star  dim_is_one_star  \\\n",
       "0      73fc7af87114b39712e6da79b0a377eb                 0                0   \n",
       "1      a548910a1c6147796b98fdf73dbeba33                 1                0   \n",
       "2      f9e4b658b201a9f2ecdecbb34bed034b                 1                0   \n",
       "3      658677c97b385a9be170737859d3511b                 1                0   \n",
       "4      8e6bfb81e283fa7e4f11123a3fb894f1                 1                0   \n",
       "...                                 ...               ...              ...   \n",
       "99995  22ec9f0669f784db00fa86d035cf8602                 1                0   \n",
       "99996  55d4004744368f5571d1f590031933e4                 1                0   \n",
       "99997  7725825d039fc1f0ceb7635e3f7d9206                 0                0   \n",
       "99998  f8bd3f2000c28c5342fedeb5e50f2e75                 0                1   \n",
       "99999  90531360ecb1eec2a1fbb265a0db0508                 0                1   \n",
       "\n",
       "       review_score  \n",
       "0                 4  \n",
       "1                 5  \n",
       "2                 5  \n",
       "3                 5  \n",
       "4                 5  \n",
       "...             ...  \n",
       "99995             5  \n",
       "99996             5  \n",
       "99997             4  \n",
       "99998             1  \n",
       "99999             1  \n",
       "\n",
       "[100000 rows x 4 columns]"
      ]
     },
     "execution_count": 31,
     "metadata": {},
     "output_type": "execute_result"
    }
   ],
   "source": [
    "# Testing code once implemented to olistdash/order.py\n",
    "from olistdash.order import Order\n",
    "Order().get_review_score()"
   ]
  },
  {
   "cell_type": "code",
   "execution_count": null,
   "id": "d2ecb847-5d02-4ee8-b992-57089e149948",
   "metadata": {},
   "outputs": [],
   "source": []
  }
 ],
 "metadata": {
  "kernelspec": {
   "display_name": "Python 3",
   "language": "python",
   "name": "python3"
  },
  "language_info": {
   "codemirror_mode": {
    "name": "ipython",
    "version": 3
   },
   "file_extension": ".py",
   "mimetype": "text/x-python",
   "name": "python",
   "nbconvert_exporter": "python",
   "pygments_lexer": "ipython3",
   "version": "3.8.6"
  }
 },
 "nbformat": 4,
 "nbformat_minor": 5
}
