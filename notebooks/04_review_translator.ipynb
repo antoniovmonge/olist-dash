{
 "cells": [
  {
   "cell_type": "markdown",
   "metadata": {},
   "source": [
    "# Review translator"
   ]
  },
  {
   "cell_type": "code",
   "execution_count": 1,
   "metadata": {},
   "outputs": [],
   "source": [
    "from google_trans_new import google_translator\n",
    "from olistdash.data import Olist\n",
    "data = Olist().get_data()"
   ]
  },
  {
   "cell_type": "code",
   "execution_count": 4,
   "metadata": {},
   "outputs": [],
   "source": [
    "# Pulling sample of 20 low score reviews. Transforming to list\n",
    "low_reviews_sample = data['order_reviews'].dropna().query(\"review_score==1\").sample(20)\n",
    "\n",
    "low_reviews_sample_list = low_reviews_sample['review_comment_message'].tolist()"
   ]
  },
  {
   "cell_type": "code",
   "execution_count": 1,
   "metadata": {},
   "outputs": [],
   "source": [
    "# # Implementing translator\n",
    "# translator = google_translator()\n",
    "\n",
    "# translations = [translator.translate(review, lang_tgt='en') for review in low_reviews_sample_list]\n",
    "\n",
    "# for translation in translations:\n",
    "#     print(translation)"
   ]
  },
  {
   "cell_type": "code",
   "execution_count": null,
   "metadata": {},
   "outputs": [],
   "source": []
  }
 ],
 "metadata": {
  "interpreter": {
   "hash": "b8a82e7080485e78fcfa83fef03810cd92165d97a6ff1e2c5804f0b7673e7209"
  },
  "kernelspec": {
   "display_name": "Python 3.8.6 64-bit ('olist-dash': pyenv)",
   "name": "python3"
  },
  "language_info": {
   "codemirror_mode": {
    "name": "ipython",
    "version": 3
   },
   "file_extension": ".py",
   "mimetype": "text/x-python",
   "name": "python",
   "nbconvert_exporter": "python",
   "pygments_lexer": "ipython3",
   "version": "3.8.6"
  },
  "orig_nbformat": 4
 },
 "nbformat": 4,
 "nbformat_minor": 2
}