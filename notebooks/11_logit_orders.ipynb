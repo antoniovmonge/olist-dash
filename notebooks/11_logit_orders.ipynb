{
 "cells": [
  {
   "cell_type": "markdown",
   "source": [
    "# Logit Orders"
   ],
   "metadata": {}
  },
  {
   "cell_type": "markdown",
   "source": [
    "Let's figure out the impact of `wait_time` and `delay_vs_expected` on very good and very bad reviews\n",
    "\n",
    "Using the `orders` training_set, we will run two multivariate logistic regressions (`logit_one` and `logit_five`) to predict `dim_is_one_star` and `dim_is_five_star` respectively."
   ],
   "metadata": {}
  },
  {
   "cell_type": "code",
   "execution_count": 1,
   "source": [
    "import pandas as pd\n",
    "import seaborn as sns\n",
    "import statsmodels.api as sm\n",
    "import statsmodels.formula.api as smf\n",
    "import matplotlib.pyplot as plt"
   ],
   "outputs": [],
   "metadata": {}
  },
  {
   "cell_type": "code",
   "execution_count": 2,
   "source": [
    "# Importing dataset\n",
    "from olistdash.order import Order"
   ],
   "outputs": [],
   "metadata": {}
  },
  {
   "cell_type": "code",
   "execution_count": 3,
   "source": [
    "orders = Order().get_training_data(with_distance_seller_customer=True)\n",
    "orders.columns"
   ],
   "outputs": [
    {
     "output_type": "execute_result",
     "data": {
      "text/plain": [
       "Index(['order_id', 'wait_time', 'expected_wait_time', 'delay_vs_expected',\n",
       "       'order_status', 'dim_is_five_star', 'dim_is_one_star', 'review_score',\n",
       "       'number_of_products', 'number_of_sellers', 'price', 'freight_value',\n",
       "       'distance_seller_customer'],\n",
       "      dtype='object')"
      ]
     },
     "metadata": {},
     "execution_count": 3
    }
   ],
   "metadata": {}
  },
  {
   "cell_type": "code",
   "execution_count": 4,
   "source": [
    "# Selecting features to explore avoiding data-leaks\n",
    "features = ['wait_time', \"delay_vs_expected\", \"number_of_sellers\", \"distance_seller_customer\", \"price\", \"freight_value\"]"
   ],
   "outputs": [],
   "metadata": {}
  },
  {
   "cell_type": "code",
   "execution_count": 5,
   "source": [
    "# Checkig multi-colinearity\n",
    "from statsmodels.stats.outliers_influence import variance_inflation_factor as vif\n",
    "\n",
    "X = orders[features]\n",
    "X"
   ],
   "outputs": [
    {
     "output_type": "execute_result",
     "data": {
      "text/plain": [
       "       wait_time  delay_vs_expected  number_of_sellers  \\\n",
       "0       8.436574                0.0                  1   \n",
       "1      13.782037                0.0                  1   \n",
       "2       9.394213                0.0                  1   \n",
       "3      13.208750                0.0                  1   \n",
       "4       2.873877                0.0                  1   \n",
       "...          ...                ...                ...   \n",
       "96528   8.218009                0.0                  1   \n",
       "96529  22.193727                0.0                  1   \n",
       "96530  24.859421                0.0                  1   \n",
       "96531  17.086424                0.0                  1   \n",
       "96532   7.674306                0.0                  1   \n",
       "\n",
       "       distance_seller_customer   price  freight_value  \n",
       "0                     18.063837   29.99           8.72  \n",
       "1                    856.292580  118.70          22.76  \n",
       "2                    514.130333  159.90          19.22  \n",
       "3                   1822.800366   45.00          27.20  \n",
       "4                     30.174037   19.90           8.72  \n",
       "...                         ...     ...            ...  \n",
       "96528                 69.481037   72.00          13.08  \n",
       "96529                474.098245  174.90          20.10  \n",
       "96530                968.051192  205.99          65.02  \n",
       "96531                370.146853  359.98          81.18  \n",
       "96532                631.817784   68.50          18.36  \n",
       "\n",
       "[96525 rows x 6 columns]"
      ],
      "text/html": [
       "<div>\n",
       "<style scoped>\n",
       "    .dataframe tbody tr th:only-of-type {\n",
       "        vertical-align: middle;\n",
       "    }\n",
       "\n",
       "    .dataframe tbody tr th {\n",
       "        vertical-align: top;\n",
       "    }\n",
       "\n",
       "    .dataframe thead th {\n",
       "        text-align: right;\n",
       "    }\n",
       "</style>\n",
       "<table border=\"1\" class=\"dataframe\">\n",
       "  <thead>\n",
       "    <tr style=\"text-align: right;\">\n",
       "      <th></th>\n",
       "      <th>wait_time</th>\n",
       "      <th>delay_vs_expected</th>\n",
       "      <th>number_of_sellers</th>\n",
       "      <th>distance_seller_customer</th>\n",
       "      <th>price</th>\n",
       "      <th>freight_value</th>\n",
       "    </tr>\n",
       "  </thead>\n",
       "  <tbody>\n",
       "    <tr>\n",
       "      <th>0</th>\n",
       "      <td>8.436574</td>\n",
       "      <td>0.0</td>\n",
       "      <td>1</td>\n",
       "      <td>18.063837</td>\n",
       "      <td>29.99</td>\n",
       "      <td>8.72</td>\n",
       "    </tr>\n",
       "    <tr>\n",
       "      <th>1</th>\n",
       "      <td>13.782037</td>\n",
       "      <td>0.0</td>\n",
       "      <td>1</td>\n",
       "      <td>856.292580</td>\n",
       "      <td>118.70</td>\n",
       "      <td>22.76</td>\n",
       "    </tr>\n",
       "    <tr>\n",
       "      <th>2</th>\n",
       "      <td>9.394213</td>\n",
       "      <td>0.0</td>\n",
       "      <td>1</td>\n",
       "      <td>514.130333</td>\n",
       "      <td>159.90</td>\n",
       "      <td>19.22</td>\n",
       "    </tr>\n",
       "    <tr>\n",
       "      <th>3</th>\n",
       "      <td>13.208750</td>\n",
       "      <td>0.0</td>\n",
       "      <td>1</td>\n",
       "      <td>1822.800366</td>\n",
       "      <td>45.00</td>\n",
       "      <td>27.20</td>\n",
       "    </tr>\n",
       "    <tr>\n",
       "      <th>4</th>\n",
       "      <td>2.873877</td>\n",
       "      <td>0.0</td>\n",
       "      <td>1</td>\n",
       "      <td>30.174037</td>\n",
       "      <td>19.90</td>\n",
       "      <td>8.72</td>\n",
       "    </tr>\n",
       "    <tr>\n",
       "      <th>...</th>\n",
       "      <td>...</td>\n",
       "      <td>...</td>\n",
       "      <td>...</td>\n",
       "      <td>...</td>\n",
       "      <td>...</td>\n",
       "      <td>...</td>\n",
       "    </tr>\n",
       "    <tr>\n",
       "      <th>96528</th>\n",
       "      <td>8.218009</td>\n",
       "      <td>0.0</td>\n",
       "      <td>1</td>\n",
       "      <td>69.481037</td>\n",
       "      <td>72.00</td>\n",
       "      <td>13.08</td>\n",
       "    </tr>\n",
       "    <tr>\n",
       "      <th>96529</th>\n",
       "      <td>22.193727</td>\n",
       "      <td>0.0</td>\n",
       "      <td>1</td>\n",
       "      <td>474.098245</td>\n",
       "      <td>174.90</td>\n",
       "      <td>20.10</td>\n",
       "    </tr>\n",
       "    <tr>\n",
       "      <th>96530</th>\n",
       "      <td>24.859421</td>\n",
       "      <td>0.0</td>\n",
       "      <td>1</td>\n",
       "      <td>968.051192</td>\n",
       "      <td>205.99</td>\n",
       "      <td>65.02</td>\n",
       "    </tr>\n",
       "    <tr>\n",
       "      <th>96531</th>\n",
       "      <td>17.086424</td>\n",
       "      <td>0.0</td>\n",
       "      <td>1</td>\n",
       "      <td>370.146853</td>\n",
       "      <td>359.98</td>\n",
       "      <td>81.18</td>\n",
       "    </tr>\n",
       "    <tr>\n",
       "      <th>96532</th>\n",
       "      <td>7.674306</td>\n",
       "      <td>0.0</td>\n",
       "      <td>1</td>\n",
       "      <td>631.817784</td>\n",
       "      <td>68.50</td>\n",
       "      <td>18.36</td>\n",
       "    </tr>\n",
       "  </tbody>\n",
       "</table>\n",
       "<p>96525 rows × 6 columns</p>\n",
       "</div>"
      ]
     },
     "metadata": {},
     "execution_count": 5
    }
   ],
   "metadata": {}
  },
  {
   "cell_type": "code",
   "execution_count": 6,
   "source": [
    "df = pd.DataFrame()\n",
    "df[\"vif_index\"] = [vif(X.values, i) for i in range(X.shape[1])]\n",
    "df[\"features\"] = X.columns\n",
    "df"
   ],
   "outputs": [
    {
     "output_type": "execute_result",
     "data": {
      "text/plain": [
       "   vif_index                  features\n",
       "0   6.944987                 wait_time\n",
       "1   2.262767         delay_vs_expected\n",
       "2   4.309666         number_of_sellers\n",
       "3   2.850947  distance_seller_customer\n",
       "4   1.723233                     price\n",
       "5   2.869877             freight_value"
      ],
      "text/html": [
       "<div>\n",
       "<style scoped>\n",
       "    .dataframe tbody tr th:only-of-type {\n",
       "        vertical-align: middle;\n",
       "    }\n",
       "\n",
       "    .dataframe tbody tr th {\n",
       "        vertical-align: top;\n",
       "    }\n",
       "\n",
       "    .dataframe thead th {\n",
       "        text-align: right;\n",
       "    }\n",
       "</style>\n",
       "<table border=\"1\" class=\"dataframe\">\n",
       "  <thead>\n",
       "    <tr style=\"text-align: right;\">\n",
       "      <th></th>\n",
       "      <th>vif_index</th>\n",
       "      <th>features</th>\n",
       "    </tr>\n",
       "  </thead>\n",
       "  <tbody>\n",
       "    <tr>\n",
       "      <th>0</th>\n",
       "      <td>6.944987</td>\n",
       "      <td>wait_time</td>\n",
       "    </tr>\n",
       "    <tr>\n",
       "      <th>1</th>\n",
       "      <td>2.262767</td>\n",
       "      <td>delay_vs_expected</td>\n",
       "    </tr>\n",
       "    <tr>\n",
       "      <th>2</th>\n",
       "      <td>4.309666</td>\n",
       "      <td>number_of_sellers</td>\n",
       "    </tr>\n",
       "    <tr>\n",
       "      <th>3</th>\n",
       "      <td>2.850947</td>\n",
       "      <td>distance_seller_customer</td>\n",
       "    </tr>\n",
       "    <tr>\n",
       "      <th>4</th>\n",
       "      <td>1.723233</td>\n",
       "      <td>price</td>\n",
       "    </tr>\n",
       "    <tr>\n",
       "      <th>5</th>\n",
       "      <td>2.869877</td>\n",
       "      <td>freight_value</td>\n",
       "    </tr>\n",
       "  </tbody>\n",
       "</table>\n",
       "</div>"
      ]
     },
     "metadata": {},
     "execution_count": 6
    }
   ],
   "metadata": {}
  },
  {
   "cell_type": "markdown",
   "source": [
    "### Fitting two LOGIT models(`logit_one` and `logit_five`) to predict `dim_is_one_star` and `dim_is_five_star`"
   ],
   "metadata": {}
  },
  {
   "cell_type": "code",
   "execution_count": 7,
   "source": [
    "logit_one = smf.logit(formula='dim_is_one_star ~'+ ' + '.join(features), data=orders).fit()\n",
    "print(logit_one.summary())"
   ],
   "outputs": [
    {
     "output_type": "stream",
     "name": "stdout",
     "text": [
      "Optimization terminated successfully.\n",
      "         Current function value: 0.282467\n",
      "         Iterations 7\n",
      "                           Logit Regression Results                           \n",
      "==============================================================================\n",
      "Dep. Variable:        dim_is_one_star   No. Observations:                96525\n",
      "Model:                          Logit   Df Residuals:                    96518\n",
      "Method:                           MLE   Df Model:                            6\n",
      "Date:                Thu, 15 Jul 2021   Pseudo R-squ.:                  0.1346\n",
      "Time:                        10:49:47   Log-Likelihood:                -27265.\n",
      "converged:                       True   LL-Null:                       -31505.\n",
      "Covariance Type:            nonrobust   LLR p-value:                     0.000\n",
      "============================================================================================\n",
      "                               coef    std err          z      P>|z|      [0.025      0.975]\n",
      "--------------------------------------------------------------------------------------------\n",
      "Intercept                   -5.1538      0.069    -74.957      0.000      -5.289      -5.019\n",
      "wait_time                    0.0727      0.002     41.627      0.000       0.069       0.076\n",
      "delay_vs_expected            0.0549      0.004     14.097      0.000       0.047       0.062\n",
      "number_of_sellers            1.8415      0.060     30.518      0.000       1.723       1.960\n",
      "distance_seller_customer    -0.0004   2.26e-05    -16.290      0.000      -0.000      -0.000\n",
      "price                        0.0002   5.06e-05      3.990      0.000       0.000       0.000\n",
      "freight_value                0.0051      0.001     10.027      0.000       0.004       0.006\n",
      "============================================================================================\n"
     ]
    }
   ],
   "metadata": {}
  },
  {
   "cell_type": "code",
   "execution_count": 8,
   "source": [
    "logit_five = smf.logit(formula='dim_is_five_star ~'+ ' + '.join(features), data=orders).fit()\n",
    "print(logit_five.summary())"
   ],
   "outputs": [
    {
     "output_type": "stream",
     "name": "stdout",
     "text": [
      "Optimization terminated successfully.\n",
      "         Current function value: 0.638844\n",
      "         Iterations 7\n",
      "                           Logit Regression Results                           \n",
      "==============================================================================\n",
      "Dep. Variable:       dim_is_five_star   No. Observations:                96525\n",
      "Model:                          Logit   Df Residuals:                    96518\n",
      "Method:                           MLE   Df Model:                            6\n",
      "Date:                Thu, 15 Jul 2021   Pseudo R-squ.:                 0.05668\n",
      "Time:                        10:51:32   Log-Likelihood:                -61664.\n",
      "converged:                       True   LL-Null:                       -65370.\n",
      "Covariance Type:            nonrobust   LLR p-value:                     0.000\n",
      "============================================================================================\n",
      "                               coef    std err          z      P>|z|      [0.025      0.975]\n",
      "--------------------------------------------------------------------------------------------\n",
      "Intercept                    2.4310      0.064     37.961      0.000       2.305       2.556\n",
      "wait_time                   -0.0545      0.001    -44.413      0.000      -0.057      -0.052\n",
      "delay_vs_expected           -0.0941      0.005    -18.734      0.000      -0.104      -0.084\n",
      "number_of_sellers           -1.3914      0.062    -22.611      0.000      -1.512      -1.271\n",
      "distance_seller_customer     0.0002   1.38e-05     13.314      0.000       0.000       0.000\n",
      "price                        0.0001   3.67e-05      3.295      0.001    4.89e-05       0.000\n",
      "freight_value               -0.0029      0.000     -7.421      0.000      -0.004      -0.002\n",
      "============================================================================================\n"
     ]
    }
   ],
   "metadata": {}
  },
  {
   "cell_type": "markdown",
   "source": [
    "## Interpretation:\n",
    "> `delay_vs_expected` influences `five_star` ratings even more than `one_star` ratings    \n",
    "> _All other thing being equal, the delay factor tends to increase the chances of getting stripped of the 5-star  even more so than it affect the chances of 1-star reviews. Probably because 1-stars are really targeting bad products themselves, not bad deliveries_"
   ],
   "metadata": {}
  },
  {
   "cell_type": "markdown",
   "source": [
    "---\n",
    "## Comparing these regression coefficients with and OLS on review using the same features."
   ],
   "metadata": {}
  },
  {
   "cell_type": "code",
   "execution_count": 9,
   "source": [
    "linear_model = smf.ols('review_score ~'+ ' + '.join(features), data=orders).fit()\n",
    "print(logit_one.summary())\n",
    "print((('-----'*20) +'\\n')*3)\n",
    "print(linear_model.summary())"
   ],
   "outputs": [
    {
     "output_type": "stream",
     "name": "stdout",
     "text": [
      "                           Logit Regression Results                           \n",
      "==============================================================================\n",
      "Dep. Variable:        dim_is_one_star   No. Observations:                96525\n",
      "Model:                          Logit   Df Residuals:                    96518\n",
      "Method:                           MLE   Df Model:                            6\n",
      "Date:                Thu, 15 Jul 2021   Pseudo R-squ.:                  0.1346\n",
      "Time:                        11:00:54   Log-Likelihood:                -27265.\n",
      "converged:                       True   LL-Null:                       -31505.\n",
      "Covariance Type:            nonrobust   LLR p-value:                     0.000\n",
      "============================================================================================\n",
      "                               coef    std err          z      P>|z|      [0.025      0.975]\n",
      "--------------------------------------------------------------------------------------------\n",
      "Intercept                   -5.1538      0.069    -74.957      0.000      -5.289      -5.019\n",
      "wait_time                    0.0727      0.002     41.627      0.000       0.069       0.076\n",
      "delay_vs_expected            0.0549      0.004     14.097      0.000       0.047       0.062\n",
      "number_of_sellers            1.8415      0.060     30.518      0.000       1.723       1.960\n",
      "distance_seller_customer    -0.0004   2.26e-05    -16.290      0.000      -0.000      -0.000\n",
      "price                        0.0002   5.06e-05      3.990      0.000       0.000       0.000\n",
      "freight_value                0.0051      0.001     10.027      0.000       0.004       0.006\n",
      "============================================================================================\n",
      "----------------------------------------------------------------------------------------------------\n",
      "----------------------------------------------------------------------------------------------------\n",
      "----------------------------------------------------------------------------------------------------\n",
      "\n",
      "                            OLS Regression Results                            \n",
      "==============================================================================\n",
      "Dep. Variable:           review_score   R-squared:                       0.138\n",
      "Model:                            OLS   Adj. R-squared:                  0.138\n",
      "Method:                 Least Squares   F-statistic:                     2573.\n",
      "Date:                Thu, 15 Jul 2021   Prob (F-statistic):               0.00\n",
      "Time:                        11:00:54   Log-Likelihood:            -1.5488e+05\n",
      "No. Observations:               96525   AIC:                         3.098e+05\n",
      "Df Residuals:                   96518   BIC:                         3.098e+05\n",
      "Df Model:                           6                                         \n",
      "Covariance Type:            nonrobust                                         \n",
      "============================================================================================\n",
      "                               coef    std err          t      P>|t|      [0.025      0.975]\n",
      "--------------------------------------------------------------------------------------------\n",
      "Intercept                    5.9961      0.033    181.353      0.000       5.931       6.061\n",
      "wait_time                   -0.0465      0.001    -70.257      0.000      -0.048      -0.045\n",
      "delay_vs_expected           -0.0101      0.001     -8.251      0.000      -0.012      -0.008\n",
      "number_of_sellers           -1.3018      0.032    -41.081      0.000      -1.364      -1.240\n",
      "distance_seller_customer     0.0002   7.74e-06     25.630      0.000       0.000       0.000\n",
      "price                     3.485e-06   2.04e-05      0.171      0.864   -3.65e-05    4.34e-05\n",
      "freight_value               -0.0027      0.000    -12.943      0.000      -0.003      -0.002\n",
      "==============================================================================\n",
      "Omnibus:                    18841.341   Durbin-Watson:                   2.007\n",
      "Prob(Omnibus):                  0.000   Jarque-Bera (JB):            36711.878\n",
      "Skew:                          -1.192   Prob(JB):                         0.00\n",
      "Kurtosis:                       4.856   Cond. No.                     1.00e+04\n",
      "==============================================================================\n",
      "\n",
      "Notes:\n",
      "[1] Standard Errors assume that the covariance matrix of the errors is correctly specified.\n",
      "[2] The condition number is large,  1e+04. This might indicate that there are\n",
      "strong multicollinearity or other numerical problems.\n"
     ]
    }
   ],
   "metadata": {}
  },
  {
   "cell_type": "code",
   "execution_count": 10,
   "source": [
    "plt.figure(figsize=(13,5))\n",
    "plt.suptitle('Linear vs. Logit Coefficents')\n",
    "ax1 = plt.subplot(1,2,1)\n",
    "ax1.set_title('Linear')\n",
    "ax1.set_xlim(-1.5, 0.25)\n",
    "linear_model.params[1:].sort_values().plot(kind='barh', ax=ax1)\n",
    "\n",
    "\n",
    "ax2 = plt.subplot(1,2,2)\n",
    "ax2.set_title('Logit')\n",
    "ax2.yaxis.tick_right()\n",
    "ax2.set_xlim(-1.5, 0.25)\n",
    "logit_five.params[1:].sort_values().plot(kind='barh', ax=ax2)"
   ],
   "outputs": [
    {
     "output_type": "execute_result",
     "data": {
      "text/plain": [
       "<AxesSubplot:title={'center':'Logit'}>"
      ]
     },
     "metadata": {},
     "execution_count": 10
    },
    {
     "output_type": "display_data",
     "data": {
      "text/plain": [
       "<Figure size 936x360 with 2 Axes>"
      ],
      "image/png": "[encoded data removed]"
     },
     "metadata": {
      "needs_background": "light"
     }
    }
   ],
   "metadata": {}
  },
  {
   "cell_type": "markdown",
   "source": [
    "## EXPLANATIONS:\n",
    "    \n",
    "> _Side by side comparison of our different models tell similar stories, with ~13% of the variance being explained through the selected features (as seen in the R-squared) and similar feature importance returning in the models' coefficients_"
   ],
   "metadata": {}
  },
  {
   "cell_type": "markdown",
   "source": [
    "---\n",
    "# END OF THE NOTEBOOK\n",
    "---"
   ],
   "metadata": {}
  }
 ],
 "metadata": {
  "orig_nbformat": 4,
  "language_info": {
   "name": "python"
  }
 },
 "nbformat": 4,
 "nbformat_minor": 2
}